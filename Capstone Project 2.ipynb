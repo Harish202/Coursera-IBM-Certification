{
 "cells": [
  {
   "cell_type": "markdown",
   "metadata": {},
   "source": [
    "**Importing required libraries**"
   ]
  },
  {
   "cell_type": "code",
   "execution_count": 1,
   "metadata": {},
   "outputs": [
    {
     "name": "stdout",
     "output_type": "stream",
     "text": [
      "done\n"
     ]
    }
   ],
   "source": [
    "import pandas as pd\n",
    "import numpy as np\n",
    "import folium\n",
    "import geocoder\n",
    "from geopy.geocoders import Nominatim\n",
    "import json\n",
    "from bs4 import BeautifulSoup\n",
    "import requests\n",
    "from sklearn.cluster import KMeans\n",
    "import matplotlib.cm as cm \n",
    "import matplotlib.colors as colors \n",
    "from pandas.io.json import json_normalize\n",
    "import warnings\n",
    "\n",
    "warnings.filterwarnings('ignore')\n",
    "print('done')"
   ]
  },
  {
   "cell_type": "code",
   "execution_count": 2,
   "metadata": {},
   "outputs": [],
   "source": [
    "url = 'https://en.wikipedia.org/wiki/List_of_postal_codes_of_Canada:_M'\n",
    "results = requests.get(url).text"
   ]
  },
  {
   "cell_type": "markdown",
   "metadata": {},
   "source": [
    "**Using BeautifulSoup to convert the request results into xml**"
   ]
  },
  {
   "cell_type": "code",
   "execution_count": 3,
   "metadata": {},
   "outputs": [
    {
     "data": {
      "text/plain": [
       "'<!DOCTYPE html>\\n<html class=\"client-nojs\" dir=\"ltr\" lang=\"en\">\\n <head>\\n  <meta charset=\"utf-8\"/>\\n  <title>\\n   List of postal codes of Canada: M - Wikipedia\\n  </title>\\n  <script>\\n   document.documentElement.className = document.documentElement.className.replace( /(^|\\\\s)client-nojs(\\\\s|$)/, \"$1client-js$2\" );\\n  </script>\\n  <script>\\n   (window.RLQ=window.RLQ||[]).push(function(){mw.config.set({\"wgCanonicalNamespace\":\"\",\"wgCanonicalSpecialPageName\":false,\"wgNamespaceNumber\":0,\"wgPageName\":\"List_of_postal_codes_of_Canada:_M\",\"wgTitle\":\"List of postal codes of Canada: M\",\"wgCurRevisionId\":862527922,\"wgRevisionId\":862527922,\"wgArticleId\":539066,\"wgIsArticle\":true,\"wgIsRedirect\":false,\"wgAction\":\"view\",\"wgUserName\":null,\"wgUserGroups\":[\"*\"],\"wgCategories\":[\"Communications in Ontario\",\"Postal codes in Canada\",\"Toronto\",\"Ontario-related lists\"],\"wgBreakFrames\":false,\"wgPageContentLanguage\":\"en\",\"wgPageContentModel\":\"wikitext\",\"wgSeparatorTransformTable\":[\"\",\"\"],\"wgDigitTransformTable\":[\"\",\"\"],\"wgDefaultDateFormat\":\"dmy\",\"wgMonthNames\":[\"\",\"January\",\"February\",\"March\",\"April\",\"May\",\"June\",\"July\",\"August\",\"September\",\"October\",\"November\",\"December\"],\"wgMonthNamesShort\":[\"\",\"Jan\",\"Feb\",\"Mar\",\"Apr\",\"May\",\"Jun\",\"Jul\",\"Aug\",\"Sep\",\"Oct\",\"Nov\",\"Dec\"],\"wgRelevantPageName\":\"List_of_postal_codes_of_Canada:_M\",\"wgRelevantArticleId\":539066,\"wgRequestId\":\"W9XVvApAICwAAC3SxqYAAACX\",\"wgCSPNonce\":false,\"wgIsProbablyEditable\":true,\"wgRelevantPageIsProbablyEditable\":true,\"wgRestrictionEdit\":[],\"wgRestrictionMove\":[],\"wgFlaggedRevsParams\":{\"tags\":{}},\"wgStableRevisionId\":null,\"wgCategoryTreePageCategoryOptions\":\"{\\\\\"mode\\\\\":0,\\\\\"hideprefix\\\\\":20,\\\\\"showcount\\\\\":true,\\\\\"namespaces\\\\\":false}\",\"wgWikiEditorEnabledModules\":[],\"wgBetaFeaturesFeatures\":[],\"wgMediaViewerOnClick\":true,\"wgMediaViewerEnabledByDefault\":true,\"wgPopupsShouldSendModuleToUser\":true,\"wgPopupsConflictsWithNavPopupGadget\":false,\"wgVisualEditor\":{\"pageLanguageCode\":\"en\",\"pageLanguageDir\":\"ltr\",\"pageVariantFallbacks\":\"en\",\"usePageImages\":true,\"usePageDescriptions\":true},\"wgMFExpandAllSectionsUserOption\":true,\"wgMFEnableFontChanger\":true,\"wgMFDisplayWikibaseDescriptions\":{\"search\":true,\"nearby\":true,\"watchlist\":true,\"tagline\":false},\"wgRelatedArticles\":null,\"wgRelatedArticlesUseCirrusSearch\":true,\"wgRelatedArticlesOnlyUseCirrusSearch\":false,\"wgULSCurrentAutonym\":\"English\",\"wgNoticeProject\":\"wikipedia\",\"wgCentralNoticeCookiesToDelete\":[],\"wgCentralNoticeCategoriesUsingLegacy\":[\"Fundraising\",\"fundraising\"],\"wgWikibaseItemId\":\"Q3248240\",\"wgScoreNoteLanguages\":{\"arabic\":\"العربية\",\"catalan\":\"català\",\"deutsch\":\"Deutsch\",\"english\":\"English\",\"espanol\":\"español\",\"italiano\":\"italiano\",\"nederlands\":\"Nederlands\",\"norsk\":\"norsk\",\"portugues\":\"português\",\"suomi\":\"suomi\",\"svenska\":\"svenska\",\"vlaams\":\"West-Vlams\"},\"wgScoreDefaultNoteLanguage\":\"nederlands\",\"wgCentralAuthMobileDomain\":false,\"wgCodeMirrorEnabled\":true,\"wgVisualEditorToolbarScrollOffset\":0,\"wgVisualEditorUnsupportedEditParams\":[\"undo\",\"undoafter\",\"veswitched\"],\"wgEditSubmitButtonLabelPublish\":true});mw.loader.state({\"ext.gadget.charinsert-styles\":\"ready\",\"ext.globalCssJs.user.styles\":\"ready\",\"ext.globalCssJs.site.styles\":\"ready\",\"site.styles\":\"ready\",\"noscript\":\"ready\",\"user.styles\":\"ready\",\"ext.globalCssJs.user\":\"ready\",\"ext.globalCssJs.site\":\"ready\",\"user\":\"ready\",\"user.options\":\"ready\",\"user.tokens\":\"loading\",\"ext.cite.styles\":\"ready\",\"mediawiki.legacy.shared\":\"ready\",\"mediawiki.legacy.commonPrint\":\"ready\",\"wikibase.client.init\":\"ready\",\"ext.visualEditor.desktopArticleTarget.noscript\":\"ready\",\"ext.uls.interlanguage\":\"ready\",\"ext.wikimediaBadges\":\"ready\",\"ext.3d.styles\":\"ready\",\"mediawiki.skinning.interface\":\"ready\",\"skins.vector.styles\":\"ready\"});mw.loader.implement(\"user.tokens@0tffind\",function($,jQuery,require,module){/*@nomin*/mw.user.tokens.set({\"editToken\":\"+\\\\\\\\\",\"patrolToken\":\"+\\\\\\\\\",\"watchToken\":\"+\\\\\\\\\",\"csrfToken\":\"+\\\\\\\\\"});\\n});RLPAGEMODULES=[\"ext.cite.a11y\",\"site\",\"mediawiki.page.startup\",\"mediawiki.user\",\"mediawiki.page.ready\",\"jquery.tablesorter\",\"mediawiki.searchSuggest\",\"ext.gadget.teahouse\",\"ext.gadget.ReferenceTooltips\",\"ext.gadget.watchlist-notice\",\"ext.gadget.DRN-wizard\",\"ext.gadget.charinsert\",\"ext.gadget.refToolbar\",\"ext.gadget.extra-toolbar-buttons\",\"ext.gadget.switcher\",\"ext.centralauth.centralautologin\",\"mmv.head\",\"mmv.bootstrap.autostart\",\"ext.popups\",\"ext.visualEditor.desktopArticleTarget.init\",\"ext.visualEditor.targetLoader\",\"ext.eventLogging.subscriber\",\"ext.wikimediaEvents\",\"ext.navigationTiming\",\"ext.uls.eventlogger\",\"ext.uls.init\",\"ext.uls.compactlinks\",\"ext.uls.interface\",\"ext.centralNotice.geoIP\",\"ext.centralNotice.startUp\",\"skins.vector.js\"];mw.loader.load(RLPAGEMODULES);});\\n  </script>\\n  <link href=\"/w/load.php?debug=false&amp;lang=en&amp;modules=ext.3d.styles%7Cext.cite.styles%7Cext.uls.interlanguage%7Cext.visualEditor.desktopArticleTarget.noscript%7Cext.wikimediaBadges%7Cmediawiki.legacy.commonPrint%2Cshared%7Cmediawiki.skinning.interface%7Cskins.vector.styles%7Cwikibase.client.init&amp;only=styles&amp;skin=vector\" rel=\"stylesheet\"/>\\n  <script async=\"\" src=\"/w/load.php?debug=false&amp;lang=en&amp;modules=startup&amp;only=scripts&amp;skin=vector\">\\n  </script>\\n  <meta content=\"\" name=\"ResourceLoaderDynamicStyles\"/>\\n  <link href=\"/w/load.php?debug=false&amp;lang=en&amp;modules=ext.gadget.charinsert-styles&amp;only=styles&amp;skin=vector\" rel=\"stylesheet\"/>\\n  <link href=\"/w/load.php?debug=false&amp;lang=en&amp;modules=site.styles&amp;only=styles&amp;skin=vector\" rel=\"stylesheet\"/>\\n  <meta content=\"MediaWiki 1.33.0-wmf.1\" name=\"generator\"/>\\n  <meta content=\"origin\" name=\"referrer\"/>\\n  <meta content=\"origin-when-crossorigin\" name=\"referrer\"/>\\n  <meta content=\"origin-when-cross-origin\" name=\"referrer\"/>\\n  <link href=\"android-app://org.wikipedia/http/en.m.wikipedia.org/wiki/List_of_postal_codes_of_Canada:_M\" rel=\"alternate\"/>\\n  <link href=\"/w/index.php?title=List_of_postal_codes_of_Canada:_M&amp;action=edit\" rel=\"alternate\" title=\"Edit this page\" type=\"application/x-wiki\"/>\\n  <link href=\"/w/index.php?title=List_of_postal_codes_of_Canada:_M&amp;action=edit\" rel=\"edit\" title=\"Edit this page\"/>\\n  <link href=\"/static/apple-touch/wikipedia.png\" rel=\"apple-touch-icon\"/>\\n  <link href=\"/static/favicon/wikipedia.ico\" rel=\"shortcut icon\"/>\\n  <link href=\"/w/opensearch_desc.php\" rel=\"search\" title=\"Wikipedia (en)\" type=\"application/opensearchdescription+xml\"/>\\n  <link href=\"//en.wikipedia.org/w/api.php?action=rsd\" rel=\"EditURI\" type=\"application/rsd+xml\"/>\\n  <link href=\"//creativecommons.org/licenses/by-sa/3.0/\" rel=\"license\"/>\\n  <link href=\"https://en.wikipedia.org/wiki/List_of_postal_codes_of_Canada:_M\" rel=\"canonical\"/>\\n  <link href=\"//login.wikimedia.org\" rel=\"dns-prefetch\"/>\\n  <link href=\"//meta.wikimedia.org\" rel=\"dns-prefetch\"/>\\n  <!--[if lt IE 9]><script src=\"/w/load.php?debug=false&amp;lang=en&amp;modules=html5shiv&amp;only=scripts&amp;skin=vector&amp;sync=1\"></script><![endif]-->\\n </head>\\n <body class=\"mediawiki ltr sitedir-ltr mw-hide-empty-elt ns-0 ns-subject page-List_of_postal_codes_of_Canada_M rootpage-List_of_postal_codes_of_Canada_M skin-vector action-view\">\\n  <div class=\"noprint\" id=\"mw-page-base\">\\n  </div>\\n  <div class=\"noprint\" id=\"mw-head-base\">\\n  </div>\\n  <div class=\"mw-body\" id=\"content\" role=\"main\">\\n   <a id=\"top\">\\n   </a>\\n   <div class=\"mw-body-content\" id=\"siteNotice\">\\n    <!-- CentralNotice -->\\n   </div>\\n   <div class=\"mw-indicators mw-body-content\">\\n   </div>\\n   <h1 class=\"firstHeading\" id=\"firstHeading\" lang=\"en\">\\n    List of postal codes of Canada: M\\n   </h1>\\n   <div class=\"mw-body-content\" id=\"bodyContent\">\\n    <div class=\"noprint\" id=\"siteSub\">\\n     From Wikipedia, the free encyclopedia\\n    </div>\\n    <div id=\"contentSub\">\\n    </div>\\n    <div id=\"jump-to-nav\">\\n    </div>\\n    <a class=\"mw-jump-link\" href=\"#mw-head\">\\n     Jump to navigation\\n    </a>\\n    <a class=\"mw-jump-link\" href=\"#p-search\">\\n     Jump to search\\n    </a>\\n    <div class=\"mw-content-ltr\" dir=\"ltr\" id=\"mw-content-text\" lang=\"en\">\\n     <div class=\"mw-parser-output\">\\n      <p>\\n       This is a list of\\n       <a href=\"/wiki/Postal_codes_in_Canada\" title=\"Postal codes in Canada\">\\n        postal codes in Canada\\n       </a>\\n       where the first letter is M. Postal codes beginning with M are located within the city of\\n       <a href=\"/wiki/Toronto\" title=\"Toronto\">\\n        Toronto\\n       </a>\\n       in the province of\\n       <a href=\"/wiki/Ontario\" title=\"Ontario\">\\n        Ontario\\n       </a>\\n       . Only the first three characters are listed, corresponding to the Forward Sortation Area.\\n      </p>\\n      <p>\\n       <a href=\"/wiki/Canada_Post\" title=\"Canada Post\">\\n        Canada Post\\n       </a>\\n       provides a free postal code look-up tool on its website,\\n       <sup class=\"reference\" id=\"cite_ref-1\">\\n        <a href=\"#cite_note-1\">\\n         [1]\\n        </a>\\n       </sup>\\n       via its\\n       <a href=\"/wiki/Mobile_app\" title=\"Mobile app\">\\n        applications\\n       </a>\\n       for such\\n       <a class=\"mw-redirect\" href=\"/wiki/Smartphones\" title=\"Smartphones\">\\n        smartphones\\n       </a>\\n       as the\\n       <a href=\"/wiki/IPhone\" title=\"IPhone\">\\n        iPhone\\n       </a>\\n       and\\n       <a href=\"/wiki/BlackBerry\" title=\"BlackBerry\">\\n        BlackBerry\\n       </a>\\n       ,\\n       <sup class=\"reference\" id=\"cite_ref-2\">\\n        <a href=\"#cite_note-2\">\\n         [2]\\n        </a>\\n       </sup>\\n       and sells hard-copy directories and\\n       <a href=\"/wiki/CD-ROM\" title=\"CD-ROM\">\\n        CD-ROMs\\n       </a>\\n       . Many vendors also sell validation tools, which allow customers to properly match addresses and postal codes. Hard-copy directories can also be consulted in all post offices, and some libraries.\\n      </p>\\n      <h2>\\n       <span class=\"mw-headline\" id=\"Toronto_-_FSAs\">\\n        <a href=\"/wiki/Toronto\" title=\"Toronto\">\\n         Toronto\\n        </a>\\n        -\\n        <a href=\"/wiki/Postal_codes_in_Canada#Forward_sortation_areas\" title=\"Postal codes in Canada\">\\n         FSAs\\n        </a>\\n       </span>\\n       <span class=\"mw-editsection\">\\n        <span class=\"mw-editsection-bracket\">\\n         [\\n        </span>\\n        <a href=\"/w/index.php?title=List_of_postal_codes_of_Canada:_M&amp;action=edit&amp;section=1\" title=\"Edit section: Toronto - FSAs\">\\n         edit\\n        </a>\\n        <span class=\"mw-editsection-bracket\">\\n         ]\\n        </span>\\n       </span>\\n      </h2>\\n      <p>\\n       Note: There are no rural FSAs in Toronto, hence no postal codes start with M0.\\n      </p>\\n      <table class=\"wikitable sortable\">\\n       <tbody>\\n        <tr>\\n         <th>\\n          Postcode\\n         </th>\\n         <th>\\n          Borough\\n         </th>\\n         <th>\\n          Neighbourhood\\n         </th>\\n        </tr>\\n        <tr>\\n         <td>\\n          M1A\\n         </td>\\n         <td>\\n          Not assigned\\n         </td>\\n         <td>\\n          Not assigned\\n         </td>\\n        </tr>\\n        <tr>\\n         <td>\\n          M2A\\n         </td>\\n         <td>\\n          Not assigned\\n         </td>\\n         <td>\\n          Not assigned\\n         </td>\\n        </tr>\\n        <tr>\\n         <td>\\n          M3A\\n         </td>\\n         <td>\\n          <a href=\"/wiki/North_York\" title=\"North York\">\\n           North York\\n          </a>\\n         </td>\\n         <td>\\n          <a href=\"/wiki/Parkwoods\" title=\"Parkwoods\">\\n           Parkwoods\\n          </a>\\n         </td>\\n        </tr>\\n        <tr>\\n         <td>\\n          M4A\\n         </td>\\n         <td>\\n          <a href=\"/wiki/North_York\" title=\"North York\">\\n           North York\\n          </a>\\n         </td>\\n         <td>\\n          <a href=\"/wiki/Victoria_Village\" title=\"Victoria Village\">\\n           Victoria Village\\n          </a>\\n         </td>\\n        </tr>\\n        <tr>\\n         <td>\\n          M5A\\n         </td>\\n         <td>\\n          <a href=\"/wiki/Downtown_Toronto\" title=\"Downtown Toronto\">\\n           Downtown Toronto\\n          </a>\\n         </td>\\n         <td>\\n          <a href=\"/wiki/Harbourfront_(Toronto)\" title=\"Harbourfront (Toronto)\">\\n           Harbourfront\\n          </a>\\n         </td>\\n        </tr>\\n        <tr>\\n         <td>\\n          M5A\\n         </td>\\n         <td>\\n          <a href=\"/wiki/Downtown_Toronto\" title=\"Downtown Toronto\">\\n           Downtown Toronto\\n          </a>\\n         </td>\\n         <td>\\n          <a href=\"/wiki/Regent_Park\" title=\"Regent Park\">\\n           Regent Park\\n          </a>\\n         </td>\\n        </tr>\\n        <tr>\\n         <td>\\n          M6A\\n         </td>\\n         <td>\\n          <a href=\"/wiki/North_York\" title=\"North York\">\\n           North York\\n          </a>\\n         </td>\\n         <td>\\n          <a href=\"/wiki/Lawrence_Heights\" title=\"Lawrence Heights\">\\n           Lawrence Heights\\n          </a>\\n         </td>\\n        </tr>\\n        <tr>\\n         <td>\\n          M6A\\n         </td>\\n         <td>\\n          <a href=\"/wiki/North_York\" title=\"North York\">\\n           North York\\n          </a>\\n         </td>\\n         <td>\\n          <a href=\"/wiki/Lawrence_Manor\" title=\"Lawrence Manor\">\\n           Lawrence Manor\\n          </a>\\n         </td>\\n        </tr>\\n        <tr>\\n         <td>\\n          M7A\\n         </td>\\n         <td>\\n          <a href=\"/wiki/Queen%27s_Park_(Toronto)\" title=\"Queen\\'s Park (Toronto)\">\\n           Queen\\'s Park\\n          </a>\\n         </td>\\n         <td>\\n          Not assigned\\n         </td>\\n        </tr>\\n        <tr>\\n         <td>\\n          M8A\\n         </td>\\n         <td>\\n          Not assigned\\n         </td>\\n         <td>\\n          Not assigned\\n         </td>\\n        </tr>\\n        <tr>\\n         <td>\\n          M9A\\n         </td>\\n         <td>\\n          <a href=\"/wiki/Etobicoke\" title=\"Etobicoke\">\\n           Etobicoke\\n          </a>\\n         </td>\\n         <td>\\n          <a class=\"mw-redirect\" href=\"/wiki/Islington_Avenue\" title=\"Islington Avenue\">\\n           Islington Avenue\\n          </a>\\n         </td>\\n        </tr>\\n        <tr>\\n         <td>\\n          M1B\\n         </td>\\n         <td>\\n          <a href=\"/wiki/Scarborough,_Toronto\" title=\"Scarborough, Toronto\">\\n           Scarborough\\n          </a>\\n         </td>\\n         <td>\\n          <a href=\"/wiki/Rouge,_Toronto\" title=\"Rouge, Toronto\">\\n           Rouge\\n          </a>\\n         </td>\\n        </tr>\\n        <tr>\\n         <td>\\n          M1B\\n         </td>\\n         <td>\\n          <a href=\"/wiki/Scarborough,_Toronto\" title=\"Scarborough, Toronto\">\\n           Scarborough\\n          </a>\\n         </td>\\n         <td>\\n          <a href=\"/wiki/Malvern,_Toronto\" title=\"Malvern, Toronto\">\\n           Malvern\\n          </a>\\n         </td>\\n        </tr>\\n        <tr>\\n         <td>\\n          M2B\\n         </td>\\n         <td>\\n          Not assigned\\n         </td>\\n         <td>\\n          Not assigned\\n         </td>\\n        </tr>\\n        <tr>\\n         <td>\\n          M3B\\n         </td>\\n         <td>\\n          <a href=\"/wiki/North_York\" title=\"North York\">\\n           North York\\n          </a>\\n         </td>\\n         <td>\\n          Don Mills North\\n         </td>\\n        </tr>\\n        <tr>\\n         <td>\\n          M4B\\n         </td>\\n         <td>\\n          <a href=\"/wiki/East_York\" title=\"East York\">\\n           East York\\n          </a>\\n         </td>\\n         <td>\\n          <a class=\"mw-redirect\" href=\"/wiki/Woodbine_Gardens\" title=\"Woodbine Gardens\">\\n           Woodbine Gardens\\n          </a>\\n         </td>\\n        </tr>\\n        <tr>\\n         <td>\\n          M4B\\n         </td>\\n         <td>\\n          <a href=\"/wiki/East_York\" title=\"East York\">\\n           East York\\n          </a>\\n         </td>\\n         <td>\\n          <a class=\"mw-redirect\" href=\"/wiki/Parkview_Hill\" title=\"Parkview Hill\">\\n           Parkview Hill\\n          </a>\\n         </td>\\n        </tr>\\n        <tr>\\n         <td>\\n          M5B\\n         </td>\\n         <td>\\n          <a href=\"/wiki/Downtown_Toronto\" title=\"Downtown Toronto\">\\n           Downtown Toronto\\n          </a>\\n         </td>\\n         <td>\\n          <a href=\"/wiki/Ryerson\" title=\"Ryerson\">\\n           Ryerson\\n          </a>\\n         </td>\\n        </tr>\\n        <tr>\\n         <td>\\n          M5B\\n         </td>\\n         <td>\\n          <a href=\"/wiki/Downtown_Toronto\" title=\"Downtown Toronto\">\\n           Downtown Toronto\\n          </a>\\n         </td>\\n         <td>\\n          Garden District\\n         </td>\\n        </tr>\\n        <tr>\\n         <td>\\n          M6B\\n         </td>\\n         <td>\\n          <a href=\"/wiki/North_York\" title=\"North York\">\\n           North York\\n          </a>\\n         </td>\\n         <td>\\n          <a class=\"mw-redirect\" href=\"/wiki/Glencairn,_Ontario\" title=\"Glencairn, Ontario\">\\n           Glencairn\\n          </a>\\n         </td>\\n        </tr>\\n        <tr>\\n         <td>\\n          M7B\\n         </td>\\n         <td>\\n          Not assigned\\n         </td>\\n         <td>\\n          Not assigned\\n         </td>\\n        </tr>\\n        <tr>\\n         <td>\\n          M8B\\n         </td>\\n         <td>\\n          Not assigned\\n         </td>\\n         <td>\\n          Not assigned\\n         </td>\\n        </tr>\\n        <tr>\\n         <td>\\n          M9B\\n         </td>\\n         <td>\\n          <a href=\"/wiki/Etobicoke\" title=\"Etobicoke\">\\n           Etobicoke\\n          </a>\\n         </td>\\n         <td>\\n          Cloverdale\\n         </td>\\n        </tr>\\n        <tr>\\n         <td>\\n          M9B\\n         </td>\\n         <td>\\n          <a href=\"/wiki/Etobicoke\" title=\"Etobicoke\">\\n           Etobicoke\\n          </a>\\n         </td>\\n         <td>\\n          <a href=\"/wiki/Islington\" title=\"Islington\">\\n           Islington\\n          </a>\\n         </td>\\n        </tr>\\n        <tr>\\n         <td>\\n          M9B\\n         </td>\\n         <td>\\n          <a href=\"/wiki/Etobicoke\" title=\"Etobicoke\">\\n           Etobicoke\\n          </a>\\n         </td>\\n         <td>\\n          Martin Grove\\n         </td>\\n        </tr>\\n        <tr>\\n         <td>\\n          M9B\\n         </td>\\n         <td>\\n          <a href=\"/wiki/Etobicoke\" title=\"Etobicoke\">\\n           Etobicoke\\n          </a>\\n         </td>\\n         <td>\\n          <a href=\"/wiki/Princess_Gardens\" title=\"Princess Gardens\">\\n           Princess Gardens\\n          </a>\\n         </td>\\n        </tr>\\n        <tr>\\n         <td>\\n          M9B\\n         </td>\\n         <td>\\n          <a href=\"/wiki/Etobicoke\" title=\"Etobicoke\">\\n           Etobicoke\\n          </a>\\n         </td>\\n         <td>\\n          <a class=\"mw-redirect\" href=\"/wiki/West_Deane_Park\" title=\"West Deane Park\">\\n           West Deane Park\\n          </a>\\n         </td>\\n        </tr>\\n        <tr>\\n         <td>\\n          M1C\\n         </td>\\n         <td>\\n          <a href=\"/wiki/Scarborough,_Toronto\" title=\"Scarborough, Toronto\">\\n           Scarborough\\n          </a>\\n         </td>\\n         <td>\\n          <a href=\"/wiki/Highland_Creek_(Toronto)\" title=\"Highland Creek (Toronto)\">\\n           Highland Creek\\n          </a>\\n         </td>\\n        </tr>\\n        <tr>\\n         <td>\\n          M1C\\n         </td>\\n         <td>\\n          <a href=\"/wiki/Scarborough,_Toronto\" title=\"Scarborough, Toronto\">\\n           Scarborough\\n          </a>\\n         </td>\\n         <td>\\n          <a class=\"mw-redirect\" href=\"/wiki/Rouge_Hill\" title=\"Rouge Hill\">\\n           Rouge Hill\\n          </a>\\n         </td>\\n        </tr>\\n        <tr>\\n         <td>\\n          M1C\\n         </td>\\n         <td>\\n          <a href=\"/wiki/Scarborough,_Toronto\" title=\"Scarborough, Toronto\">\\n           Scarborough\\n          </a>\\n         </td>\\n         <td>\\n          <a href=\"/wiki/Port_Union,_Toronto\" title=\"Port Union, Toronto\">\\n           Port Union\\n          </a>\\n         </td>\\n        </tr>\\n        <tr>\\n         <td>\\n          M2C\\n         </td>\\n         <td>\\n          Not assigned\\n         </td>\\n         <td>\\n          Not assigned\\n         </td>\\n        </tr>\\n        <tr>\\n         <td>\\n          M3C\\n         </td>\\n         <td>\\n          <a href=\"/wiki/North_York\" title=\"North York\">\\n           North York\\n          </a>\\n         </td>\\n         <td>\\n          <a href=\"/wiki/Flemingdon_Park\" title=\"Flemingdon Park\">\\n           Flemingdon Park\\n          </a>\\n         </td>\\n        </tr>\\n        <tr>\\n         <td>\\n          M3C\\n         </td>\\n         <td>\\n          <a href=\"/wiki/North_York\" title=\"North York\">\\n           North York\\n          </a>\\n         </td>\\n         <td>\\n          Don Mills South\\n         </td>\\n        </tr>\\n        <tr>\\n         <td>\\n          M4C\\n         </td>\\n         <td>\\n          <a href=\"/wiki/East_York\" title=\"East York\">\\n           East York\\n          </a>\\n         </td>\\n         <td>\\n          <a class=\"mw-redirect\" href=\"/wiki/Woodbine_Heights\" title=\"Woodbine Heights\">\\n           Woodbine Heights\\n          </a>\\n         </td>\\n        </tr>\\n        <tr>\\n         <td>\\n          M5C\\n         </td>\\n         <td>\\n          <a href=\"/wiki/Downtown_Toronto\" title=\"Downtown Toronto\">\\n           Downtown Toronto\\n          </a>\\n         </td>\\n         <td>\\n          <a href=\"/wiki/St._James_Town\" title=\"St. James Town\">\\n           St. James Town\\n          </a>\\n         </td>\\n        </tr>\\n        <tr>\\n         <td>\\n          M6C\\n         </td>\\n         <td>\\n          York\\n         </td>\\n         <td>\\n          <a class=\"mw-redirect\" href=\"/wiki/Humewood-Cedarvale\" title=\"Humewood-Cedarvale\">\\n           Humewood-Cedarvale\\n          </a>\\n         </td>\\n        </tr>\\n        <tr>\\n         <td>\\n          M7C\\n         </td>\\n         <td>\\n          Not assigned\\n         </td>\\n         <td>\\n          Not assigned\\n         </td>\\n        </tr>\\n        <tr>\\n         <td>\\n          M8C\\n         </td>\\n         <td>\\n          Not assigned\\n         </td>\\n         <td>\\n          Not assigned\\n         </td>\\n        </tr>\\n        <tr>\\n         <td>\\n          M9C\\n         </td>\\n         <td>\\n          <a href=\"/wiki/Etobicoke\" title=\"Etobicoke\">\\n           Etobicoke\\n          </a>\\n         </td>\\n         <td>\\n          Bloordale Gardens\\n         </td>\\n        </tr>\\n        <tr>\\n         <td>\\n          M9C\\n         </td>\\n         <td>\\n          <a href=\"/wiki/Etobicoke\" title=\"Etobicoke\">\\n           Etobicoke\\n          </a>\\n         </td>\\n         <td>\\n          Eringate\\n         </td>\\n        </tr>\\n        <tr>\\n         <td>\\n          M9C\\n         </td>\\n         <td>\\n          <a href=\"/wiki/Etobicoke\" title=\"Etobicoke\">\\n           Etobicoke\\n          </a>\\n         </td>\\n         <td>\\n          <a href=\"/wiki/Markland_Wood\" title=\"Markland Wood\">\\n           Markland Wood\\n          </a>\\n         </td>\\n        </tr>\\n        <tr>\\n         <td>\\n          M9C\\n         </td>\\n         <td>\\n          <a href=\"/wiki/Etobicoke\" title=\"Etobicoke\">\\n           Etobicoke\\n          </a>\\n         </td>\\n         <td>\\n          Old Burnhamthorpe\\n         </td>\\n        </tr>\\n        <tr>\\n         <td>\\n          M1E\\n         </td>\\n         <td>\\n          <a href=\"/wiki/Scarborough,_Toronto\" title=\"Scarborough, Toronto\">\\n           Scarborough\\n          </a>\\n         </td>\\n         <td>\\n          Guildwood\\n         </td>\\n        </tr>\\n        <tr>\\n         <td>\\n          M1E\\n         </td>\\n         <td>\\n          <a href=\"/wiki/Scarborough,_Toronto\" title=\"Scarborough, Toronto\">\\n           Scarborough\\n          </a>\\n         </td>\\n         <td>\\n          <a href=\"/wiki/Morningside,_Toronto\" title=\"Morningside, Toronto\">\\n           Morningside\\n          </a>\\n         </td>\\n        </tr>\\n        <tr>\\n         <td>\\n          M1E\\n         </td>\\n         <td>\\n          <a href=\"/wiki/Scarborough,_Toronto\" title=\"Scarborough, Toronto\">\\n           Scarborough\\n          </a>\\n         </td>\\n         <td>\\n          <a href=\"/wiki/West_Hill,_Toronto\" title=\"West Hill, Toronto\">\\n           West Hill\\n          </a>\\n         </td>\\n        </tr>\\n        <tr>\\n         <td>\\n          M2E\\n         </td>\\n         <td>\\n          Not assigned\\n         </td>\\n         <td>\\n          Not assigned\\n         </td>\\n        </tr>\\n        <tr>\\n         <td>\\n          M3E\\n         </td>\\n         <td>\\n          Not assigned\\n         </td>\\n         <td>\\n          Not assigned\\n         </td>\\n        </tr>\\n        <tr>\\n         <td>\\n          M4E\\n         </td>\\n         <td>\\n          <a href=\"/wiki/East_Toronto\" title=\"East Toronto\">\\n           East Toronto\\n          </a>\\n         </td>\\n         <td>\\n          <a href=\"/wiki/The_Beaches\" title=\"The Beaches\">\\n           The Beaches\\n          </a>\\n         </td>\\n        </tr>\\n        <tr>\\n         <td>\\n          M5E\\n         </td>\\n         <td>\\n          <a href=\"/wiki/Downtown_Toronto\" title=\"Downtown Toronto\">\\n           Downtown Toronto\\n          </a>\\n         </td>\\n         <td>\\n          <a href=\"/wiki/Berczy_Park\" title=\"Berczy Park\">\\n           Berczy Park\\n          </a>\\n         </td>\\n        </tr>\\n        <tr>\\n         <td>\\n          M6E\\n         </td>\\n         <td>\\n          York\\n         </td>\\n         <td>\\n          Caledonia-Fairbanks\\n         </td>\\n        </tr>\\n        <tr>\\n         <td>\\n          M7E\\n         </td>\\n         <td>\\n          Not assigned\\n         </td>\\n         <td>\\n          Not assigned\\n         </td>\\n        </tr>\\n        <tr>\\n         <td>\\n          M8E\\n         </td>\\n         <td>\\n          Not assigned\\n         </td>\\n         <td>\\n          Not assigned\\n         </td>\\n        </tr>\\n        <tr>\\n         <td>\\n          M9E\\n         </td>\\n         <td>\\n          Not assigned\\n         </td>\\n         <td>\\n          Not assigned\\n         </td>\\n        </tr>\\n        <tr>\\n         <td>\\n          M1G\\n         </td>\\n         <td>\\n          <a href=\"/wiki/Scarborough,_Toronto\" title=\"Scarborough, Toronto\">\\n           Scarborough\\n          </a>\\n         </td>\\n         <td>\\n          <a href=\"/wiki/Woburn,_Toronto\" title=\"Woburn, Toronto\">\\n           Woburn\\n          </a>\\n         </td>\\n        </tr>\\n        <tr>\\n         <td>\\n          M2G\\n         </td>\\n         <td>\\n          Not assigned\\n         </td>\\n         <td>\\n          Not assigned\\n         </td>\\n        </tr>\\n        <tr>\\n         <td>\\n          M3G\\n         </td>\\n         <td>\\n          Not assigned\\n         </td>\\n         <td>\\n          Not assigned\\n         </td>\\n        </tr>\\n        <tr>\\n         <td>\\n          M4G\\n         </td>\\n         <td>\\n          <a href=\"/wiki/East_York\" title=\"East York\">\\n           East York\\n          </a>\\n         </td>\\n         <td>\\n          <a href=\"/wiki/Leaside\" title=\"Leaside\">\\n           Leaside\\n          </a>\\n         </td>\\n        </tr>\\n        <tr>\\n         <td>\\n          M5G\\n         </td>\\n         <td>\\n          <a href=\"/wiki/Downtown_Toronto\" title=\"Downtown Toronto\">\\n           Downtown Toronto\\n          </a>\\n         </td>\\n         <td>\\n          Central Bay Street\\n         </td>\\n        </tr>\\n        <tr>\\n         <td>\\n          M6G\\n         </td>\\n         <td>\\n          <a href=\"/wiki/Downtown_Toronto\" title=\"Downtown Toronto\">\\n           Downtown Toronto\\n          </a>\\n         </td>\\n         <td>\\n          Christie\\n         </td>\\n        </tr>\\n        <tr>\\n         <td>\\n          M7G\\n         </td>\\n         <td>\\n          Not assigned\\n         </td>\\n         <td>\\n          Not assigned\\n         </td>\\n        </tr>\\n        <tr>\\n         <td>\\n          M8G\\n         </td>\\n         <td>\\n          Not assigned\\n         </td>\\n         <td>\\n          Not assigned\\n         </td>\\n        </tr>\\n        <tr>\\n         <td>\\n          M9G\\n         </td>\\n         <td>\\n          Not assigned\\n         </td>\\n         <td>\\n          Not assigned\\n         </td>\\n        </tr>\\n        <tr>\\n         <td>\\n          M1H\\n         </td>\\n         <td>\\n          <a href=\"/wiki/Scarborough,_Toronto\" title=\"Scarborough, Toronto\">\\n           Scarborough\\n          </a>\\n         </td>\\n         <td>\\n          <a href=\"/wiki/Woburn,_Toronto\" title=\"Woburn, Toronto\">\\n           Cedarbrae\\n          </a>\\n         </td>\\n        </tr>\\n        <tr>\\n         <td>\\n          M2H\\n         </td>\\n         <td>\\n          <a href=\"/wiki/North_York\" title=\"North York\">\\n           North York\\n          </a>\\n         </td>\\n         <td>\\n          <a href=\"/wiki/Hillcrest_Village\" title=\"Hillcrest Village\">\\n           Hillcrest Village\\n          </a>\\n         </td>\\n        </tr>\\n        <tr>\\n         <td>\\n          M3H\\n         </td>\\n         <td>\\n          <a href=\"/wiki/North_York\" title=\"North York\">\\n           North York\\n          </a>\\n         </td>\\n         <td>\\n          <a href=\"/wiki/Bathurst_Manor\" title=\"Bathurst Manor\">\\n           Bathurst Manor\\n          </a>\\n         </td>\\n        </tr>\\n        <tr>\\n         <td>\\n          M3H\\n         </td>\\n         <td>\\n          <a href=\"/wiki/North_York\" title=\"North York\">\\n           North York\\n          </a>\\n         </td>\\n         <td>\\n          Downsview North\\n         </td>\\n        </tr>\\n        <tr>\\n         <td>\\n          M3H\\n         </td>\\n         <td>\\n          <a href=\"/wiki/North_York\" title=\"North York\">\\n           North York\\n          </a>\\n         </td>\\n         <td>\\n          <a class=\"mw-redirect\" href=\"/wiki/Wilson_Heights,_Toronto\" title=\"Wilson Heights, Toronto\">\\n           Wilson Heights\\n          </a>\\n         </td>\\n        </tr>\\n        <tr>\\n         <td>\\n          M4H\\n         </td>\\n         <td>\\n          <a href=\"/wiki/East_York\" title=\"East York\">\\n           East York\\n          </a>\\n         </td>\\n         <td>\\n          <a href=\"/wiki/Thorncliffe_Park\" title=\"Thorncliffe Park\">\\n           Thorncliffe Park\\n          </a>\\n         </td>\\n        </tr>\\n        <tr>\\n         <td>\\n          M5H\\n         </td>\\n         <td>\\n          <a href=\"/wiki/Downtown_Toronto\" title=\"Downtown Toronto\">\\n           Downtown Toronto\\n          </a>\\n         </td>\\n         <td>\\n          <a href=\"/wiki/Adelaide\" title=\"Adelaide\">\\n           Adelaide\\n          </a>\\n         </td>\\n        </tr>\\n        <tr>\\n         <td>\\n          M5H\\n         </td>\\n         <td>\\n          <a href=\"/wiki/Downtown_Toronto\" title=\"Downtown Toronto\">\\n           Downtown Toronto\\n          </a>\\n         </td>\\n         <td>\\n          <a href=\"/wiki/King\" title=\"King\">\\n           King\\n          </a>\\n         </td>\\n        </tr>\\n        <tr>\\n         <td>\\n          M5H\\n         </td>\\n         <td>\\n          <a href=\"/wiki/Downtown_Toronto\" title=\"Downtown Toronto\">\\n           Downtown Toronto\\n          </a>\\n         </td>\\n         <td>\\n          Richmond\\n         </td>\\n        </tr>\\n        <tr>\\n         <td>\\n          M6H\\n         </td>\\n         <td>\\n          <a href=\"/wiki/West_Toronto\" title=\"West Toronto\">\\n           West Toronto\\n          </a>\\n         </td>\\n         <td>\\n          <a class=\"mw-redirect\" href=\"/wiki/Dovercourt_Village\" title=\"Dovercourt Village\">\\n           Dovercourt Village\\n          </a>\\n         </td>\\n        </tr>\\n        <tr>\\n         <td>\\n          M6H\\n         </td>\\n         <td>\\n          <a href=\"/wiki/West_Toronto\" title=\"West Toronto\">\\n           West Toronto\\n          </a>\\n         </td>\\n         <td>\\n          Dufferin\\n         </td>\\n        </tr>\\n        <tr>\\n         <td>\\n          M7H\\n         </td>\\n         <td>\\n          Not assigned\\n         </td>\\n         <td>\\n          Not assigned\\n         </td>\\n        </tr>\\n        <tr>\\n         <td>\\n          M8H\\n         </td>\\n         <td>\\n          Not assigned\\n         </td>\\n         <td>\\n          Not assigned\\n         </td>\\n        </tr>\\n        <tr>\\n         <td>\\n          M9H\\n         </td>\\n         <td>\\n          Not assigned\\n         </td>\\n         <td>\\n          Not assigned\\n         </td>\\n        </tr>\\n        <tr>\\n         <td>\\n          M1J\\n         </td>\\n         <td>\\n          <a href=\"/wiki/Scarborough,_Toronto\" title=\"Scarborough, Toronto\">\\n           Scarborough\\n          </a>\\n         </td>\\n         <td>\\n          <a href=\"/wiki/Scarborough_Village\" title=\"Scarborough Village\">\\n           Scarborough Village\\n          </a>\\n         </td>\\n        </tr>\\n        <tr>\\n         <td>\\n          M2J\\n         </td>\\n         <td>\\n          <a href=\"/wiki/North_York\" title=\"North York\">\\n           North York\\n          </a>\\n         </td>\\n         <td>\\n          Fairview\\n         </td>\\n        </tr>\\n        <tr>\\n         <td>\\n          M2J\\n         </td>\\n         <td>\\n          <a href=\"/wiki/North_York\" title=\"North York\">\\n           North York\\n          </a>\\n         </td>\\n         <td>\\n          <a href=\"/wiki/Henry_Farm\" title=\"Henry Farm\">\\n           Henry Farm\\n          </a>\\n         </td>\\n        </tr>\\n        <tr>\\n         <td>\\n          M2J\\n         </td>\\n         <td>\\n          <a href=\"/wiki/North_York\" title=\"North York\">\\n           North York\\n          </a>\\n         </td>\\n         <td>\\n          Oriole\\n         </td>\\n        </tr>\\n        <tr>\\n         <td>\\n          M3J\\n         </td>\\n         <td>\\n          <a href=\"/wiki/North_York\" title=\"North York\">\\n           North York\\n          </a>\\n         </td>\\n         <td>\\n          <a class=\"mw-redirect\" href=\"/wiki/Northwood_Park\" title=\"Northwood Park\">\\n           Northwood Park\\n          </a>\\n         </td>\\n        </tr>\\n        <tr>\\n         <td>\\n          M3J\\n         </td>\\n         <td>\\n          <a href=\"/wiki/North_York\" title=\"North York\">\\n           North York\\n          </a>\\n         </td>\\n         <td>\\n          <a href=\"/wiki/York_University\" title=\"York University\">\\n           York University\\n          </a>\\n         </td>\\n        </tr>\\n        <tr>\\n         <td>\\n          M4J\\n         </td>\\n         <td>\\n          <a href=\"/wiki/East_York\" title=\"East York\">\\n           East York\\n          </a>\\n         </td>\\n         <td>\\n          <a href=\"/wiki/East_Toronto\" title=\"East Toronto\">\\n           East Toronto\\n          </a>\\n         </td>\\n        </tr>\\n        <tr>\\n         <td>\\n          M5J\\n         </td>\\n         <td>\\n          <a href=\"/wiki/Downtown_Toronto\" title=\"Downtown Toronto\">\\n           Downtown Toronto\\n          </a>\\n         </td>\\n         <td>\\n          Harbourfront East\\n         </td>\\n        </tr>\\n        <tr>\\n         <td>\\n          M5J\\n         </td>\\n         <td>\\n          <a href=\"/wiki/Downtown_Toronto\" title=\"Downtown Toronto\">\\n           Downtown Toronto\\n          </a>\\n         </td>\\n         <td>\\n          <a href=\"/wiki/Toronto_Islands\" title=\"Toronto Islands\">\\n           Toronto Islands\\n          </a>\\n         </td>\\n        </tr>\\n        <tr>\\n         <td>\\n          M5J\\n         </td>\\n         <td>\\n          <a href=\"/wiki/Downtown_Toronto\" title=\"Downtown Toronto\">\\n           Downtown Toronto\\n          </a>\\n         </td>\\n         <td>\\n          <a href=\"/wiki/Union_Station_(Toronto)\" title=\"Union Station (Toronto)\">\\n           Union Station\\n          </a>\\n         </td>\\n        </tr>\\n        <tr>\\n         <td>\\n          M6J\\n         </td>\\n         <td>\\n          <a href=\"/wiki/West_Toronto\" title=\"West Toronto\">\\n           West Toronto\\n          </a>\\n         </td>\\n         <td>\\n          <a href=\"/wiki/Little_Portugal,_Toronto\" title=\"Little Portugal, Toronto\">\\n           Little Portugal\\n          </a>\\n         </td>\\n        </tr>\\n        <tr>\\n         <td>\\n          M6J\\n         </td>\\n         <td>\\n          <a href=\"/wiki/West_Toronto\" title=\"West Toronto\">\\n           West Toronto\\n          </a>\\n         </td>\\n         <td>\\n          <a href=\"/wiki/Trinity%E2%80%93Bellwoods\" title=\"Trinity–Bellwoods\">\\n           Trinity\\n          </a>\\n         </td>\\n        </tr>\\n        <tr>\\n         <td>\\n          M7J\\n         </td>\\n         <td>\\n          Not assigned\\n         </td>\\n         <td>\\n          Not assigned\\n         </td>\\n        </tr>\\n        <tr>\\n         <td>\\n          M8J\\n         </td>\\n         <td>\\n          Not assigned\\n         </td>\\n         <td>\\n          Not assigned\\n         </td>\\n        </tr>\\n        <tr>\\n         <td>\\n          M9J\\n         </td>\\n         <td>\\n          Not assigned\\n         </td>\\n         <td>\\n          Not assigned\\n         </td>\\n        </tr>\\n        <tr>\\n         <td>\\n          M1K\\n         </td>\\n         <td>\\n          <a href=\"/wiki/Scarborough,_Toronto\" title=\"Scarborough, Toronto\">\\n           Scarborough\\n          </a>\\n         </td>\\n         <td>\\n          East Birchmount Park\\n         </td>\\n        </tr>\\n        <tr>\\n         <td>\\n          M1K\\n         </td>\\n         <td>\\n          <a href=\"/wiki/Scarborough,_Toronto\" title=\"Scarborough, Toronto\">\\n           Scarborough\\n          </a>\\n         </td>\\n         <td>\\n          <a href=\"/wiki/Ionview\" title=\"Ionview\">\\n           Ionview\\n          </a>\\n         </td>\\n        </tr>\\n        <tr>\\n         <td>\\n          M1K\\n         </td>\\n         <td>\\n          <a href=\"/wiki/Scarborough,_Toronto\" title=\"Scarborough, Toronto\">\\n           Scarborough\\n          </a>\\n         </td>\\n         <td>\\n          <a class=\"mw-redirect\" href=\"/wiki/Kennedy_Park,_Toronto\" title=\"Kennedy Park, Toronto\">\\n           Kennedy Park\\n          </a>\\n         </td>\\n        </tr>\\n        <tr>\\n         <td>\\n          M2K\\n         </td>\\n         <td>\\n          <a href=\"/wiki/North_York\" title=\"North York\">\\n           North York\\n          </a>\\n         </td>\\n         <td>\\n          <a href=\"/wiki/Bayview_Village\" title=\"Bayview Village\">\\n           Bayview Village\\n          </a>\\n         </td>\\n        </tr>\\n        <tr>\\n         <td>\\n          M3K\\n         </td>\\n         <td>\\n          <a href=\"/wiki/North_York\" title=\"North York\">\\n           North York\\n          </a>\\n         </td>\\n         <td>\\n          <a href=\"/wiki/CFB_Toronto\" title=\"CFB Toronto\">\\n           CFB Toronto\\n          </a>\\n         </td>\\n        </tr>\\n        <tr>\\n         <td>\\n          M3K\\n         </td>\\n         <td>\\n          <a href=\"/wiki/North_York\" title=\"North York\">\\n           North York\\n          </a>\\n         </td>\\n         <td>\\n          Downsview East\\n         </td>\\n        </tr>\\n        <tr>\\n         <td>\\n          M4K\\n         </td>\\n         <td>\\n          <a href=\"/wiki/East_Toronto\" title=\"East Toronto\">\\n           East Toronto\\n          </a>\\n         </td>\\n         <td>\\n          The Danforth West\\n         </td>\\n        </tr>\\n        <tr>\\n         <td>\\n          M4K\\n         </td>\\n         <td>\\n          <a href=\"/wiki/East_Toronto\" title=\"East Toronto\">\\n           East Toronto\\n          </a>\\n         </td>\\n         <td>\\n          <a href=\"/wiki/Riverdale,_Toronto\" title=\"Riverdale, Toronto\">\\n           Riverdale\\n          </a>\\n         </td>\\n        </tr>\\n        <tr>\\n         <td>\\n          M5K\\n         </td>\\n         <td>\\n          <a href=\"/wiki/Downtown_Toronto\" title=\"Downtown Toronto\">\\n           Downtown Toronto\\n          </a>\\n         </td>\\n         <td>\\n          <a href=\"/wiki/Design_Exchange\" title=\"Design Exchange\">\\n           Design Exchange\\n          </a>\\n         </td>\\n        </tr>\\n        <tr>\\n         <td>\\n          M5K\\n         </td>\\n         <td>\\n          <a href=\"/wiki/Downtown_Toronto\" title=\"Downtown Toronto\">\\n           Downtown Toronto\\n          </a>\\n         </td>\\n         <td>\\n          <a class=\"mw-redirect\" href=\"/wiki/Toronto_Dominion_Centre\" title=\"Toronto Dominion Centre\">\\n           Toronto Dominion Centre\\n          </a>\\n         </td>\\n        </tr>\\n        <tr>\\n         <td>\\n          M6K\\n         </td>\\n         <td>\\n          <a href=\"/wiki/West_Toronto\" title=\"West Toronto\">\\n           West Toronto\\n          </a>\\n         </td>\\n         <td>\\n          Brockton\\n         </td>\\n        </tr>\\n        <tr>\\n         <td>\\n          M6K\\n         </td>\\n         <td>\\n          <a href=\"/wiki/West_Toronto\" title=\"West Toronto\">\\n           West Toronto\\n          </a>\\n         </td>\\n         <td>\\n          <a href=\"/wiki/Exhibition_Place\" title=\"Exhibition Place\">\\n           Exhibition Place\\n          </a>\\n         </td>\\n        </tr>\\n        <tr>\\n         <td>\\n          M6K\\n         </td>\\n         <td>\\n          <a href=\"/wiki/West_Toronto\" title=\"West Toronto\">\\n           West Toronto\\n          </a>\\n         </td>\\n         <td>\\n          <a class=\"mw-redirect\" href=\"/wiki/Parkdale_Village\" title=\"Parkdale Village\">\\n           Parkdale Village\\n          </a>\\n         </td>\\n        </tr>\\n        <tr>\\n         <td>\\n          M7K\\n         </td>\\n         <td>\\n          Not assigned\\n         </td>\\n         <td>\\n          Not assigned\\n         </td>\\n        </tr>\\n        <tr>\\n         <td>\\n          M8K\\n         </td>\\n         <td>\\n          Not assigned\\n         </td>\\n         <td>\\n          Not assigned\\n         </td>\\n        </tr>\\n        <tr>\\n         <td>\\n          M9K\\n         </td>\\n         <td>\\n          Not assigned\\n         </td>\\n         <td>\\n          Not assigned\\n         </td>\\n        </tr>\\n        <tr>\\n         <td>\\n          M1L\\n         </td>\\n         <td>\\n          <a href=\"/wiki/Scarborough,_Toronto\" title=\"Scarborough, Toronto\">\\n           Scarborough\\n          </a>\\n         </td>\\n         <td>\\n          <a href=\"/wiki/Clairlea\" title=\"Clairlea\">\\n           Clairlea\\n          </a>\\n         </td>\\n        </tr>\\n        <tr>\\n         <td>\\n          M1L\\n         </td>\\n         <td>\\n          <a href=\"/wiki/Scarborough,_Toronto\" title=\"Scarborough, Toronto\">\\n           Scarborough\\n          </a>\\n         </td>\\n         <td>\\n          <a href=\"/wiki/Golden_Mile,_Toronto\" title=\"Golden Mile, Toronto\">\\n           Golden Mile\\n          </a>\\n         </td>\\n        </tr>\\n        <tr>\\n         <td>\\n          M1L\\n         </td>\\n         <td>\\n          <a href=\"/wiki/Scarborough,_Toronto\" title=\"Scarborough, Toronto\">\\n           Scarborough\\n          </a>\\n         </td>\\n         <td>\\n          <a href=\"/wiki/Oakridge,_Toronto\" title=\"Oakridge, Toronto\">\\n           Oakridge\\n          </a>\\n         </td>\\n        </tr>\\n        <tr>\\n         <td>\\n          M2L\\n         </td>\\n         <td>\\n          <a href=\"/wiki/North_York\" title=\"North York\">\\n           North York\\n          </a>\\n         </td>\\n         <td>\\n          <a class=\"mw-redirect\" href=\"/wiki/Silver_Hills\" title=\"Silver Hills\">\\n           Silver Hills\\n          </a>\\n         </td>\\n        </tr>\\n        <tr>\\n         <td>\\n          M2L\\n         </td>\\n         <td>\\n          <a href=\"/wiki/North_York\" title=\"North York\">\\n           North York\\n          </a>\\n         </td>\\n         <td>\\n          <a href=\"/wiki/York_Mills\" title=\"York Mills\">\\n           York Mills\\n          </a>\\n         </td>\\n        </tr>\\n        <tr>\\n         <td>\\n          M3L\\n         </td>\\n         <td>\\n          <a href=\"/wiki/North_York\" title=\"North York\">\\n           North York\\n          </a>\\n         </td>\\n         <td>\\n          <a href=\"/wiki/Downsview\" title=\"Downsview\">\\n           Downsview West\\n          </a>\\n         </td>\\n        </tr>\\n        <tr>\\n         <td>\\n          M4L\\n         </td>\\n         <td>\\n          <a href=\"/wiki/East_Toronto\" title=\"East Toronto\">\\n           East Toronto\\n          </a>\\n         </td>\\n         <td>\\n          The Beaches West\\n         </td>\\n        </tr>\\n        <tr>\\n         <td>\\n          M4L\\n         </td>\\n         <td>\\n          <a href=\"/wiki/East_Toronto\" title=\"East Toronto\">\\n           East Toronto\\n          </a>\\n         </td>\\n         <td>\\n          <a class=\"mw-redirect\" href=\"/wiki/India_Bazaar\" title=\"India Bazaar\">\\n           India Bazaar\\n          </a>\\n         </td>\\n        </tr>\\n        <tr>\\n         <td>\\n          M5L\\n         </td>\\n         <td>\\n          <a href=\"/wiki/Downtown_Toronto\" title=\"Downtown Toronto\">\\n           Downtown Toronto\\n          </a>\\n         </td>\\n         <td>\\n          <a href=\"/wiki/Commerce_Court\" title=\"Commerce Court\">\\n           Commerce Court\\n          </a>\\n         </td>\\n        </tr>\\n        <tr>\\n         <td>\\n          M5L\\n         </td>\\n         <td>\\n          <a href=\"/wiki/Downtown_Toronto\" title=\"Downtown Toronto\">\\n           Downtown Toronto\\n          </a>\\n         </td>\\n         <td>\\n          Victoria Hotel\\n         </td>\\n        </tr>\\n        <tr>\\n         <td>\\n          M6L\\n         </td>\\n         <td>\\n          <a href=\"/wiki/North_York\" title=\"North York\">\\n           North York\\n          </a>\\n         </td>\\n         <td>\\n          <a class=\"mw-redirect\" href=\"/wiki/Maple_Leaf_Park\" title=\"Maple Leaf Park\">\\n           Maple Leaf Park\\n          </a>\\n         </td>\\n        </tr>\\n        <tr>\\n         <td>\\n          M6L\\n         </td>\\n         <td>\\n          <a href=\"/wiki/North_York\" title=\"North York\">\\n           North York\\n          </a>\\n         </td>\\n         <td>\\n          North Park\\n         </td>\\n        </tr>\\n        <tr>\\n         <td>\\n          M6L\\n         </td>\\n         <td>\\n          <a href=\"/wiki/North_York\" title=\"North York\">\\n           North York\\n          </a>\\n         </td>\\n         <td>\\n          Upwood Park\\n         </td>\\n        </tr>\\n        <tr>\\n         <td>\\n          M7L\\n         </td>\\n         <td>\\n          Not assigned\\n         </td>\\n         <td>\\n          Not assigned\\n         </td>\\n        </tr>\\n        <tr>\\n         <td>\\n          M8L\\n         </td>\\n         <td>\\n          Not assigned\\n         </td>\\n         <td>\\n          Not assigned\\n         </td>\\n        </tr>\\n        <tr>\\n         <td>\\n          M9L\\n         </td>\\n         <td>\\n          <a href=\"/wiki/North_York\" title=\"North York\">\\n           North York\\n          </a>\\n         </td>\\n         <td>\\n          <a href=\"/wiki/Humber_Summit\" title=\"Humber Summit\">\\n           Humber Summit\\n          </a>\\n         </td>\\n        </tr>\\n        <tr>\\n         <td>\\n          M1M\\n         </td>\\n         <td>\\n          <a href=\"/wiki/Scarborough,_Toronto\" title=\"Scarborough, Toronto\">\\n           Scarborough\\n          </a>\\n         </td>\\n         <td>\\n          <a href=\"/wiki/Cliffcrest\" title=\"Cliffcrest\">\\n           Cliffcrest\\n          </a>\\n         </td>\\n        </tr>\\n        <tr>\\n         <td>\\n          M1M\\n         </td>\\n         <td>\\n          <a href=\"/wiki/Scarborough,_Toronto\" title=\"Scarborough, Toronto\">\\n           Scarborough\\n          </a>\\n         </td>\\n         <td>\\n          <a href=\"/wiki/Cliffside,_Toronto\" title=\"Cliffside, Toronto\">\\n           Cliffside\\n          </a>\\n         </td>\\n        </tr>\\n        <tr>\\n         <td>\\n          M1M\\n         </td>\\n         <td>\\n          <a href=\"/wiki/Scarborough,_Toronto\" title=\"Scarborough, Toronto\">\\n           Scarborough\\n          </a>\\n         </td>\\n         <td>\\n          Scarborough Village West\\n         </td>\\n        </tr>\\n        <tr>\\n         <td>\\n          M2M\\n         </td>\\n         <td>\\n          <a href=\"/wiki/North_York\" title=\"North York\">\\n           North York\\n          </a>\\n         </td>\\n         <td>\\n          <a href=\"/wiki/Newtonbrook\" title=\"Newtonbrook\">\\n           Newtonbrook\\n          </a>\\n         </td>\\n        </tr>\\n        <tr>\\n         <td>\\n          M2M\\n         </td>\\n         <td>\\n          <a href=\"/wiki/North_York\" title=\"North York\">\\n           North York\\n          </a>\\n         </td>\\n         <td>\\n          <a href=\"/wiki/Willowdale,_Toronto\" title=\"Willowdale, Toronto\">\\n           Willowdale\\n          </a>\\n         </td>\\n        </tr>\\n        <tr>\\n         <td>\\n          M3M\\n         </td>\\n         <td>\\n          <a href=\"/wiki/North_York\" title=\"North York\">\\n           North York\\n          </a>\\n         </td>\\n         <td>\\n          Downsview Central\\n         </td>\\n        </tr>\\n        <tr>\\n         <td>\\n          M4M\\n         </td>\\n         <td>\\n          <a href=\"/wiki/East_Toronto\" title=\"East Toronto\">\\n           East Toronto\\n          </a>\\n         </td>\\n         <td>\\n          Studio District\\n         </td>\\n        </tr>\\n        <tr>\\n         <td>\\n          M5M\\n         </td>\\n         <td>\\n          <a href=\"/wiki/North_York\" title=\"North York\">\\n           North York\\n          </a>\\n         </td>\\n         <td>\\n          <a href=\"/wiki/Bedford_Park,_Toronto\" title=\"Bedford Park, Toronto\">\\n           Bedford Park\\n          </a>\\n         </td>\\n        </tr>\\n        <tr>\\n         <td>\\n          M5M\\n         </td>\\n         <td>\\n          <a href=\"/wiki/North_York\" title=\"North York\">\\n           North York\\n          </a>\\n         </td>\\n         <td>\\n          Lawrence Manor East\\n         </td>\\n        </tr>\\n        <tr>\\n         <td>\\n          M6M\\n         </td>\\n         <td>\\n          <a href=\"/wiki/York\" title=\"York\">\\n           York\\n          </a>\\n         </td>\\n         <td>\\n          Del Ray\\n         </td>\\n        </tr>\\n        <tr>\\n         <td>\\n          M6M\\n         </td>\\n         <td>\\n          <a href=\"/wiki/York\" title=\"York\">\\n           York\\n          </a>\\n         </td>\\n         <td>\\n          <a class=\"mw-redirect\" href=\"/wiki/Keelsdale\" title=\"Keelsdale\">\\n           Keelsdale\\n          </a>\\n         </td>\\n        </tr>\\n        <tr>\\n         <td>\\n          M6M\\n         </td>\\n         <td>\\n          <a href=\"/wiki/York\" title=\"York\">\\n           York\\n          </a>\\n         </td>\\n         <td>\\n          <a href=\"/wiki/Mount_Dennis\" title=\"Mount Dennis\">\\n           Mount Dennis\\n          </a>\\n         </td>\\n        </tr>\\n        <tr>\\n         <td>\\n          M6M\\n         </td>\\n         <td>\\n          <a href=\"/wiki/York\" title=\"York\">\\n           York\\n          </a>\\n         </td>\\n         <td>\\n          <a href=\"/wiki/Silverthorn,_Toronto\" title=\"Silverthorn, Toronto\">\\n           Silverthorn\\n          </a>\\n         </td>\\n        </tr>\\n        <tr>\\n         <td>\\n          M7M\\n         </td>\\n         <td>\\n          Not assigned\\n         </td>\\n         <td>\\n          Not assigned\\n         </td>\\n        </tr>\\n        <tr>\\n         <td>\\n          M8M\\n         </td>\\n         <td>\\n          Not assigned\\n         </td>\\n         <td>\\n          Not assigned\\n         </td>\\n        </tr>\\n        <tr>\\n         <td>\\n          M9M\\n         </td>\\n         <td>\\n          <a href=\"/wiki/North_York\" title=\"North York\">\\n           North York\\n          </a>\\n         </td>\\n         <td>\\n          <a class=\"mw-redirect\" href=\"/wiki/Emery,_Toronto\" title=\"Emery, Toronto\">\\n           Emery\\n          </a>\\n         </td>\\n        </tr>\\n        <tr>\\n         <td>\\n          M9M\\n         </td>\\n         <td>\\n          <a href=\"/wiki/North_York\" title=\"North York\">\\n           North York\\n          </a>\\n         </td>\\n         <td>\\n          <a class=\"mw-redirect\" href=\"/wiki/Humberlea\" title=\"Humberlea\">\\n           Humberlea\\n          </a>\\n         </td>\\n        </tr>\\n        <tr>\\n         <td>\\n          M1N\\n         </td>\\n         <td>\\n          <a href=\"/wiki/Scarborough,_Toronto\" title=\"Scarborough, Toronto\">\\n           Scarborough\\n          </a>\\n         </td>\\n         <td>\\n          <a href=\"/wiki/Birch_Cliff\" title=\"Birch Cliff\">\\n           Birch Cliff\\n          </a>\\n         </td>\\n        </tr>\\n        <tr>\\n         <td>\\n          M1N\\n         </td>\\n         <td>\\n          <a href=\"/wiki/Scarborough,_Toronto\" title=\"Scarborough, Toronto\">\\n           Scarborough\\n          </a>\\n         </td>\\n         <td>\\n          Cliffside West\\n         </td>\\n        </tr>\\n        <tr>\\n         <td>\\n          M2N\\n         </td>\\n         <td>\\n          <a href=\"/wiki/North_York\" title=\"North York\">\\n           North York\\n          </a>\\n         </td>\\n         <td>\\n          Willowdale South\\n         </td>\\n        </tr>\\n        <tr>\\n         <td>\\n          M3N\\n         </td>\\n         <td>\\n          <a href=\"/wiki/North_York\" title=\"North York\">\\n           North York\\n          </a>\\n         </td>\\n         <td>\\n          Downsview Northwest\\n         </td>\\n        </tr>\\n        <tr>\\n         <td>\\n          M4N\\n         </td>\\n         <td>\\n          <a class=\"mw-redirect\" href=\"/wiki/Central_Toronto\" title=\"Central Toronto\">\\n           Central Toronto\\n          </a>\\n         </td>\\n         <td>\\n          <a href=\"/wiki/Lawrence_Park,_Toronto\" title=\"Lawrence Park, Toronto\">\\n           Lawrence Park\\n          </a>\\n         </td>\\n        </tr>\\n        <tr>\\n         <td>\\n          M5N\\n         </td>\\n         <td>\\n          <a class=\"mw-redirect\" href=\"/wiki/Central_Toronto\" title=\"Central Toronto\">\\n           Central Toronto\\n          </a>\\n         </td>\\n         <td>\\n          Roselawn\\n         </td>\\n        </tr>\\n        <tr>\\n         <td>\\n          M6N\\n         </td>\\n         <td>\\n          <a href=\"/wiki/York\" title=\"York\">\\n           York\\n          </a>\\n         </td>\\n         <td>\\n          The Junction North\\n         </td>\\n        </tr>\\n        <tr>\\n         <td>\\n          M6N\\n         </td>\\n         <td>\\n          <a href=\"/wiki/York\" title=\"York\">\\n           York\\n          </a>\\n         </td>\\n         <td>\\n          Runnymede\\n         </td>\\n        </tr>\\n        <tr>\\n         <td>\\n          M7N\\n         </td>\\n         <td>\\n          Not assigned\\n         </td>\\n         <td>\\n          Not assigned\\n         </td>\\n        </tr>\\n        <tr>\\n         <td>\\n          M8N\\n         </td>\\n         <td>\\n          Not assigned\\n         </td>\\n         <td>\\n          Not assigned\\n         </td>\\n        </tr>\\n        <tr>\\n         <td>\\n          M9N\\n         </td>\\n         <td>\\n          <a href=\"/wiki/York\" title=\"York\">\\n           York\\n          </a>\\n         </td>\\n         <td>\\n          <a href=\"/wiki/Weston,_Toronto\" title=\"Weston, Toronto\">\\n           Weston\\n          </a>\\n         </td>\\n        </tr>\\n        <tr>\\n         <td>\\n          M1P\\n         </td>\\n         <td>\\n          <a href=\"/wiki/Scarborough,_Toronto\" title=\"Scarborough, Toronto\">\\n           Scarborough\\n          </a>\\n         </td>\\n         <td>\\n          <a href=\"/wiki/Dorset_Park\" title=\"Dorset Park\">\\n           Dorset Park\\n          </a>\\n         </td>\\n        </tr>\\n        <tr>\\n         <td>\\n          M1P\\n         </td>\\n         <td>\\n          <a href=\"/wiki/Scarborough,_Toronto\" title=\"Scarborough, Toronto\">\\n           Scarborough\\n          </a>\\n         </td>\\n         <td>\\n          <a href=\"/wiki/Scarborough_Town_Centre\" title=\"Scarborough Town Centre\">\\n           Scarborough Town Centre\\n          </a>\\n         </td>\\n        </tr>\\n        <tr>\\n         <td>\\n          M1P\\n         </td>\\n         <td>\\n          <a href=\"/wiki/Scarborough,_Toronto\" title=\"Scarborough, Toronto\">\\n           Scarborough\\n          </a>\\n         </td>\\n         <td>\\n          <a class=\"mw-redirect\" href=\"/wiki/Wexford_Heights\" title=\"Wexford Heights\">\\n           Wexford Heights\\n          </a>\\n         </td>\\n        </tr>\\n        <tr>\\n         <td>\\n          M2P\\n         </td>\\n         <td>\\n          <a href=\"/wiki/North_York\" title=\"North York\">\\n           North York\\n          </a>\\n         </td>\\n         <td>\\n          York Mills West\\n         </td>\\n        </tr>\\n        <tr>\\n         <td>\\n          M3P\\n         </td>\\n         <td>\\n          Not assigned\\n         </td>\\n         <td>\\n          Not assigned\\n         </td>\\n        </tr>\\n        <tr>\\n         <td>\\n          M4P\\n         </td>\\n         <td>\\n          <a class=\"mw-redirect\" href=\"/wiki/Central_Toronto\" title=\"Central Toronto\">\\n           Central Toronto\\n          </a>\\n         </td>\\n         <td>\\n          Davisville North\\n         </td>\\n        </tr>\\n        <tr>\\n         <td>\\n          M5P\\n         </td>\\n         <td>\\n          <a class=\"mw-redirect\" href=\"/wiki/Central_Toronto\" title=\"Central Toronto\">\\n           Central Toronto\\n          </a>\\n         </td>\\n         <td>\\n          <a class=\"mw-redirect\" href=\"/wiki/Forest_Hill_North\" title=\"Forest Hill North\">\\n           Forest Hill North\\n          </a>\\n         </td>\\n        </tr>\\n        <tr>\\n         <td>\\n          M5P\\n         </td>\\n         <td>\\n          <a class=\"mw-redirect\" href=\"/wiki/Central_Toronto\" title=\"Central Toronto\">\\n           Central Toronto\\n          </a>\\n         </td>\\n         <td>\\n          Forest Hill West\\n         </td>\\n        </tr>\\n        <tr>\\n         <td>\\n          M6P\\n         </td>\\n         <td>\\n          <a href=\"/wiki/West_Toronto\" title=\"West Toronto\">\\n           West Toronto\\n          </a>\\n         </td>\\n         <td>\\n          <a href=\"/wiki/High_Park\" title=\"High Park\">\\n           High Park\\n          </a>\\n         </td>\\n        </tr>\\n        <tr>\\n         <td>\\n          M6P\\n         </td>\\n         <td>\\n          <a href=\"/wiki/West_Toronto\" title=\"West Toronto\">\\n           West Toronto\\n          </a>\\n         </td>\\n         <td>\\n          The Junction South\\n         </td>\\n        </tr>\\n        <tr>\\n         <td>\\n          M7P\\n         </td>\\n         <td>\\n          Not assigned\\n         </td>\\n         <td>\\n          Not assigned\\n         </td>\\n        </tr>\\n        <tr>\\n         <td>\\n          M8P\\n         </td>\\n         <td>\\n          Not assigned\\n         </td>\\n         <td>\\n          Not assigned\\n         </td>\\n        </tr>\\n        <tr>\\n         <td>\\n          M9P\\n         </td>\\n         <td>\\n          <a href=\"/wiki/Etobicoke\" title=\"Etobicoke\">\\n           Etobicoke\\n          </a>\\n         </td>\\n         <td>\\n          <a class=\"mw-redirect\" href=\"/wiki/Westmount\" title=\"Westmount\">\\n           Westmount\\n          </a>\\n         </td>\\n        </tr>\\n        <tr>\\n         <td>\\n          M1R\\n         </td>\\n         <td>\\n          <a href=\"/wiki/Scarborough,_Toronto\" title=\"Scarborough, Toronto\">\\n           Scarborough\\n          </a>\\n         </td>\\n         <td>\\n          <a href=\"/wiki/Maryvale,_Toronto\" title=\"Maryvale, Toronto\">\\n           Maryvale\\n          </a>\\n         </td>\\n        </tr>\\n        <tr>\\n         <td>\\n          M1R\\n         </td>\\n         <td>\\n          <a href=\"/wiki/Scarborough,_Toronto\" title=\"Scarborough, Toronto\">\\n           Scarborough\\n          </a>\\n         </td>\\n         <td>\\n          <a href=\"/wiki/Wexford\" title=\"Wexford\">\\n           Wexford\\n          </a>\\n         </td>\\n        </tr>\\n        <tr>\\n         <td>\\n          M2R\\n         </td>\\n         <td>\\n          <a href=\"/wiki/North_York\" title=\"North York\">\\n           North York\\n          </a>\\n         </td>\\n         <td>\\n          <a class=\"mw-redirect\" href=\"/wiki/Willowdale_West\" title=\"Willowdale West\">\\n           Willowdale West\\n          </a>\\n         </td>\\n        </tr>\\n        <tr>\\n         <td>\\n          M3R\\n         </td>\\n         <td>\\n          Not assigned\\n         </td>\\n         <td>\\n          Not assigned\\n         </td>\\n        </tr>\\n        <tr>\\n         <td>\\n          M4R\\n         </td>\\n         <td>\\n          <a class=\"mw-redirect\" href=\"/wiki/Central_Toronto\" title=\"Central Toronto\">\\n           Central Toronto\\n          </a>\\n         </td>\\n         <td>\\n          North Toronto West\\n         </td>\\n        </tr>\\n        <tr>\\n         <td>\\n          M5R\\n         </td>\\n         <td>\\n          <a class=\"mw-redirect\" href=\"/wiki/Central_Toronto\" title=\"Central Toronto\">\\n           Central Toronto\\n          </a>\\n         </td>\\n         <td>\\n          <a href=\"/wiki/The_Annex\" title=\"The Annex\">\\n           The Annex\\n          </a>\\n         </td>\\n        </tr>\\n        <tr>\\n         <td>\\n          M5R\\n         </td>\\n         <td>\\n          <a class=\"mw-redirect\" href=\"/wiki/Central_Toronto\" title=\"Central Toronto\">\\n           Central Toronto\\n          </a>\\n         </td>\\n         <td>\\n          North Midtown\\n         </td>\\n        </tr>\\n        <tr>\\n         <td>\\n          M5R\\n         </td>\\n         <td>\\n          <a class=\"mw-redirect\" href=\"/wiki/Central_Toronto\" title=\"Central Toronto\">\\n           Central Toronto\\n          </a>\\n         </td>\\n         <td>\\n          <a href=\"/wiki/Yorkville,_Toronto\" title=\"Yorkville, Toronto\">\\n           Yorkville\\n          </a>\\n         </td>\\n        </tr>\\n        <tr>\\n         <td>\\n          M6R\\n         </td>\\n         <td>\\n          <a href=\"/wiki/West_Toronto\" title=\"West Toronto\">\\n           West Toronto\\n          </a>\\n         </td>\\n         <td>\\n          <a href=\"/wiki/Parkdale,_Toronto\" title=\"Parkdale, Toronto\">\\n           Parkdale\\n          </a>\\n         </td>\\n        </tr>\\n        <tr>\\n         <td>\\n          M6R\\n         </td>\\n         <td>\\n          <a href=\"/wiki/West_Toronto\" title=\"West Toronto\">\\n           West Toronto\\n          </a>\\n         </td>\\n         <td>\\n          <a href=\"/wiki/Roncesvalles\" title=\"Roncesvalles\">\\n           Roncesvalles\\n          </a>\\n         </td>\\n        </tr>\\n        <tr>\\n         <td>\\n          M7R\\n         </td>\\n         <td>\\n          Mississauga\\n         </td>\\n         <td>\\n          Canada Post Gateway Processing Centre\\n         </td>\\n        </tr>\\n        <tr>\\n         <td>\\n          M8R\\n         </td>\\n         <td>\\n          Not assigned\\n         </td>\\n         <td>\\n          Not assigned\\n         </td>\\n        </tr>\\n        <tr>\\n         <td>\\n          M9R\\n         </td>\\n         <td>\\n          <a href=\"/wiki/Etobicoke\" title=\"Etobicoke\">\\n           Etobicoke\\n          </a>\\n         </td>\\n         <td>\\n          <a href=\"/wiki/Kingsview_Village\" title=\"Kingsview Village\">\\n           Kingsview Village\\n          </a>\\n         </td>\\n        </tr>\\n        <tr>\\n         <td>\\n          M9R\\n         </td>\\n         <td>\\n          <a href=\"/wiki/Etobicoke\" title=\"Etobicoke\">\\n           Etobicoke\\n          </a>\\n         </td>\\n         <td>\\n          Martin Grove Gardens\\n         </td>\\n        </tr>\\n        <tr>\\n         <td>\\n          M9R\\n         </td>\\n         <td>\\n          <a href=\"/wiki/Etobicoke\" title=\"Etobicoke\">\\n           Etobicoke\\n          </a>\\n         </td>\\n         <td>\\n          Richview Gardens\\n         </td>\\n        </tr>\\n        <tr>\\n         <td>\\n          M9R\\n         </td>\\n         <td>\\n          <a href=\"/wiki/Etobicoke\" title=\"Etobicoke\">\\n           Etobicoke\\n          </a>\\n         </td>\\n         <td>\\n          St. Phillips\\n         </td>\\n        </tr>\\n        <tr>\\n         <td>\\n          M1S\\n         </td>\\n         <td>\\n          <a href=\"/wiki/Scarborough,_Toronto\" title=\"Scarborough, Toronto\">\\n           Scarborough\\n          </a>\\n         </td>\\n         <td>\\n          <a href=\"/wiki/Agincourt,_Toronto\" title=\"Agincourt, Toronto\">\\n           Agincourt\\n          </a>\\n         </td>\\n        </tr>\\n        <tr>\\n         <td>\\n          M2S\\n         </td>\\n         <td>\\n          Not assigned\\n         </td>\\n         <td>\\n          Not assigned\\n         </td>\\n        </tr>\\n        <tr>\\n         <td>\\n          M3S\\n         </td>\\n         <td>\\n          Not assigned\\n         </td>\\n         <td>\\n          Not assigned\\n         </td>\\n        </tr>\\n        <tr>\\n         <td>\\n          M4S\\n         </td>\\n         <td>\\n          <a class=\"mw-redirect\" href=\"/wiki/Central_Toronto\" title=\"Central Toronto\">\\n           Central Toronto\\n          </a>\\n         </td>\\n         <td>\\n          Davisville\\n         </td>\\n        </tr>\\n        <tr>\\n         <td>\\n          M5S\\n         </td>\\n         <td>\\n          <a href=\"/wiki/Downtown_Toronto\" title=\"Downtown Toronto\">\\n           Downtown Toronto\\n          </a>\\n         </td>\\n         <td>\\n          Harbord\\n         </td>\\n        </tr>\\n        <tr>\\n         <td>\\n          M5S\\n         </td>\\n         <td>\\n          <a href=\"/wiki/Downtown_Toronto\" title=\"Downtown Toronto\">\\n           Downtown Toronto\\n          </a>\\n         </td>\\n         <td>\\n          <a href=\"/wiki/University_of_Toronto\" title=\"University of Toronto\">\\n           University of Toronto\\n          </a>\\n         </td>\\n        </tr>\\n        <tr>\\n         <td>\\n          M6S\\n         </td>\\n         <td>\\n          <a href=\"/wiki/West_Toronto\" title=\"West Toronto\">\\n           West Toronto\\n          </a>\\n         </td>\\n         <td>\\n          <a href=\"/wiki/Runnymede\" title=\"Runnymede\">\\n           Runnymede\\n          </a>\\n         </td>\\n        </tr>\\n        <tr>\\n         <td>\\n          M6S\\n         </td>\\n         <td>\\n          <a href=\"/wiki/West_Toronto\" title=\"West Toronto\">\\n           West Toronto\\n          </a>\\n         </td>\\n         <td>\\n          <a href=\"/wiki/Swansea\" title=\"Swansea\">\\n           Swansea\\n          </a>\\n         </td>\\n        </tr>\\n        <tr>\\n         <td>\\n          M7S\\n         </td>\\n         <td>\\n          Not assigned\\n         </td>\\n         <td>\\n          Not assigned\\n         </td>\\n        </tr>\\n        <tr>\\n         <td>\\n          M8S\\n         </td>\\n         <td>\\n          Not assigned\\n         </td>\\n         <td>\\n          Not assigned\\n         </td>\\n        </tr>\\n        <tr>\\n         <td>\\n          M9S\\n         </td>\\n         <td>\\n          Not assigned\\n         </td>\\n         <td>\\n          Not assigned\\n         </td>\\n        </tr>\\n        <tr>\\n         <td>\\n          M1T\\n         </td>\\n         <td>\\n          <a href=\"/wiki/Scarborough,_Toronto\" title=\"Scarborough, Toronto\">\\n           Scarborough\\n          </a>\\n         </td>\\n         <td>\\n          Clarks Corners\\n         </td>\\n        </tr>\\n        <tr>\\n         <td>\\n          M1T\\n         </td>\\n         <td>\\n          <a href=\"/wiki/Scarborough,_Toronto\" title=\"Scarborough, Toronto\">\\n           Scarborough\\n          </a>\\n         </td>\\n         <td>\\n          Sullivan\\n         </td>\\n        </tr>\\n        <tr>\\n         <td>\\n          M1T\\n         </td>\\n         <td>\\n          <a href=\"/wiki/Scarborough,_Toronto\" title=\"Scarborough, Toronto\">\\n           Scarborough\\n          </a>\\n         </td>\\n         <td>\\n          <a href=\"/wiki/Tam_O%27Shanter_%E2%80%93_Sullivan\" title=\"Tam O\\'Shanter – Sullivan\">\\n           Tam O\\'Shanter\\n          </a>\\n         </td>\\n        </tr>\\n        <tr>\\n         <td>\\n          M2T\\n         </td>\\n         <td>\\n          Not assigned\\n         </td>\\n         <td>\\n          Not assigned\\n         </td>\\n        </tr>\\n        <tr>\\n         <td>\\n          M3T\\n         </td>\\n         <td>\\n          Not assigned\\n         </td>\\n         <td>\\n          Not assigned\\n         </td>\\n        </tr>\\n        <tr>\\n         <td>\\n          M4T\\n         </td>\\n         <td>\\n          <a class=\"mw-redirect\" href=\"/wiki/Central_Toronto\" title=\"Central Toronto\">\\n           Central Toronto\\n          </a>\\n         </td>\\n         <td>\\n          <a href=\"/wiki/Moore_Park,_Toronto\" title=\"Moore Park, Toronto\">\\n           Moore Park\\n          </a>\\n         </td>\\n        </tr>\\n        <tr>\\n         <td>\\n          M4T\\n         </td>\\n         <td>\\n          <a class=\"mw-redirect\" href=\"/wiki/Central_Toronto\" title=\"Central Toronto\">\\n           Central Toronto\\n          </a>\\n         </td>\\n         <td>\\n          Summerhill East\\n         </td>\\n        </tr>\\n        <tr>\\n         <td>\\n          M5T\\n         </td>\\n         <td>\\n          <a href=\"/wiki/Downtown_Toronto\" title=\"Downtown Toronto\">\\n           Downtown Toronto\\n          </a>\\n         </td>\\n         <td>\\n          <a href=\"/wiki/Chinatown\" title=\"Chinatown\">\\n           Chinatown\\n          </a>\\n         </td>\\n        </tr>\\n        <tr>\\n         <td>\\n          M5T\\n         </td>\\n         <td>\\n          <a href=\"/wiki/Downtown_Toronto\" title=\"Downtown Toronto\">\\n           Downtown Toronto\\n          </a>\\n         </td>\\n         <td>\\n          <a href=\"/wiki/Grange_Park_(Toronto)\" title=\"Grange Park (Toronto)\">\\n           Grange Park\\n          </a>\\n         </td>\\n        </tr>\\n        <tr>\\n         <td>\\n          M5T\\n         </td>\\n         <td>\\n          <a href=\"/wiki/Downtown_Toronto\" title=\"Downtown Toronto\">\\n           Downtown Toronto\\n          </a>\\n         </td>\\n         <td>\\n          <a href=\"/wiki/Kensington_Market\" title=\"Kensington Market\">\\n           Kensington Market\\n          </a>\\n         </td>\\n        </tr>\\n        <tr>\\n         <td>\\n          M6T\\n         </td>\\n         <td>\\n          Not assigned\\n         </td>\\n         <td>\\n          Not assigned\\n         </td>\\n        </tr>\\n        <tr>\\n         <td>\\n          M7T\\n         </td>\\n         <td>\\n          Not assigned\\n         </td>\\n         <td>\\n          Not assigned\\n         </td>\\n        </tr>\\n        <tr>\\n         <td>\\n          M8T\\n         </td>\\n         <td>\\n          Not assigned\\n         </td>\\n         <td>\\n          Not assigned\\n         </td>\\n        </tr>\\n        <tr>\\n         <td>\\n          M9T\\n         </td>\\n         <td>\\n          Not assigned\\n         </td>\\n         <td>\\n          Not assigned\\n         </td>\\n        </tr>\\n        <tr>\\n         <td>\\n          M1V\\n         </td>\\n         <td>\\n          <a href=\"/wiki/Scarborough,_Toronto\" title=\"Scarborough, Toronto\">\\n           Scarborough\\n          </a>\\n         </td>\\n         <td>\\n          <a class=\"mw-redirect\" href=\"/wiki/Agincourt_North\" title=\"Agincourt North\">\\n           Agincourt North\\n          </a>\\n         </td>\\n        </tr>\\n        <tr>\\n         <td>\\n          M1V\\n         </td>\\n         <td>\\n          <a href=\"/wiki/Scarborough,_Toronto\" title=\"Scarborough, Toronto\">\\n           Scarborough\\n          </a>\\n         </td>\\n         <td>\\n          L\\'Amoreaux East\\n         </td>\\n        </tr>\\n        <tr>\\n         <td>\\n          M1V\\n         </td>\\n         <td>\\n          <a href=\"/wiki/Scarborough,_Toronto\" title=\"Scarborough, Toronto\">\\n           Scarborough\\n          </a>\\n         </td>\\n         <td>\\n          <a href=\"/wiki/Milliken,_Ontario\" title=\"Milliken, Ontario\">\\n           Milliken\\n          </a>\\n         </td>\\n        </tr>\\n        <tr>\\n         <td>\\n          M1V\\n         </td>\\n         <td>\\n          <a href=\"/wiki/Scarborough,_Toronto\" title=\"Scarborough, Toronto\">\\n           Scarborough\\n          </a>\\n         </td>\\n         <td>\\n          Steeles East\\n         </td>\\n        </tr>\\n        <tr>\\n         <td>\\n          M2V\\n         </td>\\n         <td>\\n          Not assigned\\n         </td>\\n         <td>\\n          Not assigned\\n         </td>\\n        </tr>\\n        <tr>\\n         <td>\\n          M3V\\n         </td>\\n         <td>\\n          Not assigned\\n         </td>\\n         <td>\\n          Not assigned\\n         </td>\\n        </tr>\\n        <tr>\\n         <td>\\n          M4V\\n         </td>\\n         <td>\\n          <a class=\"mw-redirect\" href=\"/wiki/Central_Toronto\" title=\"Central Toronto\">\\n           Central Toronto\\n          </a>\\n         </td>\\n         <td>\\n          <a href=\"/wiki/Deer_Park,_Toronto\" title=\"Deer Park, Toronto\">\\n           Deer Park\\n          </a>\\n         </td>\\n        </tr>\\n        <tr>\\n         <td>\\n          M4V\\n         </td>\\n         <td>\\n          <a class=\"mw-redirect\" href=\"/wiki/Central_Toronto\" title=\"Central Toronto\">\\n           Central Toronto\\n          </a>\\n         </td>\\n         <td>\\n          Forest Hill SE\\n         </td>\\n        </tr>\\n        <tr>\\n         <td>\\n          M4V\\n         </td>\\n         <td>\\n          <a class=\"mw-redirect\" href=\"/wiki/Central_Toronto\" title=\"Central Toronto\">\\n           Central Toronto\\n          </a>\\n         </td>\\n         <td>\\n          <a class=\"mw-redirect\" href=\"/wiki/Rathnelly\" title=\"Rathnelly\">\\n           Rathnelly\\n          </a>\\n         </td>\\n        </tr>\\n        <tr>\\n         <td>\\n          M4V\\n         </td>\\n         <td>\\n          <a class=\"mw-redirect\" href=\"/wiki/Central_Toronto\" title=\"Central Toronto\">\\n           Central Toronto\\n          </a>\\n         </td>\\n         <td>\\n          <a href=\"/wiki/South_Hill,_Toronto\" title=\"South Hill, Toronto\">\\n           South Hill\\n          </a>\\n         </td>\\n        </tr>\\n        <tr>\\n         <td>\\n          M4V\\n         </td>\\n         <td>\\n          <a class=\"mw-redirect\" href=\"/wiki/Central_Toronto\" title=\"Central Toronto\">\\n           Central Toronto\\n          </a>\\n         </td>\\n         <td>\\n          Summerhill West\\n         </td>\\n        </tr>\\n        <tr>\\n         <td>\\n          M5V\\n         </td>\\n         <td>\\n          <a href=\"/wiki/Downtown_Toronto\" title=\"Downtown Toronto\">\\n           Downtown Toronto\\n          </a>\\n         </td>\\n         <td>\\n          <a href=\"/wiki/CN_Tower\" title=\"CN Tower\">\\n           CN Tower\\n          </a>\\n         </td>\\n        </tr>\\n        <tr>\\n         <td>\\n          M5V\\n         </td>\\n         <td>\\n          <a href=\"/wiki/Downtown_Toronto\" title=\"Downtown Toronto\">\\n           Downtown Toronto\\n          </a>\\n         </td>\\n         <td>\\n          Bathurst Quay\\n         </td>\\n        </tr>\\n        <tr>\\n         <td>\\n          M5V\\n         </td>\\n         <td>\\n          <a href=\"/wiki/Downtown_Toronto\" title=\"Downtown Toronto\">\\n           Downtown Toronto\\n          </a>\\n         </td>\\n         <td>\\n          Island airport\\n         </td>\\n        </tr>\\n        <tr>\\n         <td>\\n          M5V\\n         </td>\\n         <td>\\n          <a href=\"/wiki/Downtown_Toronto\" title=\"Downtown Toronto\">\\n           Downtown Toronto\\n          </a>\\n         </td>\\n         <td>\\n          Harbourfront West\\n         </td>\\n        </tr>\\n        <tr>\\n         <td>\\n          M5V\\n         </td>\\n         <td>\\n          <a href=\"/wiki/Downtown_Toronto\" title=\"Downtown Toronto\">\\n           Downtown Toronto\\n          </a>\\n         </td>\\n         <td>\\n          <a class=\"mw-redirect\" href=\"/wiki/King_and_Spadina\" title=\"King and Spadina\">\\n           King and Spadina\\n          </a>\\n         </td>\\n        </tr>\\n        <tr>\\n         <td>\\n          M5V\\n         </td>\\n         <td>\\n          <a href=\"/wiki/Downtown_Toronto\" title=\"Downtown Toronto\">\\n           Downtown Toronto\\n          </a>\\n         </td>\\n         <td>\\n          <a href=\"/wiki/Railway_Lands\" title=\"Railway Lands\">\\n           Railway Lands\\n          </a>\\n         </td>\\n        </tr>\\n        <tr>\\n         <td>\\n          M5V\\n         </td>\\n         <td>\\n          <a href=\"/wiki/Downtown_Toronto\" title=\"Downtown Toronto\">\\n           Downtown Toronto\\n          </a>\\n         </td>\\n         <td>\\n          <a class=\"mw-redirect\" href=\"/wiki/South_Niagara\" title=\"South Niagara\">\\n           South Niagara\\n          </a>\\n         </td>\\n        </tr>\\n        <tr>\\n         <td>\\n          M6V\\n         </td>\\n         <td>\\n          Not assigned\\n         </td>\\n         <td>\\n          Not assigned\\n         </td>\\n        </tr>\\n        <tr>\\n         <td>\\n          M7V\\n         </td>\\n         <td>\\n          Not assigned\\n         </td>\\n         <td>\\n          Not assigned\\n         </td>\\n        </tr>\\n        <tr>\\n         <td>\\n          M8V\\n         </td>\\n         <td>\\n          <a href=\"/wiki/Etobicoke\" title=\"Etobicoke\">\\n           Etobicoke\\n          </a>\\n         </td>\\n         <td>\\n          Humber Bay Shores\\n         </td>\\n        </tr>\\n        <tr>\\n         <td>\\n          M8V\\n         </td>\\n         <td>\\n          <a href=\"/wiki/Etobicoke\" title=\"Etobicoke\">\\n           Etobicoke\\n          </a>\\n         </td>\\n         <td>\\n          Mimico South\\n         </td>\\n        </tr>\\n        <tr>\\n         <td>\\n          M8V\\n         </td>\\n         <td>\\n          <a href=\"/wiki/Etobicoke\" title=\"Etobicoke\">\\n           Etobicoke\\n          </a>\\n         </td>\\n         <td>\\n          <a href=\"/wiki/New_Toronto\" title=\"New Toronto\">\\n           New Toronto\\n          </a>\\n         </td>\\n        </tr>\\n        <tr>\\n         <td>\\n          M9V\\n         </td>\\n         <td>\\n          <a href=\"/wiki/Etobicoke\" title=\"Etobicoke\">\\n           Etobicoke\\n          </a>\\n         </td>\\n         <td>\\n          Albion Gardens\\n         </td>\\n        </tr>\\n        <tr>\\n         <td>\\n          M9V\\n         </td>\\n         <td>\\n          <a href=\"/wiki/Etobicoke\" title=\"Etobicoke\">\\n           Etobicoke\\n          </a>\\n         </td>\\n         <td>\\n          <a class=\"mw-redirect\" href=\"/wiki/Beaumond_Heights\" title=\"Beaumond Heights\">\\n           Beaumond Heights\\n          </a>\\n         </td>\\n        </tr>\\n        <tr>\\n         <td>\\n          M9V\\n         </td>\\n         <td>\\n          <a href=\"/wiki/Etobicoke\" title=\"Etobicoke\">\\n           Etobicoke\\n          </a>\\n         </td>\\n         <td>\\n          <a class=\"new\" href=\"/w/index.php?title=Humbergate,_Ontario&amp;action=edit&amp;redlink=1\" title=\"Humbergate, Ontario (page does not exist)\">\\n           Humbergate\\n          </a>\\n         </td>\\n        </tr>\\n        <tr>\\n         <td>\\n          M9V\\n         </td>\\n         <td>\\n          <a href=\"/wiki/Etobicoke\" title=\"Etobicoke\">\\n           Etobicoke\\n          </a>\\n         </td>\\n         <td>\\n          <a class=\"mw-redirect\" href=\"/wiki/Mount_Olive-Silverstone-Jamestown\" title=\"Mount Olive-Silverstone-Jamestown\">\\n           Jamestown\\n          </a>\\n         </td>\\n        </tr>\\n        <tr>\\n         <td>\\n          M9V\\n         </td>\\n         <td>\\n          <a href=\"/wiki/Etobicoke\" title=\"Etobicoke\">\\n           Etobicoke\\n          </a>\\n         </td>\\n         <td>\\n          <a class=\"mw-redirect\" href=\"/wiki/Mount_Olive-Silverstone-Jamestown\" title=\"Mount Olive-Silverstone-Jamestown\">\\n           Mount Olive\\n          </a>\\n         </td>\\n        </tr>\\n        <tr>\\n         <td>\\n          M9V\\n         </td>\\n         <td>\\n          <a href=\"/wiki/Etobicoke\" title=\"Etobicoke\">\\n           Etobicoke\\n          </a>\\n         </td>\\n         <td>\\n          <a href=\"/wiki/Silverstone\" title=\"Silverstone\">\\n           Silverstone\\n          </a>\\n         </td>\\n        </tr>\\n        <tr>\\n         <td>\\n          M9V\\n         </td>\\n         <td>\\n          <a href=\"/wiki/Etobicoke\" title=\"Etobicoke\">\\n           Etobicoke\\n          </a>\\n         </td>\\n         <td>\\n          <a class=\"mw-redirect\" href=\"/wiki/South_Steeles\" title=\"South Steeles\">\\n           South Steeles\\n          </a>\\n         </td>\\n        </tr>\\n        <tr>\\n         <td>\\n          M9V\\n         </td>\\n         <td>\\n          <a href=\"/wiki/Etobicoke\" title=\"Etobicoke\">\\n           Etobicoke\\n          </a>\\n         </td>\\n         <td>\\n          <a href=\"/wiki/Thistletown\" title=\"Thistletown\">\\n           Thistletown\\n          </a>\\n         </td>\\n        </tr>\\n        <tr>\\n         <td>\\n          M1W\\n         </td>\\n         <td>\\n          <a href=\"/wiki/Scarborough,_Toronto\" title=\"Scarborough, Toronto\">\\n           Scarborough\\n          </a>\\n         </td>\\n         <td>\\n          L\\'Amoreaux West\\n         </td>\\n        </tr>\\n        <tr>\\n         <td>\\n          M1W\\n         </td>\\n         <td>\\n          <a href=\"/wiki/Scarborough,_Toronto\" title=\"Scarborough, Toronto\">\\n           Scarborough\\n          </a>\\n         </td>\\n         <td>\\n          <a class=\"mw-redirect\" href=\"/wiki/Steeles_West\" title=\"Steeles West\">\\n           Steeles West\\n          </a>\\n         </td>\\n        </tr>\\n        <tr>\\n         <td>\\n          M2W\\n         </td>\\n         <td>\\n          Not assigned\\n         </td>\\n         <td>\\n          Not assigned\\n         </td>\\n        </tr>\\n        <tr>\\n         <td>\\n          M3W\\n         </td>\\n         <td>\\n          Not assigned\\n         </td>\\n         <td>\\n          Not assigned\\n         </td>\\n        </tr>\\n        <tr>\\n         <td>\\n          M4W\\n         </td>\\n         <td>\\n          <a href=\"/wiki/Downtown_Toronto\" title=\"Downtown Toronto\">\\n           Downtown Toronto\\n          </a>\\n         </td>\\n         <td>\\n          <a href=\"/wiki/Rosedale,_Toronto\" title=\"Rosedale, Toronto\">\\n           Rosedale\\n          </a>\\n         </td>\\n        </tr>\\n        <tr>\\n         <td>\\n          M5W\\n         </td>\\n         <td>\\n          <a href=\"/wiki/Downtown_Toronto\" title=\"Downtown Toronto\">\\n           Downtown Toronto\\n          </a>\\n         </td>\\n         <td>\\n          Stn A PO Boxes 25 The Esplanade\\n         </td>\\n        </tr>\\n        <tr>\\n         <td>\\n          M6W\\n         </td>\\n         <td>\\n          Not assigned\\n         </td>\\n         <td>\\n          Not assigned\\n         </td>\\n        </tr>\\n        <tr>\\n         <td>\\n          M7W\\n         </td>\\n         <td>\\n          Not assigned\\n         </td>\\n         <td>\\n          Not assigned\\n         </td>\\n        </tr>\\n        <tr>\\n         <td>\\n          M8W\\n         </td>\\n         <td>\\n          <a href=\"/wiki/Etobicoke\" title=\"Etobicoke\">\\n           Etobicoke\\n          </a>\\n         </td>\\n         <td>\\n          <a href=\"/wiki/Alderwood,_Toronto\" title=\"Alderwood, Toronto\">\\n           Alderwood\\n          </a>\\n         </td>\\n        </tr>\\n        <tr>\\n         <td>\\n          M8W\\n         </td>\\n         <td>\\n          <a href=\"/wiki/Etobicoke\" title=\"Etobicoke\">\\n           Etobicoke\\n          </a>\\n         </td>\\n         <td>\\n          <a href=\"/wiki/Long_Branch,_Toronto\" title=\"Long Branch, Toronto\">\\n           Long Branch\\n          </a>\\n         </td>\\n        </tr>\\n        <tr>\\n         <td>\\n          M9W\\n         </td>\\n         <td>\\n          <a href=\"/wiki/Etobicoke\" title=\"Etobicoke\">\\n           Etobicoke\\n          </a>\\n         </td>\\n         <td>\\n          <a class=\"mw-redirect\" href=\"/wiki/Northwest\" title=\"Northwest\">\\n           Northwest\\n          </a>\\n         </td>\\n        </tr>\\n        <tr>\\n         <td>\\n          M1X\\n         </td>\\n         <td>\\n          <a href=\"/wiki/Scarborough,_Toronto\" title=\"Scarborough, Toronto\">\\n           Scarborough\\n          </a>\\n         </td>\\n         <td>\\n          <a class=\"mw-redirect\" href=\"/wiki/Upper_Rouge\" title=\"Upper Rouge\">\\n           Upper Rouge\\n          </a>\\n         </td>\\n        </tr>\\n        <tr>\\n         <td>\\n          M2X\\n         </td>\\n         <td>\\n          Not assigned\\n         </td>\\n         <td>\\n          Not assigned\\n         </td>\\n        </tr>\\n        <tr>\\n         <td>\\n          M3X\\n         </td>\\n         <td>\\n          Not assigned\\n         </td>\\n         <td>\\n          Not assigned\\n         </td>\\n        </tr>\\n        <tr>\\n         <td>\\n          M4X\\n         </td>\\n         <td>\\n          <a href=\"/wiki/Downtown_Toronto\" title=\"Downtown Toronto\">\\n           Downtown Toronto\\n          </a>\\n         </td>\\n         <td>\\n          <a href=\"/wiki/Cabbagetown,_Toronto\" title=\"Cabbagetown, Toronto\">\\n           Cabbagetown\\n          </a>\\n         </td>\\n        </tr>\\n        <tr>\\n         <td>\\n          M4X\\n         </td>\\n         <td>\\n          <a href=\"/wiki/Downtown_Toronto\" title=\"Downtown Toronto\">\\n           Downtown Toronto\\n          </a>\\n         </td>\\n         <td>\\n          <a href=\"/wiki/St._James_Town\" title=\"St. James Town\">\\n           St. James Town\\n          </a>\\n         </td>\\n        </tr>\\n        <tr>\\n         <td>\\n          M5X\\n         </td>\\n         <td>\\n          <a href=\"/wiki/Downtown_Toronto\" title=\"Downtown Toronto\">\\n           Downtown Toronto\\n          </a>\\n         </td>\\n         <td>\\n          <a href=\"/wiki/First_Canadian_Place\" title=\"First Canadian Place\">\\n           First Canadian Place\\n          </a>\\n         </td>\\n        </tr>\\n        <tr>\\n         <td>\\n          M5X\\n         </td>\\n         <td>\\n          <a href=\"/wiki/Downtown_Toronto\" title=\"Downtown Toronto\">\\n           Downtown Toronto\\n          </a>\\n         </td>\\n         <td>\\n          <a href=\"/wiki/Underground_city\" title=\"Underground city\">\\n           Underground city\\n          </a>\\n         </td>\\n        </tr>\\n        <tr>\\n         <td>\\n          M6X\\n         </td>\\n         <td>\\n          Not assigned\\n         </td>\\n         <td>\\n          Not assigned\\n         </td>\\n        </tr>\\n        <tr>\\n         <td>\\n          M7X\\n         </td>\\n         <td>\\n          Not assigned\\n         </td>\\n         <td>\\n          Not assigned\\n         </td>\\n        </tr>\\n        <tr>\\n         <td>\\n          M8X\\n         </td>\\n         <td>\\n          <a href=\"/wiki/Etobicoke\" title=\"Etobicoke\">\\n           Etobicoke\\n          </a>\\n         </td>\\n         <td>\\n          <a href=\"/wiki/The_Kingsway\" title=\"The Kingsway\">\\n           The Kingsway\\n          </a>\\n         </td>\\n        </tr>\\n        <tr>\\n         <td>\\n          M8X\\n         </td>\\n         <td>\\n          <a href=\"/wiki/Etobicoke\" title=\"Etobicoke\">\\n           Etobicoke\\n          </a>\\n         </td>\\n         <td>\\n          Montgomery Road\\n         </td>\\n        </tr>\\n        <tr>\\n         <td>\\n          M8X\\n         </td>\\n         <td>\\n          <a href=\"/wiki/Etobicoke\" title=\"Etobicoke\">\\n           Etobicoke\\n          </a>\\n         </td>\\n         <td>\\n          Old Mill North\\n         </td>\\n        </tr>\\n        <tr>\\n         <td>\\n          M9X\\n         </td>\\n         <td>\\n          Not assigned\\n         </td>\\n         <td>\\n          Not assigned\\n         </td>\\n        </tr>\\n        <tr>\\n         <td>\\n          M1Y\\n         </td>\\n         <td>\\n          Not assigned\\n         </td>\\n         <td>\\n          Not assigned\\n         </td>\\n        </tr>\\n        <tr>\\n         <td>\\n          M2Y\\n         </td>\\n         <td>\\n          Not assigned\\n         </td>\\n         <td>\\n          Not assigned\\n         </td>\\n        </tr>\\n        <tr>\\n         <td>\\n          M3Y\\n         </td>\\n         <td>\\n          Not assigned\\n         </td>\\n         <td>\\n          Not assigned\\n         </td>\\n        </tr>\\n        <tr>\\n         <td>\\n          M4Y\\n         </td>\\n         <td>\\n          <a href=\"/wiki/Downtown_Toronto\" title=\"Downtown Toronto\">\\n           Downtown Toronto\\n          </a>\\n         </td>\\n         <td>\\n          <a href=\"/wiki/Church_and_Wellesley\" title=\"Church and Wellesley\">\\n           Church and Wellesley\\n          </a>\\n         </td>\\n        </tr>\\n        <tr>\\n         <td>\\n          M5Y\\n         </td>\\n         <td>\\n          Not assigned\\n         </td>\\n         <td>\\n          Not assigned\\n         </td>\\n        </tr>\\n        <tr>\\n         <td>\\n          M6Y\\n         </td>\\n         <td>\\n          Not assigned\\n         </td>\\n         <td>\\n          Not assigned\\n         </td>\\n        </tr>\\n        <tr>\\n         <td>\\n          M7Y\\n         </td>\\n         <td>\\n          <a href=\"/wiki/East_Toronto\" title=\"East Toronto\">\\n           East Toronto\\n          </a>\\n         </td>\\n         <td>\\n          Business reply mail Processing Centre969 Eastern\\n         </td>\\n        </tr>\\n        <tr>\\n         <td>\\n          M8Y\\n         </td>\\n         <td>\\n          <a href=\"/wiki/Etobicoke\" title=\"Etobicoke\">\\n           Etobicoke\\n          </a>\\n         </td>\\n         <td>\\n          <a href=\"/wiki/Humber_Bay\" title=\"Humber Bay\">\\n           Humber Bay\\n          </a>\\n         </td>\\n        </tr>\\n        <tr>\\n         <td>\\n          M8Y\\n         </td>\\n         <td>\\n          <a href=\"/wiki/Etobicoke\" title=\"Etobicoke\">\\n           Etobicoke\\n          </a>\\n         </td>\\n         <td>\\n          <a href=\"/wiki/Kingsmills_Park\" title=\"Kingsmills Park\">\\n           King\\'s Mill Park\\n          </a>\\n         </td>\\n        </tr>\\n        <tr>\\n         <td>\\n          M8Y\\n         </td>\\n         <td>\\n          <a href=\"/wiki/Etobicoke\" title=\"Etobicoke\">\\n           Etobicoke\\n          </a>\\n         </td>\\n         <td>\\n          Kingsway Park South East\\n         </td>\\n        </tr>\\n        <tr>\\n         <td>\\n          M8Y\\n         </td>\\n         <td>\\n          <a href=\"/wiki/Etobicoke\" title=\"Etobicoke\">\\n           Etobicoke\\n          </a>\\n         </td>\\n         <td>\\n          <a href=\"/wiki/Mimico\" title=\"Mimico\">\\n           Mimico NE\\n          </a>\\n         </td>\\n        </tr>\\n        <tr>\\n         <td>\\n          M8Y\\n         </td>\\n         <td>\\n          <a href=\"/wiki/Etobicoke\" title=\"Etobicoke\">\\n           Etobicoke\\n          </a>\\n         </td>\\n         <td>\\n          <a href=\"/wiki/Old_Mill,_Toronto\" title=\"Old Mill, Toronto\">\\n           Old Mill South\\n          </a>\\n         </td>\\n        </tr>\\n        <tr>\\n         <td>\\n          M8Y\\n         </td>\\n         <td>\\n          <a href=\"/wiki/Etobicoke\" title=\"Etobicoke\">\\n           Etobicoke\\n          </a>\\n         </td>\\n         <td>\\n          <a href=\"/wiki/The_Queensway\" title=\"The Queensway\">\\n           The Queensway East\\n          </a>\\n         </td>\\n        </tr>\\n        <tr>\\n         <td>\\n          M8Y\\n         </td>\\n         <td>\\n          <a href=\"/wiki/Etobicoke\" title=\"Etobicoke\">\\n           Etobicoke\\n          </a>\\n         </td>\\n         <td>\\n          <a class=\"mw-redirect\" href=\"/wiki/Fairmont_Royal_York_Hotel\" title=\"Fairmont Royal York Hotel\">\\n           Royal York South East\\n          </a>\\n         </td>\\n        </tr>\\n        <tr>\\n         <td>\\n          M8Y\\n         </td>\\n         <td>\\n          <a href=\"/wiki/Etobicoke\" title=\"Etobicoke\">\\n           Etobicoke\\n          </a>\\n         </td>\\n         <td>\\n          <a class=\"mw-redirect\" href=\"/wiki/Sunnylea\" title=\"Sunnylea\">\\n           Sunnylea\\n          </a>\\n         </td>\\n        </tr>\\n        <tr>\\n         <td>\\n          M9Y\\n         </td>\\n         <td>\\n          Not assigned\\n         </td>\\n         <td>\\n          Not assigned\\n         </td>\\n        </tr>\\n        <tr>\\n         <td>\\n          M1Z\\n         </td>\\n         <td>\\n          Not assigned\\n         </td>\\n         <td>\\n          Not assigned\\n         </td>\\n        </tr>\\n        <tr>\\n         <td>\\n          M2Z\\n         </td>\\n         <td>\\n          Not assigned\\n         </td>\\n         <td>\\n          Not assigned\\n         </td>\\n        </tr>\\n        <tr>\\n         <td>\\n          M3Z\\n         </td>\\n         <td>\\n          Not assigned\\n         </td>\\n         <td>\\n          Not assigned\\n         </td>\\n        </tr>\\n        <tr>\\n         <td>\\n          M4Z\\n         </td>\\n         <td>\\n          Not assigned\\n         </td>\\n         <td>\\n          Not assigned\\n         </td>\\n        </tr>\\n        <tr>\\n         <td>\\n          M5Z\\n         </td>\\n         <td>\\n          Not assigned\\n         </td>\\n         <td>\\n          Not assigned\\n         </td>\\n        </tr>\\n        <tr>\\n         <td>\\n          M6Z\\n         </td>\\n         <td>\\n          Not assigned\\n         </td>\\n         <td>\\n          Not assigned\\n         </td>\\n        </tr>\\n        <tr>\\n         <td>\\n          M7Z\\n         </td>\\n         <td>\\n          Not assigned\\n         </td>\\n         <td>\\n          Not assigned\\n         </td>\\n        </tr>\\n        <tr>\\n         <td>\\n          M8Z\\n         </td>\\n         <td>\\n          <a href=\"/wiki/Etobicoke\" title=\"Etobicoke\">\\n           Etobicoke\\n          </a>\\n         </td>\\n         <td>\\n          Kingsway Park South West\\n         </td>\\n        </tr>\\n        <tr>\\n         <td>\\n          M8Z\\n         </td>\\n         <td>\\n          <a href=\"/wiki/Etobicoke\" title=\"Etobicoke\">\\n           Etobicoke\\n          </a>\\n         </td>\\n         <td>\\n          <a href=\"/wiki/Mimico\" title=\"Mimico\">\\n           Mimico NW\\n          </a>\\n         </td>\\n        </tr>\\n        <tr>\\n         <td>\\n          M8Z\\n         </td>\\n         <td>\\n          <a href=\"/wiki/Etobicoke\" title=\"Etobicoke\">\\n           Etobicoke\\n          </a>\\n         </td>\\n         <td>\\n          <a href=\"/wiki/The_Queensway\" title=\"The Queensway\">\\n           The Queensway West\\n          </a>\\n         </td>\\n        </tr>\\n        <tr>\\n         <td>\\n          M8Z\\n         </td>\\n         <td>\\n          <a href=\"/wiki/Etobicoke\" title=\"Etobicoke\">\\n           Etobicoke\\n          </a>\\n         </td>\\n         <td>\\n          Royal York South West\\n         </td>\\n        </tr>\\n        <tr>\\n         <td>\\n          M8Z\\n         </td>\\n         <td>\\n          <a href=\"/wiki/Etobicoke\" title=\"Etobicoke\">\\n           Etobicoke\\n          </a>\\n         </td>\\n         <td>\\n          <a href=\"/wiki/Bloor\" title=\"Bloor\">\\n           South of Bloor\\n          </a>\\n         </td>\\n        </tr>\\n        <tr>\\n         <td>\\n          M9Z\\n         </td>\\n         <td>\\n          Not assigned\\n         </td>\\n         <td>\\n          Not assigned\\n         </td>\\n        </tr>\\n       </tbody>\\n      </table>\\n      <div>\\n       <table class=\"multicol\" role=\"presentation\" style=\"border-collapse: collapse; padding: 0; border: 0; background:transparent; width:100%;\">\\n       </table>\\n       <h2>\\n        <span id=\"Most_populated_FSAs.5B3.5D\">\\n        </span>\\n        <span class=\"mw-headline\" id=\"Most_populated_FSAs[3]\">\\n         Most populated FSAs\\n         <sup class=\"reference\" id=\"cite_ref-statcan_3-0\">\\n          <a href=\"#cite_note-statcan-3\">\\n           [3]\\n          </a>\\n         </sup>\\n        </span>\\n        <span class=\"mw-editsection\">\\n         <span class=\"mw-editsection-bracket\">\\n          [\\n         </span>\\n         <a href=\"/w/index.php?title=List_of_postal_codes_of_Canada:_M&amp;action=edit&amp;section=2\" title=\"Edit section: Most populated FSAs[3]\">\\n          edit\\n         </a>\\n         <span class=\"mw-editsection-bracket\">\\n          ]\\n         </span>\\n        </span>\\n       </h2>\\n       <ol>\\n        <li>\\n         M1B, 65,129\\n        </li>\\n        <li>\\n         M2N, 60,124\\n        </li>\\n        <li>\\n         M1V, 55,250\\n        </li>\\n        <li>\\n         M9V, 55,159\\n        </li>\\n        <li>\\n         M2J, 54,391\\n        </li>\\n       </ol>\\n       <p>\\n       </p>\\n       <table cellpadding=\"2\" cellspacing=\"0\" rules=\"all\" style=\\'\"width:100%;\\'>\\n        <tbody>\\n         <tr>\\n          <td>\\n          </td>\\n         </tr>\\n        </tbody>\\n       </table>\\n      </div>\\n      <p>\\n      </p>\\n      <h2>\\n       <span id=\"Least_populated_FSAs.5B3.5D\">\\n       </span>\\n       <span class=\"mw-headline\" id=\"Least_populated_FSAs[3]\">\\n        Least populated FSAs\\n        <sup class=\"reference\" id=\"cite_ref-statcan_3-1\">\\n         <a href=\"#cite_note-statcan-3\">\\n          [3]\\n         </a>\\n        </sup>\\n       </span>\\n       <span class=\"mw-editsection\">\\n        <span class=\"mw-editsection-bracket\">\\n         [\\n        </span>\\n        <a href=\"/w/index.php?title=List_of_postal_codes_of_Canada:_M&amp;action=edit&amp;section=3\" title=\"Edit section: Least populated FSAs[3]\">\\n         edit\\n        </a>\\n        <span class=\"mw-editsection-bracket\">\\n         ]\\n        </span>\\n       </span>\\n      </h2>\\n      <ol>\\n       <li>\\n        M5K, 5\\n       </li>\\n       <li>\\n        M5L, 5\\n       </li>\\n       <li>\\n        M5W, 5\\n       </li>\\n       <li>\\n        M5X, 5\\n       </li>\\n       <li>\\n        M7A, 5\\n       </li>\\n      </ol>\\n      <p>\\n      </p>\\n      <h2>\\n       <span class=\"mw-headline\" id=\"References\">\\n        References\\n       </span>\\n       <span class=\"mw-editsection\">\\n        <span class=\"mw-editsection-bracket\">\\n         [\\n        </span>\\n        <a href=\"/w/index.php?title=List_of_postal_codes_of_Canada:_M&amp;action=edit&amp;section=4\" title=\"Edit section: References\">\\n         edit\\n        </a>\\n        <span class=\"mw-editsection-bracket\">\\n         ]\\n        </span>\\n       </span>\\n      </h2>\\n      <div class=\"mw-references-wrap\">\\n       <ol class=\"references\">\\n        <li id=\"cite_note-1\">\\n         <span class=\"mw-cite-backlink\">\\n          <b>\\n           <a href=\"#cite_ref-1\">\\n            ^\\n           </a>\\n          </b>\\n         </span>\\n         <span class=\"reference-text\">\\n          <cite class=\"citation web\">\\n           Canada Post.\\n           <a class=\"external text\" href=\"https://www.canadapost.ca/cpotools/apps/fpc/personal/findByCity?execution=e2s1\" rel=\"nofollow\">\\n            \"Canada Post - Find a Postal Code\"\\n           </a>\\n           <span class=\"reference-accessdate\">\\n            . Retrieved\\n            <span class=\"nowrap\">\\n             9 November\\n            </span>\\n            2008\\n           </span>\\n           .\\n          </cite>\\n          <span class=\"Z3988\" title=\"ctx_ver=Z39.88-2004&amp;rft_val_fmt=info%3Aofi%2Ffmt%3Akev%3Amtx%3Abook&amp;rft.genre=unknown&amp;rft.btitle=Canada+Post+-+Find+a+Postal+Code&amp;rft.au=Canada+Post&amp;rft_id=https%3A%2F%2Fwww.canadapost.ca%2Fcpotools%2Fapps%2Ffpc%2Fpersonal%2FfindByCity%3Fexecution%3De2s1&amp;rfr_id=info%3Asid%2Fen.wikipedia.org%3AList+of+postal+codes+of+Canada%3A+M\">\\n          </span>\\n          <style data-mw-deduplicate=\"TemplateStyles:r861714446\">\\n           .mw-parser-output cite.citation{font-style:inherit}.mw-parser-output q{quotes:\"\\\\\"\"\"\\\\\"\"\"\\'\"\"\\'\"}.mw-parser-output code.cs1-code{color:inherit;background:inherit;border:inherit;padding:inherit}.mw-parser-output .cs1-lock-free a{background:url(\"//upload.wikimedia.org/wikipedia/commons/thumb/6/65/Lock-green.svg/9px-Lock-green.svg.png\")no-repeat;background-position:right .1em center}.mw-parser-output .cs1-lock-limited a,.mw-parser-output .cs1-lock-registration a{background:url(\"//upload.wikimedia.org/wikipedia/commons/thumb/d/d6/Lock-gray-alt-2.svg/9px-Lock-gray-alt-2.svg.png\")no-repeat;background-position:right .1em center}.mw-parser-output .cs1-lock-subscription a{background:url(\"//upload.wikimedia.org/wikipedia/commons/thumb/a/aa/Lock-red-alt-2.svg/9px-Lock-red-alt-2.svg.png\")no-repeat;background-position:right .1em center}.mw-parser-output .cs1-subscription,.mw-parser-output .cs1-registration{color:#555}.mw-parser-output .cs1-subscription span,.mw-parser-output .cs1-registration span{border-bottom:1px dotted;cursor:help}.mw-parser-output .cs1-hidden-error{display:none;font-size:100%}.mw-parser-output .cs1-visible-error{font-size:100%}.mw-parser-output .cs1-subscription,.mw-parser-output .cs1-registration,.mw-parser-output .cs1-format{font-size:95%}.mw-parser-output .cs1-kern-left,.mw-parser-output .cs1-kern-wl-left{padding-left:0.2em}.mw-parser-output .cs1-kern-right,.mw-parser-output .cs1-kern-wl-right{padding-right:0.2em}\\n          </style>\\n         </span>\\n        </li>\\n        <li id=\"cite_note-2\">\\n         <span class=\"mw-cite-backlink\">\\n          <b>\\n           <a href=\"#cite_ref-2\">\\n            ^\\n           </a>\\n          </b>\\n         </span>\\n         <span class=\"reference-text\">\\n          <cite class=\"citation web\">\\n           <a class=\"external text\" href=\"https://web.archive.org/web/20110519093024/http://www.canadapost.ca/cpo/mc/personal/tools/mobileapp/default.jsf\" rel=\"nofollow\">\\n            \"Mobile Apps\"\\n           </a>\\n           . Canada Post. Archived from\\n           <a class=\"external text\" href=\"http://www.canadapost.ca/cpo/mc/personal/tools/mobileapp/default.jsf\" rel=\"nofollow\">\\n            the original\\n           </a>\\n           on 2011-05-19.\\n          </cite>\\n          <span class=\"Z3988\" title=\"ctx_ver=Z39.88-2004&amp;rft_val_fmt=info%3Aofi%2Ffmt%3Akev%3Amtx%3Abook&amp;rft.genre=unknown&amp;rft.btitle=Mobile+Apps&amp;rft.pub=Canada+Post&amp;rft_id=http%3A%2F%2Fwww.canadapost.ca%2Fcpo%2Fmc%2Fpersonal%2Ftools%2Fmobileapp%2Fdefault.jsf&amp;rfr_id=info%3Asid%2Fen.wikipedia.org%3AList+of+postal+codes+of+Canada%3A+M\">\\n          </span>\\n          <link href=\"mw-data:TemplateStyles:r861714446\" rel=\"mw-deduplicated-inline-style\"/>\\n         </span>\\n        </li>\\n        <li id=\"cite_note-statcan-3\">\\n         <span class=\"mw-cite-backlink\">\\n          ^\\n          <a href=\"#cite_ref-statcan_3-0\">\\n           <sup>\\n            <i>\\n             <b>\\n              a\\n             </b>\\n            </i>\\n           </sup>\\n          </a>\\n          <a href=\"#cite_ref-statcan_3-1\">\\n           <sup>\\n            <i>\\n             <b>\\n              b\\n             </b>\\n            </i>\\n           </sup>\\n          </a>\\n         </span>\\n         <span class=\"reference-text\">\\n          <cite class=\"citation web\">\\n           <a class=\"external text\" href=\"http://www12.statcan.ca/english/census06/data/popdwell/Table.cfm?T=1201&amp;SR=1&amp;S=0&amp;O=A&amp;RPP=9999&amp;PR=0&amp;CMA=0\" rel=\"nofollow\">\\n            \"2006 Census of Population\"\\n           </a>\\n           . 15 October 2008.\\n          </cite>\\n          <span class=\"Z3988\" title=\"ctx_ver=Z39.88-2004&amp;rft_val_fmt=info%3Aofi%2Ffmt%3Akev%3Amtx%3Abook&amp;rft.genre=unknown&amp;rft.btitle=2006+Census+of+Population&amp;rft.date=2008-10-15&amp;rft_id=http%3A%2F%2Fwww12.statcan.ca%2Fenglish%2Fcensus06%2Fdata%2Fpopdwell%2FTable.cfm%3FT%3D1201%26SR%3D1%26S%3D0%26O%3DA%26RPP%3D9999%26PR%3D0%26CMA%3D0&amp;rfr_id=info%3Asid%2Fen.wikipedia.org%3AList+of+postal+codes+of+Canada%3A+M\">\\n          </span>\\n          <link href=\"mw-data:TemplateStyles:r861714446\" rel=\"mw-deduplicated-inline-style\"/>\\n         </span>\\n        </li>\\n       </ol>\\n      </div>\\n      <table class=\"navbox\">\\n       <tbody>\\n        <tr>\\n         <td style=\"width:36px; text-align:center\">\\n          <a class=\"image\" href=\"/wiki/File:Flag_of_Canada.svg\" title=\"Flag of Canada\">\\n           <img alt=\"Flag of Canada\" data-file-height=\"500\" data-file-width=\"1000\" height=\"18\" src=\"//upload.wikimedia.org/wikipedia/en/thumb/c/cf/Flag_of_Canada.svg/36px-Flag_of_Canada.svg.png\" srcset=\"//upload.wikimedia.org/wikipedia/en/thumb/c/cf/Flag_of_Canada.svg/54px-Flag_of_Canada.svg.png 1.5x, //upload.wikimedia.org/wikipedia/en/thumb/c/cf/Flag_of_Canada.svg/72px-Flag_of_Canada.svg.png 2x\" width=\"36\"/>\\n          </a>\\n         </td>\\n         <th class=\"navbox-title\" style=\"font-size:110%\">\\n          <a href=\"/wiki/Postal_codes_in_Canada\" title=\"Postal codes in Canada\">\\n           Canadian postal codes\\n          </a>\\n         </th>\\n         <td style=\"width:36px; text-align:center\">\\n          <a class=\"image\" href=\"/wiki/File:Canadian_postal_district_map_(without_legends).svg\">\\n           <img alt=\"Canadian postal district map (without legends).svg\" data-file-height=\"846\" data-file-width=\"1000\" height=\"18\" src=\"//upload.wikimedia.org/wikipedia/commons/thumb/e/eb/Canadian_postal_district_map_%28without_legends%29.svg/21px-Canadian_postal_district_map_%28without_legends%29.svg.png\" srcset=\"//upload.wikimedia.org/wikipedia/commons/thumb/e/eb/Canadian_postal_district_map_%28without_legends%29.svg/32px-Canadian_postal_district_map_%28without_legends%29.svg.png 1.5x, //upload.wikimedia.org/wikipedia/commons/thumb/e/eb/Canadian_postal_district_map_%28without_legends%29.svg/43px-Canadian_postal_district_map_%28without_legends%29.svg.png 2x\" width=\"21\"/>\\n          </a>\\n         </td>\\n        </tr>\\n        <tr>\\n         <td colspan=\"3\" style=\"text-align:center; font-size: 100%;\">\\n          <table cellspacing=\"0\" style=\"background-color: #F8F8F8;\" width=\"100%\">\\n           <tbody>\\n            <tr>\\n             <td style=\"text-align:center; border:1px solid #aaa;\">\\n              <a href=\"/wiki/Newfoundland_and_Labrador\" title=\"Newfoundland and Labrador\">\\n               NL\\n              </a>\\n             </td>\\n             <td style=\"text-align:center; border:1px solid #aaa;\">\\n              <a href=\"/wiki/Nova_Scotia\" title=\"Nova Scotia\">\\n               NS\\n              </a>\\n             </td>\\n             <td style=\"text-align:center; border:1px solid #aaa;\">\\n              <a href=\"/wiki/Prince_Edward_Island\" title=\"Prince Edward Island\">\\n               PE\\n              </a>\\n             </td>\\n             <td style=\"text-align:center; border:1px solid #aaa;\">\\n              <a href=\"/wiki/New_Brunswick\" title=\"New Brunswick\">\\n               NB\\n              </a>\\n             </td>\\n             <td colspan=\"3\" style=\"text-align:center; border:1px solid #aaa;\">\\n              <a href=\"/wiki/Quebec\" title=\"Quebec\">\\n               QC\\n              </a>\\n             </td>\\n             <td colspan=\"5\" style=\"text-align:center; border:1px solid #aaa;\">\\n              <a href=\"/wiki/Ontario\" title=\"Ontario\">\\n               ON\\n              </a>\\n             </td>\\n             <td style=\"text-align:center; border:1px solid #aaa;\">\\n              <a href=\"/wiki/Manitoba\" title=\"Manitoba\">\\n               MB\\n              </a>\\n             </td>\\n             <td style=\"text-align:center; border:1px solid #aaa;\">\\n              <a href=\"/wiki/Saskatchewan\" title=\"Saskatchewan\">\\n               SK\\n              </a>\\n             </td>\\n             <td style=\"text-align:center; border:1px solid #aaa;\">\\n              <a href=\"/wiki/Alberta\" title=\"Alberta\">\\n               AB\\n              </a>\\n             </td>\\n             <td style=\"text-align:center; border:1px solid #aaa;\">\\n              <a href=\"/wiki/British_Columbia\" title=\"British Columbia\">\\n               BC\\n              </a>\\n             </td>\\n             <td style=\"text-align:center; border:1px solid #aaa;\">\\n              <a href=\"/wiki/Nunavut\" title=\"Nunavut\">\\n               NU\\n              </a>\\n              /\\n              <a href=\"/wiki/Northwest_Territories\" title=\"Northwest Territories\">\\n               NT\\n              </a>\\n             </td>\\n             <td style=\"text-align:center; border:1px solid #aaa;\">\\n              <a href=\"/wiki/Yukon\" title=\"Yukon\">\\n               YT\\n              </a>\\n             </td>\\n            </tr>\\n            <tr>\\n             <td align=\"center\" style=\"border: 1px solid #FF0000; background-color: #FFE0E0; font-size: 135%;\" width=\"5%\">\\n              <a href=\"/wiki/List_of_postal_codes_of_Canada:_A\" title=\"List of postal codes of Canada: A\">\\n               A\\n              </a>\\n             </td>\\n             <td align=\"center\" style=\"border: 1px solid #FF4000; background-color: #FFE8E0; font-size: 135%;\" width=\"5%\">\\n              <a href=\"/wiki/List_of_postal_codes_of_Canada:_B\" title=\"List of postal codes of Canada: B\">\\n               B\\n              </a>\\n             </td>\\n             <td align=\"center\" style=\"border: 1px solid #FF8000; background-color: #FFF0E0; font-size: 135%;\" width=\"5%\">\\n              <a href=\"/wiki/List_of_postal_codes_of_Canada:_C\" title=\"List of postal codes of Canada: C\">\\n               C\\n              </a>\\n             </td>\\n             <td align=\"center\" style=\"border: 1px solid #FFC000; background-color: #FFF8E0; font-size: 135%;\" width=\"5%\">\\n              <a href=\"/wiki/List_of_postal_codes_of_Canada:_E\" title=\"List of postal codes of Canada: E\">\\n               E\\n              </a>\\n             </td>\\n             <td align=\"center\" style=\"border: 1px solid #FFFF00; background-color: #FFFFE0; font-size: 135%;\" width=\"5%\">\\n              <a href=\"/wiki/List_of_postal_codes_of_Canada:_G\" title=\"List of postal codes of Canada: G\">\\n               G\\n              </a>\\n             </td>\\n             <td align=\"center\" style=\"border: 1px solid #C0FF00; background-color: #F8FFE0; font-size: 135%;\" width=\"5%\">\\n              <a href=\"/wiki/List_of_postal_codes_of_Canada:_H\" title=\"List of postal codes of Canada: H\">\\n               H\\n              </a>\\n             </td>\\n             <td align=\"center\" style=\"border: 1px solid #80FF00; background-color: #F0FFE0; font-size: 135%;\" width=\"5%\">\\n              <a href=\"/wiki/List_of_postal_codes_of_Canada:_J\" title=\"List of postal codes of Canada: J\">\\n               J\\n              </a>\\n             </td>\\n             <td align=\"center\" style=\"border: 1px solid #00FF00; background-color: #E0FFE0; font-size: 135%;\" width=\"5%\">\\n              <a href=\"/wiki/List_of_postal_codes_of_Canada:_K\" title=\"List of postal codes of Canada: K\">\\n               K\\n              </a>\\n             </td>\\n             <td align=\"center\" style=\"border: 1px solid #00FF80; background-color: #E0FFF0; font-size: 135%;\" width=\"5%\">\\n              <a href=\"/wiki/List_of_postal_codes_of_Canada:_L\" title=\"List of postal codes of Canada: L\">\\n               L\\n              </a>\\n             </td>\\n             <td align=\"center\" style=\"border: 1px solid #E0FFF8; background-color: #00FFC0; font-size: 135%; color: black;\" width=\"5%\">\\n              <a class=\"mw-selflink selflink\">\\n               M\\n              </a>\\n             </td>\\n             <td align=\"center\" style=\"border: 1px solid #00FFE0; background-color: #E0FFFC; font-size: 135%;\" width=\"5%\">\\n              <a href=\"/wiki/List_of_postal_codes_of_Canada:_N\" title=\"List of postal codes of Canada: N\">\\n               N\\n              </a>\\n             </td>\\n             <td align=\"center\" style=\"border: 1px solid #00FFFF; background-color: #E0FFFF; font-size: 135%;\" width=\"5%\">\\n              <a href=\"/wiki/List_of_postal_codes_of_Canada:_P\" title=\"List of postal codes of Canada: P\">\\n               P\\n              </a>\\n             </td>\\n             <td align=\"center\" style=\"border: 1px solid #00C0FF; background-color: #E0F8FF; font-size: 135%;\" width=\"5%\">\\n              <a href=\"/wiki/List_of_postal_codes_of_Canada:_R\" title=\"List of postal codes of Canada: R\">\\n               R\\n              </a>\\n             </td>\\n             <td align=\"center\" style=\"border: 1px solid #0080FF; background-color: #E0F0FF; font-size: 135%;\" width=\"5%\">\\n              <a href=\"/wiki/List_of_postal_codes_of_Canada:_S\" title=\"List of postal codes of Canada: S\">\\n               S\\n              </a>\\n             </td>\\n             <td align=\"center\" style=\"border: 1px solid #0040FF; background-color: #E0E8FF; font-size: 135%;\" width=\"5%\">\\n              <a href=\"/wiki/List_of_postal_codes_of_Canada:_T\" title=\"List of postal codes of Canada: T\">\\n               T\\n              </a>\\n             </td>\\n             <td align=\"center\" style=\"border: 1px solid #0000FF; background-color: #E0E0FF; font-size: 135%;\" width=\"5%\">\\n              <a href=\"/wiki/List_of_postal_codes_of_Canada:_V\" title=\"List of postal codes of Canada: V\">\\n               V\\n              </a>\\n             </td>\\n             <td align=\"center\" style=\"border: 1px solid #A000FF; background-color: #E8E0FF; font-size: 135%;\" width=\"5%\">\\n              <a href=\"/wiki/List_of_postal_codes_of_Canada:_X\" title=\"List of postal codes of Canada: X\">\\n               X\\n              </a>\\n             </td>\\n             <td align=\"center\" style=\"border: 1px solid #FF00FF; background-color: #FFE0FF; font-size: 135%;\" width=\"5%\">\\n              <a href=\"/wiki/List_of_postal_codes_of_Canada:_Y\" title=\"List of postal codes of Canada: Y\">\\n               Y\\n              </a>\\n             </td>\\n            </tr>\\n           </tbody>\\n          </table>\\n         </td>\\n        </tr>\\n       </tbody>\\n      </table>\\n      <!-- \\nNewPP limit report\\nParsed by mw1272\\nCached time: 20181010150622\\nCache expiry: 1900800\\nDynamic content: false\\nCPU time usage: 0.224 seconds\\nReal time usage: 0.268 seconds\\nPreprocessor visited node count: 588/1000000\\nPreprocessor generated node count: 0/1500000\\nPost‐expand include size: 10232/2097152 bytes\\nTemplate argument size: 13/2097152 bytes\\nHighest expansion depth: 4/40\\nExpensive parser function count: 0/500\\nUnstrip recursion depth: 1/20\\nUnstrip post‐expand size: 8056/5000000 bytes\\nNumber of Wikibase entities loaded: 0/400\\nLua time usage: 0.064/10.000 seconds\\nLua memory usage: 1.65 MB/50 MB\\n-->\\n      <!--\\nTransclusion expansion time report (%,ms,calls,template)\\n100.00%  131.900      1 -total\\n 79.39%  104.713      3 Template:Cite_web\\n  6.01%    7.927      1 Template:Col-2\\n  3.87%    5.109      1 Template:Col-begin\\n  3.07%    4.052      1 Template:Canadian_postal_codes\\n  1.25%    1.652      1 Template:Col-break\\n  1.22%    1.605      2 Template:Col-end\\n-->\\n      <!-- Saved in parser cache with key enwiki:pcache:idhash:539066-0!canonical and timestamp 20181010150622 and revision id 862527922\\n -->\\n     </div>\\n     <noscript>\\n      <img alt=\"\" height=\"1\" src=\"//en.wikipedia.org/wiki/Special:CentralAutoLogin/start?type=1x1\" style=\"border: none; position: absolute;\" title=\"\" width=\"1\"/>\\n     </noscript>\\n    </div>\\n    <div class=\"printfooter\">\\n     Retrieved from \"\\n     <a dir=\"ltr\" href=\"https://en.wikipedia.org/w/index.php?title=List_of_postal_codes_of_Canada:_M&amp;oldid=862527922\">\\n      https://en.wikipedia.org/w/index.php?title=List_of_postal_codes_of_Canada:_M&amp;oldid=862527922\\n     </a>\\n     \"\\n    </div>\\n    <div class=\"catlinks\" data-mw=\"interface\" id=\"catlinks\">\\n     <div class=\"mw-normal-catlinks\" id=\"mw-normal-catlinks\">\\n      <a href=\"/wiki/Help:Category\" title=\"Help:Category\">\\n       Categories\\n      </a>\\n      :\\n      <ul>\\n       <li>\\n        <a href=\"/wiki/Category:Communications_in_Ontario\" title=\"Category:Communications in Ontario\">\\n         Communications in Ontario\\n        </a>\\n       </li>\\n       <li>\\n        <a href=\"/wiki/Category:Postal_codes_in_Canada\" title=\"Category:Postal codes in Canada\">\\n         Postal codes in Canada\\n        </a>\\n       </li>\\n       <li>\\n        <a href=\"/wiki/Category:Toronto\" title=\"Category:Toronto\">\\n         Toronto\\n        </a>\\n       </li>\\n       <li>\\n        <a href=\"/wiki/Category:Ontario-related_lists\" title=\"Category:Ontario-related lists\">\\n         Ontario-related lists\\n        </a>\\n       </li>\\n      </ul>\\n     </div>\\n    </div>\\n    <div class=\"visualClear\">\\n    </div>\\n   </div>\\n  </div>\\n  <div id=\"mw-navigation\">\\n   <h2>\\n    Navigation menu\\n   </h2>\\n   <div id=\"mw-head\">\\n    <div aria-labelledby=\"p-personal-label\" class=\"\" id=\"p-personal\" role=\"navigation\">\\n     <h3 id=\"p-personal-label\">\\n      Personal tools\\n     </h3>\\n     <ul>\\n      <li id=\"pt-anonuserpage\">\\n       Not logged in\\n      </li>\\n      <li id=\"pt-anontalk\">\\n       <a accesskey=\"n\" href=\"/wiki/Special:MyTalk\" title=\"Discussion about edits from this IP address [n]\">\\n        Talk\\n       </a>\\n      </li>\\n      <li id=\"pt-anoncontribs\">\\n       <a accesskey=\"y\" href=\"/wiki/Special:MyContributions\" title=\"A list of edits made from this IP address [y]\">\\n        Contributions\\n       </a>\\n      </li>\\n      <li id=\"pt-createaccount\">\\n       <a href=\"/w/index.php?title=Special:CreateAccount&amp;returnto=List+of+postal+codes+of+Canada%3A+M\" title=\"You are encouraged to create an account and log in; however, it is not mandatory\">\\n        Create account\\n       </a>\\n      </li>\\n      <li id=\"pt-login\">\\n       <a accesskey=\"o\" href=\"/w/index.php?title=Special:UserLogin&amp;returnto=List+of+postal+codes+of+Canada%3A+M\" title=\"You\\'re encouraged to log in; however, it\\'s not mandatory. [o]\">\\n        Log in\\n       </a>\\n      </li>\\n     </ul>\\n    </div>\\n    <div id=\"left-navigation\">\\n     <div aria-labelledby=\"p-namespaces-label\" class=\"vectorTabs\" id=\"p-namespaces\" role=\"navigation\">\\n      <h3 id=\"p-namespaces-label\">\\n       Namespaces\\n      </h3>\\n      <ul>\\n       <li class=\"selected\" id=\"ca-nstab-main\">\\n        <span>\\n         <a accesskey=\"c\" href=\"/wiki/List_of_postal_codes_of_Canada:_M\" title=\"View the content page [c]\">\\n          Article\\n         </a>\\n        </span>\\n       </li>\\n       <li id=\"ca-talk\">\\n        <span>\\n         <a accesskey=\"t\" href=\"/wiki/Talk:List_of_postal_codes_of_Canada:_M\" rel=\"discussion\" title=\"Discussion about the content page [t]\">\\n          Talk\\n         </a>\\n        </span>\\n       </li>\\n      </ul>\\n     </div>\\n     <div aria-labelledby=\"p-variants-label\" class=\"vectorMenu emptyPortlet\" id=\"p-variants\" role=\"navigation\">\\n      <input aria-labelledby=\"p-variants-label\" class=\"vectorMenuCheckbox\" type=\"checkbox\"/>\\n      <h3 id=\"p-variants-label\">\\n       <span>\\n        Variants\\n       </span>\\n      </h3>\\n      <div class=\"menu\">\\n       <ul>\\n       </ul>\\n      </div>\\n     </div>\\n    </div>\\n    <div id=\"right-navigation\">\\n     <div aria-labelledby=\"p-views-label\" class=\"vectorTabs\" id=\"p-views\" role=\"navigation\">\\n      <h3 id=\"p-views-label\">\\n       Views\\n      </h3>\\n      <ul>\\n       <li class=\"collapsible selected\" id=\"ca-view\">\\n        <span>\\n         <a href=\"/wiki/List_of_postal_codes_of_Canada:_M\">\\n          Read\\n         </a>\\n        </span>\\n       </li>\\n       <li class=\"collapsible\" id=\"ca-edit\">\\n        <span>\\n         <a accesskey=\"e\" href=\"/w/index.php?title=List_of_postal_codes_of_Canada:_M&amp;action=edit\" title=\"Edit this page [e]\">\\n          Edit\\n         </a>\\n        </span>\\n       </li>\\n       <li class=\"collapsible\" id=\"ca-history\">\\n        <span>\\n         <a accesskey=\"h\" href=\"/w/index.php?title=List_of_postal_codes_of_Canada:_M&amp;action=history\" title=\"Past revisions of this page [h]\">\\n          View history\\n         </a>\\n        </span>\\n       </li>\\n      </ul>\\n     </div>\\n     <div aria-labelledby=\"p-cactions-label\" class=\"vectorMenu emptyPortlet\" id=\"p-cactions\" role=\"navigation\">\\n      <input aria-labelledby=\"p-cactions-label\" class=\"vectorMenuCheckbox\" type=\"checkbox\"/>\\n      <h3 id=\"p-cactions-label\">\\n       <span>\\n        More\\n       </span>\\n      </h3>\\n      <div class=\"menu\">\\n       <ul>\\n       </ul>\\n      </div>\\n     </div>\\n     <div id=\"p-search\" role=\"search\">\\n      <h3>\\n       <label for=\"searchInput\">\\n        Search\\n       </label>\\n      </h3>\\n      <form action=\"/w/index.php\" id=\"searchform\">\\n       <div id=\"simpleSearch\">\\n        <input accesskey=\"f\" id=\"searchInput\" name=\"search\" placeholder=\"Search Wikipedia\" title=\"Search Wikipedia [f]\" type=\"search\"/>\\n        <input name=\"title\" type=\"hidden\" value=\"Special:Search\"/>\\n        <input class=\"searchButton mw-fallbackSearchButton\" id=\"mw-searchButton\" name=\"fulltext\" title=\"Search Wikipedia for this text\" type=\"submit\" value=\"Search\"/>\\n        <input class=\"searchButton\" id=\"searchButton\" name=\"go\" title=\"Go to a page with this exact name if it exists\" type=\"submit\" value=\"Go\"/>\\n       </div>\\n      </form>\\n     </div>\\n    </div>\\n   </div>\\n   <div id=\"mw-panel\">\\n    <div id=\"p-logo\" role=\"banner\">\\n     <a class=\"mw-wiki-logo\" href=\"/wiki/Main_Page\" title=\"Visit the main page\">\\n     </a>\\n    </div>\\n    <div aria-labelledby=\"p-navigation-label\" class=\"portal\" id=\"p-navigation\" role=\"navigation\">\\n     <h3 id=\"p-navigation-label\">\\n      Navigation\\n     </h3>\\n     <div class=\"body\">\\n      <ul>\\n       <li id=\"n-mainpage-description\">\\n        <a accesskey=\"z\" href=\"/wiki/Main_Page\" title=\"Visit the main page [z]\">\\n         Main page\\n        </a>\\n       </li>\\n       <li id=\"n-contents\">\\n        <a href=\"/wiki/Portal:Contents\" title=\"Guides to browsing Wikipedia\">\\n         Contents\\n        </a>\\n       </li>\\n       <li id=\"n-featuredcontent\">\\n        <a href=\"/wiki/Portal:Featured_content\" title=\"Featured content – the best of Wikipedia\">\\n         Featured content\\n        </a>\\n       </li>\\n       <li id=\"n-currentevents\">\\n        <a href=\"/wiki/Portal:Current_events\" title=\"Find background information on current events\">\\n         Current events\\n        </a>\\n       </li>\\n       <li id=\"n-randompage\">\\n        <a accesskey=\"x\" href=\"/wiki/Special:Random\" title=\"Load a random article [x]\">\\n         Random article\\n        </a>\\n       </li>\\n       <li id=\"n-sitesupport\">\\n        <a href=\"https://donate.wikimedia.org/wiki/Special:FundraiserRedirector?utm_source=donate&amp;utm_medium=sidebar&amp;utm_campaign=C13_en.wikipedia.org&amp;uselang=en\" title=\"Support us\">\\n         Donate to Wikipedia\\n        </a>\\n       </li>\\n       <li id=\"n-shoplink\">\\n        <a href=\"//shop.wikimedia.org\" title=\"Visit the Wikipedia store\">\\n         Wikipedia store\\n        </a>\\n       </li>\\n      </ul>\\n     </div>\\n    </div>\\n    <div aria-labelledby=\"p-interaction-label\" class=\"portal\" id=\"p-interaction\" role=\"navigation\">\\n     <h3 id=\"p-interaction-label\">\\n      Interaction\\n     </h3>\\n     <div class=\"body\">\\n      <ul>\\n       <li id=\"n-help\">\\n        <a href=\"/wiki/Help:Contents\" title=\"Guidance on how to use and edit Wikipedia\">\\n         Help\\n        </a>\\n       </li>\\n       <li id=\"n-aboutsite\">\\n        <a href=\"/wiki/Wikipedia:About\" title=\"Find out about Wikipedia\">\\n         About Wikipedia\\n        </a>\\n       </li>\\n       <li id=\"n-portal\">\\n        <a href=\"/wiki/Wikipedia:Community_portal\" title=\"About the project, what you can do, where to find things\">\\n         Community portal\\n        </a>\\n       </li>\\n       <li id=\"n-recentchanges\">\\n        <a accesskey=\"r\" href=\"/wiki/Special:RecentChanges\" title=\"A list of recent changes in the wiki [r]\">\\n         Recent changes\\n        </a>\\n       </li>\\n       <li id=\"n-contactpage\">\\n        <a href=\"//en.wikipedia.org/wiki/Wikipedia:Contact_us\" title=\"How to contact Wikipedia\">\\n         Contact page\\n        </a>\\n       </li>\\n      </ul>\\n     </div>\\n    </div>\\n    <div aria-labelledby=\"p-tb-label\" class=\"portal\" id=\"p-tb\" role=\"navigation\">\\n     <h3 id=\"p-tb-label\">\\n      Tools\\n     </h3>\\n     <div class=\"body\">\\n      <ul>\\n       <li id=\"t-whatlinkshere\">\\n        <a accesskey=\"j\" href=\"/wiki/Special:WhatLinksHere/List_of_postal_codes_of_Canada:_M\" title=\"List of all English Wikipedia pages containing links to this page [j]\">\\n         What links here\\n        </a>\\n       </li>\\n       <li id=\"t-recentchangeslinked\">\\n        <a accesskey=\"k\" href=\"/wiki/Special:RecentChangesLinked/List_of_postal_codes_of_Canada:_M\" rel=\"nofollow\" title=\"Recent changes in pages linked from this page [k]\">\\n         Related changes\\n        </a>\\n       </li>\\n       <li id=\"t-upload\">\\n        <a accesskey=\"u\" href=\"/wiki/Wikipedia:File_Upload_Wizard\" title=\"Upload files [u]\">\\n         Upload file\\n        </a>\\n       </li>\\n       <li id=\"t-specialpages\">\\n        <a accesskey=\"q\" href=\"/wiki/Special:SpecialPages\" title=\"A list of all special pages [q]\">\\n         Special pages\\n        </a>\\n       </li>\\n       <li id=\"t-permalink\">\\n        <a href=\"/w/index.php?title=List_of_postal_codes_of_Canada:_M&amp;oldid=862527922\" title=\"Permanent link to this revision of the page\">\\n         Permanent link\\n        </a>\\n       </li>\\n       <li id=\"t-info\">\\n        <a href=\"/w/index.php?title=List_of_postal_codes_of_Canada:_M&amp;action=info\" title=\"More information about this page\">\\n         Page information\\n        </a>\\n       </li>\\n       <li id=\"t-wikibase\">\\n        <a accesskey=\"g\" href=\"https://www.wikidata.org/wiki/Special:EntityPage/Q3248240\" title=\"Link to connected data repository item [g]\">\\n         Wikidata item\\n        </a>\\n       </li>\\n       <li id=\"t-cite\">\\n        <a href=\"/w/index.php?title=Special:CiteThisPage&amp;page=List_of_postal_codes_of_Canada%3A_M&amp;id=862527922\" title=\"Information on how to cite this page\">\\n         Cite this page\\n        </a>\\n       </li>\\n      </ul>\\n     </div>\\n    </div>\\n    <div aria-labelledby=\"p-coll-print_export-label\" class=\"portal\" id=\"p-coll-print_export\" role=\"navigation\">\\n     <h3 id=\"p-coll-print_export-label\">\\n      Print/export\\n     </h3>\\n     <div class=\"body\">\\n      <ul>\\n       <li id=\"coll-create_a_book\">\\n        <a href=\"/w/index.php?title=Special:Book&amp;bookcmd=book_creator&amp;referer=List+of+postal+codes+of+Canada%3A+M\">\\n         Create a book\\n        </a>\\n       </li>\\n       <li id=\"coll-download-as-rdf2latex\">\\n        <a href=\"/w/index.php?title=Special:ElectronPdf&amp;page=List+of+postal+codes+of+Canada%3A+M&amp;action=show-download-screen\">\\n         Download as PDF\\n        </a>\\n       </li>\\n       <li id=\"t-print\">\\n        <a accesskey=\"p\" href=\"/w/index.php?title=List_of_postal_codes_of_Canada:_M&amp;printable=yes\" title=\"Printable version of this page [p]\">\\n         Printable version\\n        </a>\\n       </li>\\n      </ul>\\n     </div>\\n    </div>\\n    <div aria-labelledby=\"p-lang-label\" class=\"portal\" id=\"p-lang\" role=\"navigation\">\\n     <h3 id=\"p-lang-label\">\\n      Languages\\n     </h3>\\n     <div class=\"body\">\\n      <ul>\\n       <li class=\"interlanguage-link interwiki-fr\">\\n        <a class=\"interlanguage-link-target\" href=\"https://fr.wikipedia.org/wiki/Liste_des_codes_postaux_canadiens_d%C3%A9butant_par_M\" hreflang=\"fr\" lang=\"fr\" title=\"Liste des codes postaux canadiens débutant par M – French\">\\n         Français\\n        </a>\\n       </li>\\n      </ul>\\n      <div class=\"after-portlet after-portlet-lang\">\\n       <span class=\"wb-langlinks-edit wb-langlinks-link\">\\n        <a class=\"wbc-editpage\" href=\"https://www.wikidata.org/wiki/Special:EntityPage/Q3248240#sitelinks-wikipedia\" title=\"Edit interlanguage links\">\\n         Edit links\\n        </a>\\n       </span>\\n      </div>\\n     </div>\\n    </div>\\n   </div>\\n  </div>\\n  <div id=\"footer\" role=\"contentinfo\">\\n   <ul id=\"footer-info\">\\n    <li id=\"footer-info-lastmod\">\\n     This page was last edited on 4 October 2018, at 23:55\\n     <span class=\"anonymous-show\">\\n      (UTC)\\n     </span>\\n     .\\n    </li>\\n    <li id=\"footer-info-copyright\">\\n     Text is available under the\\n     <a href=\"//en.wikipedia.org/wiki/Wikipedia:Text_of_Creative_Commons_Attribution-ShareAlike_3.0_Unported_License\" rel=\"license\">\\n      Creative Commons Attribution-ShareAlike License\\n     </a>\\n     <a href=\"//creativecommons.org/licenses/by-sa/3.0/\" rel=\"license\" style=\"display:none;\">\\n     </a>\\n     ;\\nadditional terms may apply.  By using this site, you agree to the\\n     <a href=\"//foundation.wikimedia.org/wiki/Terms_of_Use\">\\n      Terms of Use\\n     </a>\\n     and\\n     <a href=\"//foundation.wikimedia.org/wiki/Privacy_policy\">\\n      Privacy Policy\\n     </a>\\n     . Wikipedia® is a registered trademark of the\\n     <a href=\"//www.wikimediafoundation.org/\">\\n      Wikimedia Foundation, Inc.\\n     </a>\\n     , a non-profit organization.\\n    </li>\\n   </ul>\\n   <ul id=\"footer-places\">\\n    <li id=\"footer-places-privacy\">\\n     <a class=\"extiw\" href=\"https://foundation.wikimedia.org/wiki/Privacy_policy\" title=\"wmf:Privacy policy\">\\n      Privacy policy\\n     </a>\\n    </li>\\n    <li id=\"footer-places-about\">\\n     <a href=\"/wiki/Wikipedia:About\" title=\"Wikipedia:About\">\\n      About Wikipedia\\n     </a>\\n    </li>\\n    <li id=\"footer-places-disclaimer\">\\n     <a href=\"/wiki/Wikipedia:General_disclaimer\" title=\"Wikipedia:General disclaimer\">\\n      Disclaimers\\n     </a>\\n    </li>\\n    <li id=\"footer-places-contact\">\\n     <a href=\"//en.wikipedia.org/wiki/Wikipedia:Contact_us\">\\n      Contact Wikipedia\\n     </a>\\n    </li>\\n    <li id=\"footer-places-developers\">\\n     <a href=\"https://www.mediawiki.org/wiki/Special:MyLanguage/How_to_contribute\">\\n      Developers\\n     </a>\\n    </li>\\n    <li id=\"footer-places-cookiestatement\">\\n     <a href=\"https://foundation.wikimedia.org/wiki/Cookie_statement\">\\n      Cookie statement\\n     </a>\\n    </li>\\n    <li id=\"footer-places-mobileview\">\\n     <a class=\"noprint stopMobileRedirectToggle\" href=\"//en.m.wikipedia.org/w/index.php?title=List_of_postal_codes_of_Canada:_M&amp;mobileaction=toggle_view_mobile\">\\n      Mobile view\\n     </a>\\n    </li>\\n   </ul>\\n   <ul class=\"noprint\" id=\"footer-icons\">\\n    <li id=\"footer-copyrightico\">\\n     <a href=\"https://wikimediafoundation.org/\">\\n      <img alt=\"Wikimedia Foundation\" height=\"31\" src=\"/static/images/wikimedia-button.png\" srcset=\"/static/images/wikimedia-button-1.5x.png 1.5x, /static/images/wikimedia-button-2x.png 2x\" width=\"88\"/>\\n     </a>\\n    </li>\\n    <li id=\"footer-poweredbyico\">\\n     <a href=\"//www.mediawiki.org/\">\\n      <img alt=\"Powered by MediaWiki\" height=\"31\" src=\"/static/images/poweredby_mediawiki_88x31.png\" srcset=\"/static/images/poweredby_mediawiki_132x47.png 1.5x, /static/images/poweredby_mediawiki_176x62.png 2x\" width=\"88\"/>\\n     </a>\\n    </li>\\n   </ul>\\n   <div style=\"clear: both;\">\\n   </div>\\n  </div>\\n  <script>\\n   (window.RLQ=window.RLQ||[]).push(function(){mw.config.set({\"wgPageParseReport\":{\"limitreport\":{\"cputime\":\"0.224\",\"walltime\":\"0.268\",\"ppvisitednodes\":{\"value\":588,\"limit\":1000000},\"ppgeneratednodes\":{\"value\":0,\"limit\":1500000},\"postexpandincludesize\":{\"value\":10232,\"limit\":2097152},\"templateargumentsize\":{\"value\":13,\"limit\":2097152},\"expansiondepth\":{\"value\":4,\"limit\":40},\"expensivefunctioncount\":{\"value\":0,\"limit\":500},\"unstrip-depth\":{\"value\":1,\"limit\":20},\"unstrip-size\":{\"value\":8056,\"limit\":5000000},\"entityaccesscount\":{\"value\":0,\"limit\":400},\"timingprofile\":[\"100.00%  131.900      1 -total\",\" 79.39%  104.713      3 Template:Cite_web\",\"  6.01%    7.927      1 Template:Col-2\",\"  3.87%    5.109      1 Template:Col-begin\",\"  3.07%    4.052      1 Template:Canadian_postal_codes\",\"  1.25%    1.652      1 Template:Col-break\",\"  1.22%    1.605      2 Template:Col-end\"]},\"scribunto\":{\"limitreport-timeusage\":{\"value\":\"0.064\",\"limit\":\"10.000\"},\"limitreport-memusage\":{\"value\":1725791,\"limit\":52428800}},\"cachereport\":{\"origin\":\"mw1272\",\"timestamp\":\"20181010150622\",\"ttl\":1900800,\"transientcontent\":false}}});mw.config.set({\"wgBackendResponseTime\":89,\"wgHostname\":\"mw1323\"});});\\n  </script>\\n </body>\\n</html>\\n'"
      ]
     },
     "execution_count": 3,
     "metadata": {},
     "output_type": "execute_result"
    }
   ],
   "source": [
    "soap = BeautifulSoup(results,'lxml')\n",
    "soap.prettify()"
   ]
  },
  {
   "cell_type": "code",
   "execution_count": 4,
   "metadata": {},
   "outputs": [
    {
     "name": "stdout",
     "output_type": "stream",
     "text": [
      "total number of postal code records including Not Assigned :  289.0\n"
     ]
    }
   ],
   "source": [
    "data = soap.find('table',{'class':'wikitable sortable'}).findAll('td')\n",
    "print('total number of postal code records including Not Assigned : ', len(data)/3)"
   ]
  },
  {
   "cell_type": "code",
   "execution_count": 5,
   "metadata": {},
   "outputs": [
    {
     "name": "stdout",
     "output_type": "stream",
     "text": [
      "Extracting values from data is done\n"
     ]
    }
   ],
   "source": [
    "postal_code = []\n",
    "borough = []\n",
    "neighborhood = []\n",
    "i=0\n",
    "while i < len(data):\n",
    "    if (data[i+1].find('a')) is not None:\n",
    "        if data[i].contents[0] in postal_code:\n",
    "            index = postal_code.index(data[i].contents[0])\n",
    "            neighborhood[index] = neighborhood[index] + ', ' + data[i+2].find('a').get('title') if data[i+2].find('a') else data[i+1].find('a').get('title')\n",
    "        else:\n",
    "            postal_code.append(data[i].contents[0])\n",
    "            borough.append(data[i+1].find('a').get('title'))\n",
    "            neighborhood.append(data[i+2].find('a').get('title') if data[i+2].find('a') else data[i+1].find('a').get('title'))\n",
    "    i = i+3\n",
    "print('Extracting values from data is done')        "
   ]
  },
  {
   "cell_type": "code",
   "execution_count": 6,
   "metadata": {},
   "outputs": [
    {
     "data": {
      "text/plain": [
       "(100, 3)"
      ]
     },
     "execution_count": 6,
     "metadata": {},
     "output_type": "execute_result"
    }
   ],
   "source": [
    "postal_data = pd.DataFrame()\n",
    "postal_data['PostalCode'] = postal_code\n",
    "postal_data['Borough'] = borough\n",
    "postal_data['Neighborhood'] = neighborhood\n",
    "postal_data.shape"
   ]
  },
  {
   "cell_type": "code",
   "execution_count": 7,
   "metadata": {},
   "outputs": [
    {
     "data": {
      "text/html": [
       "<div>\n",
       "<style scoped>\n",
       "    .dataframe tbody tr th:only-of-type {\n",
       "        vertical-align: middle;\n",
       "    }\n",
       "\n",
       "    .dataframe tbody tr th {\n",
       "        vertical-align: top;\n",
       "    }\n",
       "\n",
       "    .dataframe thead th {\n",
       "        text-align: right;\n",
       "    }\n",
       "</style>\n",
       "<table border=\"1\" class=\"dataframe\">\n",
       "  <thead>\n",
       "    <tr style=\"text-align: right;\">\n",
       "      <th></th>\n",
       "      <th>PostalCode</th>\n",
       "      <th>Borough</th>\n",
       "      <th>Neighborhood</th>\n",
       "    </tr>\n",
       "  </thead>\n",
       "  <tbody>\n",
       "    <tr>\n",
       "      <th>0</th>\n",
       "      <td>M3A</td>\n",
       "      <td>North York</td>\n",
       "      <td>Parkwoods</td>\n",
       "    </tr>\n",
       "    <tr>\n",
       "      <th>1</th>\n",
       "      <td>M4A</td>\n",
       "      <td>North York</td>\n",
       "      <td>Victoria Village</td>\n",
       "    </tr>\n",
       "    <tr>\n",
       "      <th>2</th>\n",
       "      <td>M5A</td>\n",
       "      <td>Downtown Toronto</td>\n",
       "      <td>Harbourfront (Toronto), Regent Park</td>\n",
       "    </tr>\n",
       "    <tr>\n",
       "      <th>3</th>\n",
       "      <td>M6A</td>\n",
       "      <td>North York</td>\n",
       "      <td>Lawrence Heights, Lawrence Manor</td>\n",
       "    </tr>\n",
       "    <tr>\n",
       "      <th>4</th>\n",
       "      <td>M7A</td>\n",
       "      <td>Queen's Park (Toronto)</td>\n",
       "      <td>Queen's Park (Toronto)</td>\n",
       "    </tr>\n",
       "  </tbody>\n",
       "</table>\n",
       "</div>"
      ],
      "text/plain": [
       "  PostalCode                 Borough                         Neighborhood\n",
       "0        M3A              North York                            Parkwoods\n",
       "1        M4A              North York                     Victoria Village\n",
       "2        M5A        Downtown Toronto  Harbourfront (Toronto), Regent Park\n",
       "3        M6A              North York     Lawrence Heights, Lawrence Manor\n",
       "4        M7A  Queen's Park (Toronto)               Queen's Park (Toronto)"
      ]
     },
     "execution_count": 7,
     "metadata": {},
     "output_type": "execute_result"
    }
   ],
   "source": [
    "postal_data.head()"
   ]
  },
  {
   "cell_type": "code",
   "execution_count": 8,
   "metadata": {},
   "outputs": [
    {
     "data": {
      "text/plain": [
       "84    Downtown Toronto, King and Spadina, Railway La...\n",
       "Name: Neighborhood, dtype: object"
      ]
     },
     "execution_count": 8,
     "metadata": {},
     "output_type": "execute_result"
    }
   ],
   "source": [
    "postal_data[postal_data['PostalCode'] == 'M5V']['Neighborhood']"
   ]
  },
  {
   "cell_type": "code",
   "execution_count": 9,
   "metadata": {},
   "outputs": [
    {
     "name": "stdout",
     "output_type": "stream",
     "text": [
      "total unique postal values : 103\n"
     ]
    },
    {
     "data": {
      "text/html": [
       "<div>\n",
       "<style scoped>\n",
       "    .dataframe tbody tr th:only-of-type {\n",
       "        vertical-align: middle;\n",
       "    }\n",
       "\n",
       "    .dataframe tbody tr th {\n",
       "        vertical-align: top;\n",
       "    }\n",
       "\n",
       "    .dataframe thead th {\n",
       "        text-align: right;\n",
       "    }\n",
       "</style>\n",
       "<table border=\"1\" class=\"dataframe\">\n",
       "  <thead>\n",
       "    <tr style=\"text-align: right;\">\n",
       "      <th></th>\n",
       "      <th>Postal Code</th>\n",
       "      <th>Latitude</th>\n",
       "      <th>Longitude</th>\n",
       "    </tr>\n",
       "  </thead>\n",
       "  <tbody>\n",
       "    <tr>\n",
       "      <th>0</th>\n",
       "      <td>M1B</td>\n",
       "      <td>43.806686</td>\n",
       "      <td>-79.194353</td>\n",
       "    </tr>\n",
       "    <tr>\n",
       "      <th>1</th>\n",
       "      <td>M1C</td>\n",
       "      <td>43.784535</td>\n",
       "      <td>-79.160497</td>\n",
       "    </tr>\n",
       "    <tr>\n",
       "      <th>2</th>\n",
       "      <td>M1E</td>\n",
       "      <td>43.763573</td>\n",
       "      <td>-79.188711</td>\n",
       "    </tr>\n",
       "    <tr>\n",
       "      <th>3</th>\n",
       "      <td>M1G</td>\n",
       "      <td>43.770992</td>\n",
       "      <td>-79.216917</td>\n",
       "    </tr>\n",
       "    <tr>\n",
       "      <th>4</th>\n",
       "      <td>M1H</td>\n",
       "      <td>43.773136</td>\n",
       "      <td>-79.239476</td>\n",
       "    </tr>\n",
       "  </tbody>\n",
       "</table>\n",
       "</div>"
      ],
      "text/plain": [
       "  Postal Code   Latitude  Longitude\n",
       "0         M1B  43.806686 -79.194353\n",
       "1         M1C  43.784535 -79.160497\n",
       "2         M1E  43.763573 -79.188711\n",
       "3         M1G  43.770992 -79.216917\n",
       "4         M1H  43.773136 -79.239476"
      ]
     },
     "execution_count": 9,
     "metadata": {},
     "output_type": "execute_result"
    }
   ],
   "source": [
    "lon_lat = pd.read_csv('Geospatial_Coordinates.csv')\n",
    "print('total unique postal values :', lon_lat['Postal Code'].nunique())\n",
    "lon_lat.head()"
   ]
  },
  {
   "cell_type": "code",
   "execution_count": 10,
   "metadata": {},
   "outputs": [
    {
     "data": {
      "text/html": [
       "<div>\n",
       "<style scoped>\n",
       "    .dataframe tbody tr th:only-of-type {\n",
       "        vertical-align: middle;\n",
       "    }\n",
       "\n",
       "    .dataframe tbody tr th {\n",
       "        vertical-align: top;\n",
       "    }\n",
       "\n",
       "    .dataframe thead th {\n",
       "        text-align: right;\n",
       "    }\n",
       "</style>\n",
       "<table border=\"1\" class=\"dataframe\">\n",
       "  <thead>\n",
       "    <tr style=\"text-align: right;\">\n",
       "      <th></th>\n",
       "      <th>PostalCode</th>\n",
       "      <th>Borough</th>\n",
       "      <th>Neighborhood</th>\n",
       "      <th>Latitude</th>\n",
       "      <th>Longitude</th>\n",
       "    </tr>\n",
       "  </thead>\n",
       "  <tbody>\n",
       "    <tr>\n",
       "      <th>0</th>\n",
       "      <td>M3A</td>\n",
       "      <td>North York</td>\n",
       "      <td>Parkwoods</td>\n",
       "      <td>43.753259</td>\n",
       "      <td>-79.329656</td>\n",
       "    </tr>\n",
       "    <tr>\n",
       "      <th>1</th>\n",
       "      <td>M4A</td>\n",
       "      <td>North York</td>\n",
       "      <td>Victoria Village</td>\n",
       "      <td>43.725882</td>\n",
       "      <td>-79.315572</td>\n",
       "    </tr>\n",
       "    <tr>\n",
       "      <th>2</th>\n",
       "      <td>M5A</td>\n",
       "      <td>Downtown Toronto</td>\n",
       "      <td>Harbourfront (Toronto), Regent Park</td>\n",
       "      <td>43.654260</td>\n",
       "      <td>-79.360636</td>\n",
       "    </tr>\n",
       "    <tr>\n",
       "      <th>3</th>\n",
       "      <td>M6A</td>\n",
       "      <td>North York</td>\n",
       "      <td>Lawrence Heights, Lawrence Manor</td>\n",
       "      <td>43.718518</td>\n",
       "      <td>-79.464763</td>\n",
       "    </tr>\n",
       "    <tr>\n",
       "      <th>4</th>\n",
       "      <td>M7A</td>\n",
       "      <td>Queen's Park (Toronto)</td>\n",
       "      <td>Queen's Park (Toronto)</td>\n",
       "      <td>43.662301</td>\n",
       "      <td>-79.389494</td>\n",
       "    </tr>\n",
       "    <tr>\n",
       "      <th>5</th>\n",
       "      <td>M9A</td>\n",
       "      <td>Etobicoke</td>\n",
       "      <td>Islington Avenue</td>\n",
       "      <td>43.667856</td>\n",
       "      <td>-79.532242</td>\n",
       "    </tr>\n",
       "    <tr>\n",
       "      <th>6</th>\n",
       "      <td>M1B</td>\n",
       "      <td>Scarborough, Toronto</td>\n",
       "      <td>Rouge, Toronto, Malvern, Toronto</td>\n",
       "      <td>43.806686</td>\n",
       "      <td>-79.194353</td>\n",
       "    </tr>\n",
       "    <tr>\n",
       "      <th>7</th>\n",
       "      <td>M3B</td>\n",
       "      <td>North York</td>\n",
       "      <td>North York</td>\n",
       "      <td>43.745906</td>\n",
       "      <td>-79.352188</td>\n",
       "    </tr>\n",
       "    <tr>\n",
       "      <th>8</th>\n",
       "      <td>M4B</td>\n",
       "      <td>East York</td>\n",
       "      <td>Woodbine Gardens, Parkview Hill</td>\n",
       "      <td>43.706397</td>\n",
       "      <td>-79.309937</td>\n",
       "    </tr>\n",
       "    <tr>\n",
       "      <th>9</th>\n",
       "      <td>M5B</td>\n",
       "      <td>Downtown Toronto</td>\n",
       "      <td>Downtown Toronto</td>\n",
       "      <td>43.657162</td>\n",
       "      <td>-79.378937</td>\n",
       "    </tr>\n",
       "  </tbody>\n",
       "</table>\n",
       "</div>"
      ],
      "text/plain": [
       "  PostalCode                 Borough                         Neighborhood  \\\n",
       "0        M3A              North York                            Parkwoods   \n",
       "1        M4A              North York                     Victoria Village   \n",
       "2        M5A        Downtown Toronto  Harbourfront (Toronto), Regent Park   \n",
       "3        M6A              North York     Lawrence Heights, Lawrence Manor   \n",
       "4        M7A  Queen's Park (Toronto)               Queen's Park (Toronto)   \n",
       "5        M9A               Etobicoke                     Islington Avenue   \n",
       "6        M1B    Scarborough, Toronto     Rouge, Toronto, Malvern, Toronto   \n",
       "7        M3B              North York                           North York   \n",
       "8        M4B               East York      Woodbine Gardens, Parkview Hill   \n",
       "9        M5B        Downtown Toronto                     Downtown Toronto   \n",
       "\n",
       "    Latitude  Longitude  \n",
       "0  43.753259 -79.329656  \n",
       "1  43.725882 -79.315572  \n",
       "2  43.654260 -79.360636  \n",
       "3  43.718518 -79.464763  \n",
       "4  43.662301 -79.389494  \n",
       "5  43.667856 -79.532242  \n",
       "6  43.806686 -79.194353  \n",
       "7  43.745906 -79.352188  \n",
       "8  43.706397 -79.309937  \n",
       "9  43.657162 -79.378937  "
      ]
     },
     "execution_count": 10,
     "metadata": {},
     "output_type": "execute_result"
    }
   ],
   "source": [
    "latitude = []\n",
    "longitude = []\n",
    "postal = postal_data['PostalCode'].values\n",
    "for value in postal:\n",
    "    temp = lon_lat[lon_lat['Postal Code'] == value]\n",
    "    latitude.append(temp['Latitude'].values[0])\n",
    "    longitude.append(temp['Longitude'].values[0])\n",
    "    \n",
    "postal_data['Latitude'] = latitude\n",
    "postal_data['Longitude'] = longitude\n",
    "\n",
    "postal_data.head(10)"
   ]
  },
  {
   "cell_type": "code",
   "execution_count": 11,
   "metadata": {},
   "outputs": [
    {
     "name": "stdout",
     "output_type": "stream",
     "text": [
      "(56, 5)\n"
     ]
    },
    {
     "data": {
      "text/html": [
       "<div>\n",
       "<style scoped>\n",
       "    .dataframe tbody tr th:only-of-type {\n",
       "        vertical-align: middle;\n",
       "    }\n",
       "\n",
       "    .dataframe tbody tr th {\n",
       "        vertical-align: top;\n",
       "    }\n",
       "\n",
       "    .dataframe thead th {\n",
       "        text-align: right;\n",
       "    }\n",
       "</style>\n",
       "<table border=\"1\" class=\"dataframe\">\n",
       "  <thead>\n",
       "    <tr style=\"text-align: right;\">\n",
       "      <th></th>\n",
       "      <th>PostalCode</th>\n",
       "      <th>Borough</th>\n",
       "      <th>Neighborhood</th>\n",
       "      <th>Latitude</th>\n",
       "      <th>Longitude</th>\n",
       "    </tr>\n",
       "  </thead>\n",
       "  <tbody>\n",
       "    <tr>\n",
       "      <th>75</th>\n",
       "      <td>M1S</td>\n",
       "      <td>Scarborough, Toronto</td>\n",
       "      <td>Agincourt, Toronto</td>\n",
       "      <td>43.794200</td>\n",
       "      <td>-79.262029</td>\n",
       "    </tr>\n",
       "    <tr>\n",
       "      <th>19</th>\n",
       "      <td>M5E</td>\n",
       "      <td>Downtown Toronto</td>\n",
       "      <td>Berczy Park</td>\n",
       "      <td>43.644771</td>\n",
       "      <td>-79.373306</td>\n",
       "    </tr>\n",
       "    <tr>\n",
       "      <th>93</th>\n",
       "      <td>M4X</td>\n",
       "      <td>Downtown Toronto</td>\n",
       "      <td>Cabbagetown, Toronto, St. James Town</td>\n",
       "      <td>43.667967</td>\n",
       "      <td>-79.367675</td>\n",
       "    </tr>\n",
       "    <tr>\n",
       "      <th>76</th>\n",
       "      <td>M4S</td>\n",
       "      <td>Central Toronto</td>\n",
       "      <td>Central Toronto</td>\n",
       "      <td>43.704324</td>\n",
       "      <td>-79.388790</td>\n",
       "    </tr>\n",
       "    <tr>\n",
       "      <th>65</th>\n",
       "      <td>M4P</td>\n",
       "      <td>Central Toronto</td>\n",
       "      <td>Central Toronto</td>\n",
       "      <td>43.712751</td>\n",
       "      <td>-79.390197</td>\n",
       "    </tr>\n",
       "  </tbody>\n",
       "</table>\n",
       "</div>"
      ],
      "text/plain": [
       "   PostalCode               Borough                          Neighborhood  \\\n",
       "75        M1S  Scarborough, Toronto                    Agincourt, Toronto   \n",
       "19        M5E      Downtown Toronto                           Berczy Park   \n",
       "93        M4X      Downtown Toronto  Cabbagetown, Toronto, St. James Town   \n",
       "76        M4S       Central Toronto                       Central Toronto   \n",
       "65        M4P       Central Toronto                       Central Toronto   \n",
       "\n",
       "     Latitude  Longitude  \n",
       "75  43.794200 -79.262029  \n",
       "19  43.644771 -79.373306  \n",
       "93  43.667967 -79.367675  \n",
       "76  43.704324 -79.388790  \n",
       "65  43.712751 -79.390197  "
      ]
     },
     "execution_count": 11,
     "metadata": {},
     "output_type": "execute_result"
    }
   ],
   "source": [
    "Toronto = postal_data[postal_data['Borough'].str.contains('Toronto')]\n",
    "Toronto = Toronto.sort_values(by=['Neighborhood'])\n",
    "print(Toronto.shape)\n",
    "Toronto.head()"
   ]
  },
  {
   "cell_type": "code",
   "execution_count": 12,
   "metadata": {},
   "outputs": [
    {
     "data": {
      "text/plain": [
       "(56, 5)"
      ]
     },
     "execution_count": 12,
     "metadata": {},
     "output_type": "execute_result"
    }
   ],
   "source": [
    "#Toronto['Longitude'].nunique()\n",
    "x = Toronto.groupby(['Neighborhood','Latitude','Longitude']).count().reset_index()\n",
    "x.shape"
   ]
  },
  {
   "cell_type": "code",
   "execution_count": 13,
   "metadata": {},
   "outputs": [],
   "source": [
    "CLIENT_ID = 'SO1C150DV4X5TTIF0STVVODGYUDAFV3ZICKZQXAHECMZV41K' # your Foursquare ID\n",
    "CLIENT_SECRET = 'UNS3NE2PQC5YCXSEH5TBWVRGCRZ5IVIT4B4ATLO2WOEXL0L3' # your Foursquare Secret\n",
    "VERSION = '20180605' # Foursquare API version\n",
    "LIMIT = 100\n",
    "radius = 500\n",
    "\n",
    "\n",
    "def getNearbyVenues(names, latitudes, longitudes, radius=500):\n",
    "    \n",
    "    venues_list=[]\n",
    "    for name, lat, lng in zip(names, latitudes, longitudes):\n",
    "        #print(name)\n",
    "            \n",
    "        # create the API request URL\n",
    "        url = 'https://api.foursquare.com/v2/venues/explore?&client_id={}&client_secret={}&v={}&ll={},{}&radius={}&limit={}'.format(\n",
    "            CLIENT_ID, \n",
    "            CLIENT_SECRET, \n",
    "            VERSION, \n",
    "            lat, \n",
    "            lng, \n",
    "            radius, \n",
    "            LIMIT)\n",
    "            \n",
    "        # make the GET request\n",
    "        results = None\n",
    "        results = requests.get(url).json()[\"response\"]['groups'][0]['items']\n",
    "        \n",
    "        if results is None:\n",
    "            print('None result is :',name)\n",
    "        \n",
    "        # return only relevant information for each nearby venue\n",
    "        venues_list.append([(\n",
    "            name, \n",
    "            lat, \n",
    "            lng, \n",
    "            v['venue']['name'], \n",
    "            v['venue']['location']['lat'], \n",
    "            v['venue']['location']['lng'],  \n",
    "            v['venue']['categories'][0]['name']) for v in results])\n",
    "\n",
    "    nearby_venues = pd.DataFrame([item for venue_list in venues_list for item in venue_list])\n",
    "    nearby_venues.columns = ['Neighborhood', \n",
    "                  'Neighborhood Latitude', \n",
    "                  'Neighborhood Longitude', \n",
    "                  'Venue', \n",
    "                  'Venue Latitude', \n",
    "                  'Venue Longitude', \n",
    "                  'Venue Category']\n",
    "    \n",
    "    return(nearby_venues)"
   ]
  },
  {
   "cell_type": "code",
   "execution_count": 14,
   "metadata": {},
   "outputs": [
    {
     "data": {
      "text/html": [
       "<div>\n",
       "<style scoped>\n",
       "    .dataframe tbody tr th:only-of-type {\n",
       "        vertical-align: middle;\n",
       "    }\n",
       "\n",
       "    .dataframe tbody tr th {\n",
       "        vertical-align: top;\n",
       "    }\n",
       "\n",
       "    .dataframe thead th {\n",
       "        text-align: right;\n",
       "    }\n",
       "</style>\n",
       "<table border=\"1\" class=\"dataframe\">\n",
       "  <thead>\n",
       "    <tr style=\"text-align: right;\">\n",
       "      <th></th>\n",
       "      <th>Neighborhood</th>\n",
       "      <th>Neighborhood Latitude</th>\n",
       "      <th>Neighborhood Longitude</th>\n",
       "      <th>Venue</th>\n",
       "      <th>Venue Latitude</th>\n",
       "      <th>Venue Longitude</th>\n",
       "      <th>Venue Category</th>\n",
       "    </tr>\n",
       "  </thead>\n",
       "  <tbody>\n",
       "    <tr>\n",
       "      <th>0</th>\n",
       "      <td>Agincourt, Toronto</td>\n",
       "      <td>43.794200</td>\n",
       "      <td>-79.262029</td>\n",
       "      <td>Panagio's Breakfast &amp; Lunch</td>\n",
       "      <td>43.792370</td>\n",
       "      <td>-79.260203</td>\n",
       "      <td>Breakfast Spot</td>\n",
       "    </tr>\n",
       "    <tr>\n",
       "      <th>1</th>\n",
       "      <td>Agincourt, Toronto</td>\n",
       "      <td>43.794200</td>\n",
       "      <td>-79.262029</td>\n",
       "      <td>Twilight</td>\n",
       "      <td>43.791999</td>\n",
       "      <td>-79.258584</td>\n",
       "      <td>Lounge</td>\n",
       "    </tr>\n",
       "    <tr>\n",
       "      <th>2</th>\n",
       "      <td>Agincourt, Toronto</td>\n",
       "      <td>43.794200</td>\n",
       "      <td>-79.262029</td>\n",
       "      <td>Mark's</td>\n",
       "      <td>43.791179</td>\n",
       "      <td>-79.259714</td>\n",
       "      <td>Clothing Store</td>\n",
       "    </tr>\n",
       "    <tr>\n",
       "      <th>3</th>\n",
       "      <td>Agincourt, Toronto</td>\n",
       "      <td>43.794200</td>\n",
       "      <td>-79.262029</td>\n",
       "      <td>Commander Arena</td>\n",
       "      <td>43.794867</td>\n",
       "      <td>-79.267989</td>\n",
       "      <td>Skating Rink</td>\n",
       "    </tr>\n",
       "    <tr>\n",
       "      <th>4</th>\n",
       "      <td>Berczy Park</td>\n",
       "      <td>43.644771</td>\n",
       "      <td>-79.373306</td>\n",
       "      <td>LCBO</td>\n",
       "      <td>43.642944</td>\n",
       "      <td>-79.372440</td>\n",
       "      <td>Liquor Store</td>\n",
       "    </tr>\n",
       "  </tbody>\n",
       "</table>\n",
       "</div>"
      ],
      "text/plain": [
       "         Neighborhood  Neighborhood Latitude  Neighborhood Longitude  \\\n",
       "0  Agincourt, Toronto              43.794200              -79.262029   \n",
       "1  Agincourt, Toronto              43.794200              -79.262029   \n",
       "2  Agincourt, Toronto              43.794200              -79.262029   \n",
       "3  Agincourt, Toronto              43.794200              -79.262029   \n",
       "4         Berczy Park              43.644771              -79.373306   \n",
       "\n",
       "                         Venue  Venue Latitude  Venue Longitude  \\\n",
       "0  Panagio's Breakfast & Lunch       43.792370       -79.260203   \n",
       "1                     Twilight       43.791999       -79.258584   \n",
       "2                       Mark's       43.791179       -79.259714   \n",
       "3              Commander Arena       43.794867       -79.267989   \n",
       "4                         LCBO       43.642944       -79.372440   \n",
       "\n",
       "   Venue Category  \n",
       "0  Breakfast Spot  \n",
       "1          Lounge  \n",
       "2  Clothing Store  \n",
       "3    Skating Rink  \n",
       "4    Liquor Store  "
      ]
     },
     "execution_count": 14,
     "metadata": {},
     "output_type": "execute_result"
    }
   ],
   "source": [
    "toronto_venues = getNearbyVenues(names=Toronto['Neighborhood'].values,\n",
    "                                   latitudes=Toronto['Latitude'].values,\n",
    "                                   longitudes=Toronto['Longitude'].values\n",
    "                                  )\n",
    "toronto_venues.head()"
   ]
  },
  {
   "cell_type": "code",
   "execution_count": 15,
   "metadata": {},
   "outputs": [
    {
     "data": {
      "text/plain": [
       "(1833, 7)"
      ]
     },
     "execution_count": 15,
     "metadata": {},
     "output_type": "execute_result"
    }
   ],
   "source": [
    "toronto_venues.shape"
   ]
  },
  {
   "cell_type": "code",
   "execution_count": 16,
   "metadata": {},
   "outputs": [
    {
     "data": {
      "text/plain": [
       "(1833, 244)"
      ]
     },
     "execution_count": 16,
     "metadata": {},
     "output_type": "execute_result"
    }
   ],
   "source": [
    "# one hot encoding\n",
    "toronto_onehot = pd.get_dummies(toronto_venues[['Venue Category']], prefix=\"\", prefix_sep=\"\")\n",
    "# add neighborhood column back to dataframe\n",
    "toronto_onehot['Neighborhood'] = toronto_venues['Neighborhood'] \n",
    "toronto_onehot['Neighborhood Latitude'] = toronto_venues['Neighborhood Latitude']\n",
    "toronto_onehot['Neighborhood Longitude'] = toronto_venues['Neighborhood Longitude'] \n",
    "# move neighborhood column to the first column\n",
    "fixed_columns = ['Neighborhood'] + list(col for col in toronto_onehot.columns if col != 'Neighborhood')\n",
    "\n",
    "toronto_onehot = toronto_onehot[fixed_columns]\n",
    "\n",
    "toronto_onehot.shape"
   ]
  },
  {
   "cell_type": "markdown",
   "metadata": {},
   "source": [
    "Grouped by 'Neighborhood','Neighborhood Latitude','Neighborhood Longitude' because we have few cases where for a given Neighborhood we have multiple Latitude and Longitude"
   ]
  },
  {
   "cell_type": "code",
   "execution_count": 17,
   "metadata": {},
   "outputs": [
    {
     "name": "stdout",
     "output_type": "stream",
     "text": [
      "(55, 244)\n"
     ]
    },
    {
     "data": {
      "text/html": [
       "<div>\n",
       "<style scoped>\n",
       "    .dataframe tbody tr th:only-of-type {\n",
       "        vertical-align: middle;\n",
       "    }\n",
       "\n",
       "    .dataframe tbody tr th {\n",
       "        vertical-align: top;\n",
       "    }\n",
       "\n",
       "    .dataframe thead th {\n",
       "        text-align: right;\n",
       "    }\n",
       "</style>\n",
       "<table border=\"1\" class=\"dataframe\">\n",
       "  <thead>\n",
       "    <tr style=\"text-align: right;\">\n",
       "      <th></th>\n",
       "      <th>Neighborhood</th>\n",
       "      <th>Neighborhood Latitude</th>\n",
       "      <th>Neighborhood Longitude</th>\n",
       "      <th>Accessories Store</th>\n",
       "      <th>Adult Boutique</th>\n",
       "      <th>Afghan Restaurant</th>\n",
       "      <th>Airport</th>\n",
       "      <th>Airport Food Court</th>\n",
       "      <th>Airport Gate</th>\n",
       "      <th>Airport Lounge</th>\n",
       "      <th>...</th>\n",
       "      <th>Thrift / Vintage Store</th>\n",
       "      <th>Toy / Game Store</th>\n",
       "      <th>Trail</th>\n",
       "      <th>Train Station</th>\n",
       "      <th>Vegetarian / Vegan Restaurant</th>\n",
       "      <th>Video Game Store</th>\n",
       "      <th>Vietnamese Restaurant</th>\n",
       "      <th>Wine Bar</th>\n",
       "      <th>Women's Store</th>\n",
       "      <th>Yoga Studio</th>\n",
       "    </tr>\n",
       "  </thead>\n",
       "  <tbody>\n",
       "    <tr>\n",
       "      <th>0</th>\n",
       "      <td>Agincourt, Toronto</td>\n",
       "      <td>43.794200</td>\n",
       "      <td>-79.262029</td>\n",
       "      <td>0.0</td>\n",
       "      <td>0.0</td>\n",
       "      <td>0.0</td>\n",
       "      <td>0.0</td>\n",
       "      <td>0.0</td>\n",
       "      <td>0.0</td>\n",
       "      <td>0.0</td>\n",
       "      <td>...</td>\n",
       "      <td>0.0</td>\n",
       "      <td>0.0</td>\n",
       "      <td>0.0</td>\n",
       "      <td>0.0</td>\n",
       "      <td>0.0</td>\n",
       "      <td>0.0</td>\n",
       "      <td>0.000000</td>\n",
       "      <td>0.0</td>\n",
       "      <td>0.0</td>\n",
       "      <td>0.0</td>\n",
       "    </tr>\n",
       "    <tr>\n",
       "      <th>1</th>\n",
       "      <td>Berczy Park</td>\n",
       "      <td>43.644771</td>\n",
       "      <td>-79.373306</td>\n",
       "      <td>0.0</td>\n",
       "      <td>0.0</td>\n",
       "      <td>0.0</td>\n",
       "      <td>0.0</td>\n",
       "      <td>0.0</td>\n",
       "      <td>0.0</td>\n",
       "      <td>0.0</td>\n",
       "      <td>...</td>\n",
       "      <td>0.0</td>\n",
       "      <td>0.0</td>\n",
       "      <td>0.0</td>\n",
       "      <td>0.0</td>\n",
       "      <td>0.0</td>\n",
       "      <td>0.0</td>\n",
       "      <td>0.000000</td>\n",
       "      <td>0.0</td>\n",
       "      <td>0.0</td>\n",
       "      <td>0.0</td>\n",
       "    </tr>\n",
       "    <tr>\n",
       "      <th>2</th>\n",
       "      <td>Cabbagetown, Toronto, St. James Town</td>\n",
       "      <td>43.667967</td>\n",
       "      <td>-79.367675</td>\n",
       "      <td>0.0</td>\n",
       "      <td>0.0</td>\n",
       "      <td>0.0</td>\n",
       "      <td>0.0</td>\n",
       "      <td>0.0</td>\n",
       "      <td>0.0</td>\n",
       "      <td>0.0</td>\n",
       "      <td>...</td>\n",
       "      <td>0.0</td>\n",
       "      <td>0.0</td>\n",
       "      <td>0.0</td>\n",
       "      <td>0.0</td>\n",
       "      <td>0.0</td>\n",
       "      <td>0.0</td>\n",
       "      <td>0.000000</td>\n",
       "      <td>0.0</td>\n",
       "      <td>0.0</td>\n",
       "      <td>0.0</td>\n",
       "    </tr>\n",
       "    <tr>\n",
       "      <th>3</th>\n",
       "      <td>Central Toronto</td>\n",
       "      <td>43.686412</td>\n",
       "      <td>-79.400049</td>\n",
       "      <td>0.0</td>\n",
       "      <td>0.0</td>\n",
       "      <td>0.0</td>\n",
       "      <td>0.0</td>\n",
       "      <td>0.0</td>\n",
       "      <td>0.0</td>\n",
       "      <td>0.0</td>\n",
       "      <td>...</td>\n",
       "      <td>0.0</td>\n",
       "      <td>0.0</td>\n",
       "      <td>0.0</td>\n",
       "      <td>0.0</td>\n",
       "      <td>0.0</td>\n",
       "      <td>0.0</td>\n",
       "      <td>0.071429</td>\n",
       "      <td>0.0</td>\n",
       "      <td>0.0</td>\n",
       "      <td>0.0</td>\n",
       "    </tr>\n",
       "    <tr>\n",
       "      <th>4</th>\n",
       "      <td>Central Toronto</td>\n",
       "      <td>43.689574</td>\n",
       "      <td>-79.383160</td>\n",
       "      <td>0.0</td>\n",
       "      <td>0.0</td>\n",
       "      <td>0.0</td>\n",
       "      <td>0.0</td>\n",
       "      <td>0.0</td>\n",
       "      <td>0.0</td>\n",
       "      <td>0.0</td>\n",
       "      <td>...</td>\n",
       "      <td>0.0</td>\n",
       "      <td>0.0</td>\n",
       "      <td>0.2</td>\n",
       "      <td>0.0</td>\n",
       "      <td>0.0</td>\n",
       "      <td>0.0</td>\n",
       "      <td>0.000000</td>\n",
       "      <td>0.0</td>\n",
       "      <td>0.0</td>\n",
       "      <td>0.0</td>\n",
       "    </tr>\n",
       "  </tbody>\n",
       "</table>\n",
       "<p>5 rows × 244 columns</p>\n",
       "</div>"
      ],
      "text/plain": [
       "                           Neighborhood  Neighborhood Latitude  \\\n",
       "0                    Agincourt, Toronto              43.794200   \n",
       "1                           Berczy Park              43.644771   \n",
       "2  Cabbagetown, Toronto, St. James Town              43.667967   \n",
       "3                       Central Toronto              43.686412   \n",
       "4                       Central Toronto              43.689574   \n",
       "\n",
       "   Neighborhood Longitude  Accessories Store  Adult Boutique  \\\n",
       "0              -79.262029                0.0             0.0   \n",
       "1              -79.373306                0.0             0.0   \n",
       "2              -79.367675                0.0             0.0   \n",
       "3              -79.400049                0.0             0.0   \n",
       "4              -79.383160                0.0             0.0   \n",
       "\n",
       "   Afghan Restaurant  Airport  Airport Food Court  Airport Gate  \\\n",
       "0                0.0      0.0                 0.0           0.0   \n",
       "1                0.0      0.0                 0.0           0.0   \n",
       "2                0.0      0.0                 0.0           0.0   \n",
       "3                0.0      0.0                 0.0           0.0   \n",
       "4                0.0      0.0                 0.0           0.0   \n",
       "\n",
       "   Airport Lounge     ...       Thrift / Vintage Store  Toy / Game Store  \\\n",
       "0             0.0     ...                          0.0               0.0   \n",
       "1             0.0     ...                          0.0               0.0   \n",
       "2             0.0     ...                          0.0               0.0   \n",
       "3             0.0     ...                          0.0               0.0   \n",
       "4             0.0     ...                          0.0               0.0   \n",
       "\n",
       "   Trail  Train Station  Vegetarian / Vegan Restaurant  Video Game Store  \\\n",
       "0    0.0            0.0                            0.0               0.0   \n",
       "1    0.0            0.0                            0.0               0.0   \n",
       "2    0.0            0.0                            0.0               0.0   \n",
       "3    0.0            0.0                            0.0               0.0   \n",
       "4    0.2            0.0                            0.0               0.0   \n",
       "\n",
       "   Vietnamese Restaurant  Wine Bar  Women's Store  Yoga Studio  \n",
       "0               0.000000       0.0            0.0          0.0  \n",
       "1               0.000000       0.0            0.0          0.0  \n",
       "2               0.000000       0.0            0.0          0.0  \n",
       "3               0.071429       0.0            0.0          0.0  \n",
       "4               0.000000       0.0            0.0          0.0  \n",
       "\n",
       "[5 rows x 244 columns]"
      ]
     },
     "execution_count": 17,
     "metadata": {},
     "output_type": "execute_result"
    }
   ],
   "source": [
    "toronto_grouped = toronto_onehot.groupby(['Neighborhood','Neighborhood Latitude','Neighborhood Longitude']).mean().reset_index()\n",
    "print(toronto_grouped.shape)\n",
    "toronto_grouped.head()"
   ]
  },
  {
   "cell_type": "markdown",
   "metadata": {},
   "source": [
    "Dividing the data into 5 clusters"
   ]
  },
  {
   "cell_type": "code",
   "execution_count": 45,
   "metadata": {},
   "outputs": [
    {
     "data": {
      "text/plain": [
       "array([0, 0, 0, 0, 0, 0, 0, 4, 0, 0])"
      ]
     },
     "execution_count": 45,
     "metadata": {},
     "output_type": "execute_result"
    }
   ],
   "source": [
    "kclusters = 5\n",
    "toronto_grouped_cluster = toronto_grouped.drop(['Neighborhood','Neighborhood Latitude','Neighborhood Longitude'], 1)\n",
    "\n",
    "# run k-means clustering\n",
    "kmeans = KMeans(n_clusters=kclusters, random_state=99).fit(toronto_grouped_cluster)\n",
    "\n",
    "# check cluster labels generated for each row in the dataframe\n",
    "kmeans.labels_[0:10] "
   ]
  },
  {
   "cell_type": "code",
   "execution_count": 46,
   "metadata": {},
   "outputs": [
    {
     "name": "stdout",
     "output_type": "stream",
     "text": [
      "The geograpical coordinate of Toronto are 43.653963, -79.387207.\n"
     ]
    }
   ],
   "source": [
    "address = 'Toronto, ON'\n",
    "\n",
    "geolocator = Nominatim()\n",
    "location = geolocator.geocode(address)\n",
    "latitude = location.latitude\n",
    "longitude = location.longitude\n",
    "print('The geograpical coordinate of Toronto are {}, {}.'.format(latitude, longitude))"
   ]
  },
  {
   "cell_type": "code",
   "execution_count": 47,
   "metadata": {},
   "outputs": [
    {
     "data": {
      "text/plain": [
       "55"
      ]
     },
     "execution_count": 47,
     "metadata": {},
     "output_type": "execute_result"
    }
   ],
   "source": [
    "len(kmeans.labels_)"
   ]
  },
  {
   "cell_type": "code",
   "execution_count": 48,
   "metadata": {},
   "outputs": [
    {
     "data": {
      "text/html": [
       "<div>\n",
       "<style scoped>\n",
       "    .dataframe tbody tr th:only-of-type {\n",
       "        vertical-align: middle;\n",
       "    }\n",
       "\n",
       "    .dataframe tbody tr th {\n",
       "        vertical-align: top;\n",
       "    }\n",
       "\n",
       "    .dataframe thead th {\n",
       "        text-align: right;\n",
       "    }\n",
       "</style>\n",
       "<table border=\"1\" class=\"dataframe\">\n",
       "  <thead>\n",
       "    <tr style=\"text-align: right;\">\n",
       "      <th></th>\n",
       "      <th>Neighborhood</th>\n",
       "      <th>Neighborhood Latitude</th>\n",
       "      <th>Neighborhood Longitude</th>\n",
       "      <th>Cluster Labels</th>\n",
       "    </tr>\n",
       "  </thead>\n",
       "  <tbody>\n",
       "    <tr>\n",
       "      <th>0</th>\n",
       "      <td>Agincourt, Toronto</td>\n",
       "      <td>43.794200</td>\n",
       "      <td>-79.262029</td>\n",
       "      <td>0</td>\n",
       "    </tr>\n",
       "    <tr>\n",
       "      <th>1</th>\n",
       "      <td>Berczy Park</td>\n",
       "      <td>43.644771</td>\n",
       "      <td>-79.373306</td>\n",
       "      <td>0</td>\n",
       "    </tr>\n",
       "    <tr>\n",
       "      <th>2</th>\n",
       "      <td>Cabbagetown, Toronto, St. James Town</td>\n",
       "      <td>43.667967</td>\n",
       "      <td>-79.367675</td>\n",
       "      <td>0</td>\n",
       "    </tr>\n",
       "    <tr>\n",
       "      <th>3</th>\n",
       "      <td>Central Toronto</td>\n",
       "      <td>43.686412</td>\n",
       "      <td>-79.400049</td>\n",
       "      <td>0</td>\n",
       "    </tr>\n",
       "    <tr>\n",
       "      <th>4</th>\n",
       "      <td>Central Toronto</td>\n",
       "      <td>43.689574</td>\n",
       "      <td>-79.383160</td>\n",
       "      <td>0</td>\n",
       "    </tr>\n",
       "  </tbody>\n",
       "</table>\n",
       "</div>"
      ],
      "text/plain": [
       "                           Neighborhood  Neighborhood Latitude  \\\n",
       "0                    Agincourt, Toronto              43.794200   \n",
       "1                           Berczy Park              43.644771   \n",
       "2  Cabbagetown, Toronto, St. James Town              43.667967   \n",
       "3                       Central Toronto              43.686412   \n",
       "4                       Central Toronto              43.689574   \n",
       "\n",
       "   Neighborhood Longitude  Cluster Labels  \n",
       "0              -79.262029               0  \n",
       "1              -79.373306               0  \n",
       "2              -79.367675               0  \n",
       "3              -79.400049               0  \n",
       "4              -79.383160               0  "
      ]
     },
     "execution_count": 48,
     "metadata": {},
     "output_type": "execute_result"
    }
   ],
   "source": [
    "toronto_merged = toronto_grouped[['Neighborhood','Neighborhood Latitude','Neighborhood Longitude']]\n",
    "\n",
    "# add clustering labels\n",
    "toronto_merged['Cluster Labels'] = kmeans.labels_\n",
    "toronto_merged.head()"
   ]
  },
  {
   "cell_type": "code",
   "execution_count": 58,
   "metadata": {},
   "outputs": [
    {
     "data": {
      "text/html": [
       "<div style=\"width:100%;\"><div style=\"position:relative;width:100%;height:0;padding-bottom:60%;\"><iframe src=\"data:text/html;charset=utf-8;base64,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\" style=\"position:absolute;width:100%;height:100%;left:0;top:0;border:none !important;\" allowfullscreen webkitallowfullscreen mozallowfullscreen></iframe></div></div>"
      ],
      "text/plain": [
       "<folium.folium.Map at 0x2918bbe79e8>"
      ]
     },
     "execution_count": 58,
     "metadata": {},
     "output_type": "execute_result"
    }
   ],
   "source": [
    "#create map\n",
    "#Zoom is 10 as 11 is missing few clusters in the image\n",
    "map_clusters = folium.Map(location=[latitude, longitude], zoom_start=10)\n",
    "\n",
    "# set color scheme for the clusters\n",
    "x = np.arange(kclusters)\n",
    "ys = [i+x+(i*x)**2 for i in range(kclusters)]\n",
    "colors_array = cm.rainbow(np.linspace(0, 1, len(ys)))\n",
    "rainbow = [colors.rgb2hex(i) for i in colors_array]\n",
    "\n",
    "# add markers to the map\n",
    "markers_colors = []\n",
    "for lat, lon, poi, cluster in zip(toronto_merged['Neighborhood Latitude'], toronto_merged['Neighborhood Longitude'], toronto_merged['Neighborhood'], toronto_merged['Cluster Labels']):\n",
    "    label = folium.Popup(str(poi) + ' Cluster ' + str(cluster), parse_html=True)\n",
    "    folium.CircleMarker(\n",
    "        [lat, lon],\n",
    "        radius=5,\n",
    "        popup=label,\n",
    "        color=rainbow[cluster-1],\n",
    "        fill=True,\n",
    "        fill_color=rainbow[cluster-1],\n",
    "        fill_opacity=0.7).add_to(map_clusters)\n",
    "       \n",
    "map_clusters"
   ]
  },
  {
   "cell_type": "code",
   "execution_count": 55,
   "metadata": {},
   "outputs": [
    {
     "data": {
      "text/plain": [
       "0    49\n",
       "2     3\n",
       "4     1\n",
       "3     1\n",
       "1     1\n",
       "Name: Cluster Labels, dtype: int64"
      ]
     },
     "execution_count": 55,
     "metadata": {},
     "output_type": "execute_result"
    }
   ],
   "source": [
    "toronto_merged['Cluster Labels'].value_counts()"
   ]
  },
  {
   "cell_type": "markdown",
   "metadata": {},
   "source": [
    "**Below are the Neighborhood outliers based on clustering**"
   ]
  },
  {
   "cell_type": "code",
   "execution_count": 56,
   "metadata": {},
   "outputs": [
    {
     "data": {
      "text/html": [
       "<div>\n",
       "<style scoped>\n",
       "    .dataframe tbody tr th:only-of-type {\n",
       "        vertical-align: middle;\n",
       "    }\n",
       "\n",
       "    .dataframe tbody tr th {\n",
       "        vertical-align: top;\n",
       "    }\n",
       "\n",
       "    .dataframe thead th {\n",
       "        text-align: right;\n",
       "    }\n",
       "</style>\n",
       "<table border=\"1\" class=\"dataframe\">\n",
       "  <thead>\n",
       "    <tr style=\"text-align: right;\">\n",
       "      <th></th>\n",
       "      <th>Neighborhood</th>\n",
       "      <th>Neighborhood Latitude</th>\n",
       "      <th>Neighborhood Longitude</th>\n",
       "      <th>Cluster Labels</th>\n",
       "    </tr>\n",
       "  </thead>\n",
       "  <tbody>\n",
       "    <tr>\n",
       "      <th>7</th>\n",
       "      <td>Central Toronto</td>\n",
       "      <td>43.711695</td>\n",
       "      <td>-79.416936</td>\n",
       "      <td>4</td>\n",
       "    </tr>\n",
       "    <tr>\n",
       "      <th>31</th>\n",
       "      <td>Highland Creek (Toronto), Rouge Hill, Port Uni...</td>\n",
       "      <td>43.784535</td>\n",
       "      <td>-79.160497</td>\n",
       "      <td>1</td>\n",
       "    </tr>\n",
       "    <tr>\n",
       "      <th>42</th>\n",
       "      <td>Scarborough, Toronto</td>\n",
       "      <td>43.716316</td>\n",
       "      <td>-79.239476</td>\n",
       "      <td>3</td>\n",
       "    </tr>\n",
       "  </tbody>\n",
       "</table>\n",
       "</div>"
      ],
      "text/plain": [
       "                                         Neighborhood  Neighborhood Latitude  \\\n",
       "7                                     Central Toronto              43.711695   \n",
       "31  Highland Creek (Toronto), Rouge Hill, Port Uni...              43.784535   \n",
       "42                               Scarborough, Toronto              43.716316   \n",
       "\n",
       "    Neighborhood Longitude  Cluster Labels  \n",
       "7               -79.416936               4  \n",
       "31              -79.160497               1  \n",
       "42              -79.239476               3  "
      ]
     },
     "execution_count": 56,
     "metadata": {},
     "output_type": "execute_result"
    }
   ],
   "source": [
    "toronto_merged.loc[toronto_merged['Cluster Labels'].isin([1,3,4])]"
   ]
  },
  {
   "cell_type": "code",
   "execution_count": null,
   "metadata": {},
   "outputs": [],
   "source": []
  }
 ],
 "metadata": {
  "kernelspec": {
   "display_name": "Python 3",
   "language": "python",
   "name": "python3"
  },
  "language_info": {
   "codemirror_mode": {
    "name": "ipython",
    "version": 3
   },
   "file_extension": ".py",
   "mimetype": "text/x-python",
   "name": "python",
   "nbconvert_exporter": "python",
   "pygments_lexer": "ipython3",
   "version": "3.5.5"
  }
 },
 "nbformat": 4,
 "nbformat_minor": 2
}
