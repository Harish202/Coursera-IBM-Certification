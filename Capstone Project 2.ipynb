{
 "cells": [
  {
   "cell_type": "markdown",
   "metadata": {},
   "source": [
    "**Importing required libraries**"
   ]
  },
  {
   "cell_type": "code",
   "execution_count": 1,
   "metadata": {},
   "outputs": [
    {
     "name": "stdout",
     "output_type": "stream",
     "text": [
      "done\n"
     ]
    }
   ],
   "source": [
    "import pandas as pd\n",
    "import numpy as np\n",
    "import folium\n",
    "import geocoder\n",
    "from geopy.geocoders import Nominatim\n",
    "import json\n",
    "from bs4 import BeautifulSoup\n",
    "import requests\n",
    "from sklearn.cluster import KMeans\n",
    "import matplotlib.cm as cm \n",
    "import matplotlib.colors as colors \n",
    "from pandas.io.json import json_normalize\n",
    "import warnings\n",
    "\n",
    "warnings.filterwarnings('ignore')\n",
    "print('done')"
   ]
  },
  {
   "cell_type": "code",
   "execution_count": 2,
   "metadata": {},
   "outputs": [],
   "source": [
    "url = 'https://en.wikipedia.org/wiki/List_of_postal_codes_of_Canada:_M'\n",
    "results = requests.get(url).text"
   ]
  },
  {
   "cell_type": "markdown",
   "metadata": {},
   "source": [
    "**Using BeautifulSoup to convert the request results into xml**"
   ]
  },
  {
   "cell_type": "code",
   "execution_count": 3,
   "metadata": {},
   "outputs": [
    {
     "data": {
      "text/plain": [
       "'<!DOCTYPE html>\\n<html class=\"client-nojs\" dir=\"ltr\" lang=\"en\">\\n <head>\\n  <meta charset=\"utf-8\"/>\\n  <title>\\n   List of postal codes of Canada: M - Wikipedia\\n  </title>\\n  <script>\\n   document.documentElement.className = document.documentElement.className.replace( /(^|\\\\s)client-nojs(\\\\s|$)/, \"$1client-js$2\" );\\n  </script>\\n  <script>\\n   (window.RLQ=window.RLQ||[]).push(function(){mw.config.set({\"wgCanonicalNamespace\":\"\",\"wgCanonicalSpecialPageName\":false,\"wgNamespaceNumber\":0,\"wgPageName\":\"List_of_postal_codes_of_Canada:_M\",\"wgTitle\":\"List of postal codes of Canada: M\",\"wgCurRevisionId\":862527922,\"wgRevisionId\":862527922,\"wgArticleId\":539066,\"wgIsArticle\":true,\"wgIsRedirect\":false,\"wgAction\":\"view\",\"wgUserName\":null,\"wgUserGroups\":[\"*\"],\"wgCategories\":[\"Communications in Ontario\",\"Postal codes in Canada\",\"Toronto\",\"Ontario-related lists\"],\"wgBreakFrames\":false,\"wgPageContentLanguage\":\"en\",\"wgPageContentModel\":\"wikitext\",\"wgSeparatorTransformTable\":[\"\",\"\"],\"wgDigitTransformTable\":[\"\",\"\"],\"wgDefaultDateFormat\":\"dmy\",\"wgMonthNames\":[\"\",\"January\",\"February\",\"March\",\"April\",\"May\",\"June\",\"July\",\"August\",\"September\",\"October\",\"November\",\"December\"],\"wgMonthNamesShort\":[\"\",\"Jan\",\"Feb\",\"Mar\",\"Apr\",\"May\",\"Jun\",\"Jul\",\"Aug\",\"Sep\",\"Oct\",\"Nov\",\"Dec\"],\"wgRelevantPageName\":\"List_of_postal_codes_of_Canada:_M\",\"wgRelevantArticleId\":539066,\"wgRequestId\":\"W9XVvApAICwAAC3SxqYAAACX\",\"wgCSPNonce\":false,\"wgIsProbablyEditable\":true,\"wgRelevantPageIsProbablyEditable\":true,\"wgRestrictionEdit\":[],\"wgRestrictionMove\":[],\"wgFlaggedRevsParams\":{\"tags\":{}},\"wgStableRevisionId\":null,\"wgCategoryTreePageCategoryOptions\":\"{\\\\\"mode\\\\\":0,\\\\\"hideprefix\\\\\":20,\\\\\"showcount\\\\\":true,\\\\\"namespaces\\\\\":false}\",\"wgWikiEditorEnabledModules\":[],\"wgBetaFeaturesFeatures\":[],\"wgMediaViewerOnClick\":true,\"wgMediaViewerEnabledByDefault\":true,\"wgPopupsShouldSendModuleToUser\":true,\"wgPopupsConflictsWithNavPopupGadget\":false,\"wgVisualEditor\":{\"pageLanguageCode\":\"en\",\"pageLanguageDir\":\"ltr\",\"pageVariantFallbacks\":\"en\",\"usePageImages\":true,\"usePageDescriptions\":true},\"wgMFExpandAllSectionsUserOption\":true,\"wgMFEnableFontChanger\":true,\"wgMFDisplayWikibaseDescriptions\":{\"search\":true,\"nearby\":true,\"watchlist\":true,\"tagline\":false},\"wgRelatedArticles\":null,\"wgRelatedArticlesUseCirrusSearch\":true,\"wgRelatedArticlesOnlyUseCirrusSearch\":false,\"wgULSCurrentAutonym\":\"English\",\"wgNoticeProject\":\"wikipedia\",\"wgCentralNoticeCookiesToDelete\":[],\"wgCentralNoticeCategoriesUsingLegacy\":[\"Fundraising\",\"fundraising\"],\"wgWikibaseItemId\":\"Q3248240\",\"wgScoreNoteLanguages\":{\"arabic\":\"العربية\",\"catalan\":\"català\",\"deutsch\":\"Deutsch\",\"english\":\"English\",\"espanol\":\"español\",\"italiano\":\"italiano\",\"nederlands\":\"Nederlands\",\"norsk\":\"norsk\",\"portugues\":\"português\",\"suomi\":\"suomi\",\"svenska\":\"svenska\",\"vlaams\":\"West-Vlams\"},\"wgScoreDefaultNoteLanguage\":\"nederlands\",\"wgCentralAuthMobileDomain\":false,\"wgCodeMirrorEnabled\":true,\"wgVisualEditorToolbarScrollOffset\":0,\"wgVisualEditorUnsupportedEditParams\":[\"undo\",\"undoafter\",\"veswitched\"],\"wgEditSubmitButtonLabelPublish\":true});mw.loader.state({\"ext.gadget.charinsert-styles\":\"ready\",\"ext.globalCssJs.user.styles\":\"ready\",\"ext.globalCssJs.site.styles\":\"ready\",\"site.styles\":\"ready\",\"noscript\":\"ready\",\"user.styles\":\"ready\",\"ext.globalCssJs.user\":\"ready\",\"ext.globalCssJs.site\":\"ready\",\"user\":\"ready\",\"user.options\":\"ready\",\"user.tokens\":\"loading\",\"ext.cite.styles\":\"ready\",\"mediawiki.legacy.shared\":\"ready\",\"mediawiki.legacy.commonPrint\":\"ready\",\"wikibase.client.init\":\"ready\",\"ext.visualEditor.desktopArticleTarget.noscript\":\"ready\",\"ext.uls.interlanguage\":\"ready\",\"ext.wikimediaBadges\":\"ready\",\"ext.3d.styles\":\"ready\",\"mediawiki.skinning.interface\":\"ready\",\"skins.vector.styles\":\"ready\"});mw.loader.implement(\"user.tokens@0tffind\",function($,jQuery,require,module){/*@nomin*/mw.user.tokens.set({\"editToken\":\"+\\\\\\\\\",\"patrolToken\":\"+\\\\\\\\\",\"watchToken\":\"+\\\\\\\\\",\"csrfToken\":\"+\\\\\\\\\"});\\n});RLPAGEMODULES=[\"ext.cite.a11y\",\"site\",\"mediawiki.page.startup\",\"mediawiki.user\",\"mediawiki.page.ready\",\"jquery.tablesorter\",\"mediawiki.searchSuggest\",\"ext.gadget.teahouse\",\"ext.gadget.ReferenceTooltips\",\"ext.gadget.watchlist-notice\",\"ext.gadget.DRN-wizard\",\"ext.gadget.charinsert\",\"ext.gadget.refToolbar\",\"ext.gadget.extra-toolbar-buttons\",\"ext.gadget.switcher\",\"ext.centralauth.centralautologin\",\"mmv.head\",\"mmv.bootstrap.autostart\",\"ext.popups\",\"ext.visualEditor.desktopArticleTarget.init\",\"ext.visualEditor.targetLoader\",\"ext.eventLogging.subscriber\",\"ext.wikimediaEvents\",\"ext.navigationTiming\",\"ext.uls.eventlogger\",\"ext.uls.init\",\"ext.uls.compactlinks\",\"ext.uls.interface\",\"ext.centralNotice.geoIP\",\"ext.centralNotice.startUp\",\"skins.vector.js\"];mw.loader.load(RLPAGEMODULES);});\\n  </script>\\n  <link href=\"/w/load.php?debug=false&amp;lang=en&amp;modules=ext.3d.styles%7Cext.cite.styles%7Cext.uls.interlanguage%7Cext.visualEditor.desktopArticleTarget.noscript%7Cext.wikimediaBadges%7Cmediawiki.legacy.commonPrint%2Cshared%7Cmediawiki.skinning.interface%7Cskins.vector.styles%7Cwikibase.client.init&amp;only=styles&amp;skin=vector\" rel=\"stylesheet\"/>\\n  <script async=\"\" src=\"/w/load.php?debug=false&amp;lang=en&amp;modules=startup&amp;only=scripts&amp;skin=vector\">\\n  </script>\\n  <meta content=\"\" name=\"ResourceLoaderDynamicStyles\"/>\\n  <link href=\"/w/load.php?debug=false&amp;lang=en&amp;modules=ext.gadget.charinsert-styles&amp;only=styles&amp;skin=vector\" rel=\"stylesheet\"/>\\n  <link href=\"/w/load.php?debug=false&amp;lang=en&amp;modules=site.styles&amp;only=styles&amp;skin=vector\" rel=\"stylesheet\"/>\\n  <meta content=\"MediaWiki 1.33.0-wmf.1\" name=\"generator\"/>\\n  <meta content=\"origin\" name=\"referrer\"/>\\n  <meta content=\"origin-when-crossorigin\" name=\"referrer\"/>\\n  <meta content=\"origin-when-cross-origin\" name=\"referrer\"/>\\n  <link href=\"android-app://org.wikipedia/http/en.m.wikipedia.org/wiki/List_of_postal_codes_of_Canada:_M\" rel=\"alternate\"/>\\n  <link href=\"/w/index.php?title=List_of_postal_codes_of_Canada:_M&amp;action=edit\" rel=\"alternate\" title=\"Edit this page\" type=\"application/x-wiki\"/>\\n  <link href=\"/w/index.php?title=List_of_postal_codes_of_Canada:_M&amp;action=edit\" rel=\"edit\" title=\"Edit this page\"/>\\n  <link href=\"/static/apple-touch/wikipedia.png\" rel=\"apple-touch-icon\"/>\\n  <link href=\"/static/favicon/wikipedia.ico\" rel=\"shortcut icon\"/>\\n  <link href=\"/w/opensearch_desc.php\" rel=\"search\" title=\"Wikipedia (en)\" type=\"application/opensearchdescription+xml\"/>\\n  <link href=\"//en.wikipedia.org/w/api.php?action=rsd\" rel=\"EditURI\" type=\"application/rsd+xml\"/>\\n  <link href=\"//creativecommons.org/licenses/by-sa/3.0/\" rel=\"license\"/>\\n  <link href=\"https://en.wikipedia.org/wiki/List_of_postal_codes_of_Canada:_M\" rel=\"canonical\"/>\\n  <link href=\"//login.wikimedia.org\" rel=\"dns-prefetch\"/>\\n  <link href=\"//meta.wikimedia.org\" rel=\"dns-prefetch\"/>\\n  <!--[if lt IE 9]><script src=\"/w/load.php?debug=false&amp;lang=en&amp;modules=html5shiv&amp;only=scripts&amp;skin=vector&amp;sync=1\"></script><![endif]-->\\n </head>\\n <body class=\"mediawiki ltr sitedir-ltr mw-hide-empty-elt ns-0 ns-subject page-List_of_postal_codes_of_Canada_M rootpage-List_of_postal_codes_of_Canada_M skin-vector action-view\">\\n  <div class=\"noprint\" id=\"mw-page-base\">\\n  </div>\\n  <div class=\"noprint\" id=\"mw-head-base\">\\n  </div>\\n  <div class=\"mw-body\" id=\"content\" role=\"main\">\\n   <a id=\"top\">\\n   </a>\\n   <div class=\"mw-body-content\" id=\"siteNotice\">\\n    <!-- CentralNotice -->\\n   </div>\\n   <div class=\"mw-indicators mw-body-content\">\\n   </div>\\n   <h1 class=\"firstHeading\" id=\"firstHeading\" lang=\"en\">\\n    List of postal codes of Canada: M\\n   </h1>\\n   <div class=\"mw-body-content\" id=\"bodyContent\">\\n    <div class=\"noprint\" id=\"siteSub\">\\n     From Wikipedia, the free encyclopedia\\n    </div>\\n    <div id=\"contentSub\">\\n    </div>\\n    <div id=\"jump-to-nav\">\\n    </div>\\n    <a class=\"mw-jump-link\" href=\"#mw-head\">\\n     Jump to navigation\\n    </a>\\n    <a class=\"mw-jump-link\" href=\"#p-search\">\\n     Jump to search\\n    </a>\\n    <div class=\"mw-content-ltr\" dir=\"ltr\" id=\"mw-content-text\" lang=\"en\">\\n     <div class=\"mw-parser-output\">\\n      <p>\\n       This is a list of\\n       <a href=\"/wiki/Postal_codes_in_Canada\" title=\"Postal codes in Canada\">\\n        postal codes in Canada\\n       </a>\\n       where the first letter is M. Postal codes beginning with M are located within the city of\\n       <a href=\"/wiki/Toronto\" title=\"Toronto\">\\n        Toronto\\n       </a>\\n       in the province of\\n       <a href=\"/wiki/Ontario\" title=\"Ontario\">\\n        Ontario\\n       </a>\\n       . Only the first three characters are listed, corresponding to the Forward Sortation Area.\\n      </p>\\n      <p>\\n       <a href=\"/wiki/Canada_Post\" title=\"Canada Post\">\\n        Canada Post\\n       </a>\\n       provides a free postal code look-up tool on its website,\\n       <sup class=\"reference\" id=\"cite_ref-1\">\\n        <a href=\"#cite_note-1\">\\n         [1]\\n        </a>\\n       </sup>\\n       via its\\n       <a href=\"/wiki/Mobile_app\" title=\"Mobile app\">\\n        applications\\n       </a>\\n       for such\\n       <a class=\"mw-redirect\" href=\"/wiki/Smartphones\" title=\"Smartphones\">\\n        smartphones\\n       </a>\\n       as the\\n       <a href=\"/wiki/IPhone\" title=\"IPhone\">\\n        iPhone\\n       </a>\\n       and\\n       <a href=\"/wiki/BlackBerry\" title=\"BlackBerry\">\\n        BlackBerry\\n       </a>\\n       ,\\n       <sup class=\"reference\" id=\"cite_ref-2\">\\n        <a href=\"#cite_note-2\">\\n         [2]\\n        </a>\\n       </sup>\\n       and sells hard-copy directories and\\n       <a href=\"/wiki/CD-ROM\" title=\"CD-ROM\">\\n        CD-ROMs\\n       </a>\\n       . Many vendors also sell validation tools, which allow customers to properly match addresses and postal codes. Hard-copy directories can also be consulted in all post offices, and some libraries.\\n      </p>\\n      <h2>\\n       <span class=\"mw-headline\" id=\"Toronto_-_FSAs\">\\n        <a href=\"/wiki/Toronto\" title=\"Toronto\">\\n         Toronto\\n        </a>\\n        -\\n        <a href=\"/wiki/Postal_codes_in_Canada#Forward_sortation_areas\" title=\"Postal codes in Canada\">\\n         FSAs\\n        </a>\\n       </span>\\n       <span class=\"mw-editsection\">\\n        <span class=\"mw-editsection-bracket\">\\n         [\\n        </span>\\n        <a href=\"/w/index.php?title=List_of_postal_codes_of_Canada:_M&amp;action=edit&amp;section=1\" title=\"Edit section: Toronto - FSAs\">\\n         edit\\n        </a>\\n        <span class=\"mw-editsection-bracket\">\\n         ]\\n        </span>\\n       </span>\\n      </h2>\\n      <p>\\n       Note: There are no rural FSAs in Toronto, hence no postal codes start with M0.\\n      </p>\\n      <table class=\"wikitable sortable\">\\n       <tbody>\\n        <tr>\\n         <th>\\n          Postcode\\n         </th>\\n         <th>\\n          Borough\\n         </th>\\n         <th>\\n          Neighbourhood\\n         </th>\\n        </tr>\\n        <tr>\\n         <td>\\n          M1A\\n         </td>\\n         <td>\\n          Not assigned\\n         </td>\\n         <td>\\n          Not assigned\\n         </td>\\n        </tr>\\n        <tr>\\n         <td>\\n          M2A\\n         </td>\\n         <td>\\n          Not assigned\\n         </td>\\n         <td>\\n          Not assigned\\n         </td>\\n        </tr>\\n        <tr>\\n         <td>\\n          M3A\\n         </td>\\n         <td>\\n          <a href=\"/wiki/North_York\" title=\"North York\">\\n           North York\\n          </a>\\n         </td>\\n         <td>\\n          <a href=\"/wiki/Parkwoods\" title=\"Parkwoods\">\\n           Parkwoods\\n          </a>\\n         </td>\\n        </tr>\\n        <tr>\\n         <td>\\n          M4A\\n         </td>\\n         <td>\\n          <a href=\"/wiki/North_York\" title=\"North York\">\\n           North York\\n          </a>\\n         </td>\\n         <td>\\n          <a href=\"/wiki/Victoria_Village\" title=\"Victoria Village\">\\n           Victoria Village\\n          </a>\\n         </td>\\n        </tr>\\n        <tr>\\n         <td>\\n          M5A\\n         </td>\\n         <td>\\n          <a href=\"/wiki/Downtown_Toronto\" title=\"Downtown Toronto\">\\n           Downtown Toronto\\n          </a>\\n         </td>\\n         <td>\\n          <a href=\"/wiki/Harbourfront_(Toronto)\" title=\"Harbourfront (Toronto)\">\\n           Harbourfront\\n          </a>\\n         </td>\\n        </tr>\\n        <tr>\\n         <td>\\n          M5A\\n         </td>\\n         <td>\\n          <a href=\"/wiki/Downtown_Toronto\" title=\"Downtown Toronto\">\\n           Downtown Toronto\\n          </a>\\n         </td>\\n         <td>\\n          <a href=\"/wiki/Regent_Park\" title=\"Regent Park\">\\n           Regent Park\\n          </a>\\n         </td>\\n        </tr>\\n        <tr>\\n         <td>\\n          M6A\\n         </td>\\n         <td>\\n          <a href=\"/wiki/North_York\" title=\"North York\">\\n           North York\\n          </a>\\n         </td>\\n         <td>\\n          <a href=\"/wiki/Lawrence_Heights\" title=\"Lawrence Heights\">\\n           Lawrence Heights\\n          </a>\\n         </td>\\n        </tr>\\n        <tr>\\n         <td>\\n          M6A\\n         </td>\\n         <td>\\n          <a href=\"/wiki/North_York\" title=\"North York\">\\n           North York\\n          </a>\\n         </td>\\n         <td>\\n          <a href=\"/wiki/Lawrence_Manor\" title=\"Lawrence Manor\">\\n           Lawrence Manor\\n          </a>\\n         </td>\\n        </tr>\\n        <tr>\\n         <td>\\n          M7A\\n         </td>\\n         <td>\\n          <a href=\"/wiki/Queen%27s_Park_(Toronto)\" title=\"Queen\\'s Park (Toronto)\">\\n           Queen\\'s Park\\n          </a>\\n         </td>\\n         <td>\\n          Not assigned\\n         </td>\\n        </tr>\\n        <tr>\\n         <td>\\n          M8A\\n         </td>\\n         <td>\\n          Not assigned\\n         </td>\\n         <td>\\n          Not assigned\\n         </td>\\n        </tr>\\n        <tr>\\n         <td>\\n          M9A\\n         </td>\\n         <td>\\n          <a href=\"/wiki/Etobicoke\" title=\"Etobicoke\">\\n           Etobicoke\\n          </a>\\n         </td>\\n         <td>\\n          <a class=\"mw-redirect\" href=\"/wiki/Islington_Avenue\" title=\"Islington Avenue\">\\n           Islington Avenue\\n          </a>\\n         </td>\\n        </tr>\\n        <tr>\\n         <td>\\n          M1B\\n         </td>\\n         <td>\\n          <a href=\"/wiki/Scarborough,_Toronto\" title=\"Scarborough, Toronto\">\\n           Scarborough\\n          </a>\\n         </td>\\n         <td>\\n          <a href=\"/wiki/Rouge,_Toronto\" title=\"Rouge, Toronto\">\\n           Rouge\\n          </a>\\n         </td>\\n        </tr>\\n        <tr>\\n         <td>\\n          M1B\\n         </td>\\n         <td>\\n          <a href=\"/wiki/Scarborough,_Toronto\" title=\"Scarborough, Toronto\">\\n           Scarborough\\n          </a>\\n         </td>\\n         <td>\\n          <a href=\"/wiki/Malvern,_Toronto\" title=\"Malvern, Toronto\">\\n           Malvern\\n          </a>\\n         </td>\\n        </tr>\\n        <tr>\\n         <td>\\n          M2B\\n         </td>\\n         <td>\\n          Not assigned\\n         </td>\\n         <td>\\n          Not assigned\\n         </td>\\n        </tr>\\n        <tr>\\n         <td>\\n          M3B\\n         </td>\\n         <td>\\n          <a href=\"/wiki/North_York\" title=\"North York\">\\n           North York\\n          </a>\\n         </td>\\n         <td>\\n          Don Mills North\\n         </td>\\n        </tr>\\n        <tr>\\n         <td>\\n          M4B\\n         </td>\\n         <td>\\n          <a href=\"/wiki/East_York\" title=\"East York\">\\n           East York\\n          </a>\\n         </td>\\n         <td>\\n          <a class=\"mw-redirect\" href=\"/wiki/Woodbine_Gardens\" title=\"Woodbine Gardens\">\\n           Woodbine Gardens\\n          </a>\\n         </td>\\n        </tr>\\n        <tr>\\n         <td>\\n          M4B\\n         </td>\\n         <td>\\n          <a href=\"/wiki/East_York\" title=\"East York\">\\n           East York\\n          </a>\\n         </td>\\n         <td>\\n          <a class=\"mw-redirect\" href=\"/wiki/Parkview_Hill\" title=\"Parkview Hill\">\\n           Parkview Hill\\n          </a>\\n         </td>\\n        </tr>\\n        <tr>\\n         <td>\\n          M5B\\n         </td>\\n         <td>\\n          <a href=\"/wiki/Downtown_Toronto\" title=\"Downtown Toronto\">\\n           Downtown Toronto\\n          </a>\\n         </td>\\n         <td>\\n          <a href=\"/wiki/Ryerson\" title=\"Ryerson\">\\n           Ryerson\\n          </a>\\n         </td>\\n        </tr>\\n        <tr>\\n         <td>\\n          M5B\\n         </td>\\n         <td>\\n          <a href=\"/wiki/Downtown_Toronto\" title=\"Downtown Toronto\">\\n           Downtown Toronto\\n          </a>\\n         </td>\\n         <td>\\n          Garden District\\n         </td>\\n        </tr>\\n        <tr>\\n         <td>\\n          M6B\\n         </td>\\n         <td>\\n          <a href=\"/wiki/North_York\" title=\"North York\">\\n           North York\\n          </a>\\n         </td>\\n         <td>\\n          <a class=\"mw-redirect\" href=\"/wiki/Glencairn,_Ontario\" title=\"Glencairn, Ontario\">\\n           Glencairn\\n          </a>\\n         </td>\\n        </tr>\\n        <tr>\\n         <td>\\n          M7B\\n         </td>\\n         <td>\\n          Not assigned\\n         </td>\\n         <td>\\n          Not assigned\\n         </td>\\n        </tr>\\n        <tr>\\n         <td>\\n          M8B\\n         </td>\\n         <td>\\n          Not assigned\\n         </td>\\n         <td>\\n          Not assigned\\n         </td>\\n        </tr>\\n        <tr>\\n         <td>\\n          M9B\\n         </td>\\n         <td>\\n          <a href=\"/wiki/Etobicoke\" title=\"Etobicoke\">\\n           Etobicoke\\n          </a>\\n         </td>\\n         <td>\\n          Cloverdale\\n         </td>\\n        </tr>\\n        <tr>\\n         <td>\\n          M9B\\n         </td>\\n         <td>\\n          <a href=\"/wiki/Etobicoke\" title=\"Etobicoke\">\\n           Etobicoke\\n          </a>\\n         </td>\\n         <td>\\n          <a href=\"/wiki/Islington\" title=\"Islington\">\\n           Islington\\n          </a>\\n         </td>\\n        </tr>\\n        <tr>\\n         <td>\\n          M9B\\n         </td>\\n         <td>\\n          <a href=\"/wiki/Etobicoke\" title=\"Etobicoke\">\\n           Etobicoke\\n          </a>\\n         </td>\\n         <td>\\n          Martin Grove\\n         </td>\\n        </tr>\\n        <tr>\\n         <td>\\n          M9B\\n         </td>\\n         <td>\\n          <a href=\"/wiki/Etobicoke\" title=\"Etobicoke\">\\n           Etobicoke\\n          </a>\\n         </td>\\n         <td>\\n          <a href=\"/wiki/Princess_Gardens\" title=\"Princess Gardens\">\\n           Princess Gardens\\n          </a>\\n         </td>\\n        </tr>\\n        <tr>\\n         <td>\\n          M9B\\n         </td>\\n         <td>\\n          <a href=\"/wiki/Etobicoke\" title=\"Etobicoke\">\\n           Etobicoke\\n          </a>\\n         </td>\\n         <td>\\n          <a class=\"mw-redirect\" href=\"/wiki/West_Deane_Park\" title=\"West Deane Park\">\\n           West Deane Park\\n          </a>\\n         </td>\\n        </tr>\\n        <tr>\\n         <td>\\n          M1C\\n         </td>\\n         <td>\\n          <a href=\"/wiki/Scarborough,_Toronto\" title=\"Scarborough, Toronto\">\\n           Scarborough\\n          </a>\\n         </td>\\n         <td>\\n          <a href=\"/wiki/Highland_Creek_(Toronto)\" title=\"Highland Creek (Toronto)\">\\n           Highland Creek\\n          </a>\\n         </td>\\n        </tr>\\n        <tr>\\n         <td>\\n          M1C\\n         </td>\\n         <td>\\n          <a href=\"/wiki/Scarborough,_Toronto\" title=\"Scarborough, Toronto\">\\n           Scarborough\\n          </a>\\n         </td>\\n         <td>\\n          <a class=\"mw-redirect\" href=\"/wiki/Rouge_Hill\" title=\"Rouge Hill\">\\n           Rouge Hill\\n          </a>\\n         </td>\\n        </tr>\\n        <tr>\\n         <td>\\n          M1C\\n         </td>\\n         <td>\\n          <a href=\"/wiki/Scarborough,_Toronto\" title=\"Scarborough, Toronto\">\\n           Scarborough\\n          </a>\\n         </td>\\n         <td>\\n          <a href=\"/wiki/Port_Union,_Toronto\" title=\"Port Union, Toronto\">\\n           Port Union\\n          </a>\\n         </td>\\n        </tr>\\n        <tr>\\n         <td>\\n          M2C\\n         </td>\\n         <td>\\n          Not assigned\\n         </td>\\n         <td>\\n          Not assigned\\n         </td>\\n        </tr>\\n        <tr>\\n         <td>\\n          M3C\\n         </td>\\n         <td>\\n          <a href=\"/wiki/North_York\" title=\"North York\">\\n           North York\\n          </a>\\n         </td>\\n         <td>\\n          <a href=\"/wiki/Flemingdon_Park\" title=\"Flemingdon Park\">\\n           Flemingdon Park\\n          </a>\\n         </td>\\n        </tr>\\n        <tr>\\n         <td>\\n          M3C\\n         </td>\\n         <td>\\n          <a href=\"/wiki/North_York\" title=\"North York\">\\n           North York\\n          </a>\\n         </td>\\n         <td>\\n          Don Mills South\\n         </td>\\n        </tr>\\n        <tr>\\n         <td>\\n          M4C\\n         </td>\\n         <td>\\n          <a href=\"/wiki/East_York\" title=\"East York\">\\n           East York\\n          </a>\\n         </td>\\n         <td>\\n          <a class=\"mw-redirect\" href=\"/wiki/Woodbine_Heights\" title=\"Woodbine Heights\">\\n           Woodbine Heights\\n          </a>\\n         </td>\\n        </tr>\\n        <tr>\\n         <td>\\n          M5C\\n         </td>\\n         <td>\\n          <a href=\"/wiki/Downtown_Toronto\" title=\"Downtown Toronto\">\\n           Downtown Toronto\\n          </a>\\n         </td>\\n         <td>\\n          <a href=\"/wiki/St._James_Town\" title=\"St. James Town\">\\n           St. James Town\\n          </a>\\n         </td>\\n        </tr>\\n        <tr>\\n         <td>\\n          M6C\\n         </td>\\n         <td>\\n          York\\n         </td>\\n         <td>\\n          <a class=\"mw-redirect\" href=\"/wiki/Humewood-Cedarvale\" title=\"Humewood-Cedarvale\">\\n           Humewood-Cedarvale\\n          </a>\\n         </td>\\n        </tr>\\n        <tr>\\n         <td>\\n          M7C\\n         </td>\\n         <td>\\n          Not assigned\\n         </td>\\n         <td>\\n          Not assigned\\n         </td>\\n        </tr>\\n        <tr>\\n         <td>\\n          M8C\\n         </td>\\n         <td>\\n          Not assigned\\n         </td>\\n         <td>\\n          Not assigned\\n         </td>\\n        </tr>\\n        <tr>\\n         <td>\\n          M9C\\n         </td>\\n         <td>\\n          <a href=\"/wiki/Etobicoke\" title=\"Etobicoke\">\\n           Etobicoke\\n          </a>\\n         </td>\\n         <td>\\n          Bloordale Gardens\\n         </td>\\n        </tr>\\n        <tr>\\n         <td>\\n          M9C\\n         </td>\\n         <td>\\n          <a href=\"/wiki/Etobicoke\" title=\"Etobicoke\">\\n           Etobicoke\\n          </a>\\n         </td>\\n         <td>\\n          Eringate\\n         </td>\\n        </tr>\\n        <tr>\\n         <td>\\n          M9C\\n         </td>\\n         <td>\\n          <a href=\"/wiki/Etobicoke\" title=\"Etobicoke\">\\n           Etobicoke\\n          </a>\\n         </td>\\n         <td>\\n          <a href=\"/wiki/Markland_Wood\" title=\"Markland Wood\">\\n           Markland Wood\\n          </a>\\n         </td>\\n        </tr>\\n        <tr>\\n         <td>\\n          M9C\\n         </td>\\n         <td>\\n          <a href=\"/wiki/Etobicoke\" title=\"Etobicoke\">\\n           Etobicoke\\n          </a>\\n         </td>\\n         <td>\\n          Old Burnhamthorpe\\n         </td>\\n        </tr>\\n        <tr>\\n         <td>\\n          M1E\\n         </td>\\n         <td>\\n          <a href=\"/wiki/Scarborough,_Toronto\" title=\"Scarborough, Toronto\">\\n           Scarborough\\n          </a>\\n         </td>\\n         <td>\\n          Guildwood\\n         </td>\\n        </tr>\\n        <tr>\\n         <td>\\n          M1E\\n         </td>\\n         <td>\\n          <a href=\"/wiki/Scarborough,_Toronto\" title=\"Scarborough, Toronto\">\\n           Scarborough\\n          </a>\\n         </td>\\n         <td>\\n          <a href=\"/wiki/Morningside,_Toronto\" title=\"Morningside, Toronto\">\\n           Morningside\\n          </a>\\n         </td>\\n        </tr>\\n        <tr>\\n         <td>\\n          M1E\\n         </td>\\n         <td>\\n          <a href=\"/wiki/Scarborough,_Toronto\" title=\"Scarborough, Toronto\">\\n           Scarborough\\n          </a>\\n         </td>\\n         <td>\\n          <a href=\"/wiki/West_Hill,_Toronto\" title=\"West Hill, Toronto\">\\n           West Hill\\n          </a>\\n         </td>\\n        </tr>\\n        <tr>\\n         <td>\\n          M2E\\n         </td>\\n         <td>\\n          Not assigned\\n         </td>\\n         <td>\\n          Not assigned\\n         </td>\\n        </tr>\\n        <tr>\\n         <td>\\n          M3E\\n         </td>\\n         <td>\\n          Not assigned\\n         </td>\\n         <td>\\n          Not assigned\\n         </td>\\n        </tr>\\n        <tr>\\n         <td>\\n          M4E\\n         </td>\\n         <td>\\n          <a href=\"/wiki/East_Toronto\" title=\"East Toronto\">\\n           East Toronto\\n          </a>\\n         </td>\\n         <td>\\n          <a href=\"/wiki/The_Beaches\" title=\"The Beaches\">\\n           The Beaches\\n          </a>\\n         </td>\\n        </tr>\\n        <tr>\\n         <td>\\n          M5E\\n         </td>\\n         <td>\\n          <a href=\"/wiki/Downtown_Toronto\" title=\"Downtown Toronto\">\\n           Downtown Toronto\\n          </a>\\n         </td>\\n         <td>\\n          <a href=\"/wiki/Berczy_Park\" title=\"Berczy Park\">\\n           Berczy Park\\n          </a>\\n         </td>\\n        </tr>\\n        <tr>\\n         <td>\\n          M6E\\n         </td>\\n         <td>\\n          York\\n         </td>\\n         <td>\\n          Caledonia-Fairbanks\\n         </td>\\n        </tr>\\n        <tr>\\n         <td>\\n          M7E\\n         </td>\\n         <td>\\n          Not assigned\\n         </td>\\n         <td>\\n          Not assigned\\n         </td>\\n        </tr>\\n        <tr>\\n         <td>\\n          M8E\\n         </td>\\n         <td>\\n          Not assigned\\n         </td>\\n         <td>\\n          Not assigned\\n         </td>\\n        </tr>\\n        <tr>\\n         <td>\\n          M9E\\n         </td>\\n         <td>\\n          Not assigned\\n         </td>\\n         <td>\\n          Not assigned\\n         </td>\\n        </tr>\\n        <tr>\\n         <td>\\n          M1G\\n         </td>\\n         <td>\\n          <a href=\"/wiki/Scarborough,_Toronto\" title=\"Scarborough, Toronto\">\\n           Scarborough\\n          </a>\\n         </td>\\n         <td>\\n          <a href=\"/wiki/Woburn,_Toronto\" title=\"Woburn, Toronto\">\\n           Woburn\\n          </a>\\n         </td>\\n        </tr>\\n        <tr>\\n         <td>\\n          M2G\\n         </td>\\n         <td>\\n          Not assigned\\n         </td>\\n         <td>\\n          Not assigned\\n         </td>\\n        </tr>\\n        <tr>\\n         <td>\\n          M3G\\n         </td>\\n         <td>\\n          Not assigned\\n         </td>\\n         <td>\\n          Not assigned\\n         </td>\\n        </tr>\\n        <tr>\\n         <td>\\n          M4G\\n         </td>\\n         <td>\\n          <a href=\"/wiki/East_York\" title=\"East York\">\\n           East York\\n          </a>\\n         </td>\\n         <td>\\n          <a href=\"/wiki/Leaside\" title=\"Leaside\">\\n           Leaside\\n          </a>\\n         </td>\\n        </tr>\\n        <tr>\\n         <td>\\n          M5G\\n         </td>\\n         <td>\\n          <a href=\"/wiki/Downtown_Toronto\" title=\"Downtown Toronto\">\\n           Downtown Toronto\\n          </a>\\n         </td>\\n         <td>\\n          Central Bay Street\\n         </td>\\n        </tr>\\n        <tr>\\n         <td>\\n          M6G\\n         </td>\\n         <td>\\n          <a href=\"/wiki/Downtown_Toronto\" title=\"Downtown Toronto\">\\n           Downtown Toronto\\n          </a>\\n         </td>\\n         <td>\\n          Christie\\n         </td>\\n        </tr>\\n        <tr>\\n         <td>\\n          M7G\\n         </td>\\n         <td>\\n          Not assigned\\n         </td>\\n         <td>\\n          Not assigned\\n         </td>\\n        </tr>\\n        <tr>\\n         <td>\\n          M8G\\n         </td>\\n         <td>\\n          Not assigned\\n         </td>\\n         <td>\\n          Not assigned\\n         </td>\\n        </tr>\\n        <tr>\\n         <td>\\n          M9G\\n         </td>\\n         <td>\\n          Not assigned\\n         </td>\\n         <td>\\n          Not assigned\\n         </td>\\n        </tr>\\n        <tr>\\n         <td>\\n          M1H\\n         </td>\\n         <td>\\n          <a href=\"/wiki/Scarborough,_Toronto\" title=\"Scarborough, Toronto\">\\n           Scarborough\\n          </a>\\n         </td>\\n         <td>\\n          <a href=\"/wiki/Woburn,_Toronto\" title=\"Woburn, Toronto\">\\n           Cedarbrae\\n          </a>\\n         </td>\\n        </tr>\\n        <tr>\\n         <td>\\n          M2H\\n         </td>\\n         <td>\\n          <a href=\"/wiki/North_York\" title=\"North York\">\\n           North York\\n          </a>\\n         </td>\\n         <td>\\n          <a href=\"/wiki/Hillcrest_Village\" title=\"Hillcrest Village\">\\n           Hillcrest Village\\n          </a>\\n         </td>\\n        </tr>\\n        <tr>\\n         <td>\\n          M3H\\n         </td>\\n         <td>\\n          <a href=\"/wiki/North_York\" title=\"North York\">\\n           North York\\n          </a>\\n         </td>\\n         <td>\\n          <a href=\"/wiki/Bathurst_Manor\" title=\"Bathurst Manor\">\\n           Bathurst Manor\\n          </a>\\n         </td>\\n        </tr>\\n        <tr>\\n         <td>\\n          M3H\\n         </td>\\n         <td>\\n          <a href=\"/wiki/North_York\" title=\"North York\">\\n           North York\\n          </a>\\n         </td>\\n         <td>\\n          Downsview North\\n         </td>\\n        </tr>\\n        <tr>\\n         <td>\\n          M3H\\n         </td>\\n         <td>\\n          <a href=\"/wiki/North_York\" title=\"North York\">\\n           North York\\n          </a>\\n         </td>\\n         <td>\\n          <a class=\"mw-redirect\" href=\"/wiki/Wilson_Heights,_Toronto\" title=\"Wilson Heights, Toronto\">\\n           Wilson Heights\\n          </a>\\n         </td>\\n        </tr>\\n        <tr>\\n         <td>\\n          M4H\\n         </td>\\n         <td>\\n          <a href=\"/wiki/East_York\" title=\"East York\">\\n           East York\\n          </a>\\n         </td>\\n         <td>\\n          <a href=\"/wiki/Thorncliffe_Park\" title=\"Thorncliffe Park\">\\n           Thorncliffe Park\\n          </a>\\n         </td>\\n        </tr>\\n        <tr>\\n         <td>\\n          M5H\\n         </td>\\n         <td>\\n          <a href=\"/wiki/Downtown_Toronto\" title=\"Downtown Toronto\">\\n           Downtown Toronto\\n          </a>\\n         </td>\\n         <td>\\n          <a href=\"/wiki/Adelaide\" title=\"Adelaide\">\\n           Adelaide\\n          </a>\\n         </td>\\n        </tr>\\n        <tr>\\n         <td>\\n          M5H\\n         </td>\\n         <td>\\n          <a href=\"/wiki/Downtown_Toronto\" title=\"Downtown Toronto\">\\n           Downtown Toronto\\n          </a>\\n         </td>\\n         <td>\\n          <a href=\"/wiki/King\" title=\"King\">\\n           King\\n          </a>\\n         </td>\\n        </tr>\\n        <tr>\\n         <td>\\n          M5H\\n         </td>\\n         <td>\\n          <a href=\"/wiki/Downtown_Toronto\" title=\"Downtown Toronto\">\\n           Downtown Toronto\\n          </a>\\n         </td>\\n         <td>\\n          Richmond\\n         </td>\\n        </tr>\\n        <tr>\\n         <td>\\n          M6H\\n         </td>\\n         <td>\\n          <a href=\"/wiki/West_Toronto\" title=\"West Toronto\">\\n           West Toronto\\n          </a>\\n         </td>\\n         <td>\\n          <a class=\"mw-redirect\" href=\"/wiki/Dovercourt_Village\" title=\"Dovercourt Village\">\\n           Dovercourt Village\\n          </a>\\n         </td>\\n        </tr>\\n        <tr>\\n         <td>\\n          M6H\\n         </td>\\n         <td>\\n          <a href=\"/wiki/West_Toronto\" title=\"West Toronto\">\\n           West Toronto\\n          </a>\\n         </td>\\n         <td>\\n          Dufferin\\n         </td>\\n        </tr>\\n        <tr>\\n         <td>\\n          M7H\\n         </td>\\n         <td>\\n          Not assigned\\n         </td>\\n         <td>\\n          Not assigned\\n         </td>\\n        </tr>\\n        <tr>\\n         <td>\\n          M8H\\n         </td>\\n         <td>\\n          Not assigned\\n         </td>\\n         <td>\\n          Not assigned\\n         </td>\\n        </tr>\\n        <tr>\\n         <td>\\n          M9H\\n         </td>\\n         <td>\\n          Not assigned\\n         </td>\\n         <td>\\n          Not assigned\\n         </td>\\n        </tr>\\n        <tr>\\n         <td>\\n          M1J\\n         </td>\\n         <td>\\n          <a href=\"/wiki/Scarborough,_Toronto\" title=\"Scarborough, Toronto\">\\n           Scarborough\\n          </a>\\n         </td>\\n         <td>\\n          <a href=\"/wiki/Scarborough_Village\" title=\"Scarborough Village\">\\n           Scarborough Village\\n          </a>\\n         </td>\\n        </tr>\\n        <tr>\\n         <td>\\n          M2J\\n         </td>\\n         <td>\\n          <a href=\"/wiki/North_York\" title=\"North York\">\\n           North York\\n          </a>\\n         </td>\\n         <td>\\n          Fairview\\n         </td>\\n        </tr>\\n        <tr>\\n         <td>\\n          M2J\\n         </td>\\n         <td>\\n          <a href=\"/wiki/North_York\" title=\"North York\">\\n           North York\\n          </a>\\n         </td>\\n         <td>\\n          <a href=\"/wiki/Henry_Farm\" title=\"Henry Farm\">\\n           Henry Farm\\n          </a>\\n         </td>\\n        </tr>\\n        <tr>\\n         <td>\\n          M2J\\n         </td>\\n         <td>\\n          <a href=\"/wiki/North_York\" title=\"North York\">\\n           North York\\n          </a>\\n         </td>\\n         <td>\\n          Oriole\\n         </td>\\n        </tr>\\n        <tr>\\n         <td>\\n          M3J\\n         </td>\\n         <td>\\n          <a href=\"/wiki/North_York\" title=\"North York\">\\n           North York\\n          </a>\\n         </td>\\n         <td>\\n          <a class=\"mw-redirect\" href=\"/wiki/Northwood_Park\" title=\"Northwood Park\">\\n           Northwood Park\\n          </a>\\n         </td>\\n        </tr>\\n        <tr>\\n         <td>\\n          M3J\\n         </td>\\n         <td>\\n          <a href=\"/wiki/North_York\" title=\"North York\">\\n           North York\\n          </a>\\n         </td>\\n         <td>\\n          <a href=\"/wiki/York_University\" title=\"York University\">\\n           York University\\n          </a>\\n         </td>\\n        </tr>\\n        <tr>\\n         <td>\\n          M4J\\n         </td>\\n         <td>\\n          <a href=\"/wiki/East_York\" title=\"East York\">\\n           East York\\n          </a>\\n         </td>\\n         <td>\\n          <a href=\"/wiki/East_Toronto\" title=\"East Toronto\">\\n           East Toronto\\n          </a>\\n         </td>\\n        </tr>\\n        <tr>\\n         <td>\\n          M5J\\n         </td>\\n         <td>\\n          <a href=\"/wiki/Downtown_Toronto\" title=\"Downtown Toronto\">\\n           Downtown Toronto\\n          </a>\\n         </td>\\n         <td>\\n          Harbourfront East\\n         </td>\\n        </tr>\\n        <tr>\\n         <td>\\n          M5J\\n         </td>\\n         <td>\\n          <a href=\"/wiki/Downtown_Toronto\" title=\"Downtown Toronto\">\\n           Downtown Toronto\\n          </a>\\n         </td>\\n         <td>\\n          <a href=\"/wiki/Toronto_Islands\" title=\"Toronto Islands\">\\n           Toronto Islands\\n          </a>\\n         </td>\\n        </tr>\\n        <tr>\\n         <td>\\n          M5J\\n         </td>\\n         <td>\\n          <a href=\"/wiki/Downtown_Toronto\" title=\"Downtown Toronto\">\\n           Downtown Toronto\\n          </a>\\n         </td>\\n         <td>\\n          <a href=\"/wiki/Union_Station_(Toronto)\" title=\"Union Station (Toronto)\">\\n           Union Station\\n          </a>\\n         </td>\\n        </tr>\\n        <tr>\\n         <td>\\n          M6J\\n         </td>\\n         <td>\\n          <a href=\"/wiki/West_Toronto\" title=\"West Toronto\">\\n           West Toronto\\n          </a>\\n         </td>\\n         <td>\\n          <a href=\"/wiki/Little_Portugal,_Toronto\" title=\"Little Portugal, Toronto\">\\n           Little Portugal\\n          </a>\\n         </td>\\n        </tr>\\n        <tr>\\n         <td>\\n          M6J\\n         </td>\\n         <td>\\n          <a href=\"/wiki/West_Toronto\" title=\"West Toronto\">\\n           West Toronto\\n          </a>\\n         </td>\\n         <td>\\n          <a href=\"/wiki/Trinity%E2%80%93Bellwoods\" title=\"Trinity–Bellwoods\">\\n           Trinity\\n          </a>\\n         </td>\\n        </tr>\\n        <tr>\\n         <td>\\n          M7J\\n         </td>\\n         <td>\\n          Not assigned\\n         </td>\\n         <td>\\n          Not assigned\\n         </td>\\n        </tr>\\n        <tr>\\n         <td>\\n          M8J\\n         </td>\\n         <td>\\n          Not assigned\\n         </td>\\n         <td>\\n          Not assigned\\n         </td>\\n        </tr>\\n        <tr>\\n         <td>\\n          M9J\\n         </td>\\n         <td>\\n          Not assigned\\n         </td>\\n         <td>\\n          Not assigned\\n         </td>\\n        </tr>\\n        <tr>\\n         <td>\\n          M1K\\n         </td>\\n         <td>\\n          <a href=\"/wiki/Scarborough,_Toronto\" title=\"Scarborough, Toronto\">\\n           Scarborough\\n          </a>\\n         </td>\\n         <td>\\n          East Birchmount Park\\n         </td>\\n        </tr>\\n        <tr>\\n         <td>\\n          M1K\\n         </td>\\n         <td>\\n          <a href=\"/wiki/Scarborough,_Toronto\" title=\"Scarborough, Toronto\">\\n           Scarborough\\n          </a>\\n         </td>\\n         <td>\\n          <a href=\"/wiki/Ionview\" title=\"Ionview\">\\n           Ionview\\n          </a>\\n         </td>\\n        </tr>\\n        <tr>\\n         <td>\\n          M1K\\n         </td>\\n         <td>\\n          <a href=\"/wiki/Scarborough,_Toronto\" title=\"Scarborough, Toronto\">\\n           Scarborough\\n          </a>\\n         </td>\\n         <td>\\n          <a class=\"mw-redirect\" href=\"/wiki/Kennedy_Park,_Toronto\" title=\"Kennedy Park, Toronto\">\\n           Kennedy Park\\n          </a>\\n         </td>\\n        </tr>\\n        <tr>\\n         <td>\\n          M2K\\n         </td>\\n         <td>\\n          <a href=\"/wiki/North_York\" title=\"North York\">\\n           North York\\n          </a>\\n         </td>\\n         <td>\\n          <a href=\"/wiki/Bayview_Village\" title=\"Bayview Village\">\\n           Bayview Village\\n          </a>\\n         </td>\\n        </tr>\\n        <tr>\\n         <td>\\n          M3K\\n         </td>\\n         <td>\\n          <a href=\"/wiki/North_York\" title=\"North York\">\\n           North York\\n          </a>\\n         </td>\\n         <td>\\n          <a href=\"/wiki/CFB_Toronto\" title=\"CFB Toronto\">\\n           CFB Toronto\\n          </a>\\n         </td>\\n        </tr>\\n        <tr>\\n         <td>\\n          M3K\\n         </td>\\n         <td>\\n          <a href=\"/wiki/North_York\" title=\"North York\">\\n           North York\\n          </a>\\n         </td>\\n         <td>\\n          Downsview East\\n         </td>\\n        </tr>\\n        <tr>\\n         <td>\\n          M4K\\n         </td>\\n         <td>\\n          <a href=\"/wiki/East_Toronto\" title=\"East Toronto\">\\n           East Toronto\\n          </a>\\n         </td>\\n         <td>\\n          The Danforth West\\n         </td>\\n        </tr>\\n        <tr>\\n         <td>\\n          M4K\\n         </td>\\n         <td>\\n          <a href=\"/wiki/East_Toronto\" title=\"East Toronto\">\\n           East Toronto\\n          </a>\\n         </td>\\n         <td>\\n          <a href=\"/wiki/Riverdale,_Toronto\" title=\"Riverdale, Toronto\">\\n           Riverdale\\n          </a>\\n         </td>\\n        </tr>\\n        <tr>\\n         <td>\\n          M5K\\n         </td>\\n         <td>\\n          <a href=\"/wiki/Downtown_Toronto\" title=\"Downtown Toronto\">\\n           Downtown Toronto\\n          </a>\\n         </td>\\n         <td>\\n          <a href=\"/wiki/Design_Exchange\" title=\"Design Exchange\">\\n           Design Exchange\\n          </a>\\n         </td>\\n        </tr>\\n        <tr>\\n         <td>\\n          M5K\\n         </td>\\n         <td>\\n          <a href=\"/wiki/Downtown_Toronto\" title=\"Downtown Toronto\">\\n           Downtown Toronto\\n          </a>\\n         </td>\\n         <td>\\n          <a class=\"mw-redirect\" href=\"/wiki/Toronto_Dominion_Centre\" title=\"Toronto Dominion Centre\">\\n           Toronto Dominion Centre\\n          </a>\\n         </td>\\n        </tr>\\n        <tr>\\n         <td>\\n          M6K\\n         </td>\\n         <td>\\n          <a href=\"/wiki/West_Toronto\" title=\"West Toronto\">\\n           West Toronto\\n          </a>\\n         </td>\\n         <td>\\n          Brockton\\n         </td>\\n        </tr>\\n        <tr>\\n         <td>\\n          M6K\\n         </td>\\n         <td>\\n          <a href=\"/wiki/West_Toronto\" title=\"West Toronto\">\\n           West Toronto\\n          </a>\\n         </td>\\n         <td>\\n          <a href=\"/wiki/Exhibition_Place\" title=\"Exhibition Place\">\\n           Exhibition Place\\n          </a>\\n         </td>\\n        </tr>\\n        <tr>\\n         <td>\\n          M6K\\n         </td>\\n         <td>\\n          <a href=\"/wiki/West_Toronto\" title=\"West Toronto\">\\n           West Toronto\\n          </a>\\n         </td>\\n         <td>\\n          <a class=\"mw-redirect\" href=\"/wiki/Parkdale_Village\" title=\"Parkdale Village\">\\n           Parkdale Village\\n          </a>\\n         </td>\\n        </tr>\\n        <tr>\\n         <td>\\n          M7K\\n         </td>\\n         <td>\\n          Not assigned\\n         </td>\\n         <td>\\n          Not assigned\\n         </td>\\n        </tr>\\n        <tr>\\n         <td>\\n          M8K\\n         </td>\\n         <td>\\n          Not assigned\\n         </td>\\n         <td>\\n          Not assigned\\n         </td>\\n        </tr>\\n        <tr>\\n         <td>\\n          M9K\\n         </td>\\n         <td>\\n          Not assigned\\n         </td>\\n         <td>\\n          Not assigned\\n         </td>\\n        </tr>\\n        <tr>\\n         <td>\\n          M1L\\n         </td>\\n         <td>\\n          <a href=\"/wiki/Scarborough,_Toronto\" title=\"Scarborough, Toronto\">\\n           Scarborough\\n          </a>\\n         </td>\\n         <td>\\n          <a href=\"/wiki/Clairlea\" title=\"Clairlea\">\\n           Clairlea\\n          </a>\\n         </td>\\n        </tr>\\n        <tr>\\n         <td>\\n          M1L\\n         </td>\\n         <td>\\n          <a href=\"/wiki/Scarborough,_Toronto\" title=\"Scarborough, Toronto\">\\n           Scarborough\\n          </a>\\n         </td>\\n         <td>\\n          <a href=\"/wiki/Golden_Mile,_Toronto\" title=\"Golden Mile, Toronto\">\\n           Golden Mile\\n          </a>\\n         </td>\\n        </tr>\\n        <tr>\\n         <td>\\n          M1L\\n         </td>\\n         <td>\\n          <a href=\"/wiki/Scarborough,_Toronto\" title=\"Scarborough, Toronto\">\\n           Scarborough\\n          </a>\\n         </td>\\n         <td>\\n          <a href=\"/wiki/Oakridge,_Toronto\" title=\"Oakridge, Toronto\">\\n           Oakridge\\n          </a>\\n         </td>\\n        </tr>\\n        <tr>\\n         <td>\\n          M2L\\n         </td>\\n         <td>\\n          <a href=\"/wiki/North_York\" title=\"North York\">\\n           North York\\n          </a>\\n         </td>\\n         <td>\\n          <a class=\"mw-redirect\" href=\"/wiki/Silver_Hills\" title=\"Silver Hills\">\\n           Silver Hills\\n          </a>\\n         </td>\\n        </tr>\\n        <tr>\\n         <td>\\n          M2L\\n         </td>\\n         <td>\\n          <a href=\"/wiki/North_York\" title=\"North York\">\\n           North York\\n          </a>\\n         </td>\\n         <td>\\n          <a href=\"/wiki/York_Mills\" title=\"York Mills\">\\n           York Mills\\n          </a>\\n         </td>\\n        </tr>\\n        <tr>\\n         <td>\\n          M3L\\n         </td>\\n         <td>\\n          <a href=\"/wiki/North_York\" title=\"North York\">\\n           North York\\n          </a>\\n         </td>\\n         <td>\\n          <a href=\"/wiki/Downsview\" title=\"Downsview\">\\n           Downsview West\\n          </a>\\n         </td>\\n        </tr>\\n        <tr>\\n         <td>\\n          M4L\\n         </td>\\n         <td>\\n          <a href=\"/wiki/East_Toronto\" title=\"East Toronto\">\\n           East Toronto\\n          </a>\\n         </td>\\n         <td>\\n          The Beaches West\\n         </td>\\n        </tr>\\n        <tr>\\n         <td>\\n          M4L\\n         </td>\\n         <td>\\n          <a href=\"/wiki/East_Toronto\" title=\"East Toronto\">\\n           East Toronto\\n          </a>\\n         </td>\\n         <td>\\n          <a class=\"mw-redirect\" href=\"/wiki/India_Bazaar\" title=\"India Bazaar\">\\n           India Bazaar\\n          </a>\\n         </td>\\n        </tr>\\n        <tr>\\n         <td>\\n          M5L\\n         </td>\\n         <td>\\n          <a href=\"/wiki/Downtown_Toronto\" title=\"Downtown Toronto\">\\n           Downtown Toronto\\n          </a>\\n         </td>\\n         <td>\\n          <a href=\"/wiki/Commerce_Court\" title=\"Commerce Court\">\\n           Commerce Court\\n          </a>\\n         </td>\\n        </tr>\\n        <tr>\\n         <td>\\n          M5L\\n         </td>\\n         <td>\\n          <a href=\"/wiki/Downtown_Toronto\" title=\"Downtown Toronto\">\\n           Downtown Toronto\\n          </a>\\n         </td>\\n         <td>\\n          Victoria Hotel\\n         </td>\\n        </tr>\\n        <tr>\\n         <td>\\n          M6L\\n         </td>\\n         <td>\\n          <a href=\"/wiki/North_York\" title=\"North York\">\\n           North York\\n          </a>\\n         </td>\\n         <td>\\n          <a class=\"mw-redirect\" href=\"/wiki/Maple_Leaf_Park\" title=\"Maple Leaf Park\">\\n           Maple Leaf Park\\n          </a>\\n         </td>\\n        </tr>\\n        <tr>\\n         <td>\\n          M6L\\n         </td>\\n         <td>\\n          <a href=\"/wiki/North_York\" title=\"North York\">\\n           North York\\n          </a>\\n         </td>\\n         <td>\\n          North Park\\n         </td>\\n        </tr>\\n        <tr>\\n         <td>\\n          M6L\\n         </td>\\n         <td>\\n          <a href=\"/wiki/North_York\" title=\"North York\">\\n           North York\\n          </a>\\n         </td>\\n         <td>\\n          Upwood Park\\n         </td>\\n        </tr>\\n        <tr>\\n         <td>\\n          M7L\\n         </td>\\n         <td>\\n          Not assigned\\n         </td>\\n         <td>\\n          Not assigned\\n         </td>\\n        </tr>\\n        <tr>\\n         <td>\\n          M8L\\n         </td>\\n         <td>\\n          Not assigned\\n         </td>\\n         <td>\\n          Not assigned\\n         </td>\\n        </tr>\\n        <tr>\\n         <td>\\n          M9L\\n         </td>\\n         <td>\\n          <a href=\"/wiki/North_York\" title=\"North York\">\\n           North York\\n          </a>\\n         </td>\\n         <td>\\n          <a href=\"/wiki/Humber_Summit\" title=\"Humber Summit\">\\n           Humber Summit\\n          </a>\\n         </td>\\n        </tr>\\n        <tr>\\n         <td>\\n          M1M\\n         </td>\\n         <td>\\n          <a href=\"/wiki/Scarborough,_Toronto\" title=\"Scarborough, Toronto\">\\n           Scarborough\\n          </a>\\n         </td>\\n         <td>\\n          <a href=\"/wiki/Cliffcrest\" title=\"Cliffcrest\">\\n           Cliffcrest\\n          </a>\\n         </td>\\n        </tr>\\n        <tr>\\n         <td>\\n          M1M\\n         </td>\\n         <td>\\n          <a href=\"/wiki/Scarborough,_Toronto\" title=\"Scarborough, Toronto\">\\n           Scarborough\\n          </a>\\n         </td>\\n         <td>\\n          <a href=\"/wiki/Cliffside,_Toronto\" title=\"Cliffside, Toronto\">\\n           Cliffside\\n          </a>\\n         </td>\\n        </tr>\\n        <tr>\\n         <td>\\n          M1M\\n         </td>\\n         <td>\\n          <a href=\"/wiki/Scarborough,_Toronto\" title=\"Scarborough, Toronto\">\\n           Scarborough\\n          </a>\\n         </td>\\n         <td>\\n          Scarborough Village West\\n         </td>\\n        </tr>\\n        <tr>\\n         <td>\\n          M2M\\n         </td>\\n         <td>\\n          <a href=\"/wiki/North_York\" title=\"North York\">\\n           North York\\n          </a>\\n         </td>\\n         <td>\\n          <a href=\"/wiki/Newtonbrook\" title=\"Newtonbrook\">\\n           Newtonbrook\\n          </a>\\n         </td>\\n        </tr>\\n        <tr>\\n         <td>\\n          M2M\\n         </td>\\n         <td>\\n          <a href=\"/wiki/North_York\" title=\"North York\">\\n           North York\\n          </a>\\n         </td>\\n         <td>\\n          <a href=\"/wiki/Willowdale,_Toronto\" title=\"Willowdale, Toronto\">\\n           Willowdale\\n          </a>\\n         </td>\\n        </tr>\\n        <tr>\\n         <td>\\n          M3M\\n         </td>\\n         <td>\\n          <a href=\"/wiki/North_York\" title=\"North York\">\\n           North York\\n          </a>\\n         </td>\\n         <td>\\n          Downsview Central\\n         </td>\\n        </tr>\\n        <tr>\\n         <td>\\n          M4M\\n         </td>\\n         <td>\\n          <a href=\"/wiki/East_Toronto\" title=\"East Toronto\">\\n           East Toronto\\n          </a>\\n         </td>\\n         <td>\\n          Studio District\\n         </td>\\n        </tr>\\n        <tr>\\n         <td>\\n          M5M\\n         </td>\\n         <td>\\n          <a href=\"/wiki/North_York\" title=\"North York\">\\n           North York\\n          </a>\\n         </td>\\n         <td>\\n          <a href=\"/wiki/Bedford_Park,_Toronto\" title=\"Bedford Park, Toronto\">\\n           Bedford Park\\n          </a>\\n         </td>\\n        </tr>\\n        <tr>\\n         <td>\\n          M5M\\n         </td>\\n         <td>\\n          <a href=\"/wiki/North_York\" title=\"North York\">\\n           North York\\n          </a>\\n         </td>\\n         <td>\\n          Lawrence Manor East\\n         </td>\\n        </tr>\\n        <tr>\\n         <td>\\n          M6M\\n         </td>\\n         <td>\\n          <a href=\"/wiki/York\" title=\"York\">\\n           York\\n          </a>\\n         </td>\\n         <td>\\n          Del Ray\\n         </td>\\n        </tr>\\n        <tr>\\n         <td>\\n          M6M\\n         </td>\\n         <td>\\n          <a href=\"/wiki/York\" title=\"York\">\\n           York\\n          </a>\\n         </td>\\n         <td>\\n          <a class=\"mw-redirect\" href=\"/wiki/Keelsdale\" title=\"Keelsdale\">\\n           Keelsdale\\n          </a>\\n         </td>\\n        </tr>\\n        <tr>\\n         <td>\\n          M6M\\n         </td>\\n         <td>\\n          <a href=\"/wiki/York\" title=\"York\">\\n           York\\n          </a>\\n         </td>\\n         <td>\\n          <a href=\"/wiki/Mount_Dennis\" title=\"Mount Dennis\">\\n           Mount Dennis\\n          </a>\\n         </td>\\n        </tr>\\n        <tr>\\n         <td>\\n          M6M\\n         </td>\\n         <td>\\n          <a href=\"/wiki/York\" title=\"York\">\\n           York\\n          </a>\\n         </td>\\n         <td>\\n          <a href=\"/wiki/Silverthorn,_Toronto\" title=\"Silverthorn, Toronto\">\\n           Silverthorn\\n          </a>\\n         </td>\\n        </tr>\\n        <tr>\\n         <td>\\n          M7M\\n         </td>\\n         <td>\\n          Not assigned\\n         </td>\\n         <td>\\n          Not assigned\\n         </td>\\n        </tr>\\n        <tr>\\n         <td>\\n          M8M\\n         </td>\\n         <td>\\n          Not assigned\\n         </td>\\n         <td>\\n          Not assigned\\n         </td>\\n        </tr>\\n        <tr>\\n         <td>\\n          M9M\\n         </td>\\n         <td>\\n          <a href=\"/wiki/North_York\" title=\"North York\">\\n           North York\\n          </a>\\n         </td>\\n         <td>\\n          <a class=\"mw-redirect\" href=\"/wiki/Emery,_Toronto\" title=\"Emery, Toronto\">\\n           Emery\\n          </a>\\n         </td>\\n        </tr>\\n        <tr>\\n         <td>\\n          M9M\\n         </td>\\n         <td>\\n          <a href=\"/wiki/North_York\" title=\"North York\">\\n           North York\\n          </a>\\n         </td>\\n         <td>\\n          <a class=\"mw-redirect\" href=\"/wiki/Humberlea\" title=\"Humberlea\">\\n           Humberlea\\n          </a>\\n         </td>\\n        </tr>\\n        <tr>\\n         <td>\\n          M1N\\n         </td>\\n         <td>\\n          <a href=\"/wiki/Scarborough,_Toronto\" title=\"Scarborough, Toronto\">\\n           Scarborough\\n          </a>\\n         </td>\\n         <td>\\n          <a href=\"/wiki/Birch_Cliff\" title=\"Birch Cliff\">\\n           Birch Cliff\\n          </a>\\n         </td>\\n        </tr>\\n        <tr>\\n         <td>\\n          M1N\\n         </td>\\n         <td>\\n          <a href=\"/wiki/Scarborough,_Toronto\" title=\"Scarborough, Toronto\">\\n           Scarborough\\n          </a>\\n         </td>\\n         <td>\\n          Cliffside West\\n         </td>\\n        </tr>\\n        <tr>\\n         <td>\\n          M2N\\n         </td>\\n         <td>\\n          <a href=\"/wiki/North_York\" title=\"North York\">\\n           North York\\n          </a>\\n         </td>\\n         <td>\\n          Willowdale South\\n         </td>\\n        </tr>\\n        <tr>\\n         <td>\\n          M3N\\n         </td>\\n         <td>\\n          <a href=\"/wiki/North_York\" title=\"North York\">\\n           North York\\n          </a>\\n         </td>\\n         <td>\\n          Downsview Northwest\\n         </td>\\n        </tr>\\n        <tr>\\n         <td>\\n          M4N\\n         </td>\\n         <td>\\n          <a class=\"mw-redirect\" href=\"/wiki/Central_Toronto\" title=\"Central Toronto\">\\n           Central Toronto\\n          </a>\\n         </td>\\n         <td>\\n          <a href=\"/wiki/Lawrence_Park,_Toronto\" title=\"Lawrence Park, Toronto\">\\n           Lawrence Park\\n          </a>\\n         </td>\\n        </tr>\\n        <tr>\\n         <td>\\n          M5N\\n         </td>\\n         <td>\\n          <a class=\"mw-redirect\" href=\"/wiki/Central_Toronto\" title=\"Central Toronto\">\\n           Central Toronto\\n          </a>\\n         </td>\\n         <td>\\n          Roselawn\\n         </td>\\n        </tr>\\n        <tr>\\n         <td>\\n          M6N\\n         </td>\\n         <td>\\n          <a href=\"/wiki/York\" title=\"York\">\\n           York\\n          </a>\\n         </td>\\n         <td>\\n          The Junction North\\n         </td>\\n        </tr>\\n        <tr>\\n         <td>\\n          M6N\\n         </td>\\n         <td>\\n          <a href=\"/wiki/York\" title=\"York\">\\n           York\\n          </a>\\n         </td>\\n         <td>\\n          Runnymede\\n         </td>\\n        </tr>\\n        <tr>\\n         <td>\\n          M7N\\n         </td>\\n         <td>\\n          Not assigned\\n         </td>\\n         <td>\\n          Not assigned\\n         </td>\\n        </tr>\\n        <tr>\\n         <td>\\n          M8N\\n         </td>\\n         <td>\\n          Not assigned\\n         </td>\\n         <td>\\n          Not assigned\\n         </td>\\n        </tr>\\n        <tr>\\n         <td>\\n          M9N\\n         </td>\\n         <td>\\n          <a href=\"/wiki/York\" title=\"York\">\\n           York\\n          </a>\\n         </td>\\n         <td>\\n          <a href=\"/wiki/Weston,_Toronto\" title=\"Weston, Toronto\">\\n           Weston\\n          </a>\\n         </td>\\n        </tr>\\n        <tr>\\n         <td>\\n          M1P\\n         </td>\\n         <td>\\n          <a href=\"/wiki/Scarborough,_Toronto\" title=\"Scarborough, Toronto\">\\n           Scarborough\\n          </a>\\n         </td>\\n         <td>\\n          <a href=\"/wiki/Dorset_Park\" title=\"Dorset Park\">\\n           Dorset Park\\n          </a>\\n         </td>\\n        </tr>\\n        <tr>\\n         <td>\\n          M1P\\n         </td>\\n         <td>\\n          <a href=\"/wiki/Scarborough,_Toronto\" title=\"Scarborough, Toronto\">\\n           Scarborough\\n          </a>\\n         </td>\\n         <td>\\n          <a href=\"/wiki/Scarborough_Town_Centre\" title=\"Scarborough Town Centre\">\\n           Scarborough Town Centre\\n          </a>\\n         </td>\\n        </tr>\\n        <tr>\\n         <td>\\n          M1P\\n         </td>\\n         <td>\\n          <a href=\"/wiki/Scarborough,_Toronto\" title=\"Scarborough, Toronto\">\\n           Scarborough\\n          </a>\\n         </td>\\n         <td>\\n          <a class=\"mw-redirect\" href=\"/wiki/Wexford_Heights\" title=\"Wexford Heights\">\\n           Wexford Heights\\n          </a>\\n         </td>\\n        </tr>\\n        <tr>\\n         <td>\\n          M2P\\n         </td>\\n         <td>\\n          <a href=\"/wiki/North_York\" title=\"North York\">\\n           North York\\n          </a>\\n         </td>\\n         <td>\\n          York Mills West\\n         </td>\\n        </tr>\\n        <tr>\\n         <td>\\n          M3P\\n         </td>\\n         <td>\\n          Not assigned\\n         </td>\\n         <td>\\n          Not assigned\\n         </td>\\n        </tr>\\n        <tr>\\n         <td>\\n          M4P\\n         </td>\\n         <td>\\n          <a class=\"mw-redirect\" href=\"/wiki/Central_Toronto\" title=\"Central Toronto\">\\n           Central Toronto\\n          </a>\\n         </td>\\n         <td>\\n          Davisville North\\n         </td>\\n        </tr>\\n        <tr>\\n         <td>\\n          M5P\\n         </td>\\n         <td>\\n          <a class=\"mw-redirect\" href=\"/wiki/Central_Toronto\" title=\"Central Toronto\">\\n           Central Toronto\\n          </a>\\n         </td>\\n         <td>\\n          <a class=\"mw-redirect\" href=\"/wiki/Forest_Hill_North\" title=\"Forest Hill North\">\\n           Forest Hill North\\n          </a>\\n         </td>\\n        </tr>\\n        <tr>\\n         <td>\\n          M5P\\n         </td>\\n         <td>\\n          <a class=\"mw-redirect\" href=\"/wiki/Central_Toronto\" title=\"Central Toronto\">\\n           Central Toronto\\n          </a>\\n         </td>\\n         <td>\\n          Forest Hill West\\n         </td>\\n        </tr>\\n        <tr>\\n         <td>\\n          M6P\\n         </td>\\n         <td>\\n          <a href=\"/wiki/West_Toronto\" title=\"West Toronto\">\\n           West Toronto\\n          </a>\\n         </td>\\n         <td>\\n          <a href=\"/wiki/High_Park\" title=\"High Park\">\\n           High Park\\n          </a>\\n         </td>\\n        </tr>\\n        <tr>\\n         <td>\\n          M6P\\n         </td>\\n         <td>\\n          <a href=\"/wiki/West_Toronto\" title=\"West Toronto\">\\n           West Toronto\\n          </a>\\n         </td>\\n         <td>\\n          The Junction South\\n         </td>\\n        </tr>\\n        <tr>\\n         <td>\\n          M7P\\n         </td>\\n         <td>\\n          Not assigned\\n         </td>\\n         <td>\\n          Not assigned\\n         </td>\\n        </tr>\\n        <tr>\\n         <td>\\n          M8P\\n         </td>\\n         <td>\\n          Not assigned\\n         </td>\\n         <td>\\n          Not assigned\\n         </td>\\n        </tr>\\n        <tr>\\n         <td>\\n          M9P\\n         </td>\\n         <td>\\n          <a href=\"/wiki/Etobicoke\" title=\"Etobicoke\">\\n           Etobicoke\\n          </a>\\n         </td>\\n         <td>\\n          <a class=\"mw-redirect\" href=\"/wiki/Westmount\" title=\"Westmount\">\\n           Westmount\\n          </a>\\n         </td>\\n        </tr>\\n        <tr>\\n         <td>\\n          M1R\\n         </td>\\n         <td>\\n          <a href=\"/wiki/Scarborough,_Toronto\" title=\"Scarborough, Toronto\">\\n           Scarborough\\n          </a>\\n         </td>\\n         <td>\\n          <a href=\"/wiki/Maryvale,_Toronto\" title=\"Maryvale, Toronto\">\\n           Maryvale\\n          </a>\\n         </td>\\n        </tr>\\n        <tr>\\n         <td>\\n          M1R\\n         </td>\\n         <td>\\n          <a href=\"/wiki/Scarborough,_Toronto\" title=\"Scarborough, Toronto\">\\n           Scarborough\\n          </a>\\n         </td>\\n         <td>\\n          <a href=\"/wiki/Wexford\" title=\"Wexford\">\\n           Wexford\\n          </a>\\n         </td>\\n        </tr>\\n        <tr>\\n         <td>\\n          M2R\\n         </td>\\n         <td>\\n          <a href=\"/wiki/North_York\" title=\"North York\">\\n           North York\\n          </a>\\n         </td>\\n         <td>\\n          <a class=\"mw-redirect\" href=\"/wiki/Willowdale_West\" title=\"Willowdale West\">\\n           Willowdale West\\n          </a>\\n         </td>\\n        </tr>\\n        <tr>\\n         <td>\\n          M3R\\n         </td>\\n         <td>\\n          Not assigned\\n         </td>\\n         <td>\\n          Not assigned\\n         </td>\\n        </tr>\\n        <tr>\\n         <td>\\n          M4R\\n         </td>\\n         <td>\\n          <a class=\"mw-redirect\" href=\"/wiki/Central_Toronto\" title=\"Central Toronto\">\\n           Central Toronto\\n          </a>\\n         </td>\\n         <td>\\n          North Toronto West\\n         </td>\\n        </tr>\\n        <tr>\\n         <td>\\n          M5R\\n         </td>\\n         <td>\\n          <a class=\"mw-redirect\" href=\"/wiki/Central_Toronto\" title=\"Central Toronto\">\\n           Central Toronto\\n          </a>\\n         </td>\\n         <td>\\n          <a href=\"/wiki/The_Annex\" title=\"The Annex\">\\n           The Annex\\n          </a>\\n         </td>\\n        </tr>\\n        <tr>\\n         <td>\\n          M5R\\n         </td>\\n         <td>\\n          <a class=\"mw-redirect\" href=\"/wiki/Central_Toronto\" title=\"Central Toronto\">\\n           Central Toronto\\n          </a>\\n         </td>\\n         <td>\\n          North Midtown\\n         </td>\\n        </tr>\\n        <tr>\\n         <td>\\n          M5R\\n         </td>\\n         <td>\\n          <a class=\"mw-redirect\" href=\"/wiki/Central_Toronto\" title=\"Central Toronto\">\\n           Central Toronto\\n          </a>\\n         </td>\\n         <td>\\n          <a href=\"/wiki/Yorkville,_Toronto\" title=\"Yorkville, Toronto\">\\n           Yorkville\\n          </a>\\n         </td>\\n        </tr>\\n        <tr>\\n         <td>\\n          M6R\\n         </td>\\n         <td>\\n          <a href=\"/wiki/West_Toronto\" title=\"West Toronto\">\\n           West Toronto\\n          </a>\\n         </td>\\n         <td>\\n          <a href=\"/wiki/Parkdale,_Toronto\" title=\"Parkdale, Toronto\">\\n           Parkdale\\n          </a>\\n         </td>\\n        </tr>\\n        <tr>\\n         <td>\\n          M6R\\n         </td>\\n         <td>\\n          <a href=\"/wiki/West_Toronto\" title=\"West Toronto\">\\n           West Toronto\\n          </a>\\n         </td>\\n         <td>\\n          <a href=\"/wiki/Roncesvalles\" title=\"Roncesvalles\">\\n           Roncesvalles\\n          </a>\\n         </td>\\n        </tr>\\n        <tr>\\n         <td>\\n          M7R\\n         </td>\\n         <td>\\n          Mississauga\\n         </td>\\n         <td>\\n          Canada Post Gateway Processing Centre\\n         </td>\\n        </tr>\\n        <tr>\\n         <td>\\n          M8R\\n         </td>\\n         <td>\\n          Not assigned\\n         </td>\\n         <td>\\n          Not assigned\\n         </td>\\n        </tr>\\n        <tr>\\n         <td>\\n          M9R\\n         </td>\\n         <td>\\n          <a href=\"/wiki/Etobicoke\" title=\"Etobicoke\">\\n           Etobicoke\\n          </a>\\n         </td>\\n         <td>\\n          <a href=\"/wiki/Kingsview_Village\" title=\"Kingsview Village\">\\n           Kingsview Village\\n          </a>\\n         </td>\\n        </tr>\\n        <tr>\\n         <td>\\n          M9R\\n         </td>\\n         <td>\\n          <a href=\"/wiki/Etobicoke\" title=\"Etobicoke\">\\n           Etobicoke\\n          </a>\\n         </td>\\n         <td>\\n          Martin Grove Gardens\\n         </td>\\n        </tr>\\n        <tr>\\n         <td>\\n          M9R\\n         </td>\\n         <td>\\n          <a href=\"/wiki/Etobicoke\" title=\"Etobicoke\">\\n           Etobicoke\\n          </a>\\n         </td>\\n         <td>\\n          Richview Gardens\\n         </td>\\n        </tr>\\n        <tr>\\n         <td>\\n          M9R\\n         </td>\\n         <td>\\n          <a href=\"/wiki/Etobicoke\" title=\"Etobicoke\">\\n           Etobicoke\\n          </a>\\n         </td>\\n         <td>\\n          St. Phillips\\n         </td>\\n        </tr>\\n        <tr>\\n         <td>\\n          M1S\\n         </td>\\n         <td>\\n          <a href=\"/wiki/Scarborough,_Toronto\" title=\"Scarborough, Toronto\">\\n           Scarborough\\n          </a>\\n         </td>\\n         <td>\\n          <a href=\"/wiki/Agincourt,_Toronto\" title=\"Agincourt, Toronto\">\\n           Agincourt\\n          </a>\\n         </td>\\n        </tr>\\n        <tr>\\n         <td>\\n          M2S\\n         </td>\\n         <td>\\n          Not assigned\\n         </td>\\n         <td>\\n          Not assigned\\n         </td>\\n        </tr>\\n        <tr>\\n         <td>\\n          M3S\\n         </td>\\n         <td>\\n          Not assigned\\n         </td>\\n         <td>\\n          Not assigned\\n         </td>\\n        </tr>\\n        <tr>\\n         <td>\\n          M4S\\n         </td>\\n         <td>\\n          <a class=\"mw-redirect\" href=\"/wiki/Central_Toronto\" title=\"Central Toronto\">\\n           Central Toronto\\n          </a>\\n         </td>\\n         <td>\\n          Davisville\\n         </td>\\n        </tr>\\n        <tr>\\n         <td>\\n          M5S\\n         </td>\\n         <td>\\n          <a href=\"/wiki/Downtown_Toronto\" title=\"Downtown Toronto\">\\n           Downtown Toronto\\n          </a>\\n         </td>\\n         <td>\\n          Harbord\\n         </td>\\n        </tr>\\n        <tr>\\n         <td>\\n          M5S\\n         </td>\\n         <td>\\n          <a href=\"/wiki/Downtown_Toronto\" title=\"Downtown Toronto\">\\n           Downtown Toronto\\n          </a>\\n         </td>\\n         <td>\\n          <a href=\"/wiki/University_of_Toronto\" title=\"University of Toronto\">\\n           University of Toronto\\n          </a>\\n         </td>\\n        </tr>\\n        <tr>\\n         <td>\\n          M6S\\n         </td>\\n         <td>\\n          <a href=\"/wiki/West_Toronto\" title=\"West Toronto\">\\n           West Toronto\\n          </a>\\n         </td>\\n         <td>\\n          <a href=\"/wiki/Runnymede\" title=\"Runnymede\">\\n           Runnymede\\n          </a>\\n         </td>\\n        </tr>\\n        <tr>\\n         <td>\\n          M6S\\n         </td>\\n         <td>\\n          <a href=\"/wiki/West_Toronto\" title=\"West Toronto\">\\n           West Toronto\\n          </a>\\n         </td>\\n         <td>\\n          <a href=\"/wiki/Swansea\" title=\"Swansea\">\\n           Swansea\\n          </a>\\n         </td>\\n        </tr>\\n        <tr>\\n         <td>\\n          M7S\\n         </td>\\n         <td>\\n          Not assigned\\n         </td>\\n         <td>\\n          Not assigned\\n         </td>\\n        </tr>\\n        <tr>\\n         <td>\\n          M8S\\n         </td>\\n         <td>\\n          Not assigned\\n         </td>\\n         <td>\\n          Not assigned\\n         </td>\\n        </tr>\\n        <tr>\\n         <td>\\n          M9S\\n         </td>\\n         <td>\\n          Not assigned\\n         </td>\\n         <td>\\n          Not assigned\\n         </td>\\n        </tr>\\n        <tr>\\n         <td>\\n          M1T\\n         </td>\\n         <td>\\n          <a href=\"/wiki/Scarborough,_Toronto\" title=\"Scarborough, Toronto\">\\n           Scarborough\\n          </a>\\n         </td>\\n         <td>\\n          Clarks Corners\\n         </td>\\n        </tr>\\n        <tr>\\n         <td>\\n          M1T\\n         </td>\\n         <td>\\n          <a href=\"/wiki/Scarborough,_Toronto\" title=\"Scarborough, Toronto\">\\n           Scarborough\\n          </a>\\n         </td>\\n         <td>\\n          Sullivan\\n         </td>\\n        </tr>\\n        <tr>\\n         <td>\\n          M1T\\n         </td>\\n         <td>\\n          <a href=\"/wiki/Scarborough,_Toronto\" title=\"Scarborough, Toronto\">\\n           Scarborough\\n          </a>\\n         </td>\\n         <td>\\n          <a href=\"/wiki/Tam_O%27Shanter_%E2%80%93_Sullivan\" title=\"Tam O\\'Shanter – Sullivan\">\\n           Tam O\\'Shanter\\n          </a>\\n         </td>\\n        </tr>\\n        <tr>\\n         <td>\\n          M2T\\n         </td>\\n         <td>\\n          Not assigned\\n         </td>\\n         <td>\\n          Not assigned\\n         </td>\\n        </tr>\\n        <tr>\\n         <td>\\n          M3T\\n         </td>\\n         <td>\\n          Not assigned\\n         </td>\\n         <td>\\n          Not assigned\\n         </td>\\n        </tr>\\n        <tr>\\n         <td>\\n          M4T\\n         </td>\\n         <td>\\n          <a class=\"mw-redirect\" href=\"/wiki/Central_Toronto\" title=\"Central Toronto\">\\n           Central Toronto\\n          </a>\\n         </td>\\n         <td>\\n          <a href=\"/wiki/Moore_Park,_Toronto\" title=\"Moore Park, Toronto\">\\n           Moore Park\\n          </a>\\n         </td>\\n        </tr>\\n        <tr>\\n         <td>\\n          M4T\\n         </td>\\n         <td>\\n          <a class=\"mw-redirect\" href=\"/wiki/Central_Toronto\" title=\"Central Toronto\">\\n           Central Toronto\\n          </a>\\n         </td>\\n         <td>\\n          Summerhill East\\n         </td>\\n        </tr>\\n        <tr>\\n         <td>\\n          M5T\\n         </td>\\n         <td>\\n          <a href=\"/wiki/Downtown_Toronto\" title=\"Downtown Toronto\">\\n           Downtown Toronto\\n          </a>\\n         </td>\\n         <td>\\n          <a href=\"/wiki/Chinatown\" title=\"Chinatown\">\\n           Chinatown\\n          </a>\\n         </td>\\n        </tr>\\n        <tr>\\n         <td>\\n          M5T\\n         </td>\\n         <td>\\n          <a href=\"/wiki/Downtown_Toronto\" title=\"Downtown Toronto\">\\n           Downtown Toronto\\n          </a>\\n         </td>\\n         <td>\\n          <a href=\"/wiki/Grange_Park_(Toronto)\" title=\"Grange Park (Toronto)\">\\n           Grange Park\\n          </a>\\n         </td>\\n        </tr>\\n        <tr>\\n         <td>\\n          M5T\\n         </td>\\n         <td>\\n          <a href=\"/wiki/Downtown_Toronto\" title=\"Downtown Toronto\">\\n           Downtown Toronto\\n          </a>\\n         </td>\\n         <td>\\n          <a href=\"/wiki/Kensington_Market\" title=\"Kensington Market\">\\n           Kensington Market\\n          </a>\\n         </td>\\n        </tr>\\n        <tr>\\n         <td>\\n          M6T\\n         </td>\\n         <td>\\n          Not assigned\\n         </td>\\n         <td>\\n          Not assigned\\n         </td>\\n        </tr>\\n        <tr>\\n         <td>\\n          M7T\\n         </td>\\n         <td>\\n          Not assigned\\n         </td>\\n         <td>\\n          Not assigned\\n         </td>\\n        </tr>\\n        <tr>\\n         <td>\\n          M8T\\n         </td>\\n         <td>\\n          Not assigned\\n         </td>\\n         <td>\\n          Not assigned\\n         </td>\\n        </tr>\\n        <tr>\\n         <td>\\n          M9T\\n         </td>\\n         <td>\\n          Not assigned\\n         </td>\\n         <td>\\n          Not assigned\\n         </td>\\n        </tr>\\n        <tr>\\n         <td>\\n          M1V\\n         </td>\\n         <td>\\n          <a href=\"/wiki/Scarborough,_Toronto\" title=\"Scarborough, Toronto\">\\n           Scarborough\\n          </a>\\n         </td>\\n         <td>\\n          <a class=\"mw-redirect\" href=\"/wiki/Agincourt_North\" title=\"Agincourt North\">\\n           Agincourt North\\n          </a>\\n         </td>\\n        </tr>\\n        <tr>\\n         <td>\\n          M1V\\n         </td>\\n         <td>\\n          <a href=\"/wiki/Scarborough,_Toronto\" title=\"Scarborough, Toronto\">\\n           Scarborough\\n          </a>\\n         </td>\\n         <td>\\n          L\\'Amoreaux East\\n         </td>\\n        </tr>\\n        <tr>\\n         <td>\\n          M1V\\n         </td>\\n         <td>\\n          <a href=\"/wiki/Scarborough,_Toronto\" title=\"Scarborough, Toronto\">\\n           Scarborough\\n          </a>\\n         </td>\\n         <td>\\n          <a href=\"/wiki/Milliken,_Ontario\" title=\"Milliken, Ontario\">\\n           Milliken\\n          </a>\\n         </td>\\n        </tr>\\n        <tr>\\n         <td>\\n          M1V\\n         </td>\\n         <td>\\n          <a href=\"/wiki/Scarborough,_Toronto\" title=\"Scarborough, Toronto\">\\n           Scarborough\\n          </a>\\n         </td>\\n         <td>\\n          Steeles East\\n         </td>\\n        </tr>\\n        <tr>\\n         <td>\\n          M2V\\n         </td>\\n         <td>\\n          Not assigned\\n         </td>\\n         <td>\\n          Not assigned\\n         </td>\\n        </tr>\\n        <tr>\\n         <td>\\n          M3V\\n         </td>\\n         <td>\\n          Not assigned\\n         </td>\\n         <td>\\n          Not assigned\\n         </td>\\n        </tr>\\n        <tr>\\n         <td>\\n          M4V\\n         </td>\\n         <td>\\n          <a class=\"mw-redirect\" href=\"/wiki/Central_Toronto\" title=\"Central Toronto\">\\n           Central Toronto\\n          </a>\\n         </td>\\n         <td>\\n          <a href=\"/wiki/Deer_Park,_Toronto\" title=\"Deer Park, Toronto\">\\n           Deer Park\\n          </a>\\n         </td>\\n        </tr>\\n        <tr>\\n         <td>\\n          M4V\\n         </td>\\n         <td>\\n          <a class=\"mw-redirect\" href=\"/wiki/Central_Toronto\" title=\"Central Toronto\">\\n           Central Toronto\\n          </a>\\n         </td>\\n         <td>\\n          Forest Hill SE\\n         </td>\\n        </tr>\\n        <tr>\\n         <td>\\n          M4V\\n         </td>\\n         <td>\\n          <a class=\"mw-redirect\" href=\"/wiki/Central_Toronto\" title=\"Central Toronto\">\\n           Central Toronto\\n          </a>\\n         </td>\\n         <td>\\n          <a class=\"mw-redirect\" href=\"/wiki/Rathnelly\" title=\"Rathnelly\">\\n           Rathnelly\\n          </a>\\n         </td>\\n        </tr>\\n        <tr>\\n         <td>\\n          M4V\\n         </td>\\n         <td>\\n          <a class=\"mw-redirect\" href=\"/wiki/Central_Toronto\" title=\"Central Toronto\">\\n           Central Toronto\\n          </a>\\n         </td>\\n         <td>\\n          <a href=\"/wiki/South_Hill,_Toronto\" title=\"South Hill, Toronto\">\\n           South Hill\\n          </a>\\n         </td>\\n        </tr>\\n        <tr>\\n         <td>\\n          M4V\\n         </td>\\n         <td>\\n          <a class=\"mw-redirect\" href=\"/wiki/Central_Toronto\" title=\"Central Toronto\">\\n           Central Toronto\\n          </a>\\n         </td>\\n         <td>\\n          Summerhill West\\n         </td>\\n        </tr>\\n        <tr>\\n         <td>\\n          M5V\\n         </td>\\n         <td>\\n          <a href=\"/wiki/Downtown_Toronto\" title=\"Downtown Toronto\">\\n           Downtown Toronto\\n          </a>\\n         </td>\\n         <td>\\n          <a href=\"/wiki/CN_Tower\" title=\"CN Tower\">\\n           CN Tower\\n          </a>\\n         </td>\\n        </tr>\\n        <tr>\\n         <td>\\n          M5V\\n         </td>\\n         <td>\\n          <a href=\"/wiki/Downtown_Toronto\" title=\"Downtown Toronto\">\\n           Downtown Toronto\\n          </a>\\n         </td>\\n         <td>\\n          Bathurst Quay\\n         </td>\\n        </tr>\\n        <tr>\\n         <td>\\n          M5V\\n         </td>\\n         <td>\\n          <a href=\"/wiki/Downtown_Toronto\" title=\"Downtown Toronto\">\\n           Downtown Toronto\\n          </a>\\n         </td>\\n         <td>\\n          Island airport\\n         </td>\\n        </tr>\\n        <tr>\\n         <td>\\n          M5V\\n         </td>\\n         <td>\\n          <a href=\"/wiki/Downtown_Toronto\" title=\"Downtown Toronto\">\\n           Downtown Toronto\\n          </a>\\n         </td>\\n         <td>\\n          Harbourfront West\\n         </td>\\n        </tr>\\n        <tr>\\n         <td>\\n          M5V\\n         </td>\\n         <td>\\n          <a href=\"/wiki/Downtown_Toronto\" title=\"Downtown Toronto\">\\n           Downtown Toronto\\n          </a>\\n         </td>\\n         <td>\\n          <a class=\"mw-redirect\" href=\"/wiki/King_and_Spadina\" title=\"King and Spadina\">\\n           King and Spadina\\n          </a>\\n         </td>\\n        </tr>\\n        <tr>\\n         <td>\\n          M5V\\n         </td>\\n         <td>\\n          <a href=\"/wiki/Downtown_Toronto\" title=\"Downtown Toronto\">\\n           Downtown Toronto\\n          </a>\\n         </td>\\n         <td>\\n          <a href=\"/wiki/Railway_Lands\" title=\"Railway Lands\">\\n           Railway Lands\\n          </a>\\n         </td>\\n        </tr>\\n        <tr>\\n         <td>\\n          M5V\\n         </td>\\n         <td>\\n          <a href=\"/wiki/Downtown_Toronto\" title=\"Downtown Toronto\">\\n           Downtown Toronto\\n          </a>\\n         </td>\\n         <td>\\n          <a class=\"mw-redirect\" href=\"/wiki/South_Niagara\" title=\"South Niagara\">\\n           South Niagara\\n          </a>\\n         </td>\\n        </tr>\\n        <tr>\\n         <td>\\n          M6V\\n         </td>\\n         <td>\\n          Not assigned\\n         </td>\\n         <td>\\n          Not assigned\\n         </td>\\n        </tr>\\n        <tr>\\n         <td>\\n          M7V\\n         </td>\\n         <td>\\n          Not assigned\\n         </td>\\n         <td>\\n          Not assigned\\n         </td>\\n        </tr>\\n        <tr>\\n         <td>\\n          M8V\\n         </td>\\n         <td>\\n          <a href=\"/wiki/Etobicoke\" title=\"Etobicoke\">\\n           Etobicoke\\n          </a>\\n         </td>\\n         <td>\\n          Humber Bay Shores\\n         </td>\\n        </tr>\\n        <tr>\\n         <td>\\n          M8V\\n         </td>\\n         <td>\\n          <a href=\"/wiki/Etobicoke\" title=\"Etobicoke\">\\n           Etobicoke\\n          </a>\\n         </td>\\n         <td>\\n          Mimico South\\n         </td>\\n        </tr>\\n        <tr>\\n         <td>\\n          M8V\\n         </td>\\n         <td>\\n          <a href=\"/wiki/Etobicoke\" title=\"Etobicoke\">\\n           Etobicoke\\n          </a>\\n         </td>\\n         <td>\\n          <a href=\"/wiki/New_Toronto\" title=\"New Toronto\">\\n           New Toronto\\n          </a>\\n         </td>\\n        </tr>\\n        <tr>\\n         <td>\\n          M9V\\n         </td>\\n         <td>\\n          <a href=\"/wiki/Etobicoke\" title=\"Etobicoke\">\\n           Etobicoke\\n          </a>\\n         </td>\\n         <td>\\n          Albion Gardens\\n         </td>\\n        </tr>\\n        <tr>\\n         <td>\\n          M9V\\n         </td>\\n         <td>\\n          <a href=\"/wiki/Etobicoke\" title=\"Etobicoke\">\\n           Etobicoke\\n          </a>\\n         </td>\\n         <td>\\n          <a class=\"mw-redirect\" href=\"/wiki/Beaumond_Heights\" title=\"Beaumond Heights\">\\n           Beaumond Heights\\n          </a>\\n         </td>\\n        </tr>\\n        <tr>\\n         <td>\\n          M9V\\n         </td>\\n         <td>\\n          <a href=\"/wiki/Etobicoke\" title=\"Etobicoke\">\\n           Etobicoke\\n          </a>\\n         </td>\\n         <td>\\n          <a class=\"new\" href=\"/w/index.php?title=Humbergate,_Ontario&amp;action=edit&amp;redlink=1\" title=\"Humbergate, Ontario (page does not exist)\">\\n           Humbergate\\n          </a>\\n         </td>\\n        </tr>\\n        <tr>\\n         <td>\\n          M9V\\n         </td>\\n         <td>\\n          <a href=\"/wiki/Etobicoke\" title=\"Etobicoke\">\\n           Etobicoke\\n          </a>\\n         </td>\\n         <td>\\n          <a class=\"mw-redirect\" href=\"/wiki/Mount_Olive-Silverstone-Jamestown\" title=\"Mount Olive-Silverstone-Jamestown\">\\n           Jamestown\\n          </a>\\n         </td>\\n        </tr>\\n        <tr>\\n         <td>\\n          M9V\\n         </td>\\n         <td>\\n          <a href=\"/wiki/Etobicoke\" title=\"Etobicoke\">\\n           Etobicoke\\n          </a>\\n         </td>\\n         <td>\\n          <a class=\"mw-redirect\" href=\"/wiki/Mount_Olive-Silverstone-Jamestown\" title=\"Mount Olive-Silverstone-Jamestown\">\\n           Mount Olive\\n          </a>\\n         </td>\\n        </tr>\\n        <tr>\\n         <td>\\n          M9V\\n         </td>\\n         <td>\\n          <a href=\"/wiki/Etobicoke\" title=\"Etobicoke\">\\n           Etobicoke\\n          </a>\\n         </td>\\n         <td>\\n          <a href=\"/wiki/Silverstone\" title=\"Silverstone\">\\n           Silverstone\\n          </a>\\n         </td>\\n        </tr>\\n        <tr>\\n         <td>\\n          M9V\\n         </td>\\n         <td>\\n          <a href=\"/wiki/Etobicoke\" title=\"Etobicoke\">\\n           Etobicoke\\n          </a>\\n         </td>\\n         <td>\\n          <a class=\"mw-redirect\" href=\"/wiki/South_Steeles\" title=\"South Steeles\">\\n           South Steeles\\n          </a>\\n         </td>\\n        </tr>\\n        <tr>\\n         <td>\\n          M9V\\n         </td>\\n         <td>\\n          <a href=\"/wiki/Etobicoke\" title=\"Etobicoke\">\\n           Etobicoke\\n          </a>\\n         </td>\\n         <td>\\n          <a href=\"/wiki/Thistletown\" title=\"Thistletown\">\\n           Thistletown\\n          </a>\\n         </td>\\n        </tr>\\n        <tr>\\n         <td>\\n          M1W\\n         </td>\\n         <td>\\n          <a href=\"/wiki/Scarborough,_Toronto\" title=\"Scarborough, Toronto\">\\n           Scarborough\\n          </a>\\n         </td>\\n         <td>\\n          L\\'Amoreaux West\\n         </td>\\n        </tr>\\n        <tr>\\n         <td>\\n          M1W\\n         </td>\\n         <td>\\n          <a href=\"/wiki/Scarborough,_Toronto\" title=\"Scarborough, Toronto\">\\n           Scarborough\\n          </a>\\n         </td>\\n         <td>\\n          <a class=\"mw-redirect\" href=\"/wiki/Steeles_West\" title=\"Steeles West\">\\n           Steeles West\\n          </a>\\n         </td>\\n        </tr>\\n        <tr>\\n         <td>\\n          M2W\\n         </td>\\n         <td>\\n          Not assigned\\n         </td>\\n         <td>\\n          Not assigned\\n         </td>\\n        </tr>\\n        <tr>\\n         <td>\\n          M3W\\n         </td>\\n         <td>\\n          Not assigned\\n         </td>\\n         <td>\\n          Not assigned\\n         </td>\\n        </tr>\\n        <tr>\\n         <td>\\n          M4W\\n         </td>\\n         <td>\\n          <a href=\"/wiki/Downtown_Toronto\" title=\"Downtown Toronto\">\\n           Downtown Toronto\\n          </a>\\n         </td>\\n         <td>\\n          <a href=\"/wiki/Rosedale,_Toronto\" title=\"Rosedale, Toronto\">\\n           Rosedale\\n          </a>\\n         </td>\\n        </tr>\\n        <tr>\\n         <td>\\n          M5W\\n         </td>\\n         <td>\\n          <a href=\"/wiki/Downtown_Toronto\" title=\"Downtown Toronto\">\\n           Downtown Toronto\\n          </a>\\n         </td>\\n         <td>\\n          Stn A PO Boxes 25 The Esplanade\\n         </td>\\n        </tr>\\n        <tr>\\n         <td>\\n          M6W\\n         </td>\\n         <td>\\n          Not assigned\\n         </td>\\n         <td>\\n          Not assigned\\n         </td>\\n        </tr>\\n        <tr>\\n         <td>\\n          M7W\\n         </td>\\n         <td>\\n          Not assigned\\n         </td>\\n         <td>\\n          Not assigned\\n         </td>\\n        </tr>\\n        <tr>\\n         <td>\\n          M8W\\n         </td>\\n         <td>\\n          <a href=\"/wiki/Etobicoke\" title=\"Etobicoke\">\\n           Etobicoke\\n          </a>\\n         </td>\\n         <td>\\n          <a href=\"/wiki/Alderwood,_Toronto\" title=\"Alderwood, Toronto\">\\n           Alderwood\\n          </a>\\n         </td>\\n        </tr>\\n        <tr>\\n         <td>\\n          M8W\\n         </td>\\n         <td>\\n          <a href=\"/wiki/Etobicoke\" title=\"Etobicoke\">\\n           Etobicoke\\n          </a>\\n         </td>\\n         <td>\\n          <a href=\"/wiki/Long_Branch,_Toronto\" title=\"Long Branch, Toronto\">\\n           Long Branch\\n          </a>\\n         </td>\\n        </tr>\\n        <tr>\\n         <td>\\n          M9W\\n         </td>\\n         <td>\\n          <a href=\"/wiki/Etobicoke\" title=\"Etobicoke\">\\n           Etobicoke\\n          </a>\\n         </td>\\n         <td>\\n          <a class=\"mw-redirect\" href=\"/wiki/Northwest\" title=\"Northwest\">\\n           Northwest\\n          </a>\\n         </td>\\n        </tr>\\n        <tr>\\n         <td>\\n          M1X\\n         </td>\\n         <td>\\n          <a href=\"/wiki/Scarborough,_Toronto\" title=\"Scarborough, Toronto\">\\n           Scarborough\\n          </a>\\n         </td>\\n         <td>\\n          <a class=\"mw-redirect\" href=\"/wiki/Upper_Rouge\" title=\"Upper Rouge\">\\n           Upper Rouge\\n          </a>\\n         </td>\\n        </tr>\\n        <tr>\\n         <td>\\n          M2X\\n         </td>\\n         <td>\\n          Not assigned\\n         </td>\\n         <td>\\n          Not assigned\\n         </td>\\n        </tr>\\n        <tr>\\n         <td>\\n          M3X\\n         </td>\\n         <td>\\n          Not assigned\\n         </td>\\n         <td>\\n          Not assigned\\n         </td>\\n        </tr>\\n        <tr>\\n         <td>\\n          M4X\\n         </td>\\n         <td>\\n          <a href=\"/wiki/Downtown_Toronto\" title=\"Downtown Toronto\">\\n           Downtown Toronto\\n          </a>\\n         </td>\\n         <td>\\n          <a href=\"/wiki/Cabbagetown,_Toronto\" title=\"Cabbagetown, Toronto\">\\n           Cabbagetown\\n          </a>\\n         </td>\\n        </tr>\\n        <tr>\\n         <td>\\n          M4X\\n         </td>\\n         <td>\\n          <a href=\"/wiki/Downtown_Toronto\" title=\"Downtown Toronto\">\\n           Downtown Toronto\\n          </a>\\n         </td>\\n         <td>\\n          <a href=\"/wiki/St._James_Town\" title=\"St. James Town\">\\n           St. James Town\\n          </a>\\n         </td>\\n        </tr>\\n        <tr>\\n         <td>\\n          M5X\\n         </td>\\n         <td>\\n          <a href=\"/wiki/Downtown_Toronto\" title=\"Downtown Toronto\">\\n           Downtown Toronto\\n          </a>\\n         </td>\\n         <td>\\n          <a href=\"/wiki/First_Canadian_Place\" title=\"First Canadian Place\">\\n           First Canadian Place\\n          </a>\\n         </td>\\n        </tr>\\n        <tr>\\n         <td>\\n          M5X\\n         </td>\\n         <td>\\n          <a href=\"/wiki/Downtown_Toronto\" title=\"Downtown Toronto\">\\n           Downtown Toronto\\n          </a>\\n         </td>\\n         <td>\\n          <a href=\"/wiki/Underground_city\" title=\"Underground city\">\\n           Underground city\\n          </a>\\n         </td>\\n        </tr>\\n        <tr>\\n         <td>\\n          M6X\\n         </td>\\n         <td>\\n          Not assigned\\n         </td>\\n         <td>\\n          Not assigned\\n         </td>\\n        </tr>\\n        <tr>\\n         <td>\\n          M7X\\n         </td>\\n         <td>\\n          Not assigned\\n         </td>\\n         <td>\\n          Not assigned\\n         </td>\\n        </tr>\\n        <tr>\\n         <td>\\n          M8X\\n         </td>\\n         <td>\\n          <a href=\"/wiki/Etobicoke\" title=\"Etobicoke\">\\n           Etobicoke\\n          </a>\\n         </td>\\n         <td>\\n          <a href=\"/wiki/The_Kingsway\" title=\"The Kingsway\">\\n           The Kingsway\\n          </a>\\n         </td>\\n        </tr>\\n        <tr>\\n         <td>\\n          M8X\\n         </td>\\n         <td>\\n          <a href=\"/wiki/Etobicoke\" title=\"Etobicoke\">\\n           Etobicoke\\n          </a>\\n         </td>\\n         <td>\\n          Montgomery Road\\n         </td>\\n        </tr>\\n        <tr>\\n         <td>\\n          M8X\\n         </td>\\n         <td>\\n          <a href=\"/wiki/Etobicoke\" title=\"Etobicoke\">\\n           Etobicoke\\n          </a>\\n         </td>\\n         <td>\\n          Old Mill North\\n         </td>\\n        </tr>\\n        <tr>\\n         <td>\\n          M9X\\n         </td>\\n         <td>\\n          Not assigned\\n         </td>\\n         <td>\\n          Not assigned\\n         </td>\\n        </tr>\\n        <tr>\\n         <td>\\n          M1Y\\n         </td>\\n         <td>\\n          Not assigned\\n         </td>\\n         <td>\\n          Not assigned\\n         </td>\\n        </tr>\\n        <tr>\\n         <td>\\n          M2Y\\n         </td>\\n         <td>\\n          Not assigned\\n         </td>\\n         <td>\\n          Not assigned\\n         </td>\\n        </tr>\\n        <tr>\\n         <td>\\n          M3Y\\n         </td>\\n         <td>\\n          Not assigned\\n         </td>\\n         <td>\\n          Not assigned\\n         </td>\\n        </tr>\\n        <tr>\\n         <td>\\n          M4Y\\n         </td>\\n         <td>\\n          <a href=\"/wiki/Downtown_Toronto\" title=\"Downtown Toronto\">\\n           Downtown Toronto\\n          </a>\\n         </td>\\n         <td>\\n          <a href=\"/wiki/Church_and_Wellesley\" title=\"Church and Wellesley\">\\n           Church and Wellesley\\n          </a>\\n         </td>\\n        </tr>\\n        <tr>\\n         <td>\\n          M5Y\\n         </td>\\n         <td>\\n          Not assigned\\n         </td>\\n         <td>\\n          Not assigned\\n         </td>\\n        </tr>\\n        <tr>\\n         <td>\\n          M6Y\\n         </td>\\n         <td>\\n          Not assigned\\n         </td>\\n         <td>\\n          Not assigned\\n         </td>\\n        </tr>\\n        <tr>\\n         <td>\\n          M7Y\\n         </td>\\n         <td>\\n          <a href=\"/wiki/East_Toronto\" title=\"East Toronto\">\\n           East Toronto\\n          </a>\\n         </td>\\n         <td>\\n          Business reply mail Processing Centre969 Eastern\\n         </td>\\n        </tr>\\n        <tr>\\n         <td>\\n          M8Y\\n         </td>\\n         <td>\\n          <a href=\"/wiki/Etobicoke\" title=\"Etobicoke\">\\n           Etobicoke\\n          </a>\\n         </td>\\n         <td>\\n          <a href=\"/wiki/Humber_Bay\" title=\"Humber Bay\">\\n           Humber Bay\\n          </a>\\n         </td>\\n        </tr>\\n        <tr>\\n         <td>\\n          M8Y\\n         </td>\\n         <td>\\n          <a href=\"/wiki/Etobicoke\" title=\"Etobicoke\">\\n           Etobicoke\\n          </a>\\n         </td>\\n         <td>\\n          <a href=\"/wiki/Kingsmills_Park\" title=\"Kingsmills Park\">\\n           King\\'s Mill Park\\n          </a>\\n         </td>\\n        </tr>\\n        <tr>\\n         <td>\\n          M8Y\\n         </td>\\n         <td>\\n          <a href=\"/wiki/Etobicoke\" title=\"Etobicoke\">\\n           Etobicoke\\n          </a>\\n         </td>\\n         <td>\\n          Kingsway Park South East\\n         </td>\\n        </tr>\\n        <tr>\\n         <td>\\n          M8Y\\n         </td>\\n         <td>\\n          <a href=\"/wiki/Etobicoke\" title=\"Etobicoke\">\\n           Etobicoke\\n          </a>\\n         </td>\\n         <td>\\n          <a href=\"/wiki/Mimico\" title=\"Mimico\">\\n           Mimico NE\\n          </a>\\n         </td>\\n        </tr>\\n        <tr>\\n         <td>\\n          M8Y\\n         </td>\\n         <td>\\n          <a href=\"/wiki/Etobicoke\" title=\"Etobicoke\">\\n           Etobicoke\\n          </a>\\n         </td>\\n         <td>\\n          <a href=\"/wiki/Old_Mill,_Toronto\" title=\"Old Mill, Toronto\">\\n           Old Mill South\\n          </a>\\n         </td>\\n        </tr>\\n        <tr>\\n         <td>\\n          M8Y\\n         </td>\\n         <td>\\n          <a href=\"/wiki/Etobicoke\" title=\"Etobicoke\">\\n           Etobicoke\\n          </a>\\n         </td>\\n         <td>\\n          <a href=\"/wiki/The_Queensway\" title=\"The Queensway\">\\n           The Queensway East\\n          </a>\\n         </td>\\n        </tr>\\n        <tr>\\n         <td>\\n          M8Y\\n         </td>\\n         <td>\\n          <a href=\"/wiki/Etobicoke\" title=\"Etobicoke\">\\n           Etobicoke\\n          </a>\\n         </td>\\n         <td>\\n          <a class=\"mw-redirect\" href=\"/wiki/Fairmont_Royal_York_Hotel\" title=\"Fairmont Royal York Hotel\">\\n           Royal York South East\\n          </a>\\n         </td>\\n        </tr>\\n        <tr>\\n         <td>\\n          M8Y\\n         </td>\\n         <td>\\n          <a href=\"/wiki/Etobicoke\" title=\"Etobicoke\">\\n           Etobicoke\\n          </a>\\n         </td>\\n         <td>\\n          <a class=\"mw-redirect\" href=\"/wiki/Sunnylea\" title=\"Sunnylea\">\\n           Sunnylea\\n          </a>\\n         </td>\\n        </tr>\\n        <tr>\\n         <td>\\n          M9Y\\n         </td>\\n         <td>\\n          Not assigned\\n         </td>\\n         <td>\\n          Not assigned\\n         </td>\\n        </tr>\\n        <tr>\\n         <td>\\n          M1Z\\n         </td>\\n         <td>\\n          Not assigned\\n         </td>\\n         <td>\\n          Not assigned\\n         </td>\\n        </tr>\\n        <tr>\\n         <td>\\n          M2Z\\n         </td>\\n         <td>\\n          Not assigned\\n         </td>\\n         <td>\\n          Not assigned\\n         </td>\\n        </tr>\\n        <tr>\\n         <td>\\n          M3Z\\n         </td>\\n         <td>\\n          Not assigned\\n         </td>\\n         <td>\\n          Not assigned\\n         </td>\\n        </tr>\\n        <tr>\\n         <td>\\n          M4Z\\n         </td>\\n         <td>\\n          Not assigned\\n         </td>\\n         <td>\\n          Not assigned\\n         </td>\\n        </tr>\\n        <tr>\\n         <td>\\n          M5Z\\n         </td>\\n         <td>\\n          Not assigned\\n         </td>\\n         <td>\\n          Not assigned\\n         </td>\\n        </tr>\\n        <tr>\\n         <td>\\n          M6Z\\n         </td>\\n         <td>\\n          Not assigned\\n         </td>\\n         <td>\\n          Not assigned\\n         </td>\\n        </tr>\\n        <tr>\\n         <td>\\n          M7Z\\n         </td>\\n         <td>\\n          Not assigned\\n         </td>\\n         <td>\\n          Not assigned\\n         </td>\\n        </tr>\\n        <tr>\\n         <td>\\n          M8Z\\n         </td>\\n         <td>\\n          <a href=\"/wiki/Etobicoke\" title=\"Etobicoke\">\\n           Etobicoke\\n          </a>\\n         </td>\\n         <td>\\n          Kingsway Park South West\\n         </td>\\n        </tr>\\n        <tr>\\n         <td>\\n          M8Z\\n         </td>\\n         <td>\\n          <a href=\"/wiki/Etobicoke\" title=\"Etobicoke\">\\n           Etobicoke\\n          </a>\\n         </td>\\n         <td>\\n          <a href=\"/wiki/Mimico\" title=\"Mimico\">\\n           Mimico NW\\n          </a>\\n         </td>\\n        </tr>\\n        <tr>\\n         <td>\\n          M8Z\\n         </td>\\n         <td>\\n          <a href=\"/wiki/Etobicoke\" title=\"Etobicoke\">\\n           Etobicoke\\n          </a>\\n         </td>\\n         <td>\\n          <a href=\"/wiki/The_Queensway\" title=\"The Queensway\">\\n           The Queensway West\\n          </a>\\n         </td>\\n        </tr>\\n        <tr>\\n         <td>\\n          M8Z\\n         </td>\\n         <td>\\n          <a href=\"/wiki/Etobicoke\" title=\"Etobicoke\">\\n           Etobicoke\\n          </a>\\n         </td>\\n         <td>\\n          Royal York South West\\n         </td>\\n        </tr>\\n        <tr>\\n         <td>\\n          M8Z\\n         </td>\\n         <td>\\n          <a href=\"/wiki/Etobicoke\" title=\"Etobicoke\">\\n           Etobicoke\\n          </a>\\n         </td>\\n         <td>\\n          <a href=\"/wiki/Bloor\" title=\"Bloor\">\\n           South of Bloor\\n          </a>\\n         </td>\\n        </tr>\\n        <tr>\\n         <td>\\n          M9Z\\n         </td>\\n         <td>\\n          Not assigned\\n         </td>\\n         <td>\\n          Not assigned\\n         </td>\\n        </tr>\\n       </tbody>\\n      </table>\\n      <div>\\n       <table class=\"multicol\" role=\"presentation\" style=\"border-collapse: collapse; padding: 0; border: 0; background:transparent; width:100%;\">\\n       </table>\\n       <h2>\\n        <span id=\"Most_populated_FSAs.5B3.5D\">\\n        </span>\\n        <span class=\"mw-headline\" id=\"Most_populated_FSAs[3]\">\\n         Most populated FSAs\\n         <sup class=\"reference\" id=\"cite_ref-statcan_3-0\">\\n          <a href=\"#cite_note-statcan-3\">\\n           [3]\\n          </a>\\n         </sup>\\n        </span>\\n        <span class=\"mw-editsection\">\\n         <span class=\"mw-editsection-bracket\">\\n          [\\n         </span>\\n         <a href=\"/w/index.php?title=List_of_postal_codes_of_Canada:_M&amp;action=edit&amp;section=2\" title=\"Edit section: Most populated FSAs[3]\">\\n          edit\\n         </a>\\n         <span class=\"mw-editsection-bracket\">\\n          ]\\n         </span>\\n        </span>\\n       </h2>\\n       <ol>\\n        <li>\\n         M1B, 65,129\\n        </li>\\n        <li>\\n         M2N, 60,124\\n        </li>\\n        <li>\\n         M1V, 55,250\\n        </li>\\n        <li>\\n         M9V, 55,159\\n        </li>\\n        <li>\\n         M2J, 54,391\\n        </li>\\n       </ol>\\n       <p>\\n       </p>\\n       <table cellpadding=\"2\" cellspacing=\"0\" rules=\"all\" style=\\'\"width:100%;\\'>\\n        <tbody>\\n         <tr>\\n          <td>\\n          </td>\\n         </tr>\\n        </tbody>\\n       </table>\\n      </div>\\n      <p>\\n      </p>\\n      <h2>\\n       <span id=\"Least_populated_FSAs.5B3.5D\">\\n       </span>\\n       <span class=\"mw-headline\" id=\"Least_populated_FSAs[3]\">\\n        Least populated FSAs\\n        <sup class=\"reference\" id=\"cite_ref-statcan_3-1\">\\n         <a href=\"#cite_note-statcan-3\">\\n          [3]\\n         </a>\\n        </sup>\\n       </span>\\n       <span class=\"mw-editsection\">\\n        <span class=\"mw-editsection-bracket\">\\n         [\\n        </span>\\n        <a href=\"/w/index.php?title=List_of_postal_codes_of_Canada:_M&amp;action=edit&amp;section=3\" title=\"Edit section: Least populated FSAs[3]\">\\n         edit\\n        </a>\\n        <span class=\"mw-editsection-bracket\">\\n         ]\\n        </span>\\n       </span>\\n      </h2>\\n      <ol>\\n       <li>\\n        M5K, 5\\n       </li>\\n       <li>\\n        M5L, 5\\n       </li>\\n       <li>\\n        M5W, 5\\n       </li>\\n       <li>\\n        M5X, 5\\n       </li>\\n       <li>\\n        M7A, 5\\n       </li>\\n      </ol>\\n      <p>\\n      </p>\\n      <h2>\\n       <span class=\"mw-headline\" id=\"References\">\\n        References\\n       </span>\\n       <span class=\"mw-editsection\">\\n        <span class=\"mw-editsection-bracket\">\\n         [\\n        </span>\\n        <a href=\"/w/index.php?title=List_of_postal_codes_of_Canada:_M&amp;action=edit&amp;section=4\" title=\"Edit section: References\">\\n         edit\\n        </a>\\n        <span class=\"mw-editsection-bracket\">\\n         ]\\n        </span>\\n       </span>\\n      </h2>\\n      <div class=\"mw-references-wrap\">\\n       <ol class=\"references\">\\n        <li id=\"cite_note-1\">\\n         <span class=\"mw-cite-backlink\">\\n          <b>\\n           <a href=\"#cite_ref-1\">\\n            ^\\n           </a>\\n          </b>\\n         </span>\\n         <span class=\"reference-text\">\\n          <cite class=\"citation web\">\\n           Canada Post.\\n           <a class=\"external text\" href=\"https://www.canadapost.ca/cpotools/apps/fpc/personal/findByCity?execution=e2s1\" rel=\"nofollow\">\\n            \"Canada Post - Find a Postal Code\"\\n           </a>\\n           <span class=\"reference-accessdate\">\\n            . Retrieved\\n            <span class=\"nowrap\">\\n             9 November\\n            </span>\\n            2008\\n           </span>\\n           .\\n          </cite>\\n          <span class=\"Z3988\" title=\"ctx_ver=Z39.88-2004&amp;rft_val_fmt=info%3Aofi%2Ffmt%3Akev%3Amtx%3Abook&amp;rft.genre=unknown&amp;rft.btitle=Canada+Post+-+Find+a+Postal+Code&amp;rft.au=Canada+Post&amp;rft_id=https%3A%2F%2Fwww.canadapost.ca%2Fcpotools%2Fapps%2Ffpc%2Fpersonal%2FfindByCity%3Fexecution%3De2s1&amp;rfr_id=info%3Asid%2Fen.wikipedia.org%3AList+of+postal+codes+of+Canada%3A+M\">\\n          </span>\\n          <style data-mw-deduplicate=\"TemplateStyles:r861714446\">\\n           .mw-parser-output cite.citation{font-style:inherit}.mw-parser-output q{quotes:\"\\\\\"\"\"\\\\\"\"\"\\'\"\"\\'\"}.mw-parser-output code.cs1-code{color:inherit;background:inherit;border:inherit;padding:inherit}.mw-parser-output .cs1-lock-free a{background:url(\"//upload.wikimedia.org/wikipedia/commons/thumb/6/65/Lock-green.svg/9px-Lock-green.svg.png\")no-repeat;background-position:right .1em center}.mw-parser-output .cs1-lock-limited a,.mw-parser-output .cs1-lock-registration a{background:url(\"//upload.wikimedia.org/wikipedia/commons/thumb/d/d6/Lock-gray-alt-2.svg/9px-Lock-gray-alt-2.svg.png\")no-repeat;background-position:right .1em center}.mw-parser-output .cs1-lock-subscription a{background:url(\"//upload.wikimedia.org/wikipedia/commons/thumb/a/aa/Lock-red-alt-2.svg/9px-Lock-red-alt-2.svg.png\")no-repeat;background-position:right .1em center}.mw-parser-output .cs1-subscription,.mw-parser-output .cs1-registration{color:#555}.mw-parser-output .cs1-subscription span,.mw-parser-output .cs1-registration span{border-bottom:1px dotted;cursor:help}.mw-parser-output .cs1-hidden-error{display:none;font-size:100%}.mw-parser-output .cs1-visible-error{font-size:100%}.mw-parser-output .cs1-subscription,.mw-parser-output .cs1-registration,.mw-parser-output .cs1-format{font-size:95%}.mw-parser-output .cs1-kern-left,.mw-parser-output .cs1-kern-wl-left{padding-left:0.2em}.mw-parser-output .cs1-kern-right,.mw-parser-output .cs1-kern-wl-right{padding-right:0.2em}\\n          </style>\\n         </span>\\n        </li>\\n        <li id=\"cite_note-2\">\\n         <span class=\"mw-cite-backlink\">\\n          <b>\\n           <a href=\"#cite_ref-2\">\\n            ^\\n           </a>\\n          </b>\\n         </span>\\n         <span class=\"reference-text\">\\n          <cite class=\"citation web\">\\n           <a class=\"external text\" href=\"https://web.archive.org/web/20110519093024/http://www.canadapost.ca/cpo/mc/personal/tools/mobileapp/default.jsf\" rel=\"nofollow\">\\n            \"Mobile Apps\"\\n           </a>\\n           . Canada Post. Archived from\\n           <a class=\"external text\" href=\"http://www.canadapost.ca/cpo/mc/personal/tools/mobileapp/default.jsf\" rel=\"nofollow\">\\n            the original\\n           </a>\\n           on 2011-05-19.\\n          </cite>\\n          <span class=\"Z3988\" title=\"ctx_ver=Z39.88-2004&amp;rft_val_fmt=info%3Aofi%2Ffmt%3Akev%3Amtx%3Abook&amp;rft.genre=unknown&amp;rft.btitle=Mobile+Apps&amp;rft.pub=Canada+Post&amp;rft_id=http%3A%2F%2Fwww.canadapost.ca%2Fcpo%2Fmc%2Fpersonal%2Ftools%2Fmobileapp%2Fdefault.jsf&amp;rfr_id=info%3Asid%2Fen.wikipedia.org%3AList+of+postal+codes+of+Canada%3A+M\">\\n          </span>\\n          <link href=\"mw-data:TemplateStyles:r861714446\" rel=\"mw-deduplicated-inline-style\"/>\\n         </span>\\n        </li>\\n        <li id=\"cite_note-statcan-3\">\\n         <span class=\"mw-cite-backlink\">\\n          ^\\n          <a href=\"#cite_ref-statcan_3-0\">\\n           <sup>\\n            <i>\\n             <b>\\n              a\\n             </b>\\n            </i>\\n           </sup>\\n          </a>\\n          <a href=\"#cite_ref-statcan_3-1\">\\n           <sup>\\n            <i>\\n             <b>\\n              b\\n             </b>\\n            </i>\\n           </sup>\\n          </a>\\n         </span>\\n         <span class=\"reference-text\">\\n          <cite class=\"citation web\">\\n           <a class=\"external text\" href=\"http://www12.statcan.ca/english/census06/data/popdwell/Table.cfm?T=1201&amp;SR=1&amp;S=0&amp;O=A&amp;RPP=9999&amp;PR=0&amp;CMA=0\" rel=\"nofollow\">\\n            \"2006 Census of Population\"\\n           </a>\\n           . 15 October 2008.\\n          </cite>\\n          <span class=\"Z3988\" title=\"ctx_ver=Z39.88-2004&amp;rft_val_fmt=info%3Aofi%2Ffmt%3Akev%3Amtx%3Abook&amp;rft.genre=unknown&amp;rft.btitle=2006+Census+of+Population&amp;rft.date=2008-10-15&amp;rft_id=http%3A%2F%2Fwww12.statcan.ca%2Fenglish%2Fcensus06%2Fdata%2Fpopdwell%2FTable.cfm%3FT%3D1201%26SR%3D1%26S%3D0%26O%3DA%26RPP%3D9999%26PR%3D0%26CMA%3D0&amp;rfr_id=info%3Asid%2Fen.wikipedia.org%3AList+of+postal+codes+of+Canada%3A+M\">\\n          </span>\\n          <link href=\"mw-data:TemplateStyles:r861714446\" rel=\"mw-deduplicated-inline-style\"/>\\n         </span>\\n        </li>\\n       </ol>\\n      </div>\\n      <table class=\"navbox\">\\n       <tbody>\\n        <tr>\\n         <td style=\"width:36px; text-align:center\">\\n          <a class=\"image\" href=\"/wiki/File:Flag_of_Canada.svg\" title=\"Flag of Canada\">\\n           <img alt=\"Flag of Canada\" data-file-height=\"500\" data-file-width=\"1000\" height=\"18\" src=\"//upload.wikimedia.org/wikipedia/en/thumb/c/cf/Flag_of_Canada.svg/36px-Flag_of_Canada.svg.png\" srcset=\"//upload.wikimedia.org/wikipedia/en/thumb/c/cf/Flag_of_Canada.svg/54px-Flag_of_Canada.svg.png 1.5x, //upload.wikimedia.org/wikipedia/en/thumb/c/cf/Flag_of_Canada.svg/72px-Flag_of_Canada.svg.png 2x\" width=\"36\"/>\\n          </a>\\n         </td>\\n         <th class=\"navbox-title\" style=\"font-size:110%\">\\n          <a href=\"/wiki/Postal_codes_in_Canada\" title=\"Postal codes in Canada\">\\n           Canadian postal codes\\n          </a>\\n         </th>\\n         <td style=\"width:36px; text-align:center\">\\n          <a class=\"image\" href=\"/wiki/File:Canadian_postal_district_map_(without_legends).svg\">\\n           <img alt=\"Canadian postal district map (without legends).svg\" data-file-height=\"846\" data-file-width=\"1000\" height=\"18\" src=\"//upload.wikimedia.org/wikipedia/commons/thumb/e/eb/Canadian_postal_district_map_%28without_legends%29.svg/21px-Canadian_postal_district_map_%28without_legends%29.svg.png\" srcset=\"//upload.wikimedia.org/wikipedia/commons/thumb/e/eb/Canadian_postal_district_map_%28without_legends%29.svg/32px-Canadian_postal_district_map_%28without_legends%29.svg.png 1.5x, //upload.wikimedia.org/wikipedia/commons/thumb/e/eb/Canadian_postal_district_map_%28without_legends%29.svg/43px-Canadian_postal_district_map_%28without_legends%29.svg.png 2x\" width=\"21\"/>\\n          </a>\\n         </td>\\n        </tr>\\n        <tr>\\n         <td colspan=\"3\" style=\"text-align:center; font-size: 100%;\">\\n          <table cellspacing=\"0\" style=\"background-color: #F8F8F8;\" width=\"100%\">\\n           <tbody>\\n            <tr>\\n             <td style=\"text-align:center; border:1px solid #aaa;\">\\n              <a href=\"/wiki/Newfoundland_and_Labrador\" title=\"Newfoundland and Labrador\">\\n               NL\\n              </a>\\n             </td>\\n             <td style=\"text-align:center; border:1px solid #aaa;\">\\n              <a href=\"/wiki/Nova_Scotia\" title=\"Nova Scotia\">\\n               NS\\n              </a>\\n             </td>\\n             <td style=\"text-align:center; border:1px solid #aaa;\">\\n              <a href=\"/wiki/Prince_Edward_Island\" title=\"Prince Edward Island\">\\n               PE\\n              </a>\\n             </td>\\n             <td style=\"text-align:center; border:1px solid #aaa;\">\\n              <a href=\"/wiki/New_Brunswick\" title=\"New Brunswick\">\\n               NB\\n              </a>\\n             </td>\\n             <td colspan=\"3\" style=\"text-align:center; border:1px solid #aaa;\">\\n              <a href=\"/wiki/Quebec\" title=\"Quebec\">\\n               QC\\n              </a>\\n             </td>\\n             <td colspan=\"5\" style=\"text-align:center; border:1px solid #aaa;\">\\n              <a href=\"/wiki/Ontario\" title=\"Ontario\">\\n               ON\\n              </a>\\n             </td>\\n             <td style=\"text-align:center; border:1px solid #aaa;\">\\n              <a href=\"/wiki/Manitoba\" title=\"Manitoba\">\\n               MB\\n              </a>\\n             </td>\\n             <td style=\"text-align:center; border:1px solid #aaa;\">\\n              <a href=\"/wiki/Saskatchewan\" title=\"Saskatchewan\">\\n               SK\\n              </a>\\n             </td>\\n             <td style=\"text-align:center; border:1px solid #aaa;\">\\n              <a href=\"/wiki/Alberta\" title=\"Alberta\">\\n               AB\\n              </a>\\n             </td>\\n             <td style=\"text-align:center; border:1px solid #aaa;\">\\n              <a href=\"/wiki/British_Columbia\" title=\"British Columbia\">\\n               BC\\n              </a>\\n             </td>\\n             <td style=\"text-align:center; border:1px solid #aaa;\">\\n              <a href=\"/wiki/Nunavut\" title=\"Nunavut\">\\n               NU\\n              </a>\\n              /\\n              <a href=\"/wiki/Northwest_Territories\" title=\"Northwest Territories\">\\n               NT\\n              </a>\\n             </td>\\n             <td style=\"text-align:center; border:1px solid #aaa;\">\\n              <a href=\"/wiki/Yukon\" title=\"Yukon\">\\n               YT\\n              </a>\\n             </td>\\n            </tr>\\n            <tr>\\n             <td align=\"center\" style=\"border: 1px solid #FF0000; background-color: #FFE0E0; font-size: 135%;\" width=\"5%\">\\n              <a href=\"/wiki/List_of_postal_codes_of_Canada:_A\" title=\"List of postal codes of Canada: A\">\\n               A\\n              </a>\\n             </td>\\n             <td align=\"center\" style=\"border: 1px solid #FF4000; background-color: #FFE8E0; font-size: 135%;\" width=\"5%\">\\n              <a href=\"/wiki/List_of_postal_codes_of_Canada:_B\" title=\"List of postal codes of Canada: B\">\\n               B\\n              </a>\\n             </td>\\n             <td align=\"center\" style=\"border: 1px solid #FF8000; background-color: #FFF0E0; font-size: 135%;\" width=\"5%\">\\n              <a href=\"/wiki/List_of_postal_codes_of_Canada:_C\" title=\"List of postal codes of Canada: C\">\\n               C\\n              </a>\\n             </td>\\n             <td align=\"center\" style=\"border: 1px solid #FFC000; background-color: #FFF8E0; font-size: 135%;\" width=\"5%\">\\n              <a href=\"/wiki/List_of_postal_codes_of_Canada:_E\" title=\"List of postal codes of Canada: E\">\\n               E\\n              </a>\\n             </td>\\n             <td align=\"center\" style=\"border: 1px solid #FFFF00; background-color: #FFFFE0; font-size: 135%;\" width=\"5%\">\\n              <a href=\"/wiki/List_of_postal_codes_of_Canada:_G\" title=\"List of postal codes of Canada: G\">\\n               G\\n              </a>\\n             </td>\\n             <td align=\"center\" style=\"border: 1px solid #C0FF00; background-color: #F8FFE0; font-size: 135%;\" width=\"5%\">\\n              <a href=\"/wiki/List_of_postal_codes_of_Canada:_H\" title=\"List of postal codes of Canada: H\">\\n               H\\n              </a>\\n             </td>\\n             <td align=\"center\" style=\"border: 1px solid #80FF00; background-color: #F0FFE0; font-size: 135%;\" width=\"5%\">\\n              <a href=\"/wiki/List_of_postal_codes_of_Canada:_J\" title=\"List of postal codes of Canada: J\">\\n               J\\n              </a>\\n             </td>\\n             <td align=\"center\" style=\"border: 1px solid #00FF00; background-color: #E0FFE0; font-size: 135%;\" width=\"5%\">\\n              <a href=\"/wiki/List_of_postal_codes_of_Canada:_K\" title=\"List of postal codes of Canada: K\">\\n               K\\n              </a>\\n             </td>\\n             <td align=\"center\" style=\"border: 1px solid #00FF80; background-color: #E0FFF0; font-size: 135%;\" width=\"5%\">\\n              <a href=\"/wiki/List_of_postal_codes_of_Canada:_L\" title=\"List of postal codes of Canada: L\">\\n               L\\n              </a>\\n             </td>\\n             <td align=\"center\" style=\"border: 1px solid #E0FFF8; background-color: #00FFC0; font-size: 135%; color: black;\" width=\"5%\">\\n              <a class=\"mw-selflink selflink\">\\n               M\\n              </a>\\n             </td>\\n             <td align=\"center\" style=\"border: 1px solid #00FFE0; background-color: #E0FFFC; font-size: 135%;\" width=\"5%\">\\n              <a href=\"/wiki/List_of_postal_codes_of_Canada:_N\" title=\"List of postal codes of Canada: N\">\\n               N\\n              </a>\\n             </td>\\n             <td align=\"center\" style=\"border: 1px solid #00FFFF; background-color: #E0FFFF; font-size: 135%;\" width=\"5%\">\\n              <a href=\"/wiki/List_of_postal_codes_of_Canada:_P\" title=\"List of postal codes of Canada: P\">\\n               P\\n              </a>\\n             </td>\\n             <td align=\"center\" style=\"border: 1px solid #00C0FF; background-color: #E0F8FF; font-size: 135%;\" width=\"5%\">\\n              <a href=\"/wiki/List_of_postal_codes_of_Canada:_R\" title=\"List of postal codes of Canada: R\">\\n               R\\n              </a>\\n             </td>\\n             <td align=\"center\" style=\"border: 1px solid #0080FF; background-color: #E0F0FF; font-size: 135%;\" width=\"5%\">\\n              <a href=\"/wiki/List_of_postal_codes_of_Canada:_S\" title=\"List of postal codes of Canada: S\">\\n               S\\n              </a>\\n             </td>\\n             <td align=\"center\" style=\"border: 1px solid #0040FF; background-color: #E0E8FF; font-size: 135%;\" width=\"5%\">\\n              <a href=\"/wiki/List_of_postal_codes_of_Canada:_T\" title=\"List of postal codes of Canada: T\">\\n               T\\n              </a>\\n             </td>\\n             <td align=\"center\" style=\"border: 1px solid #0000FF; background-color: #E0E0FF; font-size: 135%;\" width=\"5%\">\\n              <a href=\"/wiki/List_of_postal_codes_of_Canada:_V\" title=\"List of postal codes of Canada: V\">\\n               V\\n              </a>\\n             </td>\\n             <td align=\"center\" style=\"border: 1px solid #A000FF; background-color: #E8E0FF; font-size: 135%;\" width=\"5%\">\\n              <a href=\"/wiki/List_of_postal_codes_of_Canada:_X\" title=\"List of postal codes of Canada: X\">\\n               X\\n              </a>\\n             </td>\\n             <td align=\"center\" style=\"border: 1px solid #FF00FF; background-color: #FFE0FF; font-size: 135%;\" width=\"5%\">\\n              <a href=\"/wiki/List_of_postal_codes_of_Canada:_Y\" title=\"List of postal codes of Canada: Y\">\\n               Y\\n              </a>\\n             </td>\\n            </tr>\\n           </tbody>\\n          </table>\\n         </td>\\n        </tr>\\n       </tbody>\\n      </table>\\n      <!-- \\nNewPP limit report\\nParsed by mw1272\\nCached time: 20181010150622\\nCache expiry: 1900800\\nDynamic content: false\\nCPU time usage: 0.224 seconds\\nReal time usage: 0.268 seconds\\nPreprocessor visited node count: 588/1000000\\nPreprocessor generated node count: 0/1500000\\nPost‐expand include size: 10232/2097152 bytes\\nTemplate argument size: 13/2097152 bytes\\nHighest expansion depth: 4/40\\nExpensive parser function count: 0/500\\nUnstrip recursion depth: 1/20\\nUnstrip post‐expand size: 8056/5000000 bytes\\nNumber of Wikibase entities loaded: 0/400\\nLua time usage: 0.064/10.000 seconds\\nLua memory usage: 1.65 MB/50 MB\\n-->\\n      <!--\\nTransclusion expansion time report (%,ms,calls,template)\\n100.00%  131.900      1 -total\\n 79.39%  104.713      3 Template:Cite_web\\n  6.01%    7.927      1 Template:Col-2\\n  3.87%    5.109      1 Template:Col-begin\\n  3.07%    4.052      1 Template:Canadian_postal_codes\\n  1.25%    1.652      1 Template:Col-break\\n  1.22%    1.605      2 Template:Col-end\\n-->\\n      <!-- Saved in parser cache with key enwiki:pcache:idhash:539066-0!canonical and timestamp 20181010150622 and revision id 862527922\\n -->\\n     </div>\\n     <noscript>\\n      <img alt=\"\" height=\"1\" src=\"//en.wikipedia.org/wiki/Special:CentralAutoLogin/start?type=1x1\" style=\"border: none; position: absolute;\" title=\"\" width=\"1\"/>\\n     </noscript>\\n    </div>\\n    <div class=\"printfooter\">\\n     Retrieved from \"\\n     <a dir=\"ltr\" href=\"https://en.wikipedia.org/w/index.php?title=List_of_postal_codes_of_Canada:_M&amp;oldid=862527922\">\\n      https://en.wikipedia.org/w/index.php?title=List_of_postal_codes_of_Canada:_M&amp;oldid=862527922\\n     </a>\\n     \"\\n    </div>\\n    <div class=\"catlinks\" data-mw=\"interface\" id=\"catlinks\">\\n     <div class=\"mw-normal-catlinks\" id=\"mw-normal-catlinks\">\\n      <a href=\"/wiki/Help:Category\" title=\"Help:Category\">\\n       Categories\\n      </a>\\n      :\\n      <ul>\\n       <li>\\n        <a href=\"/wiki/Category:Communications_in_Ontario\" title=\"Category:Communications in Ontario\">\\n         Communications in Ontario\\n        </a>\\n       </li>\\n       <li>\\n        <a href=\"/wiki/Category:Postal_codes_in_Canada\" title=\"Category:Postal codes in Canada\">\\n         Postal codes in Canada\\n        </a>\\n       </li>\\n       <li>\\n        <a href=\"/wiki/Category:Toronto\" title=\"Category:Toronto\">\\n         Toronto\\n        </a>\\n       </li>\\n       <li>\\n        <a href=\"/wiki/Category:Ontario-related_lists\" title=\"Category:Ontario-related lists\">\\n         Ontario-related lists\\n        </a>\\n       </li>\\n      </ul>\\n     </div>\\n    </div>\\n    <div class=\"visualClear\">\\n    </div>\\n   </div>\\n  </div>\\n  <div id=\"mw-navigation\">\\n   <h2>\\n    Navigation menu\\n   </h2>\\n   <div id=\"mw-head\">\\n    <div aria-labelledby=\"p-personal-label\" class=\"\" id=\"p-personal\" role=\"navigation\">\\n     <h3 id=\"p-personal-label\">\\n      Personal tools\\n     </h3>\\n     <ul>\\n      <li id=\"pt-anonuserpage\">\\n       Not logged in\\n      </li>\\n      <li id=\"pt-anontalk\">\\n       <a accesskey=\"n\" href=\"/wiki/Special:MyTalk\" title=\"Discussion about edits from this IP address [n]\">\\n        Talk\\n       </a>\\n      </li>\\n      <li id=\"pt-anoncontribs\">\\n       <a accesskey=\"y\" href=\"/wiki/Special:MyContributions\" title=\"A list of edits made from this IP address [y]\">\\n        Contributions\\n       </a>\\n      </li>\\n      <li id=\"pt-createaccount\">\\n       <a href=\"/w/index.php?title=Special:CreateAccount&amp;returnto=List+of+postal+codes+of+Canada%3A+M\" title=\"You are encouraged to create an account and log in; however, it is not mandatory\">\\n        Create account\\n       </a>\\n      </li>\\n      <li id=\"pt-login\">\\n       <a accesskey=\"o\" href=\"/w/index.php?title=Special:UserLogin&amp;returnto=List+of+postal+codes+of+Canada%3A+M\" title=\"You\\'re encouraged to log in; however, it\\'s not mandatory. [o]\">\\n        Log in\\n       </a>\\n      </li>\\n     </ul>\\n    </div>\\n    <div id=\"left-navigation\">\\n     <div aria-labelledby=\"p-namespaces-label\" class=\"vectorTabs\" id=\"p-namespaces\" role=\"navigation\">\\n      <h3 id=\"p-namespaces-label\">\\n       Namespaces\\n      </h3>\\n      <ul>\\n       <li class=\"selected\" id=\"ca-nstab-main\">\\n        <span>\\n         <a accesskey=\"c\" href=\"/wiki/List_of_postal_codes_of_Canada:_M\" title=\"View the content page [c]\">\\n          Article\\n         </a>\\n        </span>\\n       </li>\\n       <li id=\"ca-talk\">\\n        <span>\\n         <a accesskey=\"t\" href=\"/wiki/Talk:List_of_postal_codes_of_Canada:_M\" rel=\"discussion\" title=\"Discussion about the content page [t]\">\\n          Talk\\n         </a>\\n        </span>\\n       </li>\\n      </ul>\\n     </div>\\n     <div aria-labelledby=\"p-variants-label\" class=\"vectorMenu emptyPortlet\" id=\"p-variants\" role=\"navigation\">\\n      <input aria-labelledby=\"p-variants-label\" class=\"vectorMenuCheckbox\" type=\"checkbox\"/>\\n      <h3 id=\"p-variants-label\">\\n       <span>\\n        Variants\\n       </span>\\n      </h3>\\n      <div class=\"menu\">\\n       <ul>\\n       </ul>\\n      </div>\\n     </div>\\n    </div>\\n    <div id=\"right-navigation\">\\n     <div aria-labelledby=\"p-views-label\" class=\"vectorTabs\" id=\"p-views\" role=\"navigation\">\\n      <h3 id=\"p-views-label\">\\n       Views\\n      </h3>\\n      <ul>\\n       <li class=\"collapsible selected\" id=\"ca-view\">\\n        <span>\\n         <a href=\"/wiki/List_of_postal_codes_of_Canada:_M\">\\n          Read\\n         </a>\\n        </span>\\n       </li>\\n       <li class=\"collapsible\" id=\"ca-edit\">\\n        <span>\\n         <a accesskey=\"e\" href=\"/w/index.php?title=List_of_postal_codes_of_Canada:_M&amp;action=edit\" title=\"Edit this page [e]\">\\n          Edit\\n         </a>\\n        </span>\\n       </li>\\n       <li class=\"collapsible\" id=\"ca-history\">\\n        <span>\\n         <a accesskey=\"h\" href=\"/w/index.php?title=List_of_postal_codes_of_Canada:_M&amp;action=history\" title=\"Past revisions of this page [h]\">\\n          View history\\n         </a>\\n        </span>\\n       </li>\\n      </ul>\\n     </div>\\n     <div aria-labelledby=\"p-cactions-label\" class=\"vectorMenu emptyPortlet\" id=\"p-cactions\" role=\"navigation\">\\n      <input aria-labelledby=\"p-cactions-label\" class=\"vectorMenuCheckbox\" type=\"checkbox\"/>\\n      <h3 id=\"p-cactions-label\">\\n       <span>\\n        More\\n       </span>\\n      </h3>\\n      <div class=\"menu\">\\n       <ul>\\n       </ul>\\n      </div>\\n     </div>\\n     <div id=\"p-search\" role=\"search\">\\n      <h3>\\n       <label for=\"searchInput\">\\n        Search\\n       </label>\\n      </h3>\\n      <form action=\"/w/index.php\" id=\"searchform\">\\n       <div id=\"simpleSearch\">\\n        <input accesskey=\"f\" id=\"searchInput\" name=\"search\" placeholder=\"Search Wikipedia\" title=\"Search Wikipedia [f]\" type=\"search\"/>\\n        <input name=\"title\" type=\"hidden\" value=\"Special:Search\"/>\\n        <input class=\"searchButton mw-fallbackSearchButton\" id=\"mw-searchButton\" name=\"fulltext\" title=\"Search Wikipedia for this text\" type=\"submit\" value=\"Search\"/>\\n        <input class=\"searchButton\" id=\"searchButton\" name=\"go\" title=\"Go to a page with this exact name if it exists\" type=\"submit\" value=\"Go\"/>\\n       </div>\\n      </form>\\n     </div>\\n    </div>\\n   </div>\\n   <div id=\"mw-panel\">\\n    <div id=\"p-logo\" role=\"banner\">\\n     <a class=\"mw-wiki-logo\" href=\"/wiki/Main_Page\" title=\"Visit the main page\">\\n     </a>\\n    </div>\\n    <div aria-labelledby=\"p-navigation-label\" class=\"portal\" id=\"p-navigation\" role=\"navigation\">\\n     <h3 id=\"p-navigation-label\">\\n      Navigation\\n     </h3>\\n     <div class=\"body\">\\n      <ul>\\n       <li id=\"n-mainpage-description\">\\n        <a accesskey=\"z\" href=\"/wiki/Main_Page\" title=\"Visit the main page [z]\">\\n         Main page\\n        </a>\\n       </li>\\n       <li id=\"n-contents\">\\n        <a href=\"/wiki/Portal:Contents\" title=\"Guides to browsing Wikipedia\">\\n         Contents\\n        </a>\\n       </li>\\n       <li id=\"n-featuredcontent\">\\n        <a href=\"/wiki/Portal:Featured_content\" title=\"Featured content – the best of Wikipedia\">\\n         Featured content\\n        </a>\\n       </li>\\n       <li id=\"n-currentevents\">\\n        <a href=\"/wiki/Portal:Current_events\" title=\"Find background information on current events\">\\n         Current events\\n        </a>\\n       </li>\\n       <li id=\"n-randompage\">\\n        <a accesskey=\"x\" href=\"/wiki/Special:Random\" title=\"Load a random article [x]\">\\n         Random article\\n        </a>\\n       </li>\\n       <li id=\"n-sitesupport\">\\n        <a href=\"https://donate.wikimedia.org/wiki/Special:FundraiserRedirector?utm_source=donate&amp;utm_medium=sidebar&amp;utm_campaign=C13_en.wikipedia.org&amp;uselang=en\" title=\"Support us\">\\n         Donate to Wikipedia\\n        </a>\\n       </li>\\n       <li id=\"n-shoplink\">\\n        <a href=\"//shop.wikimedia.org\" title=\"Visit the Wikipedia store\">\\n         Wikipedia store\\n        </a>\\n       </li>\\n      </ul>\\n     </div>\\n    </div>\\n    <div aria-labelledby=\"p-interaction-label\" class=\"portal\" id=\"p-interaction\" role=\"navigation\">\\n     <h3 id=\"p-interaction-label\">\\n      Interaction\\n     </h3>\\n     <div class=\"body\">\\n      <ul>\\n       <li id=\"n-help\">\\n        <a href=\"/wiki/Help:Contents\" title=\"Guidance on how to use and edit Wikipedia\">\\n         Help\\n        </a>\\n       </li>\\n       <li id=\"n-aboutsite\">\\n        <a href=\"/wiki/Wikipedia:About\" title=\"Find out about Wikipedia\">\\n         About Wikipedia\\n        </a>\\n       </li>\\n       <li id=\"n-portal\">\\n        <a href=\"/wiki/Wikipedia:Community_portal\" title=\"About the project, what you can do, where to find things\">\\n         Community portal\\n        </a>\\n       </li>\\n       <li id=\"n-recentchanges\">\\n        <a accesskey=\"r\" href=\"/wiki/Special:RecentChanges\" title=\"A list of recent changes in the wiki [r]\">\\n         Recent changes\\n        </a>\\n       </li>\\n       <li id=\"n-contactpage\">\\n        <a href=\"//en.wikipedia.org/wiki/Wikipedia:Contact_us\" title=\"How to contact Wikipedia\">\\n         Contact page\\n        </a>\\n       </li>\\n      </ul>\\n     </div>\\n    </div>\\n    <div aria-labelledby=\"p-tb-label\" class=\"portal\" id=\"p-tb\" role=\"navigation\">\\n     <h3 id=\"p-tb-label\">\\n      Tools\\n     </h3>\\n     <div class=\"body\">\\n      <ul>\\n       <li id=\"t-whatlinkshere\">\\n        <a accesskey=\"j\" href=\"/wiki/Special:WhatLinksHere/List_of_postal_codes_of_Canada:_M\" title=\"List of all English Wikipedia pages containing links to this page [j]\">\\n         What links here\\n        </a>\\n       </li>\\n       <li id=\"t-recentchangeslinked\">\\n        <a accesskey=\"k\" href=\"/wiki/Special:RecentChangesLinked/List_of_postal_codes_of_Canada:_M\" rel=\"nofollow\" title=\"Recent changes in pages linked from this page [k]\">\\n         Related changes\\n        </a>\\n       </li>\\n       <li id=\"t-upload\">\\n        <a accesskey=\"u\" href=\"/wiki/Wikipedia:File_Upload_Wizard\" title=\"Upload files [u]\">\\n         Upload file\\n        </a>\\n       </li>\\n       <li id=\"t-specialpages\">\\n        <a accesskey=\"q\" href=\"/wiki/Special:SpecialPages\" title=\"A list of all special pages [q]\">\\n         Special pages\\n        </a>\\n       </li>\\n       <li id=\"t-permalink\">\\n        <a href=\"/w/index.php?title=List_of_postal_codes_of_Canada:_M&amp;oldid=862527922\" title=\"Permanent link to this revision of the page\">\\n         Permanent link\\n        </a>\\n       </li>\\n       <li id=\"t-info\">\\n        <a href=\"/w/index.php?title=List_of_postal_codes_of_Canada:_M&amp;action=info\" title=\"More information about this page\">\\n         Page information\\n        </a>\\n       </li>\\n       <li id=\"t-wikibase\">\\n        <a accesskey=\"g\" href=\"https://www.wikidata.org/wiki/Special:EntityPage/Q3248240\" title=\"Link to connected data repository item [g]\">\\n         Wikidata item\\n        </a>\\n       </li>\\n       <li id=\"t-cite\">\\n        <a href=\"/w/index.php?title=Special:CiteThisPage&amp;page=List_of_postal_codes_of_Canada%3A_M&amp;id=862527922\" title=\"Information on how to cite this page\">\\n         Cite this page\\n        </a>\\n       </li>\\n      </ul>\\n     </div>\\n    </div>\\n    <div aria-labelledby=\"p-coll-print_export-label\" class=\"portal\" id=\"p-coll-print_export\" role=\"navigation\">\\n     <h3 id=\"p-coll-print_export-label\">\\n      Print/export\\n     </h3>\\n     <div class=\"body\">\\n      <ul>\\n       <li id=\"coll-create_a_book\">\\n        <a href=\"/w/index.php?title=Special:Book&amp;bookcmd=book_creator&amp;referer=List+of+postal+codes+of+Canada%3A+M\">\\n         Create a book\\n        </a>\\n       </li>\\n       <li id=\"coll-download-as-rdf2latex\">\\n        <a href=\"/w/index.php?title=Special:ElectronPdf&amp;page=List+of+postal+codes+of+Canada%3A+M&amp;action=show-download-screen\">\\n         Download as PDF\\n        </a>\\n       </li>\\n       <li id=\"t-print\">\\n        <a accesskey=\"p\" href=\"/w/index.php?title=List_of_postal_codes_of_Canada:_M&amp;printable=yes\" title=\"Printable version of this page [p]\">\\n         Printable version\\n        </a>\\n       </li>\\n      </ul>\\n     </div>\\n    </div>\\n    <div aria-labelledby=\"p-lang-label\" class=\"portal\" id=\"p-lang\" role=\"navigation\">\\n     <h3 id=\"p-lang-label\">\\n      Languages\\n     </h3>\\n     <div class=\"body\">\\n      <ul>\\n       <li class=\"interlanguage-link interwiki-fr\">\\n        <a class=\"interlanguage-link-target\" href=\"https://fr.wikipedia.org/wiki/Liste_des_codes_postaux_canadiens_d%C3%A9butant_par_M\" hreflang=\"fr\" lang=\"fr\" title=\"Liste des codes postaux canadiens débutant par M – French\">\\n         Français\\n        </a>\\n       </li>\\n      </ul>\\n      <div class=\"after-portlet after-portlet-lang\">\\n       <span class=\"wb-langlinks-edit wb-langlinks-link\">\\n        <a class=\"wbc-editpage\" href=\"https://www.wikidata.org/wiki/Special:EntityPage/Q3248240#sitelinks-wikipedia\" title=\"Edit interlanguage links\">\\n         Edit links\\n        </a>\\n       </span>\\n      </div>\\n     </div>\\n    </div>\\n   </div>\\n  </div>\\n  <div id=\"footer\" role=\"contentinfo\">\\n   <ul id=\"footer-info\">\\n    <li id=\"footer-info-lastmod\">\\n     This page was last edited on 4 October 2018, at 23:55\\n     <span class=\"anonymous-show\">\\n      (UTC)\\n     </span>\\n     .\\n    </li>\\n    <li id=\"footer-info-copyright\">\\n     Text is available under the\\n     <a href=\"//en.wikipedia.org/wiki/Wikipedia:Text_of_Creative_Commons_Attribution-ShareAlike_3.0_Unported_License\" rel=\"license\">\\n      Creative Commons Attribution-ShareAlike License\\n     </a>\\n     <a href=\"//creativecommons.org/licenses/by-sa/3.0/\" rel=\"license\" style=\"display:none;\">\\n     </a>\\n     ;\\nadditional terms may apply.  By using this site, you agree to the\\n     <a href=\"//foundation.wikimedia.org/wiki/Terms_of_Use\">\\n      Terms of Use\\n     </a>\\n     and\\n     <a href=\"//foundation.wikimedia.org/wiki/Privacy_policy\">\\n      Privacy Policy\\n     </a>\\n     . Wikipedia® is a registered trademark of the\\n     <a href=\"//www.wikimediafoundation.org/\">\\n      Wikimedia Foundation, Inc.\\n     </a>\\n     , a non-profit organization.\\n    </li>\\n   </ul>\\n   <ul id=\"footer-places\">\\n    <li id=\"footer-places-privacy\">\\n     <a class=\"extiw\" href=\"https://foundation.wikimedia.org/wiki/Privacy_policy\" title=\"wmf:Privacy policy\">\\n      Privacy policy\\n     </a>\\n    </li>\\n    <li id=\"footer-places-about\">\\n     <a href=\"/wiki/Wikipedia:About\" title=\"Wikipedia:About\">\\n      About Wikipedia\\n     </a>\\n    </li>\\n    <li id=\"footer-places-disclaimer\">\\n     <a href=\"/wiki/Wikipedia:General_disclaimer\" title=\"Wikipedia:General disclaimer\">\\n      Disclaimers\\n     </a>\\n    </li>\\n    <li id=\"footer-places-contact\">\\n     <a href=\"//en.wikipedia.org/wiki/Wikipedia:Contact_us\">\\n      Contact Wikipedia\\n     </a>\\n    </li>\\n    <li id=\"footer-places-developers\">\\n     <a href=\"https://www.mediawiki.org/wiki/Special:MyLanguage/How_to_contribute\">\\n      Developers\\n     </a>\\n    </li>\\n    <li id=\"footer-places-cookiestatement\">\\n     <a href=\"https://foundation.wikimedia.org/wiki/Cookie_statement\">\\n      Cookie statement\\n     </a>\\n    </li>\\n    <li id=\"footer-places-mobileview\">\\n     <a class=\"noprint stopMobileRedirectToggle\" href=\"//en.m.wikipedia.org/w/index.php?title=List_of_postal_codes_of_Canada:_M&amp;mobileaction=toggle_view_mobile\">\\n      Mobile view\\n     </a>\\n    </li>\\n   </ul>\\n   <ul class=\"noprint\" id=\"footer-icons\">\\n    <li id=\"footer-copyrightico\">\\n     <a href=\"https://wikimediafoundation.org/\">\\n      <img alt=\"Wikimedia Foundation\" height=\"31\" src=\"/static/images/wikimedia-button.png\" srcset=\"/static/images/wikimedia-button-1.5x.png 1.5x, /static/images/wikimedia-button-2x.png 2x\" width=\"88\"/>\\n     </a>\\n    </li>\\n    <li id=\"footer-poweredbyico\">\\n     <a href=\"//www.mediawiki.org/\">\\n      <img alt=\"Powered by MediaWiki\" height=\"31\" src=\"/static/images/poweredby_mediawiki_88x31.png\" srcset=\"/static/images/poweredby_mediawiki_132x47.png 1.5x, /static/images/poweredby_mediawiki_176x62.png 2x\" width=\"88\"/>\\n     </a>\\n    </li>\\n   </ul>\\n   <div style=\"clear: both;\">\\n   </div>\\n  </div>\\n  <script>\\n   (window.RLQ=window.RLQ||[]).push(function(){mw.config.set({\"wgPageParseReport\":{\"limitreport\":{\"cputime\":\"0.224\",\"walltime\":\"0.268\",\"ppvisitednodes\":{\"value\":588,\"limit\":1000000},\"ppgeneratednodes\":{\"value\":0,\"limit\":1500000},\"postexpandincludesize\":{\"value\":10232,\"limit\":2097152},\"templateargumentsize\":{\"value\":13,\"limit\":2097152},\"expansiondepth\":{\"value\":4,\"limit\":40},\"expensivefunctioncount\":{\"value\":0,\"limit\":500},\"unstrip-depth\":{\"value\":1,\"limit\":20},\"unstrip-size\":{\"value\":8056,\"limit\":5000000},\"entityaccesscount\":{\"value\":0,\"limit\":400},\"timingprofile\":[\"100.00%  131.900      1 -total\",\" 79.39%  104.713      3 Template:Cite_web\",\"  6.01%    7.927      1 Template:Col-2\",\"  3.87%    5.109      1 Template:Col-begin\",\"  3.07%    4.052      1 Template:Canadian_postal_codes\",\"  1.25%    1.652      1 Template:Col-break\",\"  1.22%    1.605      2 Template:Col-end\"]},\"scribunto\":{\"limitreport-timeusage\":{\"value\":\"0.064\",\"limit\":\"10.000\"},\"limitreport-memusage\":{\"value\":1725791,\"limit\":52428800}},\"cachereport\":{\"origin\":\"mw1272\",\"timestamp\":\"20181010150622\",\"ttl\":1900800,\"transientcontent\":false}}});mw.config.set({\"wgBackendResponseTime\":89,\"wgHostname\":\"mw1323\"});});\\n  </script>\\n </body>\\n</html>\\n'"
      ]
     },
     "execution_count": 3,
     "metadata": {},
     "output_type": "execute_result"
    }
   ],
   "source": [
    "soap = BeautifulSoup(results,'lxml')\n",
    "soap.prettify()"
   ]
  },
  {
   "cell_type": "code",
   "execution_count": 4,
   "metadata": {},
   "outputs": [
    {
     "name": "stdout",
     "output_type": "stream",
     "text": [
      "total number of postal code records including Not Assigned :  289.0\n"
     ]
    }
   ],
   "source": [
    "data = soap.find('table',{'class':'wikitable sortable'}).findAll('td')\n",
    "print('total number of postal code records including Not Assigned : ', len(data)/3)"
   ]
  },
  {
   "cell_type": "code",
   "execution_count": 5,
   "metadata": {},
   "outputs": [
    {
     "name": "stdout",
     "output_type": "stream",
     "text": [
      "Extracting values from data is done\n"
     ]
    }
   ],
   "source": [
    "postal_code = []\n",
    "borough = []\n",
    "neighborhood = []\n",
    "i=0\n",
    "while i < len(data):\n",
    "    if (data[i+1].find('a')) is not None:\n",
    "        if data[i].contents[0] in postal_code:\n",
    "            index = postal_code.index(data[i].contents[0])\n",
    "            neighborhood[index] = neighborhood[index] + ', ' + data[i+2].find('a').get('title') if data[i+2].find('a') else data[i+1].find('a').get('title')\n",
    "        else:\n",
    "            postal_code.append(data[i].contents[0])\n",
    "            borough.append(data[i+1].find('a').get('title'))\n",
    "            neighborhood.append(data[i+2].find('a').get('title') if data[i+2].find('a') else data[i+1].find('a').get('title'))\n",
    "    i = i+3\n",
    "print('Extracting values from data is done')        "
   ]
  },
  {
   "cell_type": "code",
   "execution_count": 6,
   "metadata": {},
   "outputs": [
    {
     "data": {
      "text/plain": [
       "(100, 3)"
      ]
     },
     "execution_count": 6,
     "metadata": {},
     "output_type": "execute_result"
    }
   ],
   "source": [
    "postal_data = pd.DataFrame()\n",
    "postal_data['PostalCode'] = postal_code\n",
    "postal_data['Borough'] = borough\n",
    "postal_data['Neighborhood'] = neighborhood\n",
    "postal_data.shape"
   ]
  },
  {
   "cell_type": "code",
   "execution_count": 7,
   "metadata": {},
   "outputs": [
    {
     "data": {
      "text/html": [
       "<div>\n",
       "<style scoped>\n",
       "    .dataframe tbody tr th:only-of-type {\n",
       "        vertical-align: middle;\n",
       "    }\n",
       "\n",
       "    .dataframe tbody tr th {\n",
       "        vertical-align: top;\n",
       "    }\n",
       "\n",
       "    .dataframe thead th {\n",
       "        text-align: right;\n",
       "    }\n",
       "</style>\n",
       "<table border=\"1\" class=\"dataframe\">\n",
       "  <thead>\n",
       "    <tr style=\"text-align: right;\">\n",
       "      <th></th>\n",
       "      <th>PostalCode</th>\n",
       "      <th>Borough</th>\n",
       "      <th>Neighborhood</th>\n",
       "    </tr>\n",
       "  </thead>\n",
       "  <tbody>\n",
       "    <tr>\n",
       "      <th>0</th>\n",
       "      <td>M3A</td>\n",
       "      <td>North York</td>\n",
       "      <td>Parkwoods</td>\n",
       "    </tr>\n",
       "    <tr>\n",
       "      <th>1</th>\n",
       "      <td>M4A</td>\n",
       "      <td>North York</td>\n",
       "      <td>Victoria Village</td>\n",
       "    </tr>\n",
       "    <tr>\n",
       "      <th>2</th>\n",
       "      <td>M5A</td>\n",
       "      <td>Downtown Toronto</td>\n",
       "      <td>Harbourfront (Toronto), Regent Park</td>\n",
       "    </tr>\n",
       "    <tr>\n",
       "      <th>3</th>\n",
       "      <td>M6A</td>\n",
       "      <td>North York</td>\n",
       "      <td>Lawrence Heights, Lawrence Manor</td>\n",
       "    </tr>\n",
       "    <tr>\n",
       "      <th>4</th>\n",
       "      <td>M7A</td>\n",
       "      <td>Queen's Park (Toronto)</td>\n",
       "      <td>Queen's Park (Toronto)</td>\n",
       "    </tr>\n",
       "  </tbody>\n",
       "</table>\n",
       "</div>"
      ],
      "text/plain": [
       "  PostalCode                 Borough                         Neighborhood\n",
       "0        M3A              North York                            Parkwoods\n",
       "1        M4A              North York                     Victoria Village\n",
       "2        M5A        Downtown Toronto  Harbourfront (Toronto), Regent Park\n",
       "3        M6A              North York     Lawrence Heights, Lawrence Manor\n",
       "4        M7A  Queen's Park (Toronto)               Queen's Park (Toronto)"
      ]
     },
     "execution_count": 7,
     "metadata": {},
     "output_type": "execute_result"
    }
   ],
   "source": [
    "postal_data.head()"
   ]
  },
  {
   "cell_type": "code",
   "execution_count": 8,
   "metadata": {},
   "outputs": [
    {
     "data": {
      "text/plain": [
       "84    Downtown Toronto, King and Spadina, Railway La...\n",
       "Name: Neighborhood, dtype: object"
      ]
     },
     "execution_count": 8,
     "metadata": {},
     "output_type": "execute_result"
    }
   ],
   "source": [
    "postal_data[postal_data['PostalCode'] == 'M5V']['Neighborhood']"
   ]
  },
  {
   "cell_type": "code",
   "execution_count": 9,
   "metadata": {},
   "outputs": [
    {
     "name": "stdout",
     "output_type": "stream",
     "text": [
      "total unique postal values : 103\n"
     ]
    },
    {
     "data": {
      "text/html": [
       "<div>\n",
       "<style scoped>\n",
       "    .dataframe tbody tr th:only-of-type {\n",
       "        vertical-align: middle;\n",
       "    }\n",
       "\n",
       "    .dataframe tbody tr th {\n",
       "        vertical-align: top;\n",
       "    }\n",
       "\n",
       "    .dataframe thead th {\n",
       "        text-align: right;\n",
       "    }\n",
       "</style>\n",
       "<table border=\"1\" class=\"dataframe\">\n",
       "  <thead>\n",
       "    <tr style=\"text-align: right;\">\n",
       "      <th></th>\n",
       "      <th>Postal Code</th>\n",
       "      <th>Latitude</th>\n",
       "      <th>Longitude</th>\n",
       "    </tr>\n",
       "  </thead>\n",
       "  <tbody>\n",
       "    <tr>\n",
       "      <th>0</th>\n",
       "      <td>M1B</td>\n",
       "      <td>43.806686</td>\n",
       "      <td>-79.194353</td>\n",
       "    </tr>\n",
       "    <tr>\n",
       "      <th>1</th>\n",
       "      <td>M1C</td>\n",
       "      <td>43.784535</td>\n",
       "      <td>-79.160497</td>\n",
       "    </tr>\n",
       "    <tr>\n",
       "      <th>2</th>\n",
       "      <td>M1E</td>\n",
       "      <td>43.763573</td>\n",
       "      <td>-79.188711</td>\n",
       "    </tr>\n",
       "    <tr>\n",
       "      <th>3</th>\n",
       "      <td>M1G</td>\n",
       "      <td>43.770992</td>\n",
       "      <td>-79.216917</td>\n",
       "    </tr>\n",
       "    <tr>\n",
       "      <th>4</th>\n",
       "      <td>M1H</td>\n",
       "      <td>43.773136</td>\n",
       "      <td>-79.239476</td>\n",
       "    </tr>\n",
       "  </tbody>\n",
       "</table>\n",
       "</div>"
      ],
      "text/plain": [
       "  Postal Code   Latitude  Longitude\n",
       "0         M1B  43.806686 -79.194353\n",
       "1         M1C  43.784535 -79.160497\n",
       "2         M1E  43.763573 -79.188711\n",
       "3         M1G  43.770992 -79.216917\n",
       "4         M1H  43.773136 -79.239476"
      ]
     },
     "execution_count": 9,
     "metadata": {},
     "output_type": "execute_result"
    }
   ],
   "source": [
    "lon_lat = pd.read_csv('Geospatial_Coordinates.csv')\n",
    "print('total unique postal values :', lon_lat['Postal Code'].nunique())\n",
    "lon_lat.head()"
   ]
  },
  {
   "cell_type": "code",
   "execution_count": 10,
   "metadata": {},
   "outputs": [
    {
     "data": {
      "text/html": [
       "<div>\n",
       "<style scoped>\n",
       "    .dataframe tbody tr th:only-of-type {\n",
       "        vertical-align: middle;\n",
       "    }\n",
       "\n",
       "    .dataframe tbody tr th {\n",
       "        vertical-align: top;\n",
       "    }\n",
       "\n",
       "    .dataframe thead th {\n",
       "        text-align: right;\n",
       "    }\n",
       "</style>\n",
       "<table border=\"1\" class=\"dataframe\">\n",
       "  <thead>\n",
       "    <tr style=\"text-align: right;\">\n",
       "      <th></th>\n",
       "      <th>PostalCode</th>\n",
       "      <th>Borough</th>\n",
       "      <th>Neighborhood</th>\n",
       "      <th>Latitude</th>\n",
       "      <th>Longitude</th>\n",
       "    </tr>\n",
       "  </thead>\n",
       "  <tbody>\n",
       "    <tr>\n",
       "      <th>0</th>\n",
       "      <td>M3A</td>\n",
       "      <td>North York</td>\n",
       "      <td>Parkwoods</td>\n",
       "      <td>43.753259</td>\n",
       "      <td>-79.329656</td>\n",
       "    </tr>\n",
       "    <tr>\n",
       "      <th>1</th>\n",
       "      <td>M4A</td>\n",
       "      <td>North York</td>\n",
       "      <td>Victoria Village</td>\n",
       "      <td>43.725882</td>\n",
       "      <td>-79.315572</td>\n",
       "    </tr>\n",
       "    <tr>\n",
       "      <th>2</th>\n",
       "      <td>M5A</td>\n",
       "      <td>Downtown Toronto</td>\n",
       "      <td>Harbourfront (Toronto), Regent Park</td>\n",
       "      <td>43.654260</td>\n",
       "      <td>-79.360636</td>\n",
       "    </tr>\n",
       "    <tr>\n",
       "      <th>3</th>\n",
       "      <td>M6A</td>\n",
       "      <td>North York</td>\n",
       "      <td>Lawrence Heights, Lawrence Manor</td>\n",
       "      <td>43.718518</td>\n",
       "      <td>-79.464763</td>\n",
       "    </tr>\n",
       "    <tr>\n",
       "      <th>4</th>\n",
       "      <td>M7A</td>\n",
       "      <td>Queen's Park (Toronto)</td>\n",
       "      <td>Queen's Park (Toronto)</td>\n",
       "      <td>43.662301</td>\n",
       "      <td>-79.389494</td>\n",
       "    </tr>\n",
       "    <tr>\n",
       "      <th>5</th>\n",
       "      <td>M9A</td>\n",
       "      <td>Etobicoke</td>\n",
       "      <td>Islington Avenue</td>\n",
       "      <td>43.667856</td>\n",
       "      <td>-79.532242</td>\n",
       "    </tr>\n",
       "    <tr>\n",
       "      <th>6</th>\n",
       "      <td>M1B</td>\n",
       "      <td>Scarborough, Toronto</td>\n",
       "      <td>Rouge, Toronto, Malvern, Toronto</td>\n",
       "      <td>43.806686</td>\n",
       "      <td>-79.194353</td>\n",
       "    </tr>\n",
       "    <tr>\n",
       "      <th>7</th>\n",
       "      <td>M3B</td>\n",
       "      <td>North York</td>\n",
       "      <td>North York</td>\n",
       "      <td>43.745906</td>\n",
       "      <td>-79.352188</td>\n",
       "    </tr>\n",
       "    <tr>\n",
       "      <th>8</th>\n",
       "      <td>M4B</td>\n",
       "      <td>East York</td>\n",
       "      <td>Woodbine Gardens, Parkview Hill</td>\n",
       "      <td>43.706397</td>\n",
       "      <td>-79.309937</td>\n",
       "    </tr>\n",
       "    <tr>\n",
       "      <th>9</th>\n",
       "      <td>M5B</td>\n",
       "      <td>Downtown Toronto</td>\n",
       "      <td>Downtown Toronto</td>\n",
       "      <td>43.657162</td>\n",
       "      <td>-79.378937</td>\n",
       "    </tr>\n",
       "  </tbody>\n",
       "</table>\n",
       "</div>"
      ],
      "text/plain": [
       "  PostalCode                 Borough                         Neighborhood  \\\n",
       "0        M3A              North York                            Parkwoods   \n",
       "1        M4A              North York                     Victoria Village   \n",
       "2        M5A        Downtown Toronto  Harbourfront (Toronto), Regent Park   \n",
       "3        M6A              North York     Lawrence Heights, Lawrence Manor   \n",
       "4        M7A  Queen's Park (Toronto)               Queen's Park (Toronto)   \n",
       "5        M9A               Etobicoke                     Islington Avenue   \n",
       "6        M1B    Scarborough, Toronto     Rouge, Toronto, Malvern, Toronto   \n",
       "7        M3B              North York                           North York   \n",
       "8        M4B               East York      Woodbine Gardens, Parkview Hill   \n",
       "9        M5B        Downtown Toronto                     Downtown Toronto   \n",
       "\n",
       "    Latitude  Longitude  \n",
       "0  43.753259 -79.329656  \n",
       "1  43.725882 -79.315572  \n",
       "2  43.654260 -79.360636  \n",
       "3  43.718518 -79.464763  \n",
       "4  43.662301 -79.389494  \n",
       "5  43.667856 -79.532242  \n",
       "6  43.806686 -79.194353  \n",
       "7  43.745906 -79.352188  \n",
       "8  43.706397 -79.309937  \n",
       "9  43.657162 -79.378937  "
      ]
     },
     "execution_count": 10,
     "metadata": {},
     "output_type": "execute_result"
    }
   ],
   "source": [
    "latitude = []\n",
    "longitude = []\n",
    "postal = postal_data['PostalCode'].values\n",
    "for value in postal:\n",
    "    temp = lon_lat[lon_lat['Postal Code'] == value]\n",
    "    latitude.append(temp['Latitude'].values[0])\n",
    "    longitude.append(temp['Longitude'].values[0])\n",
    "    \n",
    "postal_data['Latitude'] = latitude\n",
    "postal_data['Longitude'] = longitude\n",
    "\n",
    "postal_data.head(10)"
   ]
  },
  {
   "cell_type": "code",
   "execution_count": 11,
   "metadata": {},
   "outputs": [
    {
     "name": "stdout",
     "output_type": "stream",
     "text": [
      "(56, 5)\n"
     ]
    },
    {
     "data": {
      "text/html": [
       "<div>\n",
       "<style scoped>\n",
       "    .dataframe tbody tr th:only-of-type {\n",
       "        vertical-align: middle;\n",
       "    }\n",
       "\n",
       "    .dataframe tbody tr th {\n",
       "        vertical-align: top;\n",
       "    }\n",
       "\n",
       "    .dataframe thead th {\n",
       "        text-align: right;\n",
       "    }\n",
       "</style>\n",
       "<table border=\"1\" class=\"dataframe\">\n",
       "  <thead>\n",
       "    <tr style=\"text-align: right;\">\n",
       "      <th></th>\n",
       "      <th>PostalCode</th>\n",
       "      <th>Borough</th>\n",
       "      <th>Neighborhood</th>\n",
       "      <th>Latitude</th>\n",
       "      <th>Longitude</th>\n",
       "    </tr>\n",
       "  </thead>\n",
       "  <tbody>\n",
       "    <tr>\n",
       "      <th>75</th>\n",
       "      <td>M1S</td>\n",
       "      <td>Scarborough, Toronto</td>\n",
       "      <td>Agincourt, Toronto</td>\n",
       "      <td>43.794200</td>\n",
       "      <td>-79.262029</td>\n",
       "    </tr>\n",
       "    <tr>\n",
       "      <th>19</th>\n",
       "      <td>M5E</td>\n",
       "      <td>Downtown Toronto</td>\n",
       "      <td>Berczy Park</td>\n",
       "      <td>43.644771</td>\n",
       "      <td>-79.373306</td>\n",
       "    </tr>\n",
       "    <tr>\n",
       "      <th>93</th>\n",
       "      <td>M4X</td>\n",
       "      <td>Downtown Toronto</td>\n",
       "      <td>Cabbagetown, Toronto, St. James Town</td>\n",
       "      <td>43.667967</td>\n",
       "      <td>-79.367675</td>\n",
       "    </tr>\n",
       "    <tr>\n",
       "      <th>76</th>\n",
       "      <td>M4S</td>\n",
       "      <td>Central Toronto</td>\n",
       "      <td>Central Toronto</td>\n",
       "      <td>43.704324</td>\n",
       "      <td>-79.388790</td>\n",
       "    </tr>\n",
       "    <tr>\n",
       "      <th>65</th>\n",
       "      <td>M4P</td>\n",
       "      <td>Central Toronto</td>\n",
       "      <td>Central Toronto</td>\n",
       "      <td>43.712751</td>\n",
       "      <td>-79.390197</td>\n",
       "    </tr>\n",
       "  </tbody>\n",
       "</table>\n",
       "</div>"
      ],
      "text/plain": [
       "   PostalCode               Borough                          Neighborhood  \\\n",
       "75        M1S  Scarborough, Toronto                    Agincourt, Toronto   \n",
       "19        M5E      Downtown Toronto                           Berczy Park   \n",
       "93        M4X      Downtown Toronto  Cabbagetown, Toronto, St. James Town   \n",
       "76        M4S       Central Toronto                       Central Toronto   \n",
       "65        M4P       Central Toronto                       Central Toronto   \n",
       "\n",
       "     Latitude  Longitude  \n",
       "75  43.794200 -79.262029  \n",
       "19  43.644771 -79.373306  \n",
       "93  43.667967 -79.367675  \n",
       "76  43.704324 -79.388790  \n",
       "65  43.712751 -79.390197  "
      ]
     },
     "execution_count": 11,
     "metadata": {},
     "output_type": "execute_result"
    }
   ],
   "source": [
    "Toronto = postal_data[postal_data['Borough'].str.contains('Toronto')]\n",
    "Toronto = Toronto.sort_values(by=['Neighborhood'])\n",
    "print(Toronto.shape)\n",
    "Toronto.head()"
   ]
  },
  {
   "cell_type": "code",
   "execution_count": 12,
   "metadata": {},
   "outputs": [
    {
     "data": {
      "text/plain": [
       "(56, 5)"
      ]
     },
     "execution_count": 12,
     "metadata": {},
     "output_type": "execute_result"
    }
   ],
   "source": [
    "#Toronto['Longitude'].nunique()\n",
    "x = Toronto.groupby(['Neighborhood','Latitude','Longitude']).count().reset_index()\n",
    "x.shape"
   ]
  },
  {
   "cell_type": "code",
   "execution_count": 13,
   "metadata": {},
   "outputs": [],
   "source": [
    "CLIENT_ID = 'SO1C150DV4X5TTIF0STVVODGYUDAFV3ZICKZQXAHECMZV41K' # your Foursquare ID\n",
    "CLIENT_SECRET = 'UNS3NE2PQC5YCXSEH5TBWVRGCRZ5IVIT4B4ATLO2WOEXL0L3' # your Foursquare Secret\n",
    "VERSION = '20180605' # Foursquare API version\n",
    "LIMIT = 100\n",
    "radius = 500\n",
    "\n",
    "\n",
    "def getNearbyVenues(names, latitudes, longitudes, radius=500):\n",
    "    \n",
    "    venues_list=[]\n",
    "    for name, lat, lng in zip(names, latitudes, longitudes):\n",
    "        #print(name)\n",
    "            \n",
    "        # create the API request URL\n",
    "        url = 'https://api.foursquare.com/v2/venues/explore?&client_id={}&client_secret={}&v={}&ll={},{}&radius={}&limit={}'.format(\n",
    "            CLIENT_ID, \n",
    "            CLIENT_SECRET, \n",
    "            VERSION, \n",
    "            lat, \n",
    "            lng, \n",
    "            radius, \n",
    "            LIMIT)\n",
    "            \n",
    "        # make the GET request\n",
    "        results = None\n",
    "        results = requests.get(url).json()[\"response\"]['groups'][0]['items']\n",
    "        \n",
    "        if results is None:\n",
    "            print('None result is :',name)\n",
    "        \n",
    "        # return only relevant information for each nearby venue\n",
    "        venues_list.append([(\n",
    "            name, \n",
    "            lat, \n",
    "            lng, \n",
    "            v['venue']['name'], \n",
    "            v['venue']['location']['lat'], \n",
    "            v['venue']['location']['lng'],  \n",
    "            v['venue']['categories'][0]['name']) for v in results])\n",
    "\n",
    "    nearby_venues = pd.DataFrame([item for venue_list in venues_list for item in venue_list])\n",
    "    nearby_venues.columns = ['Neighborhood', \n",
    "                  'Neighborhood Latitude', \n",
    "                  'Neighborhood Longitude', \n",
    "                  'Venue', \n",
    "                  'Venue Latitude', \n",
    "                  'Venue Longitude', \n",
    "                  'Venue Category']\n",
    "    \n",
    "    return(nearby_venues)"
   ]
  },
  {
   "cell_type": "code",
   "execution_count": 14,
   "metadata": {},
   "outputs": [
    {
     "data": {
      "text/html": [
       "<div>\n",
       "<style scoped>\n",
       "    .dataframe tbody tr th:only-of-type {\n",
       "        vertical-align: middle;\n",
       "    }\n",
       "\n",
       "    .dataframe tbody tr th {\n",
       "        vertical-align: top;\n",
       "    }\n",
       "\n",
       "    .dataframe thead th {\n",
       "        text-align: right;\n",
       "    }\n",
       "</style>\n",
       "<table border=\"1\" class=\"dataframe\">\n",
       "  <thead>\n",
       "    <tr style=\"text-align: right;\">\n",
       "      <th></th>\n",
       "      <th>Neighborhood</th>\n",
       "      <th>Neighborhood Latitude</th>\n",
       "      <th>Neighborhood Longitude</th>\n",
       "      <th>Venue</th>\n",
       "      <th>Venue Latitude</th>\n",
       "      <th>Venue Longitude</th>\n",
       "      <th>Venue Category</th>\n",
       "    </tr>\n",
       "  </thead>\n",
       "  <tbody>\n",
       "    <tr>\n",
       "      <th>0</th>\n",
       "      <td>Agincourt, Toronto</td>\n",
       "      <td>43.794200</td>\n",
       "      <td>-79.262029</td>\n",
       "      <td>Panagio's Breakfast &amp; Lunch</td>\n",
       "      <td>43.792370</td>\n",
       "      <td>-79.260203</td>\n",
       "      <td>Breakfast Spot</td>\n",
       "    </tr>\n",
       "    <tr>\n",
       "      <th>1</th>\n",
       "      <td>Agincourt, Toronto</td>\n",
       "      <td>43.794200</td>\n",
       "      <td>-79.262029</td>\n",
       "      <td>Twilight</td>\n",
       "      <td>43.791999</td>\n",
       "      <td>-79.258584</td>\n",
       "      <td>Lounge</td>\n",
       "    </tr>\n",
       "    <tr>\n",
       "      <th>2</th>\n",
       "      <td>Agincourt, Toronto</td>\n",
       "      <td>43.794200</td>\n",
       "      <td>-79.262029</td>\n",
       "      <td>Mark's</td>\n",
       "      <td>43.791179</td>\n",
       "      <td>-79.259714</td>\n",
       "      <td>Clothing Store</td>\n",
       "    </tr>\n",
       "    <tr>\n",
       "      <th>3</th>\n",
       "      <td>Agincourt, Toronto</td>\n",
       "      <td>43.794200</td>\n",
       "      <td>-79.262029</td>\n",
       "      <td>Commander Arena</td>\n",
       "      <td>43.794867</td>\n",
       "      <td>-79.267989</td>\n",
       "      <td>Skating Rink</td>\n",
       "    </tr>\n",
       "    <tr>\n",
       "      <th>4</th>\n",
       "      <td>Berczy Park</td>\n",
       "      <td>43.644771</td>\n",
       "      <td>-79.373306</td>\n",
       "      <td>LCBO</td>\n",
       "      <td>43.642944</td>\n",
       "      <td>-79.372440</td>\n",
       "      <td>Liquor Store</td>\n",
       "    </tr>\n",
       "  </tbody>\n",
       "</table>\n",
       "</div>"
      ],
      "text/plain": [
       "         Neighborhood  Neighborhood Latitude  Neighborhood Longitude  \\\n",
       "0  Agincourt, Toronto              43.794200              -79.262029   \n",
       "1  Agincourt, Toronto              43.794200              -79.262029   \n",
       "2  Agincourt, Toronto              43.794200              -79.262029   \n",
       "3  Agincourt, Toronto              43.794200              -79.262029   \n",
       "4         Berczy Park              43.644771              -79.373306   \n",
       "\n",
       "                         Venue  Venue Latitude  Venue Longitude  \\\n",
       "0  Panagio's Breakfast & Lunch       43.792370       -79.260203   \n",
       "1                     Twilight       43.791999       -79.258584   \n",
       "2                       Mark's       43.791179       -79.259714   \n",
       "3              Commander Arena       43.794867       -79.267989   \n",
       "4                         LCBO       43.642944       -79.372440   \n",
       "\n",
       "   Venue Category  \n",
       "0  Breakfast Spot  \n",
       "1          Lounge  \n",
       "2  Clothing Store  \n",
       "3    Skating Rink  \n",
       "4    Liquor Store  "
      ]
     },
     "execution_count": 14,
     "metadata": {},
     "output_type": "execute_result"
    }
   ],
   "source": [
    "toronto_venues = getNearbyVenues(names=Toronto['Neighborhood'].values,\n",
    "                                   latitudes=Toronto['Latitude'].values,\n",
    "                                   longitudes=Toronto['Longitude'].values\n",
    "                                  )\n",
    "toronto_venues.head()"
   ]
  },
  {
   "cell_type": "code",
   "execution_count": 15,
   "metadata": {},
   "outputs": [
    {
     "data": {
      "text/plain": [
       "(1833, 7)"
      ]
     },
     "execution_count": 15,
     "metadata": {},
     "output_type": "execute_result"
    }
   ],
   "source": [
    "toronto_venues.shape"
   ]
  },
  {
   "cell_type": "code",
   "execution_count": 16,
   "metadata": {},
   "outputs": [
    {
     "data": {
      "text/plain": [
       "(1833, 244)"
      ]
     },
     "execution_count": 16,
     "metadata": {},
     "output_type": "execute_result"
    }
   ],
   "source": [
    "# one hot encoding\n",
    "toronto_onehot = pd.get_dummies(toronto_venues[['Venue Category']], prefix=\"\", prefix_sep=\"\")\n",
    "# add neighborhood column back to dataframe\n",
    "toronto_onehot['Neighborhood'] = toronto_venues['Neighborhood'] \n",
    "toronto_onehot['Neighborhood Latitude'] = toronto_venues['Neighborhood Latitude']\n",
    "toronto_onehot['Neighborhood Longitude'] = toronto_venues['Neighborhood Longitude'] \n",
    "# move neighborhood column to the first column\n",
    "fixed_columns = ['Neighborhood'] + list(col for col in toronto_onehot.columns if col != 'Neighborhood')\n",
    "\n",
    "toronto_onehot = toronto_onehot[fixed_columns]\n",
    "\n",
    "toronto_onehot.shape"
   ]
  },
  {
   "cell_type": "markdown",
   "metadata": {},
   "source": [
    "Grouped by 'Neighborhood','Neighborhood Latitude','Neighborhood Longitude' because we have few cases where for a given Neighborhood we have multiple Latitude and Longitude"
   ]
  },
  {
   "cell_type": "code",
   "execution_count": 17,
   "metadata": {},
   "outputs": [
    {
     "name": "stdout",
     "output_type": "stream",
     "text": [
      "(55, 244)\n"
     ]
    },
    {
     "data": {
      "text/html": [
       "<div>\n",
       "<style scoped>\n",
       "    .dataframe tbody tr th:only-of-type {\n",
       "        vertical-align: middle;\n",
       "    }\n",
       "\n",
       "    .dataframe tbody tr th {\n",
       "        vertical-align: top;\n",
       "    }\n",
       "\n",
       "    .dataframe thead th {\n",
       "        text-align: right;\n",
       "    }\n",
       "</style>\n",
       "<table border=\"1\" class=\"dataframe\">\n",
       "  <thead>\n",
       "    <tr style=\"text-align: right;\">\n",
       "      <th></th>\n",
       "      <th>Neighborhood</th>\n",
       "      <th>Neighborhood Latitude</th>\n",
       "      <th>Neighborhood Longitude</th>\n",
       "      <th>Accessories Store</th>\n",
       "      <th>Adult Boutique</th>\n",
       "      <th>Afghan Restaurant</th>\n",
       "      <th>Airport</th>\n",
       "      <th>Airport Food Court</th>\n",
       "      <th>Airport Gate</th>\n",
       "      <th>Airport Lounge</th>\n",
       "      <th>...</th>\n",
       "      <th>Thrift / Vintage Store</th>\n",
       "      <th>Toy / Game Store</th>\n",
       "      <th>Trail</th>\n",
       "      <th>Train Station</th>\n",
       "      <th>Vegetarian / Vegan Restaurant</th>\n",
       "      <th>Video Game Store</th>\n",
       "      <th>Vietnamese Restaurant</th>\n",
       "      <th>Wine Bar</th>\n",
       "      <th>Women's Store</th>\n",
       "      <th>Yoga Studio</th>\n",
       "    </tr>\n",
       "  </thead>\n",
       "  <tbody>\n",
       "    <tr>\n",
       "      <th>0</th>\n",
       "      <td>Agincourt, Toronto</td>\n",
       "      <td>43.794200</td>\n",
       "      <td>-79.262029</td>\n",
       "      <td>0.0</td>\n",
       "      <td>0.0</td>\n",
       "      <td>0.0</td>\n",
       "      <td>0.0</td>\n",
       "      <td>0.0</td>\n",
       "      <td>0.0</td>\n",
       "      <td>0.0</td>\n",
       "      <td>...</td>\n",
       "      <td>0.0</td>\n",
       "      <td>0.0</td>\n",
       "      <td>0.0</td>\n",
       "      <td>0.0</td>\n",
       "      <td>0.0</td>\n",
       "      <td>0.0</td>\n",
       "      <td>0.000000</td>\n",
       "      <td>0.0</td>\n",
       "      <td>0.0</td>\n",
       "      <td>0.0</td>\n",
       "    </tr>\n",
       "    <tr>\n",
       "      <th>1</th>\n",
       "      <td>Berczy Park</td>\n",
       "      <td>43.644771</td>\n",
       "      <td>-79.373306</td>\n",
       "      <td>0.0</td>\n",
       "      <td>0.0</td>\n",
       "      <td>0.0</td>\n",
       "      <td>0.0</td>\n",
       "      <td>0.0</td>\n",
       "      <td>0.0</td>\n",
       "      <td>0.0</td>\n",
       "      <td>...</td>\n",
       "      <td>0.0</td>\n",
       "      <td>0.0</td>\n",
       "      <td>0.0</td>\n",
       "      <td>0.0</td>\n",
       "      <td>0.0</td>\n",
       "      <td>0.0</td>\n",
       "      <td>0.000000</td>\n",
       "      <td>0.0</td>\n",
       "      <td>0.0</td>\n",
       "      <td>0.0</td>\n",
       "    </tr>\n",
       "    <tr>\n",
       "      <th>2</th>\n",
       "      <td>Cabbagetown, Toronto, St. James Town</td>\n",
       "      <td>43.667967</td>\n",
       "      <td>-79.367675</td>\n",
       "      <td>0.0</td>\n",
       "      <td>0.0</td>\n",
       "      <td>0.0</td>\n",
       "      <td>0.0</td>\n",
       "      <td>0.0</td>\n",
       "      <td>0.0</td>\n",
       "      <td>0.0</td>\n",
       "      <td>...</td>\n",
       "      <td>0.0</td>\n",
       "      <td>0.0</td>\n",
       "      <td>0.0</td>\n",
       "      <td>0.0</td>\n",
       "      <td>0.0</td>\n",
       "      <td>0.0</td>\n",
       "      <td>0.000000</td>\n",
       "      <td>0.0</td>\n",
       "      <td>0.0</td>\n",
       "      <td>0.0</td>\n",
       "    </tr>\n",
       "    <tr>\n",
       "      <th>3</th>\n",
       "      <td>Central Toronto</td>\n",
       "      <td>43.686412</td>\n",
       "      <td>-79.400049</td>\n",
       "      <td>0.0</td>\n",
       "      <td>0.0</td>\n",
       "      <td>0.0</td>\n",
       "      <td>0.0</td>\n",
       "      <td>0.0</td>\n",
       "      <td>0.0</td>\n",
       "      <td>0.0</td>\n",
       "      <td>...</td>\n",
       "      <td>0.0</td>\n",
       "      <td>0.0</td>\n",
       "      <td>0.0</td>\n",
       "      <td>0.0</td>\n",
       "      <td>0.0</td>\n",
       "      <td>0.0</td>\n",
       "      <td>0.071429</td>\n",
       "      <td>0.0</td>\n",
       "      <td>0.0</td>\n",
       "      <td>0.0</td>\n",
       "    </tr>\n",
       "    <tr>\n",
       "      <th>4</th>\n",
       "      <td>Central Toronto</td>\n",
       "      <td>43.689574</td>\n",
       "      <td>-79.383160</td>\n",
       "      <td>0.0</td>\n",
       "      <td>0.0</td>\n",
       "      <td>0.0</td>\n",
       "      <td>0.0</td>\n",
       "      <td>0.0</td>\n",
       "      <td>0.0</td>\n",
       "      <td>0.0</td>\n",
       "      <td>...</td>\n",
       "      <td>0.0</td>\n",
       "      <td>0.0</td>\n",
       "      <td>0.2</td>\n",
       "      <td>0.0</td>\n",
       "      <td>0.0</td>\n",
       "      <td>0.0</td>\n",
       "      <td>0.000000</td>\n",
       "      <td>0.0</td>\n",
       "      <td>0.0</td>\n",
       "      <td>0.0</td>\n",
       "    </tr>\n",
       "  </tbody>\n",
       "</table>\n",
       "<p>5 rows × 244 columns</p>\n",
       "</div>"
      ],
      "text/plain": [
       "                           Neighborhood  Neighborhood Latitude  \\\n",
       "0                    Agincourt, Toronto              43.794200   \n",
       "1                           Berczy Park              43.644771   \n",
       "2  Cabbagetown, Toronto, St. James Town              43.667967   \n",
       "3                       Central Toronto              43.686412   \n",
       "4                       Central Toronto              43.689574   \n",
       "\n",
       "   Neighborhood Longitude  Accessories Store  Adult Boutique  \\\n",
       "0              -79.262029                0.0             0.0   \n",
       "1              -79.373306                0.0             0.0   \n",
       "2              -79.367675                0.0             0.0   \n",
       "3              -79.400049                0.0             0.0   \n",
       "4              -79.383160                0.0             0.0   \n",
       "\n",
       "   Afghan Restaurant  Airport  Airport Food Court  Airport Gate  \\\n",
       "0                0.0      0.0                 0.0           0.0   \n",
       "1                0.0      0.0                 0.0           0.0   \n",
       "2                0.0      0.0                 0.0           0.0   \n",
       "3                0.0      0.0                 0.0           0.0   \n",
       "4                0.0      0.0                 0.0           0.0   \n",
       "\n",
       "   Airport Lounge     ...       Thrift / Vintage Store  Toy / Game Store  \\\n",
       "0             0.0     ...                          0.0               0.0   \n",
       "1             0.0     ...                          0.0               0.0   \n",
       "2             0.0     ...                          0.0               0.0   \n",
       "3             0.0     ...                          0.0               0.0   \n",
       "4             0.0     ...                          0.0               0.0   \n",
       "\n",
       "   Trail  Train Station  Vegetarian / Vegan Restaurant  Video Game Store  \\\n",
       "0    0.0            0.0                            0.0               0.0   \n",
       "1    0.0            0.0                            0.0               0.0   \n",
       "2    0.0            0.0                            0.0               0.0   \n",
       "3    0.0            0.0                            0.0               0.0   \n",
       "4    0.2            0.0                            0.0               0.0   \n",
       "\n",
       "   Vietnamese Restaurant  Wine Bar  Women's Store  Yoga Studio  \n",
       "0               0.000000       0.0            0.0          0.0  \n",
       "1               0.000000       0.0            0.0          0.0  \n",
       "2               0.000000       0.0            0.0          0.0  \n",
       "3               0.071429       0.0            0.0          0.0  \n",
       "4               0.000000       0.0            0.0          0.0  \n",
       "\n",
       "[5 rows x 244 columns]"
      ]
     },
     "execution_count": 17,
     "metadata": {},
     "output_type": "execute_result"
    }
   ],
   "source": [
    "toronto_grouped = toronto_onehot.groupby(['Neighborhood','Neighborhood Latitude','Neighborhood Longitude']).mean().reset_index()\n",
    "print(toronto_grouped.shape)\n",
    "toronto_grouped.head()"
   ]
  },
  {
   "cell_type": "markdown",
   "metadata": {},
   "source": [
    "Dividing the data into 5 clusters"
   ]
  },
  {
   "cell_type": "code",
   "execution_count": 45,
   "metadata": {},
   "outputs": [
    {
     "data": {
      "text/plain": [
       "array([0, 0, 0, 0, 0, 0, 0, 4, 0, 0])"
      ]
     },
     "execution_count": 45,
     "metadata": {},
     "output_type": "execute_result"
    }
   ],
   "source": [
    "kclusters = 5\n",
    "toronto_grouped_cluster = toronto_grouped.drop(['Neighborhood','Neighborhood Latitude','Neighborhood Longitude'], 1)\n",
    "\n",
    "# run k-means clustering\n",
    "kmeans = KMeans(n_clusters=kclusters, random_state=99).fit(toronto_grouped_cluster)\n",
    "\n",
    "# check cluster labels generated for each row in the dataframe\n",
    "kmeans.labels_[0:10] "
   ]
  },
  {
   "cell_type": "code",
   "execution_count": 46,
   "metadata": {},
   "outputs": [
    {
     "name": "stdout",
     "output_type": "stream",
     "text": [
      "The geograpical coordinate of Toronto are 43.653963, -79.387207.\n"
     ]
    }
   ],
   "source": [
    "address = 'Toronto, ON'\n",
    "\n",
    "geolocator = Nominatim()\n",
    "location = geolocator.geocode(address)\n",
    "latitude = location.latitude\n",
    "longitude = location.longitude\n",
    "print('The geograpical coordinate of Toronto are {}, {}.'.format(latitude, longitude))"
   ]
  },
  {
   "cell_type": "code",
   "execution_count": 47,
   "metadata": {},
   "outputs": [
    {
     "data": {
      "text/plain": [
       "55"
      ]
     },
     "execution_count": 47,
     "metadata": {},
     "output_type": "execute_result"
    }
   ],
   "source": [
    "len(kmeans.labels_)"
   ]
  },
  {
   "cell_type": "code",
   "execution_count": 48,
   "metadata": {},
   "outputs": [
    {
     "data": {
      "text/html": [
       "<div>\n",
       "<style scoped>\n",
       "    .dataframe tbody tr th:only-of-type {\n",
       "        vertical-align: middle;\n",
       "    }\n",
       "\n",
       "    .dataframe tbody tr th {\n",
       "        vertical-align: top;\n",
       "    }\n",
       "\n",
       "    .dataframe thead th {\n",
       "        text-align: right;\n",
       "    }\n",
       "</style>\n",
       "<table border=\"1\" class=\"dataframe\">\n",
       "  <thead>\n",
       "    <tr style=\"text-align: right;\">\n",
       "      <th></th>\n",
       "      <th>Neighborhood</th>\n",
       "      <th>Neighborhood Latitude</th>\n",
       "      <th>Neighborhood Longitude</th>\n",
       "      <th>Cluster Labels</th>\n",
       "    </tr>\n",
       "  </thead>\n",
       "  <tbody>\n",
       "    <tr>\n",
       "      <th>0</th>\n",
       "      <td>Agincourt, Toronto</td>\n",
       "      <td>43.794200</td>\n",
       "      <td>-79.262029</td>\n",
       "      <td>0</td>\n",
       "    </tr>\n",
       "    <tr>\n",
       "      <th>1</th>\n",
       "      <td>Berczy Park</td>\n",
       "      <td>43.644771</td>\n",
       "      <td>-79.373306</td>\n",
       "      <td>0</td>\n",
       "    </tr>\n",
       "    <tr>\n",
       "      <th>2</th>\n",
       "      <td>Cabbagetown, Toronto, St. James Town</td>\n",
       "      <td>43.667967</td>\n",
       "      <td>-79.367675</td>\n",
       "      <td>0</td>\n",
       "    </tr>\n",
       "    <tr>\n",
       "      <th>3</th>\n",
       "      <td>Central Toronto</td>\n",
       "      <td>43.686412</td>\n",
       "      <td>-79.400049</td>\n",
       "      <td>0</td>\n",
       "    </tr>\n",
       "    <tr>\n",
       "      <th>4</th>\n",
       "      <td>Central Toronto</td>\n",
       "      <td>43.689574</td>\n",
       "      <td>-79.383160</td>\n",
       "      <td>0</td>\n",
       "    </tr>\n",
       "  </tbody>\n",
       "</table>\n",
       "</div>"
      ],
      "text/plain": [
       "                           Neighborhood  Neighborhood Latitude  \\\n",
       "0                    Agincourt, Toronto              43.794200   \n",
       "1                           Berczy Park              43.644771   \n",
       "2  Cabbagetown, Toronto, St. James Town              43.667967   \n",
       "3                       Central Toronto              43.686412   \n",
       "4                       Central Toronto              43.689574   \n",
       "\n",
       "   Neighborhood Longitude  Cluster Labels  \n",
       "0              -79.262029               0  \n",
       "1              -79.373306               0  \n",
       "2              -79.367675               0  \n",
       "3              -79.400049               0  \n",
       "4              -79.383160               0  "
      ]
     },
     "execution_count": 48,
     "metadata": {},
     "output_type": "execute_result"
    }
   ],
   "source": [
    "toronto_merged = toronto_grouped[['Neighborhood','Neighborhood Latitude','Neighborhood Longitude']]\n",
    "\n",
    "# add clustering labels\n",
    "toronto_merged['Cluster Labels'] = kmeans.labels_\n",
    "toronto_merged.head()"
   ]
  },
  {
   "cell_type": "code",
   "execution_count": 54,
   "metadata": {},
   "outputs": [
    {
     "data": {
      "text/html": [
       "<div style=\"width:100%;\"><div style=\"position:relative;width:100%;height:0;padding-bottom:60%;\"><iframe src=\"data:text/html;charset=utf-8;base64,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\" style=\"position:absolute;width:100%;height:100%;left:0;top:0;border:none !important;\" allowfullscreen webkitallowfullscreen mozallowfullscreen></iframe></div></div>"
      ],
      "text/plain": [
       "<folium.folium.Map at 0x2918bb93eb8>"
      ]
     },
     "execution_count": 54,
     "metadata": {},
     "output_type": "execute_result"
    }
   ],
   "source": [
    "#create map\n",
    "#Zoom is 10 as 11 is missing few clusters in the image\n",
    "map_clusters = folium.Map(location=[latitude, longitude], zoom_start=10)\n",
    "\n",
    "# set color scheme for the clusters\n",
    "x = np.arange(kclusters)\n",
    "ys = [i+x+(i*x)**2 for i in range(kclusters)]\n",
    "colors_array = cm.rainbow(np.linspace(0, 1, len(ys)))\n",
    "rainbow = [colors.rgb2hex(i) for i in colors_array]\n",
    "\n",
    "# add markers to the map\n",
    "markers_colors = []\n",
    "for lat, lon, poi, cluster in zip(toronto_merged['Neighborhood Latitude'], toronto_merged['Neighborhood Longitude'], toronto_merged['Neighborhood'], toronto_merged['Cluster Labels']):\n",
    "    label = folium.Popup(str(poi) + ' Cluster ' + str(cluster), parse_html=True)\n",
    "    folium.CircleMarker(\n",
    "        [lat, lon],\n",
    "        radius=5,\n",
    "        popup=label,\n",
    "        color=rainbow[cluster-1],\n",
    "        fill=True,\n",
    "        fill_color=rainbow[cluster-1],\n",
    "        fill_opacity=0.7).add_to(map_clusters)\n",
    "       \n",
    "map_clusters"
   ]
  },
  {
   "cell_type": "code",
   "execution_count": 55,
   "metadata": {},
   "outputs": [
    {
     "data": {
      "text/plain": [
       "0    49\n",
       "2     3\n",
       "4     1\n",
       "3     1\n",
       "1     1\n",
       "Name: Cluster Labels, dtype: int64"
      ]
     },
     "execution_count": 55,
     "metadata": {},
     "output_type": "execute_result"
    }
   ],
   "source": [
    "toronto_merged['Cluster Labels'].value_counts()"
   ]
  },
  {
   "cell_type": "markdown",
   "metadata": {},
   "source": [
    "**Below are the Neighborhood outliers based on clustering**"
   ]
  },
  {
   "cell_type": "code",
   "execution_count": 56,
   "metadata": {},
   "outputs": [
    {
     "data": {
      "text/html": [
       "<div>\n",
       "<style scoped>\n",
       "    .dataframe tbody tr th:only-of-type {\n",
       "        vertical-align: middle;\n",
       "    }\n",
       "\n",
       "    .dataframe tbody tr th {\n",
       "        vertical-align: top;\n",
       "    }\n",
       "\n",
       "    .dataframe thead th {\n",
       "        text-align: right;\n",
       "    }\n",
       "</style>\n",
       "<table border=\"1\" class=\"dataframe\">\n",
       "  <thead>\n",
       "    <tr style=\"text-align: right;\">\n",
       "      <th></th>\n",
       "      <th>Neighborhood</th>\n",
       "      <th>Neighborhood Latitude</th>\n",
       "      <th>Neighborhood Longitude</th>\n",
       "      <th>Cluster Labels</th>\n",
       "    </tr>\n",
       "  </thead>\n",
       "  <tbody>\n",
       "    <tr>\n",
       "      <th>7</th>\n",
       "      <td>Central Toronto</td>\n",
       "      <td>43.711695</td>\n",
       "      <td>-79.416936</td>\n",
       "      <td>4</td>\n",
       "    </tr>\n",
       "    <tr>\n",
       "      <th>31</th>\n",
       "      <td>Highland Creek (Toronto), Rouge Hill, Port Uni...</td>\n",
       "      <td>43.784535</td>\n",
       "      <td>-79.160497</td>\n",
       "      <td>1</td>\n",
       "    </tr>\n",
       "    <tr>\n",
       "      <th>42</th>\n",
       "      <td>Scarborough, Toronto</td>\n",
       "      <td>43.716316</td>\n",
       "      <td>-79.239476</td>\n",
       "      <td>3</td>\n",
       "    </tr>\n",
       "  </tbody>\n",
       "</table>\n",
       "</div>"
      ],
      "text/plain": [
       "                                         Neighborhood  Neighborhood Latitude  \\\n",
       "7                                     Central Toronto              43.711695   \n",
       "31  Highland Creek (Toronto), Rouge Hill, Port Uni...              43.784535   \n",
       "42                               Scarborough, Toronto              43.716316   \n",
       "\n",
       "    Neighborhood Longitude  Cluster Labels  \n",
       "7               -79.416936               4  \n",
       "31              -79.160497               1  \n",
       "42              -79.239476               3  "
      ]
     },
     "execution_count": 56,
     "metadata": {},
     "output_type": "execute_result"
    }
   ],
   "source": [
    "toronto_merged.loc[toronto_merged['Cluster Labels'].isin([1,3,4])]"
   ]
  },
  {
   "cell_type": "code",
   "execution_count": null,
   "metadata": {},
   "outputs": [],
   "source": []
  }
 ],
 "metadata": {
  "kernelspec": {
   "display_name": "Python 3",
   "language": "python",
   "name": "python3"
  },
  "language_info": {
   "codemirror_mode": {
    "name": "ipython",
    "version": 3
   },
   "file_extension": ".py",
   "mimetype": "text/x-python",
   "name": "python",
   "nbconvert_exporter": "python",
   "pygments_lexer": "ipython3",
   "version": "3.5.5"
  }
 },
 "nbformat": 4,
 "nbformat_minor": 2
}
